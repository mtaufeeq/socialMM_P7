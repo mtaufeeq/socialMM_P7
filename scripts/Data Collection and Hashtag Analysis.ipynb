{
 "cells": [
  {
   "cell_type": "code",
   "execution_count": 470,
   "metadata": {},
   "outputs": [],
   "source": [
    "import tweepy\n",
    "import json\n",
    "# import TweetData # My tweet class\n",
    "import time\n",
    "from tweepy import Stream\n",
    "from tweepy import OAuthHandler\n",
    "from tweepy.streaming import StreamListener\n",
    "import datetime\n",
    "import pandas as pd\n",
    "import os\n",
    "import ast\n",
    "import networkx as nx"
   ]
  },
  {
   "cell_type": "markdown",
   "metadata": {},
   "source": [
    "# Data Collection"
   ]
  },
  {
   "cell_type": "code",
   "execution_count": 52,
   "metadata": {},
   "outputs": [],
   "source": [
    "class listener(StreamListener):\n",
    "\n",
    "    def on_data(self, data):\n",
    "        print(data)\n",
    "        return(True)\n",
    "\n",
    "    def on_error(self, status):\n",
    "        print(status)"
   ]
  },
  {
   "cell_type": "code",
   "execution_count": null,
   "metadata": {},
   "outputs": [],
   "source": []
  },
  {
   "cell_type": "code",
   "execution_count": 681,
   "metadata": {},
   "outputs": [],
   "source": [
    "twitter_keys = {}\n",
    "# YOUR ANSWER HERE\n",
    "\n",
    "with open(\"credentials.txt\") as f:\n",
    "    for line in f:\n",
    "#         print(line.split(\":\"))\n",
    "        (key, val) = line.split()\n",
    "        twitter_keys[key] = val\n",
    "\n",
    "\n",
    "\n",
    "#Add your credentials here\n",
    "# twitter_keys = {\n",
    "#         'consumer_key':        '',\n",
    "#         'consumer_secret':     '',\n",
    "#         'access_token_key':    '',\n",
    "#         'access_token_secret': ''\n",
    "#     }\n",
    "#Setup access to API\n",
    "auth = tweepy.OAuthHandler(twitter_keys['API_Key:'], twitter_keys['API_Secret_Key:'])\n",
    "auth.set_access_token(twitter_keys['Access_Token:'], twitter_keys['Access_Token_Secret:'])\n",
    "\n",
    "api = tweepy.API(auth)"
   ]
  },
  {
   "cell_type": "code",
   "execution_count": 7,
   "metadata": {},
   "outputs": [],
   "source": [
    "def extract_coordinates(row):\n",
    "    if row['Tweet Coordinates']:\n",
    "        return row['Tweet Coordinates']['coordinates']\n",
    "    else:\n",
    "        return None"
   ]
  },
  {
   "cell_type": "code",
   "execution_count": 8,
   "metadata": {},
   "outputs": [],
   "source": [
    "def extract_place(row):\n",
    "    if row['Place Info']:\n",
    "        return row['Place Info'].full_name\n",
    "    else:\n",
    "        return None"
   ]
  },
  {
   "cell_type": "code",
   "execution_count": 9,
   "metadata": {},
   "outputs": [],
   "source": [
    "def extract_country(row):\n",
    "    if row['Country']:\n",
    "        return row['Country'].country_code\n",
    "    else:\n",
    "        return None"
   ]
  },
  {
   "cell_type": "code",
   "execution_count": 10,
   "metadata": {},
   "outputs": [],
   "source": [
    "def extract_hashtags(row):\n",
    "    h=[]\n",
    "    if row['Hashtags']:\n",
    "        ent = row['Hashtags']\n",
    "        for t in ent['hashtags']:\n",
    "            h.append(t['text'])\n",
    "        return h\n",
    "    else:\n",
    "        return None"
   ]
  },
  {
   "cell_type": "code",
   "execution_count": 11,
   "metadata": {},
   "outputs": [],
   "source": [
    "def extract_tweets(row):\n",
    "     if row['Retweeted Status']:\n",
    "        return row['Retweeted Status'].tweet.full_text\n",
    "     else:\n",
    "        return None"
   ]
  },
  {
   "cell_type": "code",
   "execution_count": null,
   "metadata": {},
   "outputs": [],
   "source": []
  },
  {
   "cell_type": "code",
   "execution_count": null,
   "metadata": {},
   "outputs": [],
   "source": []
  },
  {
   "cell_type": "code",
   "execution_count": 693,
   "metadata": {},
   "outputs": [],
   "source": [
    "# tweet_ids"
   ]
  },
  {
   "cell_type": "code",
   "execution_count": 59,
   "metadata": {},
   "outputs": [],
   "source": [
    "tweet_ids = pd.read_csv('isarcasm_train.csv', header=None)"
   ]
  },
  {
   "cell_type": "code",
   "execution_count": 694,
   "metadata": {},
   "outputs": [],
   "source": [
    "# tweet_ids[0].iloc[1:]"
   ]
  },
  {
   "cell_type": "code",
   "execution_count": 63,
   "metadata": {},
   "outputs": [],
   "source": [
    "# tweet_ids\n",
    "\n",
    "# Pulling information from tweets iterable object\n",
    "# Add or remove tweet information you want in the below list comprehension\n",
    "tweets = []\n",
    "for tt in tweet_ids[0].iloc[1:]:\n",
    "    try:\n",
    "        tweets.append(api.get_status(tt, tweet_mode= 'extended'))\n",
    "    except:\n",
    "        continue\n",
    "        \n",
    "tweets_list = [[tweet.full_text, tweet.created_at, tweet.id, tweet.user.id,tweet.user.screen_name, tweet.user.location, \n",
    "                    tweet.coordinates, tweet.place,tweet.place, tweet.entities,tweet.retweet_count, \n",
    "                    tweet.favorite_count, \n",
    "                    tweet.lang, tweet.source, tweet.in_reply_to_status_id,\n",
    "                    tweet.in_reply_to_user_id] for tweet in tweets]\n",
    " \n",
    "# Creation of dataframe from tweets_list\n",
    "# Add or remove columns as you remove tweet information\n",
    "tweets_df = pd.DataFrame(tweets_list,columns=['Tweet Text', 'Tweet Datetime', 'Tweet Id', 'User Id',\n",
    "                                              'User Name', 'User Location','Tweet Coordinates', 'Place Info', 'Country',\n",
    "                                               'Hashtags','Retweets', 'Favorites', 'Language', 'Source', \n",
    "                                              'Replied Tweet Id', 'Replied Tweet User Id'])\n",
    " \n",
    "# Checks if there are coordinates attached to tweets, if so extracts them\n",
    "tweets_df['Tweet Coordinates'] = tweets_df.apply(extract_coordinates,axis=1)\n",
    " \n",
    "# Checks if there is place information available, if so extracts them\n",
    "tweets_df['Place Info'] = tweets_df.apply(extract_place,axis=1)\n",
    "tweets_df['Country'] = tweets_df.apply(extract_country,axis=1)\n",
    "tweets_df['Hashtags'] = tweets_df.apply(extract_hashtags,axis=1)\n",
    "# tweets_df['Retweeted Status'] = tweets_df.apply(extract_tweets,axis=1)"
   ]
  },
  {
   "cell_type": "code",
   "execution_count": 692,
   "metadata": {},
   "outputs": [],
   "source": [
    "# print(tweets_df)"
   ]
  },
  {
   "cell_type": "code",
   "execution_count": 58,
   "metadata": {},
   "outputs": [],
   "source": [
    "tweets_df.to_csv('WearMask_Tweets/May_WearMask_Tweets.csv', index=False)"
   ]
  },
  {
   "cell_type": "code",
   "execution_count": 84,
   "metadata": {},
   "outputs": [],
   "source": [
    "sar_list = pd.read_csv('SPIRS-master/SPIRS-non-sarcastic-ids.csv')"
   ]
  },
  {
   "cell_type": "code",
   "execution_count": 691,
   "metadata": {},
   "outputs": [],
   "source": [
    "# sar_list"
   ]
  },
  {
   "cell_type": "code",
   "execution_count": 87,
   "metadata": {},
   "outputs": [],
   "source": [
    "sar_list2=sar_list['sar_id']"
   ]
  },
  {
   "cell_type": "code",
   "execution_count": 88,
   "metadata": {},
   "outputs": [],
   "source": [
    "id_lists = [sar_list2[x:x+100] for x in range(0, len(sar_list2), 100)]"
   ]
  },
  {
   "cell_type": "code",
   "execution_count": null,
   "metadata": {},
   "outputs": [],
   "source": [
    "tweets = []\n",
    "\n",
    "for iid in id_lists:\n",
    "    print(iid)\n",
    "    tweets.extend(api.statuses_lookup(list(iid), tweet_mode='extended'))"
   ]
  },
  {
   "cell_type": "code",
   "execution_count": 90,
   "metadata": {},
   "outputs": [],
   "source": [
    "tweets_list = [[tweet.full_text, tweet.created_at, tweet.id, tweet.user.id,tweet.user.screen_name, tweet.user.location, \n",
    "                    tweet.coordinates, tweet.place,tweet.place, tweet.entities,tweet.retweet_count, \n",
    "                    tweet.favorite_count, \n",
    "                    tweet.lang, tweet.source, tweet.in_reply_to_status_id,\n",
    "                    tweet.in_reply_to_user_id] for tweet in tweets]\n",
    " \n",
    "# Creation of dataframe from tweets_list\n",
    "# Add or remove columns as you remove tweet information\n",
    "tweets_df = pd.DataFrame(tweets_list,columns=['Tweet Text', 'Tweet Datetime', 'Tweet Id', 'User Id',\n",
    "                                              'User Name', 'User Location','Tweet Coordinates', 'Place Info', 'Country',\n",
    "                                               'Hashtags','Retweets', 'Favorites', 'Language', 'Source', \n",
    "                                              'Replied Tweet Id', 'Replied Tweet User Id'])\n",
    " \n",
    "# Checks if there are coordinates attached to tweets, if so extracts them\n",
    "tweets_df['Tweet Coordinates'] = tweets_df.apply(extract_coordinates,axis=1)\n",
    " \n",
    "# Checks if there is place information available, if so extracts them\n",
    "tweets_df['Place Info'] = tweets_df.apply(extract_place,axis=1)\n",
    "tweets_df['Country'] = tweets_df.apply(extract_country,axis=1)\n",
    "tweets_df['Hashtags'] = tweets_df.apply(extract_hashtags,axis=1)"
   ]
  },
  {
   "cell_type": "code",
   "execution_count": 91,
   "metadata": {},
   "outputs": [],
   "source": [
    "tweets_df.to_csv('Non_Sarcastic_Tweets.csv', index=False)"
   ]
  },
  {
   "cell_type": "code",
   "execution_count": 690,
   "metadata": {},
   "outputs": [],
   "source": [
    "# tweets_df"
   ]
  },
  {
   "cell_type": "markdown",
   "metadata": {},
   "source": [
    "# Count of Tweets"
   ]
  },
  {
   "cell_type": "code",
   "execution_count": 646,
   "metadata": {},
   "outputs": [],
   "source": [
    "nmask = pd.read_csv('no_mask_geocoded (1).csv', index_col=False)\n",
    "# nmask=nmask.drop_duplicates('Tweet Text', keep='first')"
   ]
  },
  {
   "cell_type": "code",
   "execution_count": 648,
   "metadata": {},
   "outputs": [],
   "source": [
    "mask = pd.read_csv('pro_mask_geocoded.csv', index_col=False)\n"
   ]
  },
  {
   "cell_type": "code",
   "execution_count": 649,
   "metadata": {},
   "outputs": [
    {
     "data": {
      "text/plain": [
       "48443"
      ]
     },
     "execution_count": 649,
     "metadata": {},
     "output_type": "execute_result"
    }
   ],
   "source": [
    "len(mask)"
   ]
  },
  {
   "cell_type": "code",
   "execution_count": 647,
   "metadata": {},
   "outputs": [
    {
     "data": {
      "text/plain": [
       "12932"
      ]
     },
     "execution_count": 647,
     "metadata": {},
     "output_type": "execute_result"
    }
   ],
   "source": [
    "len(nmask)"
   ]
  },
  {
   "cell_type": "code",
   "execution_count": 432,
   "metadata": {},
   "outputs": [],
   "source": [
    "nmask_US=nmask[nmask['USA']==1]"
   ]
  },
  {
   "cell_type": "code",
   "execution_count": 433,
   "metadata": {},
   "outputs": [
    {
     "data": {
      "text/plain": [
       "2735"
      ]
     },
     "execution_count": 433,
     "metadata": {},
     "output_type": "execute_result"
    }
   ],
   "source": [
    "len(nmask_US)"
   ]
  },
  {
   "cell_type": "code",
   "execution_count": 437,
   "metadata": {},
   "outputs": [
    {
     "name": "stderr",
     "output_type": "stream",
     "text": [
      "/Users/swadtasnim002/.local/share/virtualenvs/SMM_Homework-y6Z_ZVFB/lib/python3.7/site-packages/ipykernel_launcher.py:1: SettingWithCopyWarning: \n",
      "A value is trying to be set on a copy of a slice from a DataFrame.\n",
      "Try using .loc[row_indexer,col_indexer] = value instead\n",
      "\n",
      "See the caveats in the documentation: https://pandas.pydata.org/pandas-docs/stable/user_guide/indexing.html#returning-a-view-versus-a-copy\n",
      "  \"\"\"Entry point for launching an IPython kernel.\n"
     ]
    }
   ],
   "source": [
    "nmask_US['Hashtags']=nmask_US['Hashtags'].apply(lambda row:row.lower())"
   ]
  },
  {
   "cell_type": "code",
   "execution_count": 438,
   "metadata": {},
   "outputs": [
    {
     "name": "stderr",
     "output_type": "stream",
     "text": [
      "/Users/swadtasnim002/.local/share/virtualenvs/SMM_Homework-y6Z_ZVFB/lib/python3.7/site-packages/ipykernel_launcher.py:1: SettingWithCopyWarning: \n",
      "A value is trying to be set on a copy of a slice from a DataFrame.\n",
      "Try using .loc[row_indexer,col_indexer] = value instead\n",
      "\n",
      "See the caveats in the documentation: https://pandas.pydata.org/pandas-docs/stable/user_guide/indexing.html#returning-a-view-versus-a-copy\n",
      "  \"\"\"Entry point for launching an IPython kernel.\n"
     ]
    }
   ],
   "source": [
    "nmask_US['Month']=nmask_US['Tweet Datetime'].apply(lambda row: row.split(\" \")[0].split(\"-\")[1])"
   ]
  },
  {
   "cell_type": "code",
   "execution_count": 439,
   "metadata": {},
   "outputs": [],
   "source": [
    "nmask_US_count_tweets_by_month=list(nmask_US.groupby([nmask_US['Month']]).agg('count')['Tweet Datetime'])"
   ]
  },
  {
   "cell_type": "code",
   "execution_count": 440,
   "metadata": {},
   "outputs": [
    {
     "data": {
      "text/plain": [
       "Month\n",
       "04     91\n",
       "05    323\n",
       "06    287\n",
       "07    715\n",
       "08    398\n",
       "09    407\n",
       "10    396\n",
       "11    118\n",
       "Name: Tweet Datetime, dtype: int64"
      ]
     },
     "execution_count": 440,
     "metadata": {},
     "output_type": "execute_result"
    }
   ],
   "source": [
    "nmask_US.groupby([nmask_US['Month']]).agg('count')['Tweet Datetime'].reindex()"
   ]
  },
  {
   "cell_type": "code",
   "execution_count": 441,
   "metadata": {},
   "outputs": [],
   "source": [
    "months = [4,5,6,7,8,9,10,11]\n",
    "months_name = ['April','May','June','July','August','September','October','November']"
   ]
  },
  {
   "cell_type": "code",
   "execution_count": 442,
   "metadata": {},
   "outputs": [
    {
     "data": {
      "image/png": "[encoded data removed]",
      "text/plain": [
       "<Figure size 720x432 with 1 Axes>"
      ]
     },
     "metadata": {
      "needs_background": "light"
     },
     "output_type": "display_data"
    }
   ],
   "source": [
    "import matplotlib.pyplot as plt\n",
    "plt.figure(figsize=(10, 6))\n",
    "plt.plot(months, nmask_US_count_tweets_by_month, color='purple')\n",
    "plt.plot(months, nmask_US_count_tweets_by_month,'bo')\n",
    "plt.xticks(months, months_name, fontsize='large')\n",
    "# plt.legend([\"Data\", \"$G(n,p)$ model\"])\n",
    "plt.xlabel(\"Months\", fontsize=\"x-large\")\n",
    "plt.ylabel(\"Number of Tweets\", fontsize=\"large\")\n",
    "plt.tight_layout()\n",
    "plt.savefig(\"Num_Tweets_Monthly.png\")"
   ]
  },
  {
   "cell_type": "markdown",
   "metadata": {},
   "source": [
    "Only July"
   ]
  },
  {
   "cell_type": "code",
   "execution_count": 443,
   "metadata": {},
   "outputs": [],
   "source": [
    "nmask_US_July=nmask_US[nmask_US['Month']=='07']"
   ]
  },
  {
   "cell_type": "code",
   "execution_count": 444,
   "metadata": {},
   "outputs": [],
   "source": [
    "nmask_US_July=nmask_US_July.sort_values(by='Tweet Datetime')"
   ]
  },
  {
   "cell_type": "code",
   "execution_count": 502,
   "metadata": {},
   "outputs": [
    {
     "data": {
      "text/plain": [
       "[\"'askgovmurphy'\",\n",
       " \"'nomask'\",\n",
       " \"'nofear'\",\n",
       " \"'fakenews'\",\n",
       " \"'sheepnomore'\",\n",
       " \"'wwg1wga'\",\n",
       " \"'walkaway'\"]"
      ]
     },
     "execution_count": 502,
     "metadata": {},
     "output_type": "execute_result"
    }
   ],
   "source": [
    "nmask_US_July.iloc[0]['Hashtags'].replace(\"[\",\"\").replace(\"]\",\"\").split(\", \")"
   ]
  },
  {
   "cell_type": "code",
   "execution_count": 446,
   "metadata": {},
   "outputs": [],
   "source": [
    "nmask_US_July['Day']=nmask_US_July['Tweet Datetime'].apply(lambda row: row.split(\" \")[0])"
   ]
  },
  {
   "cell_type": "code",
   "execution_count": 695,
   "metadata": {},
   "outputs": [],
   "source": [
    "# nmask_US_July.groupby([nmask_US_July['Day']]).agg('count')"
   ]
  },
  {
   "cell_type": "code",
   "execution_count": 448,
   "metadata": {},
   "outputs": [
    {
     "data": {
      "text/plain": [
       "User Location\n",
       "United States                    63\n",
       "USA                              42\n",
       "California, USA                  17\n",
       "Florida, USA                     16\n",
       "Earth                            13\n",
       "Texas, USA                       13\n",
       "Ohio, USA                        12\n",
       "Reno; Parler @WonderWoman4USA     9\n",
       "North Carolina, USA               7\n",
       "Pennsylvania, USA                 7\n",
       "America                           6\n",
       "Arizona, USA                      6\n",
       "Chicago, IL                       6\n",
       "Las Vegas, NV                     6\n",
       "South Carolina, USA               6\n",
       "Brooklyn NY                       5\n",
       "South Florida                     5\n",
       "Tempe, AZ                         5\n",
       "Texas                             5\n",
       "Wisconsin, USA                    5\n",
       "Zachary, LA                       5\n",
       "California                        4\n",
       "Check your Six                    4\n",
       "Colorado                          4\n",
       "Florida                           4\n",
       "Hawaii, USA                       4\n",
       "Los Angeles, California           4\n",
       "Minnesota, USA                    4\n",
       "Ohio                              4\n",
       "Planet Earth                      4\n",
       "Name: Tweet Text, dtype: int64"
      ]
     },
     "execution_count": 448,
     "metadata": {},
     "output_type": "execute_result"
    }
   ],
   "source": [
    "nmask_US_July.groupby([nmask_US_July['User Location']]).count()['Tweet Text'].nlargest(30)"
   ]
  },
  {
   "cell_type": "code",
   "execution_count": 449,
   "metadata": {},
   "outputs": [],
   "source": [
    "Frequent_Location_July= ['California','Florida','Texas','Ohio','Arizona','Georgia','New York','Chicago','Louisiana',\n",
    "                    'Philadelphoa','Virginia']"
   ]
  },
  {
   "cell_type": "code",
   "execution_count": 450,
   "metadata": {},
   "outputs": [],
   "source": [
    "def hashtags(col):\n",
    "    \n",
    "    col = col.apply(lambda x: ast.literal_eval(x))\n",
    "    \n",
    "    def mapper(s):\n",
    "        all_vals = list()\n",
    "\n",
    "        for l in s:\n",
    "            [all_vals.append(x.lower()) for x in l]\n",
    "\n",
    "        all_vals.sort()\n",
    "        return all_vals\n",
    "\n",
    "    def reducer(l):\n",
    "        all_counts = dict()\n",
    "        prev = l[0]\n",
    "        count = 0\n",
    "\n",
    "        for x in l:\n",
    "            if x == prev:\n",
    "                count = count + 1\n",
    "            else:\n",
    "                all_counts[prev] = count\n",
    "                prev = x\n",
    "                count = 1      \n",
    "\n",
    "        all_counts[prev] = count\n",
    "\n",
    "        return all_counts\n",
    "    \n",
    "    mapped = mapper(col)\n",
    "    reduced = reducer(mapped)\n",
    "    reduced = dict(sorted(reduced.items(), key=lambda x: x[1], reverse=True))\n",
    "    \n",
    "    df = pd.DataFrame(list(reduced.items()), columns=['hashtag', 'number']).head(22).sort_values('number', ascending=True)\n",
    "    return df"
   ]
  },
  {
   "cell_type": "code",
   "execution_count": 596,
   "metadata": {},
   "outputs": [],
   "source": [
    "def bar_chart(tags, number, title,file):\n",
    "    plt.figure(figsize=(10,5))\n",
    "    plt.barh(tags, number)\n",
    "    plt.title(title)\n",
    "    plt.xlabel('number of times hashtag appeared')\n",
    "    plt.show()\n",
    "    plt.savefig(file)"
   ]
  },
  {
   "cell_type": "code",
   "execution_count": null,
   "metadata": {},
   "outputs": [],
   "source": []
  },
  {
   "cell_type": "code",
   "execution_count": null,
   "metadata": {},
   "outputs": [],
   "source": []
  },
  {
   "cell_type": "code",
   "execution_count": null,
   "metadata": {},
   "outputs": [],
   "source": []
  },
  {
   "cell_type": "code",
   "execution_count": null,
   "metadata": {},
   "outputs": [],
   "source": []
  },
  {
   "cell_type": "code",
   "execution_count": 452,
   "metadata": {},
   "outputs": [],
   "source": [
    "tags=hashtags(nmask_US.Hashtags)"
   ]
  },
  {
   "cell_type": "code",
   "execution_count": 453,
   "metadata": {},
   "outputs": [],
   "source": [
    "tags2=tags.set_index('hashtag')\n",
    "tags=tags2.drop(index=['nomask','nomasks'\n",
    "                       ,'nomaskmandate'])"
   ]
  },
  {
   "cell_type": "code",
   "execution_count": 454,
   "metadata": {},
   "outputs": [],
   "source": [
    "tags=tags.reset_index()"
   ]
  },
  {
   "cell_type": "code",
   "execution_count": 600,
   "metadata": {},
   "outputs": [
    {
     "data": {
      "image/png": "[encoded data removed]",
      "text/plain": [
       "<Figure size 720x360 with 1 Axes>"
      ]
     },
     "metadata": {
      "needs_background": "light"
     },
     "output_type": "display_data"
    }
   ],
   "source": [
    "# plt.figure(figsize=(10,5))\n",
    "fig=plt.figure(figsize=(10,5))\n",
    "plt.barh(tags.hashtag, tags.number)\n",
    "plt.title('top hashtags in NoMasks dataset')\n",
    "plt.xlabel('number of times hashtag appeared')\n",
    "plt.show()\n",
    "fig.savefig('top_hashtags.png')\n",
    "# bar_chart(tags.hashtag, tags.number, 'top hashtags in NoMasks dataset','top_hashtags.png')\n",
    "# plt.savefig('top_hashtags.png')"
   ]
  },
  {
   "cell_type": "code",
   "execution_count": 456,
   "metadata": {},
   "outputs": [],
   "source": [
    "import re"
   ]
  },
  {
   "cell_type": "code",
   "execution_count": 457,
   "metadata": {},
   "outputs": [
    {
     "name": "stderr",
     "output_type": "stream",
     "text": [
      "/Users/swadtasnim002/.local/share/virtualenvs/SMM_Homework-y6Z_ZVFB/lib/python3.7/site-packages/ipykernel_launcher.py:1: SettingWithCopyWarning: \n",
      "A value is trying to be set on a copy of a slice from a DataFrame.\n",
      "Try using .loc[row_indexer,col_indexer] = value instead\n",
      "\n",
      "See the caveats in the documentation: https://pandas.pydata.org/pandas-docs/stable/user_guide/indexing.html#returning-a-view-versus-a-copy\n",
      "  \"\"\"Entry point for launching an IPython kernel.\n",
      "/Users/swadtasnim002/.local/share/virtualenvs/SMM_Homework-y6Z_ZVFB/lib/python3.7/site-packages/ipykernel_launcher.py:2: SettingWithCopyWarning: \n",
      "A value is trying to be set on a copy of a slice from a DataFrame.\n",
      "Try using .loc[row_indexer,col_indexer] = value instead\n",
      "\n",
      "See the caveats in the documentation: https://pandas.pydata.org/pandas-docs/stable/user_guide/indexing.html#returning-a-view-versus-a-copy\n",
      "  \n"
     ]
    },
    {
     "data": {
      "text/plain": [
       "list"
      ]
     },
     "execution_count": 457,
     "metadata": {},
     "output_type": "execute_result"
    }
   ],
   "source": [
    "nmask_US['tags'] = nmask_US['Tweet Text'].apply(lambda x: str(re.findall(r\"@(\\w+)\", str(x))))\n",
    "nmask_US['tags'] = nmask_US['tags'].apply(lambda x: ast.literal_eval(x))\n",
    "type(nmask_US.iloc[0].tags)"
   ]
  },
  {
   "cell_type": "code",
   "execution_count": 458,
   "metadata": {},
   "outputs": [
    {
     "name": "stderr",
     "output_type": "stream",
     "text": [
      "/Users/swadtasnim002/.local/share/virtualenvs/SMM_Homework-y6Z_ZVFB/lib/python3.7/site-packages/ipykernel_launcher.py:1: SettingWithCopyWarning: \n",
      "A value is trying to be set on a copy of a slice from a DataFrame.\n",
      "Try using .loc[row_indexer,col_indexer] = value instead\n",
      "\n",
      "See the caveats in the documentation: https://pandas.pydata.org/pandas-docs/stable/user_guide/indexing.html#returning-a-view-versus-a-copy\n",
      "  \"\"\"Entry point for launching an IPython kernel.\n"
     ]
    },
    {
     "data": {
      "text/html": [
       "<div>\n",
       "<style scoped>\n",
       "    .dataframe tbody tr th:only-of-type {\n",
       "        vertical-align: middle;\n",
       "    }\n",
       "\n",
       "    .dataframe tbody tr th {\n",
       "        vertical-align: top;\n",
       "    }\n",
       "\n",
       "    .dataframe thead th {\n",
       "        text-align: right;\n",
       "    }\n",
       "</style>\n",
       "<table border=\"1\" class=\"dataframe\">\n",
       "  <thead>\n",
       "    <tr style=\"text-align: right;\">\n",
       "      <th></th>\n",
       "      <th>Tweet Text</th>\n",
       "      <th>Tweet Datetime</th>\n",
       "      <th>Tweet Id</th>\n",
       "      <th>User Id</th>\n",
       "      <th>User Name</th>\n",
       "      <th>User Location</th>\n",
       "      <th>Tweet Coordinates</th>\n",
       "      <th>Place Info</th>\n",
       "      <th>Country</th>\n",
       "      <th>Hashtags</th>\n",
       "      <th>...</th>\n",
       "      <th>Language</th>\n",
       "      <th>Source</th>\n",
       "      <th>Replied Tweet Id</th>\n",
       "      <th>Replied Tweet User Id</th>\n",
       "      <th>location</th>\n",
       "      <th>Lat</th>\n",
       "      <th>Lon</th>\n",
       "      <th>USA</th>\n",
       "      <th>Month</th>\n",
       "      <th>tags</th>\n",
       "    </tr>\n",
       "  </thead>\n",
       "  <tbody>\n",
       "    <tr>\n",
       "      <th>0</th>\n",
       "      <td>@GovMikeDeWine #OpenOhio.\\nPeriod.\\n#NoMasks \\...</td>\n",
       "      <td>2020-05-01 01:41:25</td>\n",
       "      <td>1256035969930756098</td>\n",
       "      <td>626964949</td>\n",
       "      <td>havalaudon</td>\n",
       "      <td>Ohio</td>\n",
       "      <td>NaN</td>\n",
       "      <td>NaN</td>\n",
       "      <td>NaN</td>\n",
       "      <td>['openohio', 'nomasks', 'novaccine']</td>\n",
       "      <td>...</td>\n",
       "      <td>en</td>\n",
       "      <td>Twitter Web App</td>\n",
       "      <td>1.255991e+18</td>\n",
       "      <td>1.882039e+07</td>\n",
       "      <td>Ohio</td>\n",
       "      <td>40.4173</td>\n",
       "      <td>-82.9071</td>\n",
       "      <td>1.0</td>\n",
       "      <td>05</td>\n",
       "      <td>['govmikedewine', 'govmikehuckabee', 'dramyact...</td>\n",
       "    </tr>\n",
       "    <tr>\n",
       "      <th>2</th>\n",
       "      <td>#ConstitutionOverCoronavirus #socialism #facis...</td>\n",
       "      <td>2020-05-01 03:30:18</td>\n",
       "      <td>1256063370039607296</td>\n",
       "      <td>2167062020</td>\n",
       "      <td>LORISAXON</td>\n",
       "      <td>Washington, DC</td>\n",
       "      <td>NaN</td>\n",
       "      <td>NaN</td>\n",
       "      <td>NaN</td>\n",
       "      <td>['constitutionovercoronavirus', 'socialism', '...</td>\n",
       "      <td>...</td>\n",
       "      <td>und</td>\n",
       "      <td>Twitter for iPhone</td>\n",
       "      <td>NaN</td>\n",
       "      <td>NaN</td>\n",
       "      <td>Washington, DC</td>\n",
       "      <td>38.9072</td>\n",
       "      <td>-77.0369</td>\n",
       "      <td>1.0</td>\n",
       "      <td>05</td>\n",
       "      <td>[]</td>\n",
       "    </tr>\n",
       "    <tr>\n",
       "      <th>3</th>\n",
       "      <td>@SecondLady it is unfortunate that Mike is a c...</td>\n",
       "      <td>2020-05-01 04:10:51</td>\n",
       "      <td>1256073573090725888</td>\n",
       "      <td>2879956695</td>\n",
       "      <td>chandran221</td>\n",
       "      <td>Colorado, USA</td>\n",
       "      <td>NaN</td>\n",
       "      <td>NaN</td>\n",
       "      <td>NaN</td>\n",
       "      <td>['nomask']</td>\n",
       "      <td>...</td>\n",
       "      <td>en</td>\n",
       "      <td>Twitter for iPhone</td>\n",
       "      <td>NaN</td>\n",
       "      <td>8.221271e+17</td>\n",
       "      <td>Colorado, USA</td>\n",
       "      <td>39.5501</td>\n",
       "      <td>-105.7820</td>\n",
       "      <td>1.0</td>\n",
       "      <td>05</td>\n",
       "      <td>['secondlady']</td>\n",
       "    </tr>\n",
       "    <tr>\n",
       "      <th>4</th>\n",
       "      <td>@GovMikeDeWine Wait. I thought the weirdo you ...</td>\n",
       "      <td>2020-05-01 17:32:20</td>\n",
       "      <td>1256275274666323972</td>\n",
       "      <td>626964949</td>\n",
       "      <td>havalaudon</td>\n",
       "      <td>Ohio</td>\n",
       "      <td>NaN</td>\n",
       "      <td>NaN</td>\n",
       "      <td>NaN</td>\n",
       "      <td>['openohio', 'novaccine', 'nomask']</td>\n",
       "      <td>...</td>\n",
       "      <td>en</td>\n",
       "      <td>Twitter for Android</td>\n",
       "      <td>1.256267e+18</td>\n",
       "      <td>1.882039e+07</td>\n",
       "      <td>Ohio</td>\n",
       "      <td>40.4173</td>\n",
       "      <td>-82.9071</td>\n",
       "      <td>1.0</td>\n",
       "      <td>05</td>\n",
       "      <td>['govmikedewine']</td>\n",
       "    </tr>\n",
       "    <tr>\n",
       "      <th>6</th>\n",
       "      <td>#Detroit looked like this just seven weeks ago...</td>\n",
       "      <td>2020-05-01 17:33:00</td>\n",
       "      <td>1256275441591046144</td>\n",
       "      <td>419735656</td>\n",
       "      <td>DeadlineDetroit</td>\n",
       "      <td>Detroit, MI</td>\n",
       "      <td>NaN</td>\n",
       "      <td>NaN</td>\n",
       "      <td>NaN</td>\n",
       "      <td>['detroit', 'nomasks', 'throwback', 'nostalgia...</td>\n",
       "      <td>...</td>\n",
       "      <td>en</td>\n",
       "      <td>TweetDeck</td>\n",
       "      <td>NaN</td>\n",
       "      <td>NaN</td>\n",
       "      <td>Detroit, MI</td>\n",
       "      <td>42.3314</td>\n",
       "      <td>-83.0458</td>\n",
       "      <td>1.0</td>\n",
       "      <td>05</td>\n",
       "      <td>[]</td>\n",
       "    </tr>\n",
       "  </tbody>\n",
       "</table>\n",
       "<p>5 rows × 22 columns</p>\n",
       "</div>"
      ],
      "text/plain": [
       "                                          Tweet Text       Tweet Datetime  \\\n",
       "0  @GovMikeDeWine #OpenOhio.\\nPeriod.\\n#NoMasks \\...  2020-05-01 01:41:25   \n",
       "2  #ConstitutionOverCoronavirus #socialism #facis...  2020-05-01 03:30:18   \n",
       "3  @SecondLady it is unfortunate that Mike is a c...  2020-05-01 04:10:51   \n",
       "4  @GovMikeDeWine Wait. I thought the weirdo you ...  2020-05-01 17:32:20   \n",
       "6  #Detroit looked like this just seven weeks ago...  2020-05-01 17:33:00   \n",
       "\n",
       "              Tweet Id     User Id        User Name   User Location  \\\n",
       "0  1256035969930756098   626964949       havalaudon            Ohio   \n",
       "2  1256063370039607296  2167062020        LORISAXON  Washington, DC   \n",
       "3  1256073573090725888  2879956695      chandran221   Colorado, USA   \n",
       "4  1256275274666323972   626964949       havalaudon            Ohio   \n",
       "6  1256275441591046144   419735656  DeadlineDetroit     Detroit, MI   \n",
       "\n",
       "  Tweet Coordinates Place Info Country  \\\n",
       "0               NaN        NaN     NaN   \n",
       "2               NaN        NaN     NaN   \n",
       "3               NaN        NaN     NaN   \n",
       "4               NaN        NaN     NaN   \n",
       "6               NaN        NaN     NaN   \n",
       "\n",
       "                                            Hashtags  ...  Language  \\\n",
       "0               ['openohio', 'nomasks', 'novaccine']  ...        en   \n",
       "2  ['constitutionovercoronavirus', 'socialism', '...  ...       und   \n",
       "3                                         ['nomask']  ...        en   \n",
       "4                ['openohio', 'novaccine', 'nomask']  ...        en   \n",
       "6  ['detroit', 'nomasks', 'throwback', 'nostalgia...  ...        en   \n",
       "\n",
       "                Source Replied Tweet Id Replied Tweet User Id        location  \\\n",
       "0      Twitter Web App     1.255991e+18          1.882039e+07            Ohio   \n",
       "2   Twitter for iPhone              NaN                   NaN  Washington, DC   \n",
       "3   Twitter for iPhone              NaN          8.221271e+17   Colorado, USA   \n",
       "4  Twitter for Android     1.256267e+18          1.882039e+07            Ohio   \n",
       "6            TweetDeck              NaN                   NaN     Detroit, MI   \n",
       "\n",
       "       Lat       Lon  USA  Month  \\\n",
       "0  40.4173  -82.9071  1.0     05   \n",
       "2  38.9072  -77.0369  1.0     05   \n",
       "3  39.5501 -105.7820  1.0     05   \n",
       "4  40.4173  -82.9071  1.0     05   \n",
       "6  42.3314  -83.0458  1.0     05   \n",
       "\n",
       "                                                tags  \n",
       "0  ['govmikedewine', 'govmikehuckabee', 'dramyact...  \n",
       "2                                                 []  \n",
       "3                                     ['secondlady']  \n",
       "4                                  ['govmikedewine']  \n",
       "6                                                 []  \n",
       "\n",
       "[5 rows x 22 columns]"
      ]
     },
     "execution_count": 458,
     "metadata": {},
     "output_type": "execute_result"
    }
   ],
   "source": [
    "nmask_US['tags'] = [str(i).lower() for i in nmask_US['tags']]\n",
    "nmask_US.head(5)"
   ]
  },
  {
   "cell_type": "code",
   "execution_count": 459,
   "metadata": {},
   "outputs": [],
   "source": [
    "def mention(col):\n",
    "    col = col.apply(lambda x: ast.literal_eval(x))\n",
    "    \n",
    "    def mapper(s):\n",
    "        all_vals = list()\n",
    "\n",
    "        for l in s:\n",
    "            [all_vals.append(x) for x in l]\n",
    "\n",
    "        all_vals.sort()\n",
    "        return all_vals\n",
    "\n",
    "    def reducer(l):\n",
    "        all_counts = dict()\n",
    "        prev = l[0]\n",
    "        count = 0\n",
    "\n",
    "        for x in l:\n",
    "            if x == prev:\n",
    "                count = count + 1\n",
    "            else:\n",
    "                all_counts[prev] = count\n",
    "                prev = x\n",
    "                count = 1      \n",
    "\n",
    "        all_counts[prev] = count\n",
    "\n",
    "        return all_counts\n",
    "    \n",
    "    mapped = mapper(col)\n",
    "    reduced = reducer(mapped)\n",
    "    reduced = dict(sorted(reduced.items(), key=lambda x: x[1], reverse=True))\n",
    "    \n",
    "    df = pd.DataFrame(list(reduced.items()), columns=['tags', 'number']).head(150).sort_values('number', ascending=False)\n",
    "    return df"
   ]
  },
  {
   "cell_type": "code",
   "execution_count": 460,
   "metadata": {},
   "outputs": [
    {
     "data": {
      "text/html": [
       "<div>\n",
       "<style scoped>\n",
       "    .dataframe tbody tr th:only-of-type {\n",
       "        vertical-align: middle;\n",
       "    }\n",
       "\n",
       "    .dataframe tbody tr th {\n",
       "        vertical-align: top;\n",
       "    }\n",
       "\n",
       "    .dataframe thead th {\n",
       "        text-align: right;\n",
       "    }\n",
       "</style>\n",
       "<table border=\"1\" class=\"dataframe\">\n",
       "  <thead>\n",
       "    <tr style=\"text-align: right;\">\n",
       "      <th></th>\n",
       "      <th>tags</th>\n",
       "      <th>number</th>\n",
       "    </tr>\n",
       "  </thead>\n",
       "  <tbody>\n",
       "    <tr>\n",
       "      <th>0</th>\n",
       "      <td>realdonaldtrump</td>\n",
       "      <td>133</td>\n",
       "    </tr>\n",
       "    <tr>\n",
       "      <th>1</th>\n",
       "      <td>govmikedewine</td>\n",
       "      <td>62</td>\n",
       "    </tr>\n",
       "    <tr>\n",
       "      <th>2</th>\n",
       "      <td>gavinnewsom</td>\n",
       "      <td>38</td>\n",
       "    </tr>\n",
       "    <tr>\n",
       "      <th>3</th>\n",
       "      <td>govabbott</td>\n",
       "      <td>35</td>\n",
       "    </tr>\n",
       "    <tr>\n",
       "      <th>4</th>\n",
       "      <td>potus</td>\n",
       "      <td>32</td>\n",
       "    </tr>\n",
       "    <tr>\n",
       "      <th>...</th>\n",
       "      <td>...</td>\n",
       "      <td>...</td>\n",
       "    </tr>\n",
       "    <tr>\n",
       "      <th>129</th>\n",
       "      <td>brandonstraka</td>\n",
       "      <td>3</td>\n",
       "    </tr>\n",
       "    <tr>\n",
       "      <th>127</th>\n",
       "      <td>andyfurniss</td>\n",
       "      <td>3</td>\n",
       "    </tr>\n",
       "    <tr>\n",
       "      <th>126</th>\n",
       "      <td>9newsnancy</td>\n",
       "      <td>3</td>\n",
       "    </tr>\n",
       "    <tr>\n",
       "      <th>125</th>\n",
       "      <td>9kwiz</td>\n",
       "      <td>3</td>\n",
       "    </tr>\n",
       "    <tr>\n",
       "      <th>149</th>\n",
       "      <td>johndoe10335235</td>\n",
       "      <td>3</td>\n",
       "    </tr>\n",
       "  </tbody>\n",
       "</table>\n",
       "<p>150 rows × 2 columns</p>\n",
       "</div>"
      ],
      "text/plain": [
       "                tags  number\n",
       "0    realdonaldtrump     133\n",
       "1      govmikedewine      62\n",
       "2        gavinnewsom      38\n",
       "3          govabbott      35\n",
       "4              potus      32\n",
       "..               ...     ...\n",
       "129    brandonstraka       3\n",
       "127      andyfurniss       3\n",
       "126       9newsnancy       3\n",
       "125            9kwiz       3\n",
       "149  johndoe10335235       3\n",
       "\n",
       "[150 rows x 2 columns]"
      ]
     },
     "execution_count": 460,
     "metadata": {},
     "output_type": "execute_result"
    }
   ],
   "source": [
    "tags_m = mention(nmask_US.tags)\n",
    "tags_m"
   ]
  },
  {
   "cell_type": "code",
   "execution_count": 602,
   "metadata": {},
   "outputs": [
    {
     "data": {
      "image/png": "[encoded data removed]",
      "text/plain": [
       "<Figure size 720x360 with 1 Axes>"
      ]
     },
     "metadata": {
      "needs_background": "light"
     },
     "output_type": "display_data"
    }
   ],
   "source": [
    "# tags_m.head(30).plot(kind='bar',x='number',y='tags', color ='green')\n",
    "fig=plt.figure(figsize=(10,5))\n",
    "plt.barh(tags_m.head(10).tags, tags_m.head(10).number)\n",
    "plt.title('top mentions in NoMasks dataset')\n",
    "plt.xlabel('number of times mentions appeared')\n",
    "plt.show()\n",
    "fig.savefig('top_mentions.png')\n",
    "# bar_chart(tags_m.head(10).tags, tags_m.head(10).number, 'top mentions in NoMasks dataset')"
   ]
  },
  {
   "cell_type": "code",
   "execution_count": 462,
   "metadata": {},
   "outputs": [],
   "source": [
    "nmask_US.to_csv('USA.csv',index=False)"
   ]
  },
  {
   "cell_type": "code",
   "execution_count": 463,
   "metadata": {},
   "outputs": [
    {
     "name": "stderr",
     "output_type": "stream",
     "text": [
      "/Users/swadtasnim002/.local/share/virtualenvs/SMM_Homework-y6Z_ZVFB/lib/python3.7/site-packages/ipykernel_launcher.py:1: SettingWithCopyWarning: \n",
      "A value is trying to be set on a copy of a slice from a DataFrame.\n",
      "Try using .loc[row_indexer,col_indexer] = value instead\n",
      "\n",
      "See the caveats in the documentation: https://pandas.pydata.org/pandas-docs/stable/user_guide/indexing.html#returning-a-view-versus-a-copy\n",
      "  \"\"\"Entry point for launching an IPython kernel.\n"
     ]
    }
   ],
   "source": [
    "nmask_US['location']=nmask_US['location'].apply(lambda row: row.lower())"
   ]
  },
  {
   "cell_type": "code",
   "execution_count": 464,
   "metadata": {},
   "outputs": [
    {
     "name": "stderr",
     "output_type": "stream",
     "text": [
      "/Users/swadtasnim002/.local/share/virtualenvs/SMM_Homework-y6Z_ZVFB/lib/python3.7/site-packages/ipykernel_launcher.py:1: SettingWithCopyWarning: \n",
      "A value is trying to be set on a copy of a slice from a DataFrame.\n",
      "Try using .loc[row_indexer,col_indexer] = value instead\n",
      "\n",
      "See the caveats in the documentation: https://pandas.pydata.org/pandas-docs/stable/user_guide/indexing.html#returning-a-view-versus-a-copy\n",
      "  \"\"\"Entry point for launching an IPython kernel.\n"
     ]
    }
   ],
   "source": [
    "nmask_US['location']=nmask_US['location'].apply(lambda row: row.replace(\", usa\",\"\"))"
   ]
  },
  {
   "cell_type": "code",
   "execution_count": 465,
   "metadata": {},
   "outputs": [
    {
     "data": {
      "text/plain": [
       "location\n",
       "united states      229\n",
       "usa                167\n",
       "ohio                97\n",
       "florida             75\n",
       "texas               72\n",
       "california          56\n",
       "earth               47\n",
       "las vegas, nv       46\n",
       "arizona             34\n",
       "newport news va     28\n",
       "Name: Tweet Text, dtype: int64"
      ]
     },
     "execution_count": 465,
     "metadata": {},
     "output_type": "execute_result"
    }
   ],
   "source": [
    "nmask_US.groupby('location').count()['Tweet Text'].nlargest(10)"
   ]
  },
  {
   "cell_type": "code",
   "execution_count": null,
   "metadata": {},
   "outputs": [],
   "source": [
    "for n,g in nmask_US.groupby('Month'):\n",
    "#     print(g)\n",
    "    tags = hashtags(g.Hashtags)\n",
    "    plt.figure(figsize=(10,5))\n",
    "    bar_chart(tags.hashtag, tags.number, 'top hashtags in NoMasks dataset')"
   ]
  },
  {
   "cell_type": "code",
   "execution_count": 689,
   "metadata": {},
   "outputs": [],
   "source": [
    "# nmask_US"
   ]
  },
  {
   "cell_type": "markdown",
   "metadata": {},
   "source": [
    "# Networ Building"
   ]
  },
  {
   "cell_type": "code",
   "execution_count": null,
   "metadata": {},
   "outputs": [],
   "source": []
  },
  {
   "cell_type": "code",
   "execution_count": 416,
   "metadata": {},
   "outputs": [
    {
     "data": {
      "text/plain": [
       "1746"
      ]
     },
     "execution_count": 416,
     "metadata": {},
     "output_type": "execute_result"
    }
   ],
   "source": [
    "len(nmask_US['User Id'].unique())"
   ]
  },
  {
   "cell_type": "code",
   "execution_count": 417,
   "metadata": {},
   "outputs": [
    {
     "data": {
      "text/plain": [
       "Index(['Tweet Text', 'Tweet Datetime', 'Tweet Id', 'User Id', 'User Name',\n",
       "       'User Location', 'Tweet Coordinates', 'Place Info', 'Country',\n",
       "       'Hashtags', 'Retweets', 'Favorites', 'Language', 'Source',\n",
       "       'Replied Tweet Id', 'Replied Tweet User Id', 'location', 'Lat', 'Lon',\n",
       "       'USA', 'Month', 'tags'],\n",
       "      dtype='object')"
      ]
     },
     "execution_count": 417,
     "metadata": {},
     "output_type": "execute_result"
    }
   ],
   "source": [
    "nmask_US.columns"
   ]
  },
  {
   "cell_type": "code",
   "execution_count": null,
   "metadata": {},
   "outputs": [],
   "source": [
    "user_to_hashtags_dict = {}\n",
    "for r in zip(nmask_US['User Id'],nmask_US['Hashtags']):\n",
    "    print(r[0],r[1].replace(\"[\",\"\").replace(\"]\",\"\").split(\", \"))\n",
    "    if r[0] in user_to_hashtags_dict.keys():\n",
    "        h = user_to_hashtags_dict[r[0]]\n",
    "        h.extend(r[1].replace(\"[\",\"\").replace(\"]\",\"\").split(\", \"))\n",
    "        user_to_hashtags_dict[r[0]]=list(set(h))\n",
    "    else:\n",
    "        user_to_hashtags_dict[r[0]]=list(set(r[1].replace(\"[\",\"\").replace(\"]\",\"\").split(\", \")))\n",
    "        "
   ]
  },
  {
   "cell_type": "code",
   "execution_count": 688,
   "metadata": {},
   "outputs": [],
   "source": [
    "# user_to_hashtags_dict"
   ]
  },
  {
   "cell_type": "code",
   "execution_count": 547,
   "metadata": {},
   "outputs": [],
   "source": [
    "B=nx.Graph() #create an empty graph\n",
    "for user in user_to_hashtags_dict: #loop over all the users\n",
    "    for hashtag in user_to_hashtags_dict[user]: #for each user loop over the hashtags they use\n",
    "        B.add_edge(user,hashtag) #add the edge User<->hashtag"
   ]
  },
  {
   "cell_type": "code",
   "execution_count": 687,
   "metadata": {},
   "outputs": [],
   "source": [
    "# B.edges()"
   ]
  },
  {
   "cell_type": "code",
   "execution_count": null,
   "metadata": {},
   "outputs": [],
   "source": [
    "actual_users_with_hashtags = [x for x in list(set(nmask_US['User Id'])) if x in B.nodes()] #create a list of users actually appearing in the network - perhaps some tweeting users never used a hashtag and we want to ignore them."
   ]
  },
  {
   "cell_type": "code",
   "execution_count": 686,
   "metadata": {},
   "outputs": [],
   "source": [
    "# actual_users_with_hashtags"
   ]
  },
  {
   "cell_type": "code",
   "execution_count": 550,
   "metadata": {},
   "outputs": [],
   "source": [
    "\n",
    "G = nx.bipartite.weighted_projected_graph(B,nodes =actual_users_with_hashtags)"
   ]
  },
  {
   "cell_type": "code",
   "execution_count": 685,
   "metadata": {},
   "outputs": [],
   "source": [
    "# G.edges()"
   ]
  },
  {
   "cell_type": "code",
   "execution_count": null,
   "metadata": {},
   "outputs": [],
   "source": [
    "for a,b in G.edges():\n",
    "    if G[a][b]['weight'] !=1:\n",
    "         print(G[a][b]['weight'])"
   ]
  },
  {
   "cell_type": "code",
   "execution_count": 684,
   "metadata": {},
   "outputs": [],
   "source": [
    "# nx.betweenness_centrality(G)"
   ]
  },
  {
   "cell_type": "code",
   "execution_count": 554,
   "metadata": {},
   "outputs": [],
   "source": [
    "nx.write_graphml(G, \"nmask_users_us.graphml\")"
   ]
  },
  {
   "cell_type": "code",
   "execution_count": 555,
   "metadata": {},
   "outputs": [],
   "source": [
    "def degreecumdist(G, k):\n",
    "    \"\"\"\n",
    "    Compute the cumulative probability of degree value k in graph G\n",
    "    \n",
    "    Parameters\n",
    "    ==========\n",
    "    G : networkx.Graph\n",
    "        The graph\n",
    "        \n",
    "    k : int\n",
    "        The degree value\n",
    "    \n",
    "    Returns\n",
    "    =======\n",
    "    P_k : float\n",
    "        The cumulative probability of degree k or greater\n",
    "    \"\"\"\n",
    "    # YOUR CODE HERE\n",
    "    num_nodes_k=0\n",
    "    for n,d in G.degree():\n",
    "        if d >= k:\n",
    "            num_nodes_k +=1\n",
    "        \n",
    "    P_k = num_nodes_k/G.number_of_nodes()\n",
    "    \n",
    "    return P_k\n",
    "    raise NotImplementedError()"
   ]
  },
  {
   "cell_type": "code",
   "execution_count": 571,
   "metadata": {},
   "outputs": [],
   "source": [
    "def edgeprob(G):\n",
    "    \"\"\"\n",
    "    Return the edge probability of the Random Graph model for the input graph G\n",
    "    \n",
    "    Parameters\n",
    "    ==========\n",
    "    G : networkx.Graph\n",
    "        The input graph\n",
    "        \n",
    "    Returns\n",
    "    =======\n",
    "    p : float\n",
    "        The probability, computed using the formula below.\n",
    "        \n",
    "    Notes\n",
    "    =====\n",
    "    \n",
    "    The formula for estimating p is:\n",
    "    \n",
    "             avg_degree\n",
    "        p =  ----------\n",
    "                n - 1\n",
    "    \n",
    "    Where n is the number of nodes in the network\n",
    "    \"\"\"\n",
    "    # YOUR CODE HERE\n",
    "    num_degree=0\n",
    "    for n,d in G.degree():\n",
    "        num_degree +=d\n",
    "        \n",
    "    p = (num_degree/G.number_of_nodes())/(G.number_of_nodes()-1)\n",
    "    \n",
    "    return p\n",
    "    raise NotImplementedError()"
   ]
  },
  {
   "cell_type": "code",
   "execution_count": 576,
   "metadata": {},
   "outputs": [],
   "source": [
    "def degreedist(G, k):\n",
    "    \"\"\"\n",
    "    Compute the probability of degree value k in graph G\n",
    "    \n",
    "    Parameters\n",
    "    ==========\n",
    "    G : networkx.Graph\n",
    "        The graph\n",
    "        \n",
    "    k : int\n",
    "        The degree value\n",
    "    \n",
    "    Returns\n",
    "    =======\n",
    "    p_k : float\n",
    "        The probability of degree k\n",
    "    \"\"\"\n",
    "    # YOUR CODE HERE\n",
    "    \n",
    "    num_nodes_k=0\n",
    "    for n,d in G.degree():\n",
    "        if d == k:\n",
    "            num_nodes_k +=1\n",
    "        \n",
    "    p_k = num_nodes_k/G.number_of_nodes()\n",
    "    \n",
    "    return p_k\n",
    "    raise NotImplementedError()"
   ]
  },
  {
   "cell_type": "code",
   "execution_count": 556,
   "metadata": {},
   "outputs": [],
   "source": [
    "net = pd.read_csv('edge_list_No_Mask_US.csv', index_col=False)"
   ]
  },
  {
   "cell_type": "code",
   "execution_count": 683,
   "metadata": {},
   "outputs": [],
   "source": [
    "# list(net['Degree'].sort_values())"
   ]
  },
  {
   "cell_type": "code",
   "execution_count": 577,
   "metadata": {},
   "outputs": [],
   "source": [
    "x = list(range(0,2000,10)) # k=0,10..190\n",
    "y = [] #P_k of Facebook Social Circle\n",
    "y1 = [] #P_k of Random graph\n",
    "y2 = []\n",
    "\n",
    "G2 = nx.fast_gnp_random_graph(n=G.number_of_nodes(), p=edgeprob(G))\n",
    "\n",
    "for k in x:\n",
    "    y.append(degreecumdist(G,k))\n",
    "    y1.append(degreecumdist(G2,k))\n",
    "    y2.append(degreedist(G,k))\n",
    "# raise NotImplementedError()"
   ]
  },
  {
   "cell_type": "code",
   "execution_count": 682,
   "metadata": {},
   "outputs": [],
   "source": [
    "# y2"
   ]
  },
  {
   "cell_type": "code",
   "execution_count": 594,
   "metadata": {},
   "outputs": [
    {
     "data": {
      "image/png": "[encoded data removed]",
      "text/plain": [
       "<Figure size 720x720 with 1 Axes>"
      ]
     },
     "metadata": {
      "needs_background": "light"
     },
     "output_type": "display_data"
    }
   ],
   "source": [
    "%matplotlib inline\n",
    "\n",
    "import matplotlib.pyplot as plt\n",
    "plt.figure(figsize=(10, 10))\n",
    "plt.plot(x, y, 'k--', x, y1, 'g-')\n",
    "plt.legend([\"Data\", \"$G(n,p)$ model\"])\n",
    "plt.xlabel(\"Degree $k$\", fontsize=\"x-large\")\n",
    "plt.ylabel(\"$P_k$\", fontsize=\"xx-large\")\n",
    "plt.tight_layout()\n",
    "plt.savefig(\"cdf.png\")"
   ]
  },
  {
   "cell_type": "code",
   "execution_count": 585,
   "metadata": {},
   "outputs": [
    {
     "data": {
      "image/png": "[encoded data removed]",
      "text/plain": [
       "<Figure size 720x720 with 1 Axes>"
      ]
     },
     "metadata": {
      "needs_background": "light"
     },
     "output_type": "display_data"
    }
   ],
   "source": [
    "plt.figure(figsize=(10, 10))\n",
    "plt.hist(net['Degree'])\n",
    "plt.legend([\"Data\", \"$G(n,p)$ model\"])\n",
    "plt.xlabel(\"Degree $k$\", fontsize=\"large\")\n",
    "plt.ylabel(\"Number of Users\", fontsize=\"large\")\n",
    "plt.tight_layout()\n",
    "plt.savefig(\"Degree_Distr.png\")"
   ]
  },
  {
   "cell_type": "code",
   "execution_count": 610,
   "metadata": {},
   "outputs": [],
   "source": [
    "net2=net.sort_values(by='closnesscentrality', ascending=False)"
   ]
  },
  {
   "cell_type": "code",
   "execution_count": 615,
   "metadata": {},
   "outputs": [],
   "source": [
    "high=pd.merge(nmask_US,net2, left_on='User Id', right_on='Id').iloc[:200]"
   ]
  },
  {
   "cell_type": "code",
   "execution_count": null,
   "metadata": {},
   "outputs": [],
   "source": [
    "high['User Name'].unique()"
   ]
  },
  {
   "cell_type": "code",
   "execution_count": 620,
   "metadata": {},
   "outputs": [
    {
     "data": {
      "text/plain": [
       "array(['ohio', 'washington, dc', 'colorado', 'detroit, mi', 'usa',\n",
       "       'united states', 'austin tx', 'nj', 'georgia', 'houston, tx',\n",
       "       'portlandia', 'dallas texas', 'connecticut', 'texas', 'nashville',\n",
       "       'manley hot springs, alaska', 'warr acres, ok (heart❤️land)',\n",
       "       'manhattan, nyc', 'bath, ny', 'boston, ma', 'new york',\n",
       "       'bronxville, ny', 'genoa city, wi', 'tennessee', 'chicago, il',\n",
       "       'los angeles, ca', 'atlanta', 'oregon (sw of portland) ☔🏀',\n",
       "       'america', 'california', 'united states yellow mountians',\n",
       "       'indiana', 'new york city', 'santa clara, ca', 'russellville, ar',\n",
       "       'ny', 'earth', 'durango, co', 'nashville, tn', 'kentucky', 'ma',\n",
       "       'newport news va', 'coast of lake mi', 'spokane, wa', 'wisconsin',\n",
       "       'long island, new york', 'indianapolis, in', 'louisiana',\n",
       "       'delaware', 'amory, mississippi', 'chattanooga, tn',\n",
       "       'delhi | hyderabad | adilabad', 'united states of america',\n",
       "       'san diego, ca', 'illinois', 'off the grid', 'new england',\n",
       "       'northern illinois', 'deplorable chump - carlsbad ca', 'the atl',\n",
       "       'usa /ar'], dtype=object)"
      ]
     },
     "execution_count": 620,
     "metadata": {},
     "output_type": "execute_result"
    }
   ],
   "source": [
    "high['location'].unique()"
   ]
  },
  {
   "cell_type": "code",
   "execution_count": null,
   "metadata": {},
   "outputs": [],
   "source": [
    "high['Hashtags']\n"
   ]
  },
  {
   "cell_type": "code",
   "execution_count": null,
   "metadata": {},
   "outputs": [],
   "source": [
    "h = []\n",
    "for r in high['Hashtags']:\n",
    "    print(r.replace(\"[\",\"\").replace(\"]\",\"\").split(\", \"))\n",
    "    h.extend(r.replace(\"[\",\"\").replace(\"]\",\"\").split(\", \"))"
   ]
  },
  {
   "cell_type": "code",
   "execution_count": 627,
   "metadata": {},
   "outputs": [],
   "source": [
    "from collections import Counter"
   ]
  },
  {
   "cell_type": "code",
   "execution_count": 634,
   "metadata": {},
   "outputs": [],
   "source": [
    "count_h=dict(Counter(h))"
   ]
  },
  {
   "cell_type": "code",
   "execution_count": 629,
   "metadata": {},
   "outputs": [],
   "source": [
    "import operator"
   ]
  },
  {
   "cell_type": "code",
   "execution_count": null,
   "metadata": {},
   "outputs": [],
   "source": [
    "sorted(count_h.items(), key=operator.itemgetter(1))"
   ]
  },
  {
   "cell_type": "code",
   "execution_count": null,
   "metadata": {},
   "outputs": [],
   "source": []
  }
 ],
 "metadata": {
  "kernelspec": {
   "display_name": "Python 3",
   "language": "python",
   "name": "python3"
  },
  "language_info": {
   "codemirror_mode": {
    "name": "ipython",
    "version": 3
   },
   "file_extension": ".py",
   "mimetype": "text/x-python",
   "name": "python",
   "nbconvert_exporter": "python",
   "pygments_lexer": "ipython3",
   "version": "3.7.5"
  }
 },
 "nbformat": 4,
 "nbformat_minor": 4
}
