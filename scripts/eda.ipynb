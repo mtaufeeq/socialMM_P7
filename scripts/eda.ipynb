{
 "cells": [
  {
   "cell_type": "code",
   "execution_count": 2,
   "metadata": {},
   "outputs": [],
   "source": [
    "import os \n",
    "import glob \n",
    "\n",
    "import numpy as np \n",
    "import pandas as pd \n",
    "\n",
    "import matplotlib.pyplot as plt \n",
    "import seaborn as sns \n"
   ]
  },
  {
   "cell_type": "markdown",
   "metadata": {},
   "source": [
    "## Directories "
   ]
  },
  {
   "cell_type": "code",
   "execution_count": 7,
   "metadata": {},
   "outputs": [],
   "source": [
    "data_dir = \"../data\""
   ]
  },
  {
   "cell_type": "markdown",
   "metadata": {},
   "source": [
    "## Read files "
   ]
  },
  {
   "cell_type": "code",
   "execution_count": 16,
   "metadata": {},
   "outputs": [],
   "source": [
    "filename = \"April_NoMask_Tweets.csv\"\n",
    "\n",
    "\n",
    "df = pd.read_csv(os.path.join(data_dir, \"NoMask_Tweets_Version_2\", filename))"
   ]
  },
  {
   "cell_type": "code",
   "execution_count": 17,
   "metadata": {},
   "outputs": [
    {
     "data": {
      "text/plain": [
       "(237, 16)"
      ]
     },
     "execution_count": 17,
     "metadata": {},
     "output_type": "execute_result"
    }
   ],
   "source": [
    "df.shape"
   ]
  },
  {
   "cell_type": "code",
   "execution_count": 13,
   "metadata": {},
   "outputs": [
    {
     "data": {
      "text/plain": [
       "Index(['Tweet Text', 'Tweet Datetime', 'Tweet Id', 'User Id', 'User Name',\n",
       "       'User Location', 'Tweet Coordinates', 'Place Info', 'Country',\n",
       "       'Hashtags', 'Retweets', 'Favorites', 'Language', 'Source',\n",
       "       'Replied Tweet Id', 'Replied Tweet User Id'],\n",
       "      dtype='object')"
      ]
     },
     "execution_count": 13,
     "metadata": {},
     "output_type": "execute_result"
    }
   ],
   "source": [
    "df.columns"
   ]
  },
  {
   "cell_type": "code",
   "execution_count": 18,
   "metadata": {},
   "outputs": [
    {
     "data": {
      "text/plain": [
       "Index(['Tweet Text', 'Tweet Datetime', 'Tweet Id', 'User Id', 'User Name',\n",
       "       'User Location', 'Tweet Coordinates', 'Place Info', 'Country',\n",
       "       'Hashtags', 'Retweets', 'Favorites', 'Language', 'Source',\n",
       "       'Replied Tweet Id', 'Replied Tweet User Id'],\n",
       "      dtype='object')"
      ]
     },
     "execution_count": 18,
     "metadata": {},
     "output_type": "execute_result"
    }
   ],
   "source": [
    "df.columns"
   ]
  },
  {
   "cell_type": "code",
   "execution_count": 19,
   "metadata": {},
   "outputs": [],
   "source": [
    "df_eng = df[df[\"Language\"] == \"en\"]"
   ]
  },
  {
   "cell_type": "code",
   "execution_count": 20,
   "metadata": {},
   "outputs": [
    {
     "data": {
      "text/plain": [
       "(195, 16)"
      ]
     },
     "execution_count": 20,
     "metadata": {},
     "output_type": "execute_result"
    }
   ],
   "source": [
    "\n",
    "df_eng.shape"
   ]
  },
  {
   "cell_type": "code",
   "execution_count": 25,
   "metadata": {},
   "outputs": [
    {
     "data": {
      "text/plain": [
       "0                      #ANYMASK IS BETTER THAN #NOMASK😷😷\n",
       "1      #nomasks POTUS should jump on AF1 tonight, fly...\n",
       "2      RT @LillisMilan: #nomasks POTUS should jump on...\n",
       "4      Still debating #mask/#nomask? Real question: C...\n",
       "5      RT @meemeegu: Still debating #mask/#nomask? Re...\n",
       "                             ...                        \n",
       "191    \"As vice president of the United States I'm te...\n",
       "192    @DisabledResist @VP The gene pool seems adaman...\n",
       "193    #coronavirus \\n#nomask \\n#MayoClinic \\n\\nIs he...\n",
       "196    @GovAndyBeshear Open up KENTUCKY. #NoMask #imp...\n",
       "197    \"If your mask obstructs your vision, you are d...\n",
       "Name: Tweet Text, Length: 165, dtype: object"
      ]
     },
     "execution_count": 25,
     "metadata": {},
     "output_type": "execute_result"
    }
   ],
   "source": []
  },
  {
   "cell_type": "markdown",
   "metadata": {},
   "source": [
    "## BERT Features "
   ]
  },
  {
   "cell_type": "code",
   "execution_count": 26,
   "metadata": {},
   "outputs": [
    {
     "name": "stdout",
     "output_type": "stream",
     "text": [
      "================================================================================\n",
      "Tweet no.: 1\n",
      "Tweet: #ANYMASK IS BETTER THAN #NOMASK😷😷\n"
     ]
    },
    {
     "name": "stderr",
     "output_type": "stream",
     "text": [
      "Special tokens have been added in the vocabulary, make sure the associated word embedding are fine-tuned or trained.\n"
     ]
    },
    {
     "name": "stdout",
     "output_type": "stream",
     "text": [
      "================================================================================\n",
      "Tweet no.: 2\n",
      "Tweet: #nomasks POTUS should jump on AF1 tonight, fly to Minneapolis, go to 3M HQ, knock on Romans door and demand American masks for Americans.\n"
     ]
    },
    {
     "name": "stderr",
     "output_type": "stream",
     "text": [
      "Special tokens have been added in the vocabulary, make sure the associated word embedding are fine-tuned or trained.\n"
     ]
    },
    {
     "name": "stdout",
     "output_type": "stream",
     "text": [
      "================================================================================\n",
      "Tweet no.: 3\n",
      "Tweet: RT @LillisMilan: #nomasks POTUS should jump on AF1 tonight, fly to Minneapolis, go to 3M HQ, knock on Romans door and demand American masks…\n"
     ]
    },
    {
     "name": "stderr",
     "output_type": "stream",
     "text": [
      "Special tokens have been added in the vocabulary, make sure the associated word embedding are fine-tuned or trained.\n"
     ]
    },
    {
     "name": "stdout",
     "output_type": "stream",
     "text": [
      "================================================================================\n",
      "Tweet no.: 4\n",
      "Tweet: Still debating #mask/#nomask? Real question: Can we make them available to our people? Answer: No. \n",
      "\n",
      "Let’s be honest: We don’t have #masks because #USA has outsourced the making of #PPE to #CCPChina and didn’t start making them when #CCPCoronavirus was still #epidemic https://t.co/UzhmI1Tx8t\n"
     ]
    },
    {
     "name": "stderr",
     "output_type": "stream",
     "text": [
      "Special tokens have been added in the vocabulary, make sure the associated word embedding are fine-tuned or trained.\n"
     ]
    },
    {
     "name": "stdout",
     "output_type": "stream",
     "text": [
      "================================================================================\n",
      "Tweet no.: 5\n",
      "Tweet: RT @meemeegu: Still debating #mask/#nomask? Real question: Can we make them available to our people? Answer: No. \n",
      "\n",
      "Let’s be honest: We don’…\n"
     ]
    },
    {
     "name": "stderr",
     "output_type": "stream",
     "text": [
      "Special tokens have been added in the vocabulary, make sure the associated word embedding are fine-tuned or trained.\n"
     ]
    },
    {
     "name": "stdout",
     "output_type": "stream",
     "text": [
      "================================================================================\n",
      "Tweet no.: 6\n",
      "Tweet: My contribution to the #Mask #NoMask #COVID19 debate. https://t.co/Co6m9i6ShW\n"
     ]
    },
    {
     "name": "stderr",
     "output_type": "stream",
     "text": [
      "Special tokens have been added in the vocabulary, make sure the associated word embedding are fine-tuned or trained.\n"
     ]
    },
    {
     "name": "stdout",
     "output_type": "stream",
     "text": [
      "================================================================================\n",
      "Tweet no.: 7\n",
      "Tweet: @realDonaldTrump I stand with President Trump not wearing a mask! #NoMask #COVID19 #dontbeajackass\n"
     ]
    },
    {
     "name": "stderr",
     "output_type": "stream",
     "text": [
      "Special tokens have been added in the vocabulary, make sure the associated word embedding are fine-tuned or trained.\n"
     ]
    },
    {
     "name": "stdout",
     "output_type": "stream",
     "text": [
      "================================================================================\n",
      "Tweet no.: 8\n",
      "Tweet: @ATT if you’re so concerned about your employees why are you making #homevisit employees where #facemasks ? This guy on the phone with me said - “I can only do what company policy requires me to do”! #NoMasks #Masks4All #mandateit #notinmyhouse ...I have to say.... https://t.co/FMe5eC9bTB\n"
     ]
    },
    {
     "name": "stderr",
     "output_type": "stream",
     "text": [
      "Special tokens have been added in the vocabulary, make sure the associated word embedding are fine-tuned or trained.\n"
     ]
    },
    {
     "name": "stdout",
     "output_type": "stream",
     "text": [
      "================================================================================\n",
      "Tweet no.: 9\n",
      "Tweet: RT @kiwiskiNZ: My contribution to the #Mask #NoMask #COVID19 debate. https://t.co/Co6m9i6ShW\n"
     ]
    },
    {
     "name": "stderr",
     "output_type": "stream",
     "text": [
      "Special tokens have been added in the vocabulary, make sure the associated word embedding are fine-tuned or trained.\n"
     ]
    },
    {
     "name": "stdout",
     "output_type": "stream",
     "text": [
      "================================================================================\n",
      "Tweet no.: 10\n",
      "Tweet: RT @kiwiskiNZ: My contribution to the #Mask #NoMask #COVID19 debate. https://t.co/Co6m9i6ShW\n"
     ]
    },
    {
     "name": "stderr",
     "output_type": "stream",
     "text": [
      "Special tokens have been added in the vocabulary, make sure the associated word embedding are fine-tuned or trained.\n"
     ]
    },
    {
     "name": "stdout",
     "output_type": "stream",
     "text": [
      "================================================================================\n",
      "Tweet no.: 11\n",
      "Tweet: OK, here it is, not wearing a mask or gloves &amp; going wherever the hell I want  assuming I can find something open. I will keep my distance from others if they keep theirs from me. I will remain a free American patriot preserving his liberty. #nomasks #noshutdown #freeamerican\n"
     ]
    },
    {
     "name": "stderr",
     "output_type": "stream",
     "text": [
      "Special tokens have been added in the vocabulary, make sure the associated word embedding are fine-tuned or trained.\n"
     ]
    },
    {
     "name": "stdout",
     "output_type": "stream",
     "text": [
      "================================================================================\n",
      "Tweet no.: 12\n",
      "Tweet: Initial recommendation #NoMask  Never made much sense, in a NOVEL, HIGHLY INFECTIOUS, respiratory virus, with excessive movement= high infection rates. \n",
      "#CavlierAction = #ExtremeMortality,  epidemiology studies will soon show that you can't chase a highly transmissable virus. https://t.co/i4ItReizJj\n"
     ]
    },
    {
     "name": "stderr",
     "output_type": "stream",
     "text": [
      "Special tokens have been added in the vocabulary, make sure the associated word embedding are fine-tuned or trained.\n"
     ]
    },
    {
     "name": "stdout",
     "output_type": "stream",
     "text": [
      "================================================================================\n",
      "Tweet no.: 13\n",
      "Tweet: @dallasnews Texas and Del Conte distance themselves from Aston, pull in Schaefer #nomask 😷#SocialDistancing \n",
      "\n",
      "Cmon, people - a Zoom Brady Bunch photo would have sufficed here.\n"
     ]
    },
    {
     "name": "stderr",
     "output_type": "stream",
     "text": [
      "Special tokens have been added in the vocabulary, make sure the associated word embedding are fine-tuned or trained.\n"
     ]
    },
    {
     "name": "stdout",
     "output_type": "stream",
     "text": [
      "================================================================================\n",
      "Tweet no.: 14\n",
      "Tweet: Texas and Del Conte distance themselves from Aston, pull in Schaefer #nomask 😷#SocialDistancing \n",
      "\n",
      "Cmon, people - a Zoom Brady Bunch photo would have sufficed here. https://t.co/UrBInTvRFS\n"
     ]
    },
    {
     "name": "stderr",
     "output_type": "stream",
     "text": [
      "Special tokens have been added in the vocabulary, make sure the associated word embedding are fine-tuned or trained.\n"
     ]
    },
    {
     "name": "stdout",
     "output_type": "stream",
     "text": [
      "================================================================================\n",
      "Tweet no.: 15\n",
      "Tweet: COVID-19: Cross River commences enforcement of https://t.co/HDrw7RJ5Ym #covid19 #nomask\n"
     ]
    },
    {
     "name": "stderr",
     "output_type": "stream",
     "text": [
      "Special tokens have been added in the vocabulary, make sure the associated word embedding are fine-tuned or trained.\n"
     ]
    },
    {
     "name": "stdout",
     "output_type": "stream",
     "text": [
      "================================================================================\n",
      "Tweet no.: 16\n",
      "Tweet: This is disgusting (again). Security taking this attitude and finding #coughing funny. Whoa! How does @FiveRiversEC feel about their workers mixing with these HS2 security guys who clearly are not worried about spreading the virus?#stopHS2 #COVID19 #constructionworkers #nomask https://t.co/Lmz0J9Cup8\n"
     ]
    },
    {
     "name": "stderr",
     "output_type": "stream",
     "text": [
      "Special tokens have been added in the vocabulary, make sure the associated word embedding are fine-tuned or trained.\n"
     ]
    },
    {
     "name": "stdout",
     "output_type": "stream",
     "text": [
      "================================================================================\n",
      "Tweet no.: 17\n",
      "Tweet: They themself didn't follow the precautions, and look what they are doing to make their Bosses happy.\n",
      "\n",
      "#RealFaceOfMedia #CoronaInPakistan #NoMask #NoGloves https://t.co/xl7edygU7t\n"
     ]
    },
    {
     "name": "stderr",
     "output_type": "stream",
     "text": [
      "Special tokens have been added in the vocabulary, make sure the associated word embedding are fine-tuned or trained.\n"
     ]
    },
    {
     "name": "stdout",
     "output_type": "stream",
     "text": [
      "================================================================================\n",
      "Tweet no.: 18\n",
      "Tweet: @realDonaldTrump @seanhannity @FoxNews Open up everything President Trump 👍😁🇺🇸\n",
      "#MAGA2020\n",
      "#NoMask\n"
     ]
    },
    {
     "name": "stderr",
     "output_type": "stream",
     "text": [
      "Special tokens have been added in the vocabulary, make sure the associated word embedding are fine-tuned or trained.\n"
     ]
    },
    {
     "name": "stdout",
     "output_type": "stream",
     "text": [
      "================================================================================\n",
      "Tweet no.: 19\n",
      "Tweet: Naw big Alex that’s that chicken coop 🤦‍♂️\n",
      ".\n",
      ".\n",
      "@Thebeast_ufc he ok?? #\n",
      ".\n",
      ".\n",
      "@danawhite @reggiebush 20twentyer @stoolpresidente SIGN HIM UP? \n",
      ".\n",
      ".\n",
      "\n",
      "#Repost @iamalexthoms with @get_repost\n",
      "・・・\n",
      "#NoMask\n",
      "#NoDrawls\n",
      "#NoSence… https://t.co/foufdPQVAS\n"
     ]
    },
    {
     "name": "stderr",
     "output_type": "stream",
     "text": [
      "Special tokens have been added in the vocabulary, make sure the associated word embedding are fine-tuned or trained.\n"
     ]
    },
    {
     "name": "stdout",
     "output_type": "stream",
     "text": [
      "================================================================================\n",
      "Tweet no.: 20\n",
      "Tweet: Mining in Australia is one main reason we are not in full lock down. Mining is apparently more important than the health &amp; lives of @Qantas staff (&amp; therefore their families) who still have to clear drinks/food on FIFO flights without PPE #nomasks #covid #covid19 #healthandsafety https://t.co/ecs3F7y8gR\n"
     ]
    },
    {
     "name": "stderr",
     "output_type": "stream",
     "text": [
      "Special tokens have been added in the vocabulary, make sure the associated word embedding are fine-tuned or trained.\n"
     ]
    },
    {
     "name": "stdout",
     "output_type": "stream",
     "text": [
      "================================================================================\n",
      "Tweet no.: 21\n",
      "Tweet: Right now, the air outside is most likely the freshest air we'll breathe in our lifetime.\n",
      "\n",
      "#fear #miseducation #mask #nomask #noexcuses #fitness #climatechange #marathon #willtowin https://t.co/ZzK1TkTiO5\n"
     ]
    },
    {
     "name": "stderr",
     "output_type": "stream",
     "text": [
      "Special tokens have been added in the vocabulary, make sure the associated word embedding are fine-tuned or trained.\n"
     ]
    },
    {
     "name": "stdout",
     "output_type": "stream",
     "text": [
      "================================================================================\n",
      "Tweet no.: 22\n",
      "Tweet: @briebriejoy @McDonalds doesn't care about its employees.  \n",
      "\n",
      "#NoMasks\n",
      "#NoGloves\n",
      "#Strike\n",
      "\n",
      "https://t.co/TTUI8gaRte\n"
     ]
    },
    {
     "name": "stderr",
     "output_type": "stream",
     "text": [
      "Special tokens have been added in the vocabulary, make sure the associated word embedding are fine-tuned or trained.\n"
     ]
    },
    {
     "name": "stdout",
     "output_type": "stream",
     "text": [
      "================================================================================\n",
      "Tweet no.: 23\n",
      "Tweet: ”Be BRAVE. Be VULNERABLE. Have the COURAGE to show up &amp; be seen. Let your radiant beautiful authentic self shine! Be the real imperfect YOU, the world will adjust!”~ #ExtremeRadLifer ❤️🙏#authentic #bereal #nomask #secretskeepyousick #childofgod #BeBRAVE #courage ❤️💃🛡🗡🔥🇿🇦🌍🕯 https://t.co/yKe6on6qez\n"
     ]
    },
    {
     "name": "stderr",
     "output_type": "stream",
     "text": [
      "Special tokens have been added in the vocabulary, make sure the associated word embedding are fine-tuned or trained.\n"
     ]
    },
    {
     "name": "stdout",
     "output_type": "stream",
     "text": [
      "================================================================================\n",
      "Tweet no.: 24\n",
      "Tweet: @acoyne This is why we need Opposition oversight. Government using this opportunity to grab power, slam in legislation and undo policies that don't fit their narrative. We need them gone. I'm ready to online vote in a pandemic. #PMFAIL #StillNotReady #lowrisk #openborders #nomasks\n"
     ]
    },
    {
     "name": "stderr",
     "output_type": "stream",
     "text": [
      "Special tokens have been added in the vocabulary, make sure the associated word embedding are fine-tuned or trained.\n"
     ]
    },
    {
     "name": "stdout",
     "output_type": "stream",
     "text": [
      "================================================================================\n",
      "Tweet no.: 25\n",
      "Tweet: PEOPLE USE SOCIAL DISTANCING. I SEEN SO MANY PEOPLE WITH #NoMask AND NOT 6 FEET APART\n"
     ]
    },
    {
     "name": "stderr",
     "output_type": "stream",
     "text": [
      "Special tokens have been added in the vocabulary, make sure the associated word embedding are fine-tuned or trained.\n"
     ]
    },
    {
     "name": "stdout",
     "output_type": "stream",
     "text": [
      "================================================================================\n",
      "Tweet no.: 26\n",
      "Tweet: In this situation there is no arrangements by the @GujaratPolice in Pethapur Village Dist. Gandhinagar. Ration has been distributed to people by the @CMOGuj .where is social distancing?? #Noawareness #Nomask Request @GujaratPolice to guide people's. @dgpgujarat https://t.co/nC67g9FfnF\n"
     ]
    },
    {
     "name": "stderr",
     "output_type": "stream",
     "text": [
      "Special tokens have been added in the vocabulary, make sure the associated word embedding are fine-tuned or trained.\n"
     ]
    },
    {
     "name": "stdout",
     "output_type": "stream",
     "text": [
      "================================================================================\n",
      "Tweet no.: 27\n",
      "Tweet: People #running in the streets of NY bc they’re maintaining a healthy lifestyle are endangering others. #nomasks #nothanks\n"
     ]
    },
    {
     "name": "stderr",
     "output_type": "stream",
     "text": [
      "Special tokens have been added in the vocabulary, make sure the associated word embedding are fine-tuned or trained.\n"
     ]
    },
    {
     "name": "stdout",
     "output_type": "stream",
     "text": [
      "================================================================================\n",
      "Tweet no.: 28\n",
      "Tweet: Why do the employees at @acmemarkets and @HomeDepot in PA not have #masks and #gloves on. Especially cashiers.  #nomask #HomeDepot #acme #COVID19 #caronavirusoutbreak #SocialDistancing #StaySafe\n"
     ]
    },
    {
     "name": "stderr",
     "output_type": "stream",
     "text": [
      "Special tokens have been added in the vocabulary, make sure the associated word embedding are fine-tuned or trained.\n"
     ]
    },
    {
     "name": "stdout",
     "output_type": "stream",
     "text": [
      "================================================================================\n",
      "Tweet no.: 29\n",
      "Tweet: RT @NickandNol: Why do the employees at @acmemarkets and @HomeDepot in PA not have #masks and #gloves on. Especially cashiers.  #nomask #Ho…\n"
     ]
    },
    {
     "name": "stderr",
     "output_type": "stream",
     "text": [
      "Special tokens have been added in the vocabulary, make sure the associated word embedding are fine-tuned or trained.\n"
     ]
    },
    {
     "name": "stdout",
     "output_type": "stream",
     "text": [
      "================================================================================\n",
      "Tweet no.: 30\n",
      "Tweet: You don't wear a mask into an attic to protect the insulation from you.\n",
      "\n",
      "You don't wear a mask while sanding to protect saw dust from what your lungs would do to it.\n",
      "\n",
      "You don't wear a mask while painting bc your breath is toxic to paint.\n",
      "\n",
      "#NoMask https://t.co/Q1HVaKcngw\n"
     ]
    },
    {
     "name": "stderr",
     "output_type": "stream",
     "text": [
      "Special tokens have been added in the vocabulary, make sure the associated word embedding are fine-tuned or trained.\n"
     ]
    },
    {
     "name": "stdout",
     "output_type": "stream",
     "text": [
      "================================================================================\n",
      "Tweet no.: 31\n",
      "Tweet: #OPENAMERICANOW if state legislators are essential (to raise our taxes), all Americans are essential👇 #nomasks https://t.co/L6saXqqLbv\n"
     ]
    },
    {
     "name": "stderr",
     "output_type": "stream",
     "text": [
      "Special tokens have been added in the vocabulary, make sure the associated word embedding are fine-tuned or trained.\n"
     ]
    },
    {
     "name": "stdout",
     "output_type": "stream",
     "text": [
      "================================================================================\n",
      "Tweet no.: 32\n",
      "Tweet: My first grocery order from ⁦@Walmart⁩ didn’t go very well. #produce #nomask #avoid https://t.co/z8qYWLs7xp\n"
     ]
    },
    {
     "name": "stderr",
     "output_type": "stream",
     "text": [
      "Special tokens have been added in the vocabulary, make sure the associated word embedding are fine-tuned or trained.\n"
     ]
    },
    {
     "name": "stdout",
     "output_type": "stream",
     "text": [
      "================================================================================\n",
      "Tweet no.: 33\n",
      "Tweet: @PaulBacon30 @Publix Not everyone should wear a mask. #nomask. In Broward \"This order does not apply to young children under the age of two, and individuals who have difficulty breathing.\" https://t.co/eakMmsWUKw\n",
      "Please allow us to enter without a Mask!!!\n"
     ]
    },
    {
     "name": "stderr",
     "output_type": "stream",
     "text": [
      "Special tokens have been added in the vocabulary, make sure the associated word embedding are fine-tuned or trained.\n"
     ]
    },
    {
     "name": "stdout",
     "output_type": "stream",
     "text": [
      "================================================================================\n",
      "Tweet no.: 34\n",
      "Tweet: @NereidaC7 @Publix @WinnDixie \"This order does not apply to young children under the age of two, and individuals who have difficulty breathing.\" https://t.co/eakMmsWUKw\n",
      "Its the same for MIA #nomask Let us enjoy fresh air!!! @MayorGimenez has to much power to make it mandatory, CDC recommends its not mandatory\n"
     ]
    },
    {
     "name": "stderr",
     "output_type": "stream",
     "text": [
      "Special tokens have been added in the vocabulary, make sure the associated word embedding are fine-tuned or trained.\n"
     ]
    },
    {
     "name": "stdout",
     "output_type": "stream",
     "text": [
      "================================================================================\n",
      "Tweet no.: 35\n",
      "Tweet: @realDonaldTrump Enemy is not invisible. Enemy is #POSPOTUS   It’s you @realDonaldTrump @POTUS you are the enemy. The killer of thousands of Americans. #hoax #notests #nomasks #noPPE #noclue\n"
     ]
    },
    {
     "name": "stderr",
     "output_type": "stream",
     "text": [
      "Special tokens have been added in the vocabulary, make sure the associated word embedding are fine-tuned or trained.\n"
     ]
    },
    {
     "name": "stdout",
     "output_type": "stream",
     "text": [
      "================================================================================\n",
      "Tweet no.: 36\n",
      "Tweet: Modes of transmission of virus causing COVID-19: WHO clarification  https://t.co/iJTl0mqd3w not what we have been told. No need for face mask or gloves in normal setting #nomasks #covid19 When providing patient cares yes hospital medical precautions apply.\n"
     ]
    },
    {
     "name": "stderr",
     "output_type": "stream",
     "text": [
      "Special tokens have been added in the vocabulary, make sure the associated word embedding are fine-tuned or trained.\n"
     ]
    },
    {
     "name": "stdout",
     "output_type": "stream",
     "text": [
      "================================================================================\n",
      "Tweet no.: 37\n",
      "Tweet: This is how amazon is keeping diliveries safe #nomask\n",
      "#amazonindia #amazondiliveries https://t.co/BxXHp4L1xI\n"
     ]
    },
    {
     "name": "stderr",
     "output_type": "stream",
     "text": [
      "Special tokens have been added in the vocabulary, make sure the associated word embedding are fine-tuned or trained.\n"
     ]
    },
    {
     "name": "stdout",
     "output_type": "stream",
     "text": [
      "================================================================================\n",
      "Tweet no.: 38\n",
      "Tweet: @mjb0317 @Publix #nomask People don't want to wear masks! Most of your groceries are handled with no mask and no gloves think of all the people and factories your food comes from. Think of all the truck drivers bringing that food to your local store. Stop being scared of people without a mask on\n"
     ]
    },
    {
     "name": "stderr",
     "output_type": "stream",
     "text": [
      "Special tokens have been added in the vocabulary, make sure the associated word embedding are fine-tuned or trained.\n"
     ]
    },
    {
     "name": "stdout",
     "output_type": "stream",
     "text": [
      "================================================================================\n",
      "Tweet no.: 39\n",
      "Tweet: WHY I AM #NOMASK FOR #COVID19\n",
      "1. my grandma is a dickhead\n",
      "2. im the most important\n",
      "3. im a big macho badass\n"
     ]
    },
    {
     "name": "stderr",
     "output_type": "stream",
     "text": [
      "Special tokens have been added in the vocabulary, make sure the associated word embedding are fine-tuned or trained.\n"
     ]
    },
    {
     "name": "stdout",
     "output_type": "stream",
     "text": [
      "================================================================================\n",
      "Tweet no.: 40\n",
      "Tweet: @PopeyesChicken Manager Bree at Military Rd, AR location asked me to come in for my family of 5 order. Through the drive-thru I saw no gloves, no masks, Mgr taking money in hands, again no mask and no gloves. Why? #coronavirus #popeyeschicke  #nomask #nogloves #fastfood #COVID19\n"
     ]
    },
    {
     "name": "stderr",
     "output_type": "stream",
     "text": [
      "Special tokens have been added in the vocabulary, make sure the associated word embedding are fine-tuned or trained.\n"
     ]
    },
    {
     "name": "stdout",
     "output_type": "stream",
     "text": [
      "================================================================================\n",
      "Tweet no.: 41\n",
      "Tweet: @GovernorTomWolf @SecretaryLevine NOT constitutional!! See you in court! #nomask #Liberty #freedom\n"
     ]
    },
    {
     "name": "stderr",
     "output_type": "stream",
     "text": [
      "Special tokens have been added in the vocabulary, make sure the associated word embedding are fine-tuned or trained.\n"
     ]
    },
    {
     "name": "stdout",
     "output_type": "stream",
     "text": [
      "================================================================================\n",
      "Tweet no.: 42\n",
      "Tweet: @realDonaldTrump Stop Cuomo or we will. #nycgop. We are free people. @realDonaldTrump stop this you need fake cure for fake #Plandemic. #novaccines #nomasks\n",
      "https://t.co/NoW9VXRhjD https://t.co/fGj6Lz2vO6\n"
     ]
    },
    {
     "name": "stderr",
     "output_type": "stream",
     "text": [
      "Special tokens have been added in the vocabulary, make sure the associated word embedding are fine-tuned or trained.\n"
     ]
    },
    {
     "name": "stdout",
     "output_type": "stream",
     "text": [
      "================================================================================\n",
      "Tweet no.: 43\n",
      "Tweet: @nytimes Not wearing a Mask. 😷😷\n",
      "Fear Culture and False reassurance with a Mask is something I will not promote. #NoMask #COVID19 #StayHome #StayatHome\n"
     ]
    },
    {
     "name": "stderr",
     "output_type": "stream",
     "text": [
      "Special tokens have been added in the vocabulary, make sure the associated word embedding are fine-tuned or trained.\n"
     ]
    },
    {
     "name": "stdout",
     "output_type": "stream",
     "text": [
      "================================================================================\n",
      "Tweet no.: 44\n",
      "Tweet: Why are government officials not wearing masks.  If we are being forced to why aren't white house reporters and the @POTUS and staff ?  #NoMasks #NoTemperatures #NoForcedVaccines. \n",
      "\n",
      "Watch this and wake up America. https://t.co/5afqFwpwL7\n"
     ]
    },
    {
     "name": "stderr",
     "output_type": "stream",
     "text": [
      "Special tokens have been added in the vocabulary, make sure the associated word embedding are fine-tuned or trained.\n"
     ]
    },
    {
     "name": "stdout",
     "output_type": "stream",
     "text": [
      "================================================================================\n",
      "Tweet no.: 45\n",
      "Tweet: A man holding an umbrella walks past a closed store front in downtown LA April 15, 2020. #covid19 #coronapandemic #pandemic2020 #nomask #umbrella #streetphotography #fujifilmxseries #fujistreetphotography #fujixmoment #dtla\n",
      "\n",
      "📸 https://t.co/A9FoYem88o via https://t.co/tFiRvDvplH https://t.co/hOPlFsvc30\n"
     ]
    },
    {
     "name": "stderr",
     "output_type": "stream",
     "text": [
      "Special tokens have been added in the vocabulary, make sure the associated word embedding are fine-tuned or trained.\n"
     ]
    },
    {
     "name": "stdout",
     "output_type": "stream",
     "text": [
      "================================================================================\n",
      "Tweet no.: 46\n",
      "Tweet: @As1TeamAmerica @GmanFan45 #NoMasks #NoTesting. #NoVaccines.    The more you know. Watch this \n",
      "\n",
      "https://t.co/5afqFwpwL7\n"
     ]
    },
    {
     "name": "stderr",
     "output_type": "stream",
     "text": [
      "Special tokens have been added in the vocabulary, make sure the associated word embedding are fine-tuned or trained.\n"
     ]
    },
    {
     "name": "stdout",
     "output_type": "stream",
     "text": [
      "================================================================================\n",
      "Tweet no.: 47\n",
      "Tweet: Covid +ve cases at HeeraPanna, OmerPark, ShyamNivas, VallabhApt, BreachCandyHosp. BUT @mybmcCoastalRd workers are carrying on work as usual #nomasks NO #SocialDistancing. @MumbaiPolice @mybmcWardD please #TakeResponsibility of keeping @breachcandyALM residents safe. @AUThackeray https://t.co/QaK6DEHoa8\n"
     ]
    },
    {
     "name": "stderr",
     "output_type": "stream",
     "text": [
      "Special tokens have been added in the vocabulary, make sure the associated word embedding are fine-tuned or trained.\n"
     ]
    },
    {
     "name": "stdout",
     "output_type": "stream",
     "text": [
      "================================================================================\n",
      "Tweet no.: 48\n",
      "Tweet: the phased plan is NOT opening up america. if you think i'm going to wear a face mask out in public i will NOT BE. PERIOD. #nomasks #TheVirusisBirx\n"
     ]
    },
    {
     "name": "stderr",
     "output_type": "stream",
     "text": [
      "Special tokens have been added in the vocabulary, make sure the associated word embedding are fine-tuned or trained.\n"
     ]
    },
    {
     "name": "stdout",
     "output_type": "stream",
     "text": [
      "================================================================================\n",
      "Tweet no.: 49\n",
      "Tweet: @DonaldJTrumpJr The hospitals are classifying everything as #coronavirus to get the funding. There are FAR fewer cases than we are being told. #NoMasks #NoVaccines\n"
     ]
    },
    {
     "name": "stderr",
     "output_type": "stream",
     "text": [
      "Special tokens have been added in the vocabulary, make sure the associated word embedding are fine-tuned or trained.\n"
     ]
    },
    {
     "name": "stdout",
     "output_type": "stream",
     "text": [
      "================================================================================\n",
      "Tweet no.: 50\n",
      "Tweet: @ezsmpsn @RealCandaceO @democracynow19 @GavinNewsom @WholeFoods .\n",
      "FREEDOM\n",
      "\n",
      "#NoMask\n",
      "#FaithOverFear\n",
      "\n",
      "#CoronavirusLiar\n"
     ]
    },
    {
     "name": "stderr",
     "output_type": "stream",
     "text": [
      "Special tokens have been added in the vocabulary, make sure the associated word embedding are fine-tuned or trained.\n"
     ]
    },
    {
     "name": "stdout",
     "output_type": "stream",
     "text": [
      "================================================================================\n",
      "Tweet no.: 51\n",
      "Tweet: #immigrationlawyer in times of #covid_19. Eloy day 2. Visiting a client at the La Palma Correctional Facility. Again, there were #nomasks #nogloves, #nosoap and accounts from asylum seekers who are subject to… https://t.co/Q4qY7rD8v8\n"
     ]
    },
    {
     "name": "stderr",
     "output_type": "stream",
     "text": [
      "Special tokens have been added in the vocabulary, make sure the associated word embedding are fine-tuned or trained.\n"
     ]
    },
    {
     "name": "stdout",
     "output_type": "stream",
     "text": [
      "================================================================================\n",
      "Tweet no.: 52\n",
      "Tweet: @dunkindonuts 39 W Palisades Ave. Englewood, NJ. The staff does not wear gloves or masks. This is the dirtiest store I have been in! Order#819. I want my money back on my Duncan card. I’m reporting the store to the local health department. #duncandonuts #nomasks #nogloves #covid\n"
     ]
    },
    {
     "name": "stderr",
     "output_type": "stream",
     "text": [
      "Special tokens have been added in the vocabulary, make sure the associated word embedding are fine-tuned or trained.\n"
     ]
    },
    {
     "name": "stdout",
     "output_type": "stream",
     "text": [
      "================================================================================\n",
      "Tweet no.: 53\n",
      "Tweet: @GovNedLamont \n",
      "We are Americans.\n",
      "We the People are free citizens of the great USA.\n",
      "We will not mask ourselves. Americans don't wear masks to buy food.\n",
      "We will fight to maintain our God-given rights.\n",
      "We will not comply.\n",
      "#FlattenTheFear\n",
      "#AmericaHomeOfTheBrave\n",
      "#NoMaskMandate\n",
      "#OpenCT\n"
     ]
    },
    {
     "name": "stderr",
     "output_type": "stream",
     "text": [
      "Special tokens have been added in the vocabulary, make sure the associated word embedding are fine-tuned or trained.\n"
     ]
    },
    {
     "name": "stdout",
     "output_type": "stream",
     "text": [
      "================================================================================\n",
      "Tweet no.: 54\n",
      "Tweet: #LiberateTheUSA #NoMasks No #SocialistDistancing #SocialismKills #CommunismKills  No #mask how have you enjoyed your life under #Socialism https://t.co/L155oTOmkW\n"
     ]
    },
    {
     "name": "stderr",
     "output_type": "stream",
     "text": [
      "Special tokens have been added in the vocabulary, make sure the associated word embedding are fine-tuned or trained.\n"
     ]
    },
    {
     "name": "stdout",
     "output_type": "stream",
     "text": [
      "================================================================================\n",
      "Tweet no.: 55\n",
      "Tweet: @StarTribune Notice no #socialdistancing #nomasks #nogloves 🤦🏻‍♀️\n"
     ]
    },
    {
     "name": "stderr",
     "output_type": "stream",
     "text": [
      "Special tokens have been added in the vocabulary, make sure the associated word embedding are fine-tuned or trained.\n"
     ]
    },
    {
     "name": "stdout",
     "output_type": "stream",
     "text": [
      "================================================================================\n",
      "Tweet no.: 56\n",
      "Tweet: @ShefVaidya #NoMask... Specially protected by the umbrella of blessings from State @BJP4Karnataka and Central @BJP4India power that is ... @BSYBJP @narendramodi @AmitShah \n",
      "#VVIPLockdownShaadi #ArogyaSetu #VVIPCoronaWedding\n"
     ]
    },
    {
     "name": "stderr",
     "output_type": "stream",
     "text": [
      "Special tokens have been added in the vocabulary, make sure the associated word embedding are fine-tuned or trained.\n"
     ]
    },
    {
     "name": "stdout",
     "output_type": "stream",
     "text": [
      "================================================================================\n",
      "Tweet no.: 57\n",
      "Tweet: @GovMurphy we now have a treatment and you must allow people to return to their lives.  #NoMasks #NoForcedTesting #FreeNJNOW. \n",
      "\n",
      "There is enough evidence to PROVE this responds to treatment and #FauciFraud was wrong since day 1. @realDonaldTrump please write an order now https://t.co/bmsuUpMpHC\n"
     ]
    },
    {
     "name": "stderr",
     "output_type": "stream",
     "text": [
      "Special tokens have been added in the vocabulary, make sure the associated word embedding are fine-tuned or trained.\n"
     ]
    },
    {
     "name": "stdout",
     "output_type": "stream",
     "text": [
      "================================================================================\n",
      "Tweet no.: 58\n",
      "Tweet: RT @Wolverine_201: @ShefVaidya #NoMask... Specially protected by the umbrella of blessings from State @BJP4Karnataka and Central @BJP4India…\n"
     ]
    },
    {
     "name": "stderr",
     "output_type": "stream",
     "text": [
      "Special tokens have been added in the vocabulary, make sure the associated word embedding are fine-tuned or trained.\n"
     ]
    },
    {
     "name": "stdout",
     "output_type": "stream",
     "text": [
      "================================================================================\n",
      "Tweet no.: 59\n",
      "Tweet: RT @NJTruthTalker: @GovMurphy we now have a treatment and you must allow people to return to their lives.  #NoMasks #NoForcedTesting #FreeN…\n"
     ]
    },
    {
     "name": "stderr",
     "output_type": "stream",
     "text": [
      "Special tokens have been added in the vocabulary, make sure the associated word embedding are fine-tuned or trained.\n"
     ]
    },
    {
     "name": "stdout",
     "output_type": "stream",
     "text": [
      "================================================================================\n",
      "Tweet no.: 60\n",
      "Tweet: Seems to me its just another way to divide us #mask #nomask 🤔🤷‍♂️\n"
     ]
    },
    {
     "name": "stderr",
     "output_type": "stream",
     "text": [
      "Special tokens have been added in the vocabulary, make sure the associated word embedding are fine-tuned or trained.\n"
     ]
    },
    {
     "name": "stdout",
     "output_type": "stream",
     "text": [
      "================================================================================\n",
      "Tweet no.: 61\n",
      "Tweet: @realDonaldTrump Support Vaccine Rights Legal Defense. #nomask this is unconstitutional and an opportunity to prove no pandemic threat in NYS, the same way we proved no measles epidemic last year in Rockland County @realdonaldtrump #Plandemic\n",
      "#HerdImmunity\n",
      " https://t.co/NoW9VXRhjD https://t.co/pYnSwBBmK1\n"
     ]
    },
    {
     "name": "stderr",
     "output_type": "stream",
     "text": [
      "Special tokens have been added in the vocabulary, make sure the associated word embedding are fine-tuned or trained.\n"
     ]
    },
    {
     "name": "stdout",
     "output_type": "stream",
     "text": [
      "================================================================================\n",
      "Tweet no.: 62\n",
      "Tweet: #doubtingthomases on the beach in droves | #covid19nightmare #doubtingthomas #nomasks #selfish #theforty5th https://t.co/LlUdBwP7QK\n"
     ]
    },
    {
     "name": "stderr",
     "output_type": "stream",
     "text": [
      "Special tokens have been added in the vocabulary, make sure the associated word embedding are fine-tuned or trained.\n"
     ]
    },
    {
     "name": "stdout",
     "output_type": "stream",
     "text": [
      "================================================================================\n",
      "Tweet no.: 63\n",
      "Tweet: Filipinos are truly resourceful and creative. We never ran out of ideas! #nomask #COVID #covidcrisis https://t.co/hTdQecDbuR\n"
     ]
    },
    {
     "name": "stderr",
     "output_type": "stream",
     "text": [
      "Special tokens have been added in the vocabulary, make sure the associated word embedding are fine-tuned or trained.\n"
     ]
    },
    {
     "name": "stdout",
     "output_type": "stream",
     "text": [
      "================================================================================\n",
      "Tweet no.: 64\n",
      "Tweet: #selfie #selfisolation #late #nomask @dirtycoast #goat #shirt @drewbrees #love @ New Orleans, Louisiana https://t.co/yiEaP9hagH\n"
     ]
    },
    {
     "name": "stderr",
     "output_type": "stream",
     "text": [
      "Special tokens have been added in the vocabulary, make sure the associated word embedding are fine-tuned or trained.\n"
     ]
    },
    {
     "name": "stdout",
     "output_type": "stream",
     "text": [
      "================================================================================\n",
      "Tweet no.: 65\n",
      "Tweet: I wonder how many in the crowd will be sick in a week with: #Corvid19 #nomask #nosocialdistancing #Sad https://t.co/9hQPIlEYAp\n"
     ]
    },
    {
     "name": "stderr",
     "output_type": "stream",
     "text": [
      "Special tokens have been added in the vocabulary, make sure the associated word embedding are fine-tuned or trained.\n"
     ]
    },
    {
     "name": "stdout",
     "output_type": "stream",
     "text": [
      "================================================================================\n",
      "Tweet no.: 66\n",
      "Tweet: 'No Mask No Fuel' Policy To Come In Action Across Petrol Pumps In India\n",
      ".\n",
      ".\n",
      "#nomask #nopetrol #lockdown #MondayMotivation #covid19 #corona #coronavirus \n",
      " https://t.co/LIpZCcrs3c\n"
     ]
    },
    {
     "name": "stderr",
     "output_type": "stream",
     "text": [
      "Special tokens have been added in the vocabulary, make sure the associated word embedding are fine-tuned or trained.\n"
     ]
    },
    {
     "name": "stdout",
     "output_type": "stream",
     "text": [
      "================================================================================\n",
      "Tweet no.: 67\n",
      "Tweet: RT @viralbake: 'No Mask No Fuel' Policy To Come In Action Across Petrol Pumps In India\n",
      ".\n",
      ".\n",
      "#nomask #nopetrol #lockdown #MondayMotivation #c…\n"
     ]
    },
    {
     "name": "stderr",
     "output_type": "stream",
     "text": [
      "Special tokens have been added in the vocabulary, make sure the associated word embedding are fine-tuned or trained.\n"
     ]
    },
    {
     "name": "stdout",
     "output_type": "stream",
     "text": [
      "================================================================================\n",
      "Tweet no.: 68\n",
      "Tweet: I need a mask can you provide me ? It can be home made.. anything you can provide.... I am staying at noida sector 27. There is no mask available in any medical Store..\n",
      "@dmgbnagar ?? Reply pls???\n",
      "\n",
      "#nomask #Masks4All #mask\n"
     ]
    },
    {
     "name": "stderr",
     "output_type": "stream",
     "text": [
      "Special tokens have been added in the vocabulary, make sure the associated word embedding are fine-tuned or trained.\n"
     ]
    },
    {
     "name": "stdout",
     "output_type": "stream",
     "text": [
      "================================================================================\n",
      "Tweet no.: 69\n",
      "Tweet: RT @viralbake: 'No Mask No Fuel' Policy To Come In Action Across Petrol Pumps In India\n",
      ".\n",
      ".\n",
      "#nomask #nopetrol #lockdown #MondayMotivation #c…\n"
     ]
    },
    {
     "name": "stderr",
     "output_type": "stream",
     "text": [
      "Special tokens have been added in the vocabulary, make sure the associated word embedding are fine-tuned or trained.\n"
     ]
    },
    {
     "name": "stdout",
     "output_type": "stream",
     "text": [
      "================================================================================\n",
      "Tweet no.: 70\n",
      "Tweet: If I ever tell you about my past, it is never because I want you to feel sorry for me, but so you can understand why I am who I am. \n",
      "#life #lifequotes #BeYourself\n",
      "#NoMasks\n"
     ]
    },
    {
     "name": "stderr",
     "output_type": "stream",
     "text": [
      "Special tokens have been added in the vocabulary, make sure the associated word embedding are fine-tuned or trained.\n"
     ]
    },
    {
     "name": "stdout",
     "output_type": "stream",
     "text": [
      "================================================================================\n",
      "Tweet no.: 71\n",
      "Tweet: Take the masks off Massachusetts!! \n",
      "\n",
      "We beat the virus!!\n",
      "\n",
      "#NoMasks #coronavirus #CoronavirusUSA #Boston @wbznewsradio @HowieCarrShow https://t.co/eOEkqB69f0\n"
     ]
    },
    {
     "name": "stderr",
     "output_type": "stream",
     "text": [
      "Special tokens have been added in the vocabulary, make sure the associated word embedding are fine-tuned or trained.\n"
     ]
    },
    {
     "name": "stdout",
     "output_type": "stream",
     "text": [
      "================================================================================\n",
      "Tweet no.: 72\n",
      "Tweet: @MamaTriedHoney I support them more than ever to have their rallies with their grand wizard, Trump. #NoMasks #CheekToCheek \n",
      "#CrowdSurfing \n",
      "#ThinTheHerd\n",
      "#ScienceWillWin \n",
      "#MAGA\n"
     ]
    },
    {
     "name": "stderr",
     "output_type": "stream",
     "text": [
      "Special tokens have been added in the vocabulary, make sure the associated word embedding are fine-tuned or trained.\n"
     ]
    },
    {
     "name": "stdout",
     "output_type": "stream",
     "text": [
      "================================================================================\n",
      "Tweet no.: 73\n",
      "Tweet: @FKUJAK1 They want fear. Fear brings the vibration down. That is why it is so important to get messages like yours out to the people.\n",
      "#TheGreatAwakening \n",
      "#nomask \n",
      "#NoVaccineForMe\n"
     ]
    },
    {
     "name": "stderr",
     "output_type": "stream",
     "text": [
      "Special tokens have been added in the vocabulary, make sure the associated word embedding are fine-tuned or trained.\n"
     ]
    },
    {
     "name": "stdout",
     "output_type": "stream",
     "text": [
      "================================================================================\n",
      "Tweet no.: 74\n",
      "Tweet: Oh no, someone else happy to be a sheep, to do what scientists say and trade away their freedoms. For what? Silly person . No wonder our economy has been destroyed with this attitude #NoMasks https://t.co/DPJHFPph0c\n"
     ]
    },
    {
     "name": "stderr",
     "output_type": "stream",
     "text": [
      "Special tokens have been added in the vocabulary, make sure the associated word embedding are fine-tuned or trained.\n"
     ]
    },
    {
     "name": "stdout",
     "output_type": "stream",
     "text": [
      "================================================================================\n",
      "Tweet no.: 75\n",
      "Tweet: Open mic moment. - hoax, everyone's been vaccinated any way, case death rate is 0.1, no need for masks #COVID19 #Hotmic #Vaccinated #NoMasks https://t.co/oyNTy07dvF\n"
     ]
    },
    {
     "name": "stderr",
     "output_type": "stream",
     "text": [
      "Special tokens have been added in the vocabulary, make sure the associated word embedding are fine-tuned or trained.\n"
     ]
    },
    {
     "name": "stdout",
     "output_type": "stream",
     "text": [
      "================================================================================\n",
      "Tweet no.: 76\n",
      "Tweet: BS #NoMask propaganda by left to scare Americans https://t.co/DYa493Sgun\n"
     ]
    },
    {
     "name": "stderr",
     "output_type": "stream",
     "text": [
      "Special tokens have been added in the vocabulary, make sure the associated word embedding are fine-tuned or trained.\n"
     ]
    },
    {
     "name": "stdout",
     "output_type": "stream",
     "text": [
      "================================================================================\n",
      "Tweet no.: 77\n",
      "Tweet: No mask, do it ninja stylee! #lifehacks #nomask #mask https://t.co/ZgKCwMOsgf\n"
     ]
    },
    {
     "name": "stderr",
     "output_type": "stream",
     "text": [
      "Special tokens have been added in the vocabulary, make sure the associated word embedding are fine-tuned or trained.\n"
     ]
    },
    {
     "name": "stdout",
     "output_type": "stream",
     "text": [
      "================================================================================\n",
      "Tweet no.: 78\n",
      "Tweet: I'm not wearing masks so the media can sit in there fucking houses and complain about American's not wearing marks while protesting.\n",
      "\n",
      "People at those protests can do what they want, it's America, if you are scared don't go.\n",
      "\n",
      "#nomasks\n"
     ]
    },
    {
     "name": "stderr",
     "output_type": "stream",
     "text": [
      "Special tokens have been added in the vocabulary, make sure the associated word embedding are fine-tuned or trained.\n"
     ]
    },
    {
     "name": "stdout",
     "output_type": "stream",
     "text": [
      "================================================================================\n",
      "Tweet no.: 79\n",
      "Tweet: @houmayor #nomask if you love life, liberty, and the pursuit of happiness- for the love of ALL HUMANITY - NO MASK.  Don't give into the fear, be a beacon of hope, a bright light as we come close to the end of this horrid turn of events.\n"
     ]
    },
    {
     "name": "stderr",
     "output_type": "stream",
     "text": [
      "Special tokens have been added in the vocabulary, make sure the associated word embedding are fine-tuned or trained.\n"
     ]
    },
    {
     "name": "stdout",
     "output_type": "stream",
     "text": [
      "================================================================================\n",
      "Tweet no.: 80\n",
      "Tweet: And #GroceryStores need to go to a #NoMasks then #NoService policy https://t.co/QOzlYWYh0S\n"
     ]
    },
    {
     "name": "stderr",
     "output_type": "stream",
     "text": [
      "Special tokens have been added in the vocabulary, make sure the associated word embedding are fine-tuned or trained.\n"
     ]
    },
    {
     "name": "stdout",
     "output_type": "stream",
     "text": [
      "================================================================================\n",
      "Tweet no.: 81\n",
      "Tweet: Yessss Jim Jordan! #NoMasks https://t.co/ckT0QE7Uh5\n"
     ]
    },
    {
     "name": "stderr",
     "output_type": "stream",
     "text": [
      "Special tokens have been added in the vocabulary, make sure the associated word embedding are fine-tuned or trained.\n"
     ]
    },
    {
     "name": "stdout",
     "output_type": "stream",
     "text": [
      "================================================================================\n",
      "Tweet no.: 82\n",
      "Tweet: RT @julie_kelly2: Yessss Jim Jordan! #NoMasks\n"
     ]
    },
    {
     "name": "stderr",
     "output_type": "stream",
     "text": [
      "Special tokens have been added in the vocabulary, make sure the associated word embedding are fine-tuned or trained.\n"
     ]
    },
    {
     "name": "stdout",
     "output_type": "stream",
     "text": [
      "================================================================================\n",
      "Tweet no.: 83\n",
      "Tweet: @HarrisCoJudge Thanks for causing more panic and fear...#noclue #nomask\n"
     ]
    },
    {
     "name": "stderr",
     "output_type": "stream",
     "text": [
      "Special tokens have been added in the vocabulary, make sure the associated word embedding are fine-tuned or trained.\n"
     ]
    },
    {
     "name": "stdout",
     "output_type": "stream",
     "text": [
      "================================================================================\n",
      "Tweet no.: 84\n",
      "Tweet: RT @julie_kelly2: Yessss Jim Jordan! #NoMasks https://t.co/ckT0QE7Uh5\n"
     ]
    },
    {
     "name": "stderr",
     "output_type": "stream",
     "text": [
      "Special tokens have been added in the vocabulary, make sure the associated word embedding are fine-tuned or trained.\n"
     ]
    },
    {
     "name": "stdout",
     "output_type": "stream",
     "text": [
      "================================================================================\n",
      "Tweet no.: 85\n",
      "Tweet: RT @julie_kelly2: Yessss Jim Jordan! #NoMasks\n"
     ]
    },
    {
     "name": "stderr",
     "output_type": "stream",
     "text": [
      "Special tokens have been added in the vocabulary, make sure the associated word embedding are fine-tuned or trained.\n"
     ]
    },
    {
     "name": "stdout",
     "output_type": "stream",
     "text": [
      "================================================================================\n",
      "Tweet no.: 86\n",
      "Tweet: RT @julie_kelly2: Yessss Jim Jordan! #NoMasks\n"
     ]
    },
    {
     "name": "stderr",
     "output_type": "stream",
     "text": [
      "Special tokens have been added in the vocabulary, make sure the associated word embedding are fine-tuned or trained.\n"
     ]
    },
    {
     "name": "stdout",
     "output_type": "stream",
     "text": [
      "================================================================================\n",
      "Tweet no.: 87\n",
      "Tweet: .@ChiefNewsham you down with PPE? Not MPD! #Ward4 you all be safe! @CMBrandonTodd is encouraging the increase potential Covid Policing in a neighborhood near you. @MayorBowser @DCPoliceDept don’t care about flattening the Curve. #StopMPD #COVID19 #Coronavirus #NoMasks #NoGloves https://t.co/nH4QxMy6kY\n"
     ]
    },
    {
     "name": "stderr",
     "output_type": "stream",
     "text": [
      "Special tokens have been added in the vocabulary, make sure the associated word embedding are fine-tuned or trained.\n"
     ]
    },
    {
     "name": "stdout",
     "output_type": "stream",
     "text": [
      "================================================================================\n",
      "Tweet no.: 88\n",
      "Tweet: How many times are networks floating subliminal messages like “during this uncertain time” “stay in &amp; stay safe”? It’s time for #Americans to fight back. Shut off the TV-go outside! #NoMask #BacktoWorkAmerica #OPENAMERICANOW It’s out right! 🇺🇸\n"
     ]
    },
    {
     "name": "stderr",
     "output_type": "stream",
     "text": [
      "Special tokens have been added in the vocabulary, make sure the associated word embedding are fine-tuned or trained.\n"
     ]
    },
    {
     "name": "stdout",
     "output_type": "stream",
     "text": [
      "================================================================================\n",
      "Tweet no.: 89\n",
      "Tweet: @GovAbbott \n",
      "@realDonaldTrump \n",
      "\n",
      "ALL DEMOCRAT MAYORS &amp; JUDGES! \n",
      "\n",
      "#INFRINGING\n",
      "#NOMASKS https://t.co/iSw4klb4WN\n"
     ]
    },
    {
     "name": "stderr",
     "output_type": "stream",
     "text": [
      "Special tokens have been added in the vocabulary, make sure the associated word embedding are fine-tuned or trained.\n"
     ]
    },
    {
     "name": "stdout",
     "output_type": "stream",
     "text": [
      "================================================================================\n",
      "Tweet no.: 90\n",
      "Tweet: Let him go! Give him a bike and a water bottle and send him on his way. \n",
      "#NoMask! https://t.co/APxXnwSE2z\n"
     ]
    },
    {
     "name": "stderr",
     "output_type": "stream",
     "text": [
      "Special tokens have been added in the vocabulary, make sure the associated word embedding are fine-tuned or trained.\n"
     ]
    },
    {
     "name": "stdout",
     "output_type": "stream",
     "text": [
      "================================================================================\n",
      "Tweet no.: 91\n",
      "Tweet: #NOmasks\n",
      "They don't protect the wearer. And most of everyone is infected.\n",
      "#imitateSweden\n",
      "@NYGovCuomo https://t.co/NipcZPW8Py\n"
     ]
    },
    {
     "name": "stderr",
     "output_type": "stream",
     "text": [
      "Special tokens have been added in the vocabulary, make sure the associated word embedding are fine-tuned or trained.\n"
     ]
    },
    {
     "name": "stdout",
     "output_type": "stream",
     "text": [
      "================================================================================\n",
      "Tweet no.: 92\n",
      "Tweet: Hmmm. Once again thanks Fauci, Gates and Birx. \n",
      "#Texas #Abbott @GregAbbott_TX #NFLDraft2020 @getongab #2A #BackToWorkNOW #NoMasks #reopen https://t.co/4B3kDjw8xD\n"
     ]
    },
    {
     "name": "stderr",
     "output_type": "stream",
     "text": [
      "Special tokens have been added in the vocabulary, make sure the associated word embedding are fine-tuned or trained.\n"
     ]
    },
    {
     "name": "stdout",
     "output_type": "stream",
     "text": [
      "================================================================================\n",
      "Tweet no.: 93\n",
      "Tweet: @GovMikeDeWine You can ask, suggest, and urge mask usage. It is a free country and I can still choose not to wear one. Cloth masks have been shown to be nearly completely ineffective in protecting from virus transmission. You can choose mask, I can choose #nomask\n"
     ]
    },
    {
     "name": "stderr",
     "output_type": "stream",
     "text": [
      "Special tokens have been added in the vocabulary, make sure the associated word embedding are fine-tuned or trained.\n"
     ]
    },
    {
     "name": "stdout",
     "output_type": "stream",
     "text": [
      "================================================================================\n",
      "Tweet no.: 94\n",
      "Tweet: RT @Ryan0neal: We’re not here to take part, we’re here to take over #NoMasks #NoViolence #WWG1WGA #Qanon #MAGA #WeThePeople #WhoIsQ #WeAreQ…\n"
     ]
    },
    {
     "name": "stderr",
     "output_type": "stream",
     "text": [
      "Special tokens have been added in the vocabulary, make sure the associated word embedding are fine-tuned or trained.\n"
     ]
    },
    {
     "name": "stdout",
     "output_type": "stream",
     "text": [
      "================================================================================\n",
      "Tweet no.: 95\n",
      "Tweet: RT @Ryan0neal: We’re not here to take part, we’re here to take over #NoMasks #NoViolence #WWG1WGA #Qanon #MAGA #WeThePeople #WhoIsQ #WeAreQ…\n"
     ]
    },
    {
     "name": "stderr",
     "output_type": "stream",
     "text": [
      "Special tokens have been added in the vocabulary, make sure the associated word embedding are fine-tuned or trained.\n"
     ]
    },
    {
     "name": "stdout",
     "output_type": "stream",
     "text": [
      "================================================================================\n",
      "Tweet no.: 96\n",
      "Tweet: RT @Ryan0neal: We’re not here to take part, we’re here to take over #NoMasks #NoViolence #WWG1WGA #Qanon #MAGA #WeThePeople #WhoIsQ #WeAreQ…\n"
     ]
    },
    {
     "name": "stderr",
     "output_type": "stream",
     "text": [
      "Special tokens have been added in the vocabulary, make sure the associated word embedding are fine-tuned or trained.\n"
     ]
    },
    {
     "name": "stdout",
     "output_type": "stream",
     "text": [
      "================================================================================\n",
      "Tweet no.: 97\n",
      "Tweet: RT @Ryan0neal: We’re not here to take part, we’re here to take over #NoMasks #NoViolence #WWG1WGA #Qanon #MAGA #WeThePeople #WhoIsQ #WeAreQ…\n"
     ]
    },
    {
     "name": "stderr",
     "output_type": "stream",
     "text": [
      "Special tokens have been added in the vocabulary, make sure the associated word embedding are fine-tuned or trained.\n"
     ]
    },
    {
     "name": "stdout",
     "output_type": "stream",
     "text": [
      "================================================================================\n",
      "Tweet no.: 98\n",
      "Tweet: RT @Ryan0neal: We’re not here to take part, we’re here to take over #NoMasks #NoViolence #WWG1WGA #Qanon #MAGA #WeThePeople #WhoIsQ #WeAreQ…\n"
     ]
    },
    {
     "name": "stderr",
     "output_type": "stream",
     "text": [
      "Special tokens have been added in the vocabulary, make sure the associated word embedding are fine-tuned or trained.\n"
     ]
    },
    {
     "name": "stdout",
     "output_type": "stream",
     "text": [
      "================================================================================\n",
      "Tweet no.: 99\n",
      "Tweet: RT @Ryan0neal: We’re not here to take part, we’re here to take over #NoMasks #NoViolence #WWG1WGA #Qanon #MAGA #WeThePeople #WhoIsQ #WeAreQ…\n"
     ]
    },
    {
     "name": "stderr",
     "output_type": "stream",
     "text": [
      "Special tokens have been added in the vocabulary, make sure the associated word embedding are fine-tuned or trained.\n"
     ]
    },
    {
     "name": "stdout",
     "output_type": "stream",
     "text": [
      "================================================================================\n",
      "Tweet no.: 100\n",
      "Tweet: RT @Ryan0neal: We’re not here to take part, we’re here to take over #NoMasks #NoViolence #WWG1WGA #Qanon #MAGA #WeThePeople #WhoIsQ #WeAreQ…\n"
     ]
    },
    {
     "name": "stderr",
     "output_type": "stream",
     "text": [
      "Special tokens have been added in the vocabulary, make sure the associated word embedding are fine-tuned or trained.\n"
     ]
    },
    {
     "name": "stdout",
     "output_type": "stream",
     "text": [
      "================================================================================\n",
      "Tweet no.: 101\n",
      "Tweet: RT @Ryan0neal: We’re not here to take part, we’re here to take over #NoMasks #NoViolence #WWG1WGA #Qanon #MAGA #WeThePeople #WhoIsQ #WeAreQ…\n"
     ]
    },
    {
     "name": "stderr",
     "output_type": "stream",
     "text": [
      "Special tokens have been added in the vocabulary, make sure the associated word embedding are fine-tuned or trained.\n"
     ]
    },
    {
     "name": "stdout",
     "output_type": "stream",
     "text": [
      "================================================================================\n",
      "Tweet no.: 102\n",
      "Tweet: \"Demanding that everyone wear a mask is intended to instill fear that deaths are on the rise.\" @realDonaldTrump @GovMikeDeWine @DrAmyActon  #NoMasks \n",
      "https://t.co/GX5FHtjybk\n"
     ]
    },
    {
     "name": "stderr",
     "output_type": "stream",
     "text": [
      "Special tokens have been added in the vocabulary, make sure the associated word embedding are fine-tuned or trained.\n"
     ]
    },
    {
     "name": "stdout",
     "output_type": "stream",
     "text": [
      "================================================================================\n",
      "Tweet no.: 103\n",
      "Tweet: RT @Ryan0neal: We’re not here to take part, we’re here to take over #NoMasks #NoViolence #WWG1WGA #Qanon #MAGA #WeThePeople #WhoIsQ #WeAreQ…\n"
     ]
    },
    {
     "name": "stderr",
     "output_type": "stream",
     "text": [
      "Special tokens have been added in the vocabulary, make sure the associated word embedding are fine-tuned or trained.\n"
     ]
    },
    {
     "name": "stdout",
     "output_type": "stream",
     "text": [
      "================================================================================\n",
      "Tweet no.: 104\n",
      "Tweet: RT @Ryan0neal: We’re not here to take part, we’re here to take over #NoMasks #NoViolence #WWG1WGA #Qanon #MAGA #WeThePeople #WhoIsQ #WeAreQ…\n"
     ]
    },
    {
     "name": "stderr",
     "output_type": "stream",
     "text": [
      "Special tokens have been added in the vocabulary, make sure the associated word embedding are fine-tuned or trained.\n"
     ]
    },
    {
     "name": "stdout",
     "output_type": "stream",
     "text": [
      "================================================================================\n",
      "Tweet no.: 105\n",
      "Tweet: @LibertyTaken Neither he nor Husted will ever win elected office again.  Unless they cheat with mail-in ballots, his daughter doesn't stand a chance at winning her race either.  #NoMasks\n"
     ]
    },
    {
     "name": "stderr",
     "output_type": "stream",
     "text": [
      "Special tokens have been added in the vocabulary, make sure the associated word embedding are fine-tuned or trained.\n"
     ]
    },
    {
     "name": "stdout",
     "output_type": "stream",
     "text": [
      "================================================================================\n",
      "Tweet no.: 106\n",
      "Tweet: RT @Ryan0neal: We’re not here to take part, we’re here to take over #NoMasks #NoViolence #WWG1WGA #Qanon #MAGA #WeThePeople #WhoIsQ #WeAreQ…\n"
     ]
    },
    {
     "name": "stderr",
     "output_type": "stream",
     "text": [
      "Special tokens have been added in the vocabulary, make sure the associated word embedding are fine-tuned or trained.\n"
     ]
    },
    {
     "name": "stdout",
     "output_type": "stream",
     "text": [
      "================================================================================\n",
      "Tweet no.: 107\n",
      "Tweet: RT @Ryan0neal: We’re not here to take part, we’re here to take over #NoMasks #NoViolence #WWG1WGA #Qanon #MAGA #WeThePeople #WhoIsQ #WeAreQ…\n"
     ]
    },
    {
     "name": "stderr",
     "output_type": "stream",
     "text": [
      "Special tokens have been added in the vocabulary, make sure the associated word embedding are fine-tuned or trained.\n"
     ]
    },
    {
     "name": "stdout",
     "output_type": "stream",
     "text": [
      "================================================================================\n",
      "Tweet no.: 108\n",
      "Tweet: RT @Ryan0neal: We’re not here to take part, we’re here to take over #NoMasks #NoViolence #WWG1WGA #Qanon #MAGA #WeThePeople #WhoIsQ #WeAreQ…\n"
     ]
    },
    {
     "name": "stderr",
     "output_type": "stream",
     "text": [
      "Special tokens have been added in the vocabulary, make sure the associated word embedding are fine-tuned or trained.\n"
     ]
    },
    {
     "name": "stdout",
     "output_type": "stream",
     "text": [
      "================================================================================\n",
      "Tweet no.: 109\n",
      "Tweet: RT @Ryan0neal: We’re not here to take part, we’re here to take over #NoMasks #NoViolence #WWG1WGA #Qanon #MAGA #WeThePeople #WhoIsQ #WeAreQ…\n"
     ]
    },
    {
     "name": "stderr",
     "output_type": "stream",
     "text": [
      "Special tokens have been added in the vocabulary, make sure the associated word embedding are fine-tuned or trained.\n"
     ]
    },
    {
     "name": "stdout",
     "output_type": "stream",
     "text": [
      "================================================================================\n",
      "Tweet no.: 110\n",
      "Tweet: @LucyTrumplican @gatewaypundit Question? Quickest way to shut down Congress? Pelosi in this pic.... #nomask #DCaintSF\n"
     ]
    },
    {
     "name": "stderr",
     "output_type": "stream",
     "text": [
      "Special tokens have been added in the vocabulary, make sure the associated word embedding are fine-tuned or trained.\n"
     ]
    },
    {
     "name": "stdout",
     "output_type": "stream",
     "text": [
      "================================================================================\n",
      "Tweet no.: 111\n",
      "Tweet: RT @Ryan0neal: We’re not here to take part, we’re here to take over #NoMasks #NoViolence #WWG1WGA #Qanon #MAGA #WeThePeople #WhoIsQ #WeAreQ…\n"
     ]
    },
    {
     "name": "stderr",
     "output_type": "stream",
     "text": [
      "Special tokens have been added in the vocabulary, make sure the associated word embedding are fine-tuned or trained.\n"
     ]
    },
    {
     "name": "stdout",
     "output_type": "stream",
     "text": [
      "================================================================================\n",
      "Tweet no.: 112\n",
      "Tweet: RT @Ryan0neal: We’re not here to take part, we’re here to take over #NoMasks #NoViolence #WWG1WGA #Qanon #MAGA #WeThePeople #WhoIsQ #WeAreQ…\n"
     ]
    },
    {
     "name": "stderr",
     "output_type": "stream",
     "text": [
      "Special tokens have been added in the vocabulary, make sure the associated word embedding are fine-tuned or trained.\n"
     ]
    },
    {
     "name": "stdout",
     "output_type": "stream",
     "text": [
      "================================================================================\n",
      "Tweet no.: 113\n",
      "Tweet: RT @Ryan0neal: We’re not here to take part, we’re here to take over #NoMasks #NoViolence #WWG1WGA #Qanon #MAGA #WeThePeople #WhoIsQ #WeAreQ…\n"
     ]
    },
    {
     "name": "stderr",
     "output_type": "stream",
     "text": [
      "Special tokens have been added in the vocabulary, make sure the associated word embedding are fine-tuned or trained.\n"
     ]
    },
    {
     "name": "stdout",
     "output_type": "stream",
     "text": [
      "================================================================================\n",
      "Tweet no.: 114\n",
      "Tweet: RT @Ryan0neal: We’re not here to take part, we’re here to take over #NoMasks #NoViolence #WWG1WGA #Qanon #MAGA #WeThePeople #WhoIsQ #WeAreQ…\n"
     ]
    },
    {
     "name": "stderr",
     "output_type": "stream",
     "text": [
      "Special tokens have been added in the vocabulary, make sure the associated word embedding are fine-tuned or trained.\n"
     ]
    },
    {
     "name": "stdout",
     "output_type": "stream",
     "text": [
      "================================================================================\n",
      "Tweet no.: 115\n",
      "Tweet: 9 out of 10 family room shots during #NFLDraft brought to you courtesy of @RentACenter #NoMasks #COVID19\n"
     ]
    },
    {
     "name": "stderr",
     "output_type": "stream",
     "text": [
      "Special tokens have been added in the vocabulary, make sure the associated word embedding are fine-tuned or trained.\n"
     ]
    },
    {
     "name": "stdout",
     "output_type": "stream",
     "text": [
      "================================================================================\n",
      "Tweet no.: 116\n",
      "Tweet: RT @Ryan0neal: We’re not here to take part, we’re here to take over #NoMasks #NoViolence #WWG1WGA #Qanon #MAGA #WeThePeople #WhoIsQ #WeAreQ…\n"
     ]
    },
    {
     "name": "stderr",
     "output_type": "stream",
     "text": [
      "Special tokens have been added in the vocabulary, make sure the associated word embedding are fine-tuned or trained.\n"
     ]
    },
    {
     "name": "stdout",
     "output_type": "stream",
     "text": [
      "================================================================================\n",
      "Tweet no.: 117\n",
      "Tweet: @Hickenlooper I'm of the opinion of power to the people, and sic semper tyranis Mr Hickenlooper. You couldn't buy your way into office (again).\n",
      "#nomasks\n"
     ]
    },
    {
     "name": "stderr",
     "output_type": "stream",
     "text": [
      "Special tokens have been added in the vocabulary, make sure the associated word embedding are fine-tuned or trained.\n"
     ]
    },
    {
     "name": "stdout",
     "output_type": "stream",
     "text": [
      "================================================================================\n",
      "Tweet no.: 118\n",
      "Tweet: RT @julie_kelly2: Yessss Jim Jordan! #NoMasks https://t.co/ckT0QE7Uh5\n"
     ]
    },
    {
     "name": "stderr",
     "output_type": "stream",
     "text": [
      "Special tokens have been added in the vocabulary, make sure the associated word embedding are fine-tuned or trained.\n"
     ]
    },
    {
     "name": "stdout",
     "output_type": "stream",
     "text": [
      "================================================================================\n",
      "Tweet no.: 119\n",
      "Tweet: @Shannon70798106 @sandyaschneider Then go and patronize a business that isn’t run by subservient idiots. There are plenty of them. #IwillNOTComply #WeAreBeingPlayed #NoMask #TheVirusIsAHoax\n"
     ]
    },
    {
     "name": "stderr",
     "output_type": "stream",
     "text": [
      "Special tokens have been added in the vocabulary, make sure the associated word embedding are fine-tuned or trained.\n"
     ]
    },
    {
     "name": "stdout",
     "output_type": "stream",
     "text": [
      "================================================================================\n",
      "Tweet no.: 120\n",
      "Tweet: So is Nasrec a covid-19 free zone? 🧐 #LockdownSA #NoMasks #noSocialDistancing #why\n"
     ]
    },
    {
     "name": "stderr",
     "output_type": "stream",
     "text": [
      "Special tokens have been added in the vocabulary, make sure the associated word embedding are fine-tuned or trained.\n"
     ]
    },
    {
     "name": "stdout",
     "output_type": "stream",
     "text": [
      "================================================================================\n",
      "Tweet no.: 121\n",
      "Tweet: Greets &amp; #BlessedBeFriday #Globalvibetribe! Today is a #beautiful &amp; #lovely day &amp; #LOVE is in the air! You have established your #QuarantineRoutine &amp; even the once mundane things have meaning. Today I give U permission 2 #kiss ur #spouses &amp; #mates w/#nomasks! *chuckles* ~Sage✨ https://t.co/51R2fYrRX7\n"
     ]
    },
    {
     "name": "stderr",
     "output_type": "stream",
     "text": [
      "Special tokens have been added in the vocabulary, make sure the associated word embedding are fine-tuned or trained.\n"
     ]
    },
    {
     "name": "stdout",
     "output_type": "stream",
     "text": [
      "================================================================================\n",
      "Tweet no.: 122\n",
      "Tweet: \"“We are not Cincinnati! We are not Columbus! They have to understand that. We are responsible people who are trained in this and we’ve thought long and hard about this. We think we can handle this.”\" @GovMikeDeWine #NoMasks\n",
      "https://t.co/1QfzHYsaum\n"
     ]
    },
    {
     "name": "stderr",
     "output_type": "stream",
     "text": [
      "Special tokens have been added in the vocabulary, make sure the associated word embedding are fine-tuned or trained.\n"
     ]
    },
    {
     "name": "stdout",
     "output_type": "stream",
     "text": [
      "================================================================================\n",
      "Tweet no.: 123\n",
      "Tweet: RT @Ryan0neal: We’re not here to take part, we’re here to take over #NoMasks #NoViolence #WWG1WGA #Qanon #MAGA #WeThePeople #WhoIsQ #WeAreQ…\n"
     ]
    },
    {
     "name": "stderr",
     "output_type": "stream",
     "text": [
      "Special tokens have been added in the vocabulary, make sure the associated word embedding are fine-tuned or trained.\n"
     ]
    },
    {
     "name": "stdout",
     "output_type": "stream",
     "text": [
      "================================================================================\n",
      "Tweet no.: 124\n",
      "Tweet: @MichiganHHS A review of six clinical studies, published in the Canadian Medical Association Journal, found that medical workers caught viruses from their patients just as often when they used N95 respirators as when they used ordinary medical masks https://t.co/RdcY1S1I5M #NOMasks \n",
      "#COVID19\n"
     ]
    },
    {
     "name": "stderr",
     "output_type": "stream",
     "text": [
      "Special tokens have been added in the vocabulary, make sure the associated word embedding are fine-tuned or trained.\n"
     ]
    },
    {
     "name": "stdout",
     "output_type": "stream",
     "text": [
      "================================================================================\n",
      "Tweet no.: 125\n",
      "Tweet: @SpeakerPelosi @SenSchumer @dougducey Tomorrow I am going to Work!!! You are not restricting my Freedom or Rights anymore.  Don’t like it to bad!!! I Don’t Work For You!! You Work For Me Get It!!! #NoMask\n"
     ]
    },
    {
     "name": "stderr",
     "output_type": "stream",
     "text": [
      "Special tokens have been added in the vocabulary, make sure the associated word embedding are fine-tuned or trained.\n"
     ]
    },
    {
     "name": "stdout",
     "output_type": "stream",
     "text": [
      "================================================================================\n",
      "Tweet no.: 126\n",
      "Tweet: @GoldenTalon77 The #coronamoaners should #choosedeath\n",
      "Too many cretins in this world\n",
      "#nomask\n",
      "#Covid_19 https://t.co/mVjrz1Lriu\n"
     ]
    },
    {
     "name": "stderr",
     "output_type": "stream",
     "text": [
      "Special tokens have been added in the vocabulary, make sure the associated word embedding are fine-tuned or trained.\n"
     ]
    },
    {
     "name": "stdout",
     "output_type": "stream",
     "text": [
      "================================================================================\n",
      "Tweet no.: 127\n",
      "Tweet: “If this guy can stay healthy he’s going to be a force in the league.” -NFL DRAFT ANNOUNCER\n",
      "\n",
      "Draft pick surrounded by 39 people crowded into a tiny living room. #covid19 #nfldraft #socialdistancing #nomasks\n"
     ]
    },
    {
     "name": "stderr",
     "output_type": "stream",
     "text": [
      "Special tokens have been added in the vocabulary, make sure the associated word embedding are fine-tuned or trained.\n"
     ]
    },
    {
     "name": "stdout",
     "output_type": "stream",
     "text": [
      "================================================================================\n",
      "Tweet no.: 128\n",
      "Tweet: @UPS #UPS WARNING! DO NOT ENGAGE WITH YOUR UPS DRIVER OR THEY WILL CALL YOU AGGRESSIVE AND BLOCK YOU AKA YOU CANNOT GET DELIVERIES TO YOUR HOMEDO NOT LET THIS HAPPEN TO YOU IS IT ME OR DOES THIS DRIVE HAVE #ATTITUDE #SPREADTHEWORD #NOMASK #NOGLOVES #BADCUSTOMERSERVICE #DELIVERY https://t.co/fjeeDH3ELt\n"
     ]
    },
    {
     "name": "stderr",
     "output_type": "stream",
     "text": [
      "Special tokens have been added in the vocabulary, make sure the associated word embedding are fine-tuned or trained.\n"
     ]
    },
    {
     "name": "stdout",
     "output_type": "stream",
     "text": [
      "================================================================================\n",
      "Tweet no.: 129\n",
      "Tweet: Peaceful assembly of American Patriots TODAY at the Ohio Statehouse in Columbus @ 1PM.  #iwillnotcomply #NoMasks\n"
     ]
    },
    {
     "name": "stderr",
     "output_type": "stream",
     "text": [
      "Special tokens have been added in the vocabulary, make sure the associated word embedding are fine-tuned or trained.\n"
     ]
    },
    {
     "name": "stdout",
     "output_type": "stream",
     "text": [
      "================================================================================\n",
      "Tweet no.: 130\n",
      "Tweet: Don't know if this is driven by greed or by need. All I know is that this behavior is exactly why the virus has been bringing ppl down. Bit by bit. Area by area. #NoSocialDistancing #nomask #COVID2019india #Thane @ThaneCityPolice @ImThanekar\n"
     ]
    },
    {
     "name": "stderr",
     "output_type": "stream",
     "text": [
      "Special tokens have been added in the vocabulary, make sure the associated word embedding are fine-tuned or trained.\n"
     ]
    },
    {
     "name": "stdout",
     "output_type": "stream",
     "text": [
      "================================================================================\n",
      "Tweet no.: 131\n",
      "Tweet: Could @EdEmmett run for office again to get this idiocratic know nothing @LinaHidalgoTX out? Asking for a friend. #GodBless #nomask #lockdown #OPENAMERICANOW https://t.co/amXDjCKoM3\n"
     ]
    },
    {
     "name": "stderr",
     "output_type": "stream",
     "text": [
      "Special tokens have been added in the vocabulary, make sure the associated word embedding are fine-tuned or trained.\n"
     ]
    },
    {
     "name": "stdout",
     "output_type": "stream",
     "text": [
      "================================================================================\n",
      "Tweet no.: 132\n",
      "Tweet: We need an anti mask movement #NoMask\n"
     ]
    },
    {
     "name": "stderr",
     "output_type": "stream",
     "text": [
      "Special tokens have been added in the vocabulary, make sure the associated word embedding are fine-tuned or trained.\n"
     ]
    },
    {
     "name": "stdout",
     "output_type": "stream",
     "text": [
      "================================================================================\n",
      "Tweet no.: 133\n",
      "Tweet: #NoMasks go lay in the 🌞 https://t.co/uT9rMMm3nj\n"
     ]
    },
    {
     "name": "stderr",
     "output_type": "stream",
     "text": [
      "Special tokens have been added in the vocabulary, make sure the associated word embedding are fine-tuned or trained.\n"
     ]
    },
    {
     "name": "stdout",
     "output_type": "stream",
     "text": [
      "================================================================================\n",
      "Tweet no.: 134\n",
      "Tweet: RT @LavenderLives: #NoMasks go lay in the 🌞\n"
     ]
    },
    {
     "name": "stderr",
     "output_type": "stream",
     "text": [
      "Special tokens have been added in the vocabulary, make sure the associated word embedding are fine-tuned or trained.\n"
     ]
    },
    {
     "name": "stdout",
     "output_type": "stream",
     "text": [
      "================================================================================\n",
      "Tweet no.: 135\n",
      "Tweet: RT @lightonearth111: We need an anti mask movement #NoMask\n"
     ]
    },
    {
     "name": "stderr",
     "output_type": "stream",
     "text": [
      "Special tokens have been added in the vocabulary, make sure the associated word embedding are fine-tuned or trained.\n"
     ]
    },
    {
     "name": "stdout",
     "output_type": "stream",
     "text": [
      "================================================================================\n",
      "Tweet no.: 136\n",
      "Tweet: @mitchellvii Top down in AZ! #nomasks #nononsense #OpenArizona https://t.co/c1IgIgV8RZ\n"
     ]
    },
    {
     "name": "stderr",
     "output_type": "stream",
     "text": [
      "Special tokens have been added in the vocabulary, make sure the associated word embedding are fine-tuned or trained.\n"
     ]
    },
    {
     "name": "stdout",
     "output_type": "stream",
     "text": [
      "================================================================================\n",
      "Tweet no.: 137\n",
      "Tweet: @HPoindexter3 @1776Stonewall If you are wearing your mask you are protected. So my mask is useless. \n",
      "My body my choice, right liberals?\n",
      "#NoMasks\n"
     ]
    },
    {
     "name": "stderr",
     "output_type": "stream",
     "text": [
      "Special tokens have been added in the vocabulary, make sure the associated word embedding are fine-tuned or trained.\n"
     ]
    },
    {
     "name": "stdout",
     "output_type": "stream",
     "text": [
      "================================================================================\n",
      "Tweet no.: 138\n",
      "Tweet: During this crazy time we are living in, let's add a little bit of silliness to it! \n",
      "\n",
      "https://t.co/kXLD2XF9HT\n",
      "\n",
      "#Covid19, #coronavirus, #nomasks, #maskshortage, #wehavetowearmasks https://t.co/EQqwb7EVMq\n"
     ]
    },
    {
     "name": "stderr",
     "output_type": "stream",
     "text": [
      "Special tokens have been added in the vocabulary, make sure the associated word embedding are fine-tuned or trained.\n"
     ]
    },
    {
     "name": "stdout",
     "output_type": "stream",
     "text": [
      "================================================================================\n",
      "Tweet no.: 139\n",
      "Tweet: @Maggie_Vespa Clackamette Park today. This is NOT how we beat #COVID19 Look carefully, #NoMasks even. https://t.co/ZcMI8djyxY\n"
     ]
    },
    {
     "name": "stderr",
     "output_type": "stream",
     "text": [
      "Special tokens have been added in the vocabulary, make sure the associated word embedding are fine-tuned or trained.\n"
     ]
    },
    {
     "name": "stdout",
     "output_type": "stream",
     "text": [
      "================================================================================\n",
      "Tweet no.: 140\n",
      "Tweet: @MamataOfficial Respected Didi 🙏\n",
      "Sealdah Koley Market is #NoLockdown, #NoMask #NoSocialDistancing and full #Crowd 24hr open this market plz CM Madam Lock Koley Market #SaveSealdah peoples 🙏\n"
     ]
    },
    {
     "name": "stderr",
     "output_type": "stream",
     "text": [
      "Special tokens have been added in the vocabulary, make sure the associated word embedding are fine-tuned or trained.\n"
     ]
    },
    {
     "name": "stdout",
     "output_type": "stream",
     "text": [
      "================================================================================\n",
      "Tweet no.: 141\n",
      "Tweet: As far as I am concerned (unless you are in a doctor’s office of some kind or a hospital) just wearing a mask in “general” OR because it was mandated is a pure symbol of FEAR and don’t think for one second the far left doesn’t know it! #NoMasks\n"
     ]
    },
    {
     "name": "stderr",
     "output_type": "stream",
     "text": [
      "Special tokens have been added in the vocabulary, make sure the associated word embedding are fine-tuned or trained.\n"
     ]
    },
    {
     "name": "stdout",
     "output_type": "stream",
     "text": [
      "================================================================================\n",
      "Tweet no.: 142\n",
      "Tweet: 🤣#NoMask for my family!  We prefer fresh oxygen and not breathing in out own carbon dioxide! https://t.co/BJy4rk4fmQ\n"
     ]
    },
    {
     "name": "stderr",
     "output_type": "stream",
     "text": [
      "Special tokens have been added in the vocabulary, make sure the associated word embedding are fine-tuned or trained.\n"
     ]
    },
    {
     "name": "stdout",
     "output_type": "stream",
     "text": [
      "================================================================================\n",
      "Tweet no.: 143\n",
      "Tweet: @GovMikeDeWine MY BODY. MY CHOICE. #noMask\n",
      "\n",
      "This is a personal health right violation. Some of us understand how real immunity works. ALL of us have the right to live free and make our own health decisions. PLEASE LOOK AT THE STUDIES. \n",
      "\n",
      "I.WILL.NOT.WEAR.A.MASK\n",
      "#freespeech\n",
      "#myBodyMyChoice\n"
     ]
    },
    {
     "name": "stderr",
     "output_type": "stream",
     "text": [
      "Special tokens have been added in the vocabulary, make sure the associated word embedding are fine-tuned or trained.\n"
     ]
    },
    {
     "name": "stdout",
     "output_type": "stream",
     "text": [
      "================================================================================\n",
      "Tweet no.: 144\n",
      "Tweet: @alliemarie777 @GovMikeDeWine I’m requesting to my hairdresser that her chair be put outside in the sun 🌞 and we’ll all be safe!  #NoMask\n"
     ]
    },
    {
     "name": "stderr",
     "output_type": "stream",
     "text": [
      "Special tokens have been added in the vocabulary, make sure the associated word embedding are fine-tuned or trained.\n"
     ]
    },
    {
     "name": "stdout",
     "output_type": "stream",
     "text": [
      "================================================================================\n",
      "Tweet no.: 145\n",
      "Tweet: @GovMikeDeWine NO MASKS!! It should be our choice, you better enjoy your 4 years because you won't have another term. Been a lifelong republican but will not vote for you again!!!! #NoMasks #recallgovenordewine\n"
     ]
    },
    {
     "name": "stderr",
     "output_type": "stream",
     "text": [
      "Special tokens have been added in the vocabulary, make sure the associated word embedding are fine-tuned or trained.\n"
     ]
    },
    {
     "name": "stdout",
     "output_type": "stream",
     "text": [
      "================================================================================\n",
      "Tweet no.: 146\n",
      "Tweet: masks: \n",
      "1 unhygenic\n",
      "2. can suffer from CO2 poisoning\n",
      "https://t.co/udAoQoVdmk\n",
      "3. you need to change them requently\n",
      "4. masks prevent immune system respondingto changes\n",
      "5. youd have to wear them for ever\n",
      "#NoMasks \n",
      "#COVID19 https://t.co/S9nIKxzTTR\n"
     ]
    },
    {
     "name": "stderr",
     "output_type": "stream",
     "text": [
      "Special tokens have been added in the vocabulary, make sure the associated word embedding are fine-tuned or trained.\n"
     ]
    },
    {
     "name": "stdout",
     "output_type": "stream",
     "text": [
      "================================================================================\n",
      "Tweet no.: 147\n",
      "Tweet: The No Mask No Service is Bullshit! Main reason they want you wearing masks, is to appears there is a pandemic. I am hard of hearing I read lips, now what, no understanding one another, no smiling at each other, no communication, no connection! #nomask #NoMasks  #NoMaskNoMuzzle\n"
     ]
    },
    {
     "name": "stderr",
     "output_type": "stream",
     "text": [
      "Special tokens have been added in the vocabulary, make sure the associated word embedding are fine-tuned or trained.\n"
     ]
    },
    {
     "name": "stdout",
     "output_type": "stream",
     "text": [
      "================================================================================\n",
      "Tweet no.: 148\n",
      "Tweet: #NoMask as a woman I will not be subjected to radical ways to shut us up . This whole thing is BS if you want to wear a mask wear if you don’t don’t. I’m not a Muslim no one will stop us.\n"
     ]
    },
    {
     "name": "stderr",
     "output_type": "stream",
     "text": [
      "Special tokens have been added in the vocabulary, make sure the associated word embedding are fine-tuned or trained.\n"
     ]
    },
    {
     "name": "stdout",
     "output_type": "stream",
     "text": [
      "================================================================================\n",
      "Tweet no.: 149\n",
      "Tweet: @ChuckCallesto Not even if h3ll were to freeze over 🤨\n",
      "\n",
      "#NoMasks \n",
      "#NoStayAtHome either\n"
     ]
    },
    {
     "name": "stderr",
     "output_type": "stream",
     "text": [
      "Special tokens have been added in the vocabulary, make sure the associated word embedding are fine-tuned or trained.\n"
     ]
    },
    {
     "name": "stdout",
     "output_type": "stream",
     "text": [
      "================================================================================\n",
      "Tweet no.: 150\n",
      "Tweet: @LegendaryEnergy @KurtSchlichter He ain't on our side bruh. This shit will go on as long as we comply. I am not complying. #nomask #noshot #notest\n"
     ]
    },
    {
     "name": "stderr",
     "output_type": "stream",
     "text": [
      "Special tokens have been added in the vocabulary, make sure the associated word embedding are fine-tuned or trained.\n"
     ]
    },
    {
     "name": "stdout",
     "output_type": "stream",
     "text": [
      "================================================================================\n",
      "Tweet no.: 151\n",
      "Tweet: My body my choice #NoMasks \n",
      "My life Virus' choice #nomask\n"
     ]
    },
    {
     "name": "stderr",
     "output_type": "stream",
     "text": [
      "Special tokens have been added in the vocabulary, make sure the associated word embedding are fine-tuned or trained.\n"
     ]
    },
    {
     "name": "stdout",
     "output_type": "stream",
     "text": [
      "================================================================================\n",
      "Tweet no.: 152\n",
      "Tweet: While @canarabank is preaching social distancing, this is how your employee at Ashok Vihar Branch, Deep Market New Delhi, managing entry/exit of people. #nomask #worlddayforsafetyandhealthatwork #SocialDistancing . You are putting many lives in danger and at the same time ....... https://t.co/pSQIwmIhpo https://t.co/3uoOew3VzR\n"
     ]
    },
    {
     "name": "stderr",
     "output_type": "stream",
     "text": [
      "Special tokens have been added in the vocabulary, make sure the associated word embedding are fine-tuned or trained.\n"
     ]
    },
    {
     "name": "stdout",
     "output_type": "stream",
     "text": [
      "================================================================================\n",
      "Tweet no.: 153\n",
      "Tweet: @tnewtondunn Masks are bad science. Feels like Nicola Sturgeon and others wanna prolong lockdown by stalling inevitable spread to herd immunity to heap worse economic pain on us to go crawling back to EU! Here's the best explanation I've seen why #NoMasks for #Covid19\n",
      "https://t.co/tN6Ul8Yt3q\n"
     ]
    },
    {
     "name": "stderr",
     "output_type": "stream",
     "text": [
      "Special tokens have been added in the vocabulary, make sure the associated word embedding are fine-tuned or trained.\n"
     ]
    },
    {
     "name": "stdout",
     "output_type": "stream",
     "text": [
      "================================================================================\n",
      "Tweet no.: 154\n",
      "Tweet: Feels good to be able to sit down in a restaurant again. #50percentcapacity #nomask https://t.co/bjpO9dEeSw\n"
     ]
    },
    {
     "name": "stderr",
     "output_type": "stream",
     "text": [
      "Special tokens have been added in the vocabulary, make sure the associated word embedding are fine-tuned or trained.\n"
     ]
    },
    {
     "name": "stdout",
     "output_type": "stream",
     "text": [
      "================================================================================\n",
      "Tweet no.: 155\n",
      "Tweet: Did you see #GOP #Pence touring the #MayoClinic? The only man (of course no women) in the room who doesn't understand #COVID19, hence #nomask. The person leading the pandemic prevention team? #epicfailure #DarwinAwards https://t.co/5jFDCxHkta\n"
     ]
    },
    {
     "name": "stderr",
     "output_type": "stream",
     "text": [
      "Special tokens have been added in the vocabulary, make sure the associated word embedding are fine-tuned or trained.\n"
     ]
    },
    {
     "name": "stdout",
     "output_type": "stream",
     "text": [
      "================================================================================\n",
      "Tweet no.: 156\n",
      "Tweet: We must all fight the draconian measures of trying to force and mandate masks! Cloth masks do not help &amp; wearing masks are not healthy. #nomasks https://t.co/gVWbIA0eZ6\n"
     ]
    },
    {
     "name": "stderr",
     "output_type": "stream",
     "text": [
      "Special tokens have been added in the vocabulary, make sure the associated word embedding are fine-tuned or trained.\n"
     ]
    },
    {
     "name": "stdout",
     "output_type": "stream",
     "text": [
      "================================================================================\n",
      "Tweet no.: 157\n",
      "Tweet: @GovMikeDeWine @DrAmyActon There you go pushing vaccines. Vaccines are Toxic and Dangerous. Vaccine Manufacturers have NO Liability. In addition, Payouts by the national Vaccine Injury Compensation Program, or VICP, have now topped $4 billion.\n",
      "#nomask #NoVaccineForMe\n"
     ]
    },
    {
     "name": "stderr",
     "output_type": "stream",
     "text": [
      "Special tokens have been added in the vocabulary, make sure the associated word embedding are fine-tuned or trained.\n"
     ]
    },
    {
     "name": "stdout",
     "output_type": "stream",
     "text": [
      "================================================================================\n",
      "Tweet no.: 158\n",
      "Tweet: @brianschatz @Mike_Pence HOW FUCKING DARE YOU \n",
      "But shame on @MayoClinic FOR ALLOWING #pence #nomask ENDANGER #patients OMG #penceresign WE Don't listen to you step down from Chairing #TaskForce #replacePencetaskforce OMG\n",
      "#mayoclinic shame on you too #penceknew\n"
     ]
    },
    {
     "name": "stderr",
     "output_type": "stream",
     "text": [
      "Special tokens have been added in the vocabulary, make sure the associated word embedding are fine-tuned or trained.\n"
     ]
    },
    {
     "name": "stdout",
     "output_type": "stream",
     "text": [
      "================================================================================\n",
      "Tweet no.: 159\n",
      "Tweet: This picture just doomed any political chance #Pence has in the future\n",
      "\n",
      "#NoMask\n",
      "#MayoClinic \n",
      "#CoronaVirus https://t.co/LugPG1LlYf\n"
     ]
    },
    {
     "name": "stderr",
     "output_type": "stream",
     "text": [
      "Special tokens have been added in the vocabulary, make sure the associated word embedding are fine-tuned or trained.\n"
     ]
    },
    {
     "name": "stdout",
     "output_type": "stream",
     "text": [
      "================================================================================\n",
      "Tweet no.: 160\n",
      "Tweet: \"The proper function of man is to live, not to exist. I shall not waste my days in trying to prolong them. I shall use my time.\" #JackLondon\n",
      "\n",
      "#LiberateAmerica \n",
      "#NoMask\n",
      "#tuesdayvibes \n",
      "#KAG https://t.co/EBe5EIVbIY\n"
     ]
    },
    {
     "name": "stderr",
     "output_type": "stream",
     "text": [
      "Special tokens have been added in the vocabulary, make sure the associated word embedding are fine-tuned or trained.\n"
     ]
    },
    {
     "name": "stdout",
     "output_type": "stream",
     "text": [
      "================================================================================\n",
      "Tweet no.: 161\n",
      "Tweet: \"As vice president of the United States I'm tested for the coronavirus on a regular basis, and everyone who is around me is tested for the coronavirus,” @VP told reporters.\n",
      "\n",
      "He was TOLD to wear a mask to the facility.\n",
      "\n",
      "#coronavirus\n",
      "#nomask #COVIDIOT\n",
      "\n",
      "https://t.co/dbYtfwpFge\n"
     ]
    },
    {
     "name": "stderr",
     "output_type": "stream",
     "text": [
      "Special tokens have been added in the vocabulary, make sure the associated word embedding are fine-tuned or trained.\n"
     ]
    },
    {
     "name": "stdout",
     "output_type": "stream",
     "text": [
      "================================================================================\n",
      "Tweet no.: 162\n",
      "Tweet: @DisabledResist @VP The gene pool seems adamant on ridding itself of the anti-science instinct. Mr. Pence is cooperating nicely.\n",
      "#Pence #NoMask\n"
     ]
    },
    {
     "name": "stderr",
     "output_type": "stream",
     "text": [
      "Special tokens have been added in the vocabulary, make sure the associated word embedding are fine-tuned or trained.\n"
     ]
    },
    {
     "name": "stdout",
     "output_type": "stream",
     "text": [
      "================================================================================\n",
      "Tweet no.: 163\n",
      "Tweet: #coronavirus \n",
      "#nomask \n",
      "#MayoClinic \n",
      "\n",
      "Is he immune? https://t.co/ZAHNFLSioe\n"
     ]
    },
    {
     "name": "stderr",
     "output_type": "stream",
     "text": [
      "Special tokens have been added in the vocabulary, make sure the associated word embedding are fine-tuned or trained.\n"
     ]
    },
    {
     "name": "stdout",
     "output_type": "stream",
     "text": [
      "================================================================================\n",
      "Tweet no.: 164\n",
      "Tweet: @GovAndyBeshear Open up KENTUCKY. #NoMask #impeachbeshear\n"
     ]
    },
    {
     "name": "stderr",
     "output_type": "stream",
     "text": [
      "Special tokens have been added in the vocabulary, make sure the associated word embedding are fine-tuned or trained.\n"
     ]
    },
    {
     "name": "stdout",
     "output_type": "stream",
     "text": [
      "================================================================================\n",
      "Tweet no.: 165\n",
      "Tweet: \"If your mask obstructs your vision, you are doing it wrong.\" -- Brian Williams reading Mike Pence in @11thHour \n",
      "\n",
      "As Kate McKinnon's RBG would say, \"That's a Gins-burn!\"\n",
      "\n",
      "#BrianWilliams #11thHour #MSNBC #MikePence #nomask #NoMaskPence https://t.co/nmJJFEKDWY\n"
     ]
    },
    {
     "name": "stderr",
     "output_type": "stream",
     "text": [
      "Special tokens have been added in the vocabulary, make sure the associated word embedding are fine-tuned or trained.\n"
     ]
    },
    {
     "name": "stdout",
     "output_type": "stream",
     "text": [
      "================================================================================\n",
      "Tweet no.: 166\n",
      "Tweet: In Philadelphia, police are throwing this man off of a SEPTA bus because he refused to wear a mask.\n",
      "\n",
      "#CoronaCrimes #NoMask \n",
      "\n",
      "https://t.co/CSzmmbfUXB\n"
     ]
    },
    {
     "name": "stderr",
     "output_type": "stream",
     "text": [
      "Special tokens have been added in the vocabulary, make sure the associated word embedding are fine-tuned or trained.\n"
     ]
    },
    {
     "name": "stdout",
     "output_type": "stream",
     "text": [
      "================================================================================\n",
      "Tweet no.: 167\n",
      "Tweet: @mitchellvii Wear a face mask because you might catch #coronavirus? That’s like saying wear a suit of iron because I might get hit by a car tomorrow, or an asteroid may fall from the sky. #NoMask #NoVaccineForMe\n"
     ]
    },
    {
     "name": "stderr",
     "output_type": "stream",
     "text": [
      "Special tokens have been added in the vocabulary, make sure the associated word embedding are fine-tuned or trained.\n"
     ]
    },
    {
     "name": "stdout",
     "output_type": "stream",
     "text": [
      "================================================================================\n",
      "Tweet no.: 168\n",
      "Tweet: @GovHerbert @UtahGov Stay closed. We have no true idea what our infection rate us?!? Once understood, open accordingly !! Please understand the impact!!! @realDonaldTrump @vp #nomasks https://t.co/R7E0d99oUY\n"
     ]
    },
    {
     "name": "stderr",
     "output_type": "stream",
     "text": [
      "Special tokens have been added in the vocabulary, make sure the associated word embedding are fine-tuned or trained.\n"
     ]
    },
    {
     "name": "stdout",
     "output_type": "stream",
     "text": [
      "================================================================================\n",
      "Tweet no.: 169\n",
      "Tweet: RT @Ryan0neal: We’re not here to take part, we’re here to take over #NoMasks #NoViolence #WWG1WGA #Qanon #MAGA #WeThePeople #WhoIsQ #WeAreQ…\n"
     ]
    },
    {
     "name": "stderr",
     "output_type": "stream",
     "text": [
      "Special tokens have been added in the vocabulary, make sure the associated word embedding are fine-tuned or trained.\n"
     ]
    },
    {
     "name": "stdout",
     "output_type": "stream",
     "text": [
      "================================================================================\n",
      "Tweet no.: 170\n",
      "Tweet: @GovMikeDeWine Where is the Spirit Week Event on Facebook, looks like it has been deleted. Bummer, lol, it was nice reading everyone's comments, I have to say I agreed with most of them. You are a small business killer. #nomask #nomasks #nomasksnomuzzle\n"
     ]
    },
    {
     "name": "stderr",
     "output_type": "stream",
     "text": [
      "Special tokens have been added in the vocabulary, make sure the associated word embedding are fine-tuned or trained.\n"
     ]
    },
    {
     "name": "stdout",
     "output_type": "stream",
     "text": [
      "================================================================================\n",
      "Tweet no.: 171\n",
      "Tweet: #WednesdayWisdom\n",
      "\n",
      "If politicians and 'experts' were able to force the unemployment of 26 million #Americans and order over 1 million businesses to close without firing a single shot just imagine what else they can take away.\n",
      "\n",
      "#LiberateAmerica\n",
      "#NoMask\n",
      "#KAG2020 \n",
      "#ReopenAmerica https://t.co/MjYHqpFNT5\n"
     ]
    },
    {
     "name": "stderr",
     "output_type": "stream",
     "text": [
      "Special tokens have been added in the vocabulary, make sure the associated word embedding are fine-tuned or trained.\n"
     ]
    },
    {
     "name": "stdout",
     "output_type": "stream",
     "text": [
      "================================================================================\n",
      "Tweet no.: 172\n",
      "Tweet: Costco, Costco....\n",
      "You dumb fucking cunts!!!!!!!!!!!!!!\n",
      "\n",
      "#DoNotComply\n",
      "#NoMask https://t.co/EwLldnz1RV\n"
     ]
    },
    {
     "name": "stderr",
     "output_type": "stream",
     "text": [
      "Special tokens have been added in the vocabulary, make sure the associated word embedding are fine-tuned or trained.\n"
     ]
    },
    {
     "name": "stdout",
     "output_type": "stream",
     "text": [
      "================================================================================\n",
      "Tweet no.: 173\n",
      "Tweet: @donaldsangel Well, I'll shop elsewhere then.\n",
      "\n",
      "What bullsh*t. Let's see how their sales take a hit. \n",
      "\n",
      "#NoTest\n",
      "#NoMask\n",
      "#NoTracking\n",
      "#ArmyForTrump\n"
     ]
    },
    {
     "name": "stderr",
     "output_type": "stream",
     "text": [
      "Special tokens have been added in the vocabulary, make sure the associated word embedding are fine-tuned or trained.\n"
     ]
    },
    {
     "name": "stdout",
     "output_type": "stream",
     "text": [
      "================================================================================\n",
      "Tweet no.: 174\n",
      "Tweet: A friend posted this to Facebook last night. #NoMasks https://t.co/B0j1tDPg0Q\n"
     ]
    },
    {
     "name": "stderr",
     "output_type": "stream",
     "text": [
      "Special tokens have been added in the vocabulary, make sure the associated word embedding are fine-tuned or trained.\n"
     ]
    },
    {
     "name": "stdout",
     "output_type": "stream",
     "text": [
      "================================================================================\n",
      "Tweet no.: 175\n",
      "Tweet: Won’t be visiting Costco.  Will take my $500 grocery bill somewhere else. Are they going to discriminate against those with breathing problems and ask they wear a mask? #Costco #nomask\n"
     ]
    },
    {
     "name": "stderr",
     "output_type": "stream",
     "text": [
      "Special tokens have been added in the vocabulary, make sure the associated word embedding are fine-tuned or trained.\n"
     ]
    },
    {
     "name": "stdout",
     "output_type": "stream",
     "text": [
      "================================================================================\n",
      "Tweet no.: 176\n",
      "Tweet: @Costco I need to know how to get a full membership refund, if you're going to require me to wear a mask in your stores? #CancelCostco #NoMasks #FearIsNotOurGuide\n"
     ]
    },
    {
     "name": "stderr",
     "output_type": "stream",
     "text": [
      "Special tokens have been added in the vocabulary, make sure the associated word embedding are fine-tuned or trained.\n"
     ]
    },
    {
     "name": "stdout",
     "output_type": "stream",
     "text": [
      "================================================================================\n",
      "Tweet no.: 177\n",
      "Tweet: Well Austin, here’s what we’re in for - this was an hour ago on Airport #nodistancing #nomasks #groupgatherings #nocommonsense  @KXAN_News https://t.co/9dUCl44mOc\n"
     ]
    },
    {
     "name": "stderr",
     "output_type": "stream",
     "text": [
      "Special tokens have been added in the vocabulary, make sure the associated word embedding are fine-tuned or trained.\n"
     ]
    },
    {
     "name": "stdout",
     "output_type": "stream",
     "text": [
      "================================================================================\n",
      "Tweet no.: 178\n",
      "Tweet: @GovMikeDeWine @DrAmyActon No mask. I have been “essential” this entire time. And I NEVER WORE A MASK. I won’t wear one now! If my employer fires me, expect some backlash from my attorney! This is absolutely ridiculous. #WHEREAREOURRIGHTS #NOMASK #WENEEDGERMS #LETUSHAVEIMMUNESYSTEMS https://t.co/QzHZA0271v\n"
     ]
    },
    {
     "name": "stderr",
     "output_type": "stream",
     "text": [
      "Special tokens have been added in the vocabulary, make sure the associated word embedding are fine-tuned or trained.\n"
     ]
    },
    {
     "name": "stdout",
     "output_type": "stream",
     "text": [
      "================================================================================\n",
      "Tweet no.: 179\n",
      "Tweet: Doctor Exposes COVID19 Mask Requirement as FLAWED and DANGEROUS https://t.co/jS61N4E0XV #NoMasks\n"
     ]
    },
    {
     "name": "stderr",
     "output_type": "stream",
     "text": [
      "Special tokens have been added in the vocabulary, make sure the associated word embedding are fine-tuned or trained.\n"
     ]
    },
    {
     "name": "stdout",
     "output_type": "stream",
     "text": [
      "================================================================================\n",
      "Tweet no.: 180\n",
      "Tweet: Look at what my Ring Video Doorbell captured: https://t.co/sWPcoVT26D via @ring @Lowes  Arrogant, condescending prick talking to mom disrespectfully after he broke a main water pipe in my yard. #nomask #covid19\n"
     ]
    },
    {
     "name": "stderr",
     "output_type": "stream",
     "text": [
      "Special tokens have been added in the vocabulary, make sure the associated word embedding are fine-tuned or trained.\n"
     ]
    },
    {
     "name": "stdout",
     "output_type": "stream",
     "text": [
      "================================================================================\n",
      "Tweet no.: 181\n",
      "Tweet: I hope you get sick soon if you a #NoMask type of person. 😆\n"
     ]
    },
    {
     "name": "stderr",
     "output_type": "stream",
     "text": [
      "Special tokens have been added in the vocabulary, make sure the associated word embedding are fine-tuned or trained.\n"
     ]
    },
    {
     "name": "stdout",
     "output_type": "stream",
     "text": [
      "================================================================================\n",
      "Tweet no.: 182\n",
      "Tweet: Seems dictators @NYGovCuomo @GovMurphy haven’t read the #science Cloth masks protect no one and increase infection - no masks had less rate of infection - #Nomasks https://t.co/uDOLCsDwrm\n"
     ]
    },
    {
     "name": "stderr",
     "output_type": "stream",
     "text": [
      "Special tokens have been added in the vocabulary, make sure the associated word embedding are fine-tuned or trained.\n"
     ]
    },
    {
     "name": "stdout",
     "output_type": "stream",
     "text": [
      "================================================================================\n",
      "Tweet no.: 183\n",
      "Tweet: The latest The False Flag Daily! https://t.co/W8H8BSWSiQ Thanks to @JQfor @Praying_Servant @AricToler #nomasks #covid19\n"
     ]
    },
    {
     "name": "stderr",
     "output_type": "stream",
     "text": [
      "Special tokens have been added in the vocabulary, make sure the associated word embedding are fine-tuned or trained.\n"
     ]
    },
    {
     "name": "stdout",
     "output_type": "stream",
     "text": [
      "================================================================================\n",
      "Tweet no.: 184\n",
      "Tweet: Is it time for Ohioans to do the same? #OpenOhioNow #NoMasks https://t.co/PAzl39uta5\n"
     ]
    },
    {
     "name": "stderr",
     "output_type": "stream",
     "text": [
      "Special tokens have been added in the vocabulary, make sure the associated word embedding are fine-tuned or trained.\n"
     ]
    },
    {
     "name": "stdout",
     "output_type": "stream",
     "text": [
      "================================================================================\n",
      "Tweet no.: 185\n",
      "Tweet: @JoeBiden If you're suggesting a mask, then I know the truth to be opposite!!\n",
      "#NoMasks\n"
     ]
    },
    {
     "name": "stderr",
     "output_type": "stream",
     "text": [
      "Special tokens have been added in the vocabulary, make sure the associated word embedding are fine-tuned or trained.\n"
     ]
    },
    {
     "name": "stdout",
     "output_type": "stream",
     "text": [
      "================================================================================\n",
      "Tweet no.: 186\n",
      "Tweet: ...and #OpenOhio for the rest of us.\n",
      "#NoVaccine \n",
      "#NoMasks\n",
      "No trampling of our rights. There needs to be law suites stacking up against @GovMikeDeWine @DrAmyActon &amp; @OHdeptofhealth. They need to investigated and audited to see if they are lying.\n"
     ]
    },
    {
     "name": "stderr",
     "output_type": "stream",
     "text": [
      "Special tokens have been added in the vocabulary, make sure the associated word embedding are fine-tuned or trained.\n"
     ]
    },
    {
     "name": "stdout",
     "output_type": "stream",
     "text": [
      "================================================================================\n",
      "Tweet no.: 187\n",
      "Tweet: @elonmusk Quarantines are for the sick, not healthy...&amp; if I can be forced to cover my face, then Islam/Muslims can be forced not too.\n",
      "#hypocrisy \n",
      "#NoMasks \n",
      "#OPENAMERICANOW \n",
      "#Trump2020 🇺🇸\n"
     ]
    },
    {
     "name": "stderr",
     "output_type": "stream",
     "text": [
      "Special tokens have been added in the vocabulary, make sure the associated word embedding are fine-tuned or trained.\n"
     ]
    },
    {
     "name": "stdout",
     "output_type": "stream",
     "text": [
      "================================================================================\n",
      "Tweet no.: 188\n",
      "Tweet: @mikejwhelan Hell! He wouldn’t go within 5 miles of a meat packing plant! Coward!#NoMasks #nutjob #drankthekoolaid\n"
     ]
    },
    {
     "name": "stderr",
     "output_type": "stream",
     "text": [
      "Special tokens have been added in the vocabulary, make sure the associated word embedding are fine-tuned or trained.\n"
     ]
    },
    {
     "name": "stdout",
     "output_type": "stream",
     "text": [
      "================================================================================\n",
      "Tweet no.: 189\n",
      "Tweet: #NoMASK I’m not a Muslim https://t.co/aTG3oSmfNT\n"
     ]
    },
    {
     "name": "stderr",
     "output_type": "stream",
     "text": [
      "Special tokens have been added in the vocabulary, make sure the associated word embedding are fine-tuned or trained.\n"
     ]
    },
    {
     "name": "stdout",
     "output_type": "stream",
     "text": [
      "================================================================================\n",
      "Tweet no.: 190\n",
      "Tweet: @BillMcCombs3 @sherry25793049 Government is NOT our parent!!!\n",
      "#OpenAmerica\n",
      "\n",
      "If folks feel unsafe, #StayHome!\n",
      "\n",
      "#YouDoYou and we’ll worry about ourselves!!\n",
      "#NoMasks\n"
     ]
    },
    {
     "name": "stderr",
     "output_type": "stream",
     "text": [
      "Special tokens have been added in the vocabulary, make sure the associated word embedding are fine-tuned or trained.\n"
     ]
    },
    {
     "name": "stdout",
     "output_type": "stream",
     "text": [
      "================================================================================\n",
      "Tweet no.: 191\n",
      "Tweet: #thursdayvibes makes me crazy 😂\n",
      "\n",
      "#ThursdayMotivation #german #COVID__19 #nomask #curvy #girlpower #carselfie https://t.co/fAhvuUqhTJ\n"
     ]
    },
    {
     "name": "stderr",
     "output_type": "stream",
     "text": [
      "Special tokens have been added in the vocabulary, make sure the associated word embedding are fine-tuned or trained.\n"
     ]
    },
    {
     "name": "stdout",
     "output_type": "stream",
     "text": [
      "================================================================================\n",
      "Tweet no.: 192\n",
      "Tweet: Sheeple...#PoliceStateAmerica #LiberalismIsAMentalDisease #nomask #NoMasks @Costco #boycottcostco https://t.co/f4QWXs55yL\n"
     ]
    },
    {
     "name": "stderr",
     "output_type": "stream",
     "text": [
      "Special tokens have been added in the vocabulary, make sure the associated word embedding are fine-tuned or trained.\n"
     ]
    },
    {
     "name": "stdout",
     "output_type": "stream",
     "text": [
      "================================================================================\n",
      "Tweet no.: 193\n",
      "Tweet: @CAgovernor @GavinNewsom Unbelievable! People don't need you to break down every activity and advise them on whether or not they are allowed to do something. We are protected from this kind of tyranical behavior by OUR CONSTITUTION. We are FREE people! #NoMasks #opencalifornianow #Commiefornia\n"
     ]
    },
    {
     "name": "stderr",
     "output_type": "stream",
     "text": [
      "Special tokens have been added in the vocabulary, make sure the associated word embedding are fine-tuned or trained.\n"
     ]
    },
    {
     "name": "stdout",
     "output_type": "stream",
     "text": [
      "================================================================================\n",
      "Tweet no.: 194\n",
      "Tweet: @RMConservative Our son had it in NYC late January went to school all week school pressured him to come back exposed everyone - that entire school was sick . I spoke to the nurse who said she had about 60% of the school out between January - March 1 with flu like symptoms ! 😂also #nomasks https://t.co/CjQg49PVfq\n"
     ]
    },
    {
     "name": "stderr",
     "output_type": "stream",
     "text": [
      "Special tokens have been added in the vocabulary, make sure the associated word embedding are fine-tuned or trained.\n"
     ]
    },
    {
     "name": "stdout",
     "output_type": "stream",
     "text": [
      "================================================================================\n",
      "Tweet no.: 195\n",
      "Tweet: @RPHodge We can’t do this with restrictions. Sorry but we are meant to be social. #NoMasks #WakeUpAmerica #OpenCalifornia\n"
     ]
    },
    {
     "name": "stderr",
     "output_type": "stream",
     "text": [
      "Special tokens have been added in the vocabulary, make sure the associated word embedding are fine-tuned or trained.\n"
     ]
    }
   ],
   "source": [
    "import feature_extraction_via_BERTTweet\n",
    "\n",
    "BERT_feature2D = feature_extraction_via_BERTTweet.get_features(df_eng, 0)"
   ]
  },
  {
   "cell_type": "code",
   "execution_count": 28,
   "metadata": {},
   "outputs": [
    {
     "data": {
      "text/plain": [
       "(195, 768)"
      ]
     },
     "execution_count": 28,
     "metadata": {},
     "output_type": "execute_result"
    }
   ],
   "source": [
    "BERT_feature2D.shape"
   ]
  },
  {
   "cell_type": "code",
   "execution_count": 46,
   "metadata": {},
   "outputs": [],
   "source": [
    "def wrt_single_file(filename, wrt_dir):\n",
    "    df = pd.read_csv(filename)\n",
    "    latent_val_df = feature_extraction_via_BERTTweet.get_features(df, 0)\n",
    "\n",
    "    # write file to disk  \n",
    "    latent_filename = filename.split(\"/\")[-1]\n",
    "    latent_val_df.to_csv(os.path.join(wrt_dir, latent_filename), index=False, header=True)\n",
    "\n",
    "    return 0 "
   ]
  },
  {
   "cell_type": "code",
   "execution_count": 48,
   "metadata": {},
   "outputs": [
    {
     "name": "stdout",
     "output_type": "stream",
     "text": [
      "================================================================================\n",
      "Tweet no.: 1\n",
      "Tweet: #ANYMASK IS BETTER THAN #NOMASK😷😷\n"
     ]
    },
    {
     "name": "stderr",
     "output_type": "stream",
     "text": [
      "Special tokens have been added in the vocabulary, make sure the associated word embedding are fine-tuned or trained.\n"
     ]
    },
    {
     "name": "stdout",
     "output_type": "stream",
     "text": [
      "================================================================================\n",
      "Tweet no.: 2\n",
      "Tweet: #nomasks POTUS should jump on AF1 tonight, fly to Minneapolis, go to 3M HQ, knock on Romans door and demand American masks for Americans.\n"
     ]
    },
    {
     "name": "stderr",
     "output_type": "stream",
     "text": [
      "Special tokens have been added in the vocabulary, make sure the associated word embedding are fine-tuned or trained.\n"
     ]
    },
    {
     "name": "stdout",
     "output_type": "stream",
     "text": [
      "================================================================================\n",
      "Tweet no.: 3\n",
      "Tweet: RT @LillisMilan: #nomasks POTUS should jump on AF1 tonight, fly to Minneapolis, go to 3M HQ, knock on Romans door and demand American masks…\n"
     ]
    },
    {
     "name": "stderr",
     "output_type": "stream",
     "text": [
      "Special tokens have been added in the vocabulary, make sure the associated word embedding are fine-tuned or trained.\n"
     ]
    },
    {
     "name": "stdout",
     "output_type": "stream",
     "text": [
      "================================================================================\n",
      "Tweet no.: 4\n",
      "Tweet: Still debating #mask/#nomask? Real question: Can we make them available to our people? Answer: No. \n",
      "\n",
      "Let’s be honest: We don’t have #masks because #USA has outsourced the making of #PPE to #CCPChina and didn’t start making them when #CCPCoronavirus was still #epidemic https://t.co/UzhmI1Tx8t\n"
     ]
    },
    {
     "name": "stderr",
     "output_type": "stream",
     "text": [
      "Special tokens have been added in the vocabulary, make sure the associated word embedding are fine-tuned or trained.\n"
     ]
    },
    {
     "name": "stdout",
     "output_type": "stream",
     "text": [
      "================================================================================\n",
      "Tweet no.: 5\n",
      "Tweet: RT @meemeegu: Still debating #mask/#nomask? Real question: Can we make them available to our people? Answer: No. \n",
      "\n",
      "Let’s be honest: We don’…\n"
     ]
    },
    {
     "name": "stderr",
     "output_type": "stream",
     "text": [
      "Special tokens have been added in the vocabulary, make sure the associated word embedding are fine-tuned or trained.\n"
     ]
    },
    {
     "name": "stdout",
     "output_type": "stream",
     "text": [
      "================================================================================\n",
      "Tweet no.: 6\n",
      "Tweet: My contribution to the #Mask #NoMask #COVID19 debate. https://t.co/Co6m9i6ShW\n"
     ]
    },
    {
     "name": "stderr",
     "output_type": "stream",
     "text": [
      "Special tokens have been added in the vocabulary, make sure the associated word embedding are fine-tuned or trained.\n"
     ]
    },
    {
     "name": "stdout",
     "output_type": "stream",
     "text": [
      "================================================================================\n",
      "Tweet no.: 7\n",
      "Tweet: @realDonaldTrump I stand with President Trump not wearing a mask! #NoMask #COVID19 #dontbeajackass\n"
     ]
    },
    {
     "name": "stderr",
     "output_type": "stream",
     "text": [
      "Special tokens have been added in the vocabulary, make sure the associated word embedding are fine-tuned or trained.\n"
     ]
    },
    {
     "name": "stdout",
     "output_type": "stream",
     "text": [
      "================================================================================\n",
      "Tweet no.: 8\n",
      "Tweet: @ATT if you’re so concerned about your employees why are you making #homevisit employees where #facemasks ? This guy on the phone with me said - “I can only do what company policy requires me to do”! #NoMasks #Masks4All #mandateit #notinmyhouse ...I have to say.... https://t.co/FMe5eC9bTB\n"
     ]
    },
    {
     "name": "stderr",
     "output_type": "stream",
     "text": [
      "Special tokens have been added in the vocabulary, make sure the associated word embedding are fine-tuned or trained.\n"
     ]
    },
    {
     "name": "stdout",
     "output_type": "stream",
     "text": [
      "================================================================================\n",
      "Tweet no.: 9\n",
      "Tweet: RT @kiwiskiNZ: My contribution to the #Mask #NoMask #COVID19 debate. https://t.co/Co6m9i6ShW\n"
     ]
    },
    {
     "name": "stderr",
     "output_type": "stream",
     "text": [
      "Special tokens have been added in the vocabulary, make sure the associated word embedding are fine-tuned or trained.\n"
     ]
    },
    {
     "name": "stdout",
     "output_type": "stream",
     "text": [
      "================================================================================\n",
      "Tweet no.: 10\n",
      "Tweet: RT @kiwiskiNZ: My contribution to the #Mask #NoMask #COVID19 debate. https://t.co/Co6m9i6ShW\n"
     ]
    },
    {
     "name": "stderr",
     "output_type": "stream",
     "text": [
      "Special tokens have been added in the vocabulary, make sure the associated word embedding are fine-tuned or trained.\n"
     ]
    },
    {
     "name": "stdout",
     "output_type": "stream",
     "text": [
      "================================================================================\n",
      "Tweet no.: 11\n",
      "Tweet: OK, here it is, not wearing a mask or gloves &amp; going wherever the hell I want  assuming I can find something open. I will keep my distance from others if they keep theirs from me. I will remain a free American patriot preserving his liberty. #nomasks #noshutdown #freeamerican\n"
     ]
    },
    {
     "name": "stderr",
     "output_type": "stream",
     "text": [
      "Special tokens have been added in the vocabulary, make sure the associated word embedding are fine-tuned or trained.\n"
     ]
    },
    {
     "name": "stdout",
     "output_type": "stream",
     "text": [
      "================================================================================\n",
      "Tweet no.: 12\n",
      "Tweet: Initial recommendation #NoMask  Never made much sense, in a NOVEL, HIGHLY INFECTIOUS, respiratory virus, with excessive movement= high infection rates. \n",
      "#CavlierAction = #ExtremeMortality,  epidemiology studies will soon show that you can't chase a highly transmissable virus. https://t.co/i4ItReizJj\n"
     ]
    },
    {
     "name": "stderr",
     "output_type": "stream",
     "text": [
      "Special tokens have been added in the vocabulary, make sure the associated word embedding are fine-tuned or trained.\n"
     ]
    },
    {
     "name": "stdout",
     "output_type": "stream",
     "text": [
      "================================================================================\n",
      "Tweet no.: 13\n",
      "Tweet: @dallasnews Texas and Del Conte distance themselves from Aston, pull in Schaefer #nomask 😷#SocialDistancing \n",
      "\n",
      "Cmon, people - a Zoom Brady Bunch photo would have sufficed here.\n"
     ]
    },
    {
     "name": "stderr",
     "output_type": "stream",
     "text": [
      "Special tokens have been added in the vocabulary, make sure the associated word embedding are fine-tuned or trained.\n"
     ]
    },
    {
     "name": "stdout",
     "output_type": "stream",
     "text": [
      "================================================================================\n",
      "Tweet no.: 14\n",
      "Tweet: Texas and Del Conte distance themselves from Aston, pull in Schaefer #nomask 😷#SocialDistancing \n",
      "\n",
      "Cmon, people - a Zoom Brady Bunch photo would have sufficed here. https://t.co/UrBInTvRFS\n"
     ]
    },
    {
     "name": "stderr",
     "output_type": "stream",
     "text": [
      "Special tokens have been added in the vocabulary, make sure the associated word embedding are fine-tuned or trained.\n"
     ]
    },
    {
     "name": "stdout",
     "output_type": "stream",
     "text": [
      "================================================================================\n",
      "Tweet no.: 15\n",
      "Tweet: COVID-19: Cross River commences enforcement of https://t.co/HDrw7RJ5Ym #covid19 #nomask\n"
     ]
    },
    {
     "name": "stderr",
     "output_type": "stream",
     "text": [
      "Special tokens have been added in the vocabulary, make sure the associated word embedding are fine-tuned or trained.\n"
     ]
    },
    {
     "name": "stdout",
     "output_type": "stream",
     "text": [
      "================================================================================\n",
      "Tweet no.: 16\n",
      "Tweet: This is disgusting (again). Security taking this attitude and finding #coughing funny. Whoa! How does @FiveRiversEC feel about their workers mixing with these HS2 security guys who clearly are not worried about spreading the virus?#stopHS2 #COVID19 #constructionworkers #nomask https://t.co/Lmz0J9Cup8\n"
     ]
    },
    {
     "name": "stderr",
     "output_type": "stream",
     "text": [
      "Special tokens have been added in the vocabulary, make sure the associated word embedding are fine-tuned or trained.\n"
     ]
    },
    {
     "name": "stdout",
     "output_type": "stream",
     "text": [
      "================================================================================\n",
      "Tweet no.: 17\n",
      "Tweet: They themself didn't follow the precautions, and look what they are doing to make their Bosses happy.\n",
      "\n",
      "#RealFaceOfMedia #CoronaInPakistan #NoMask #NoGloves https://t.co/xl7edygU7t\n"
     ]
    },
    {
     "name": "stderr",
     "output_type": "stream",
     "text": [
      "Special tokens have been added in the vocabulary, make sure the associated word embedding are fine-tuned or trained.\n"
     ]
    },
    {
     "name": "stdout",
     "output_type": "stream",
     "text": [
      "================================================================================\n",
      "Tweet no.: 18\n",
      "Tweet: @realDonaldTrump @seanhannity @FoxNews Open up everything President Trump 👍😁🇺🇸\n",
      "#MAGA2020\n",
      "#NoMask\n"
     ]
    },
    {
     "name": "stderr",
     "output_type": "stream",
     "text": [
      "Special tokens have been added in the vocabulary, make sure the associated word embedding are fine-tuned or trained.\n"
     ]
    },
    {
     "name": "stdout",
     "output_type": "stream",
     "text": [
      "================================================================================\n",
      "Tweet no.: 19\n",
      "Tweet: Naw big Alex that’s that chicken coop 🤦‍♂️\n",
      ".\n",
      ".\n",
      "@Thebeast_ufc he ok?? #\n",
      ".\n",
      ".\n",
      "@danawhite @reggiebush 20twentyer @stoolpresidente SIGN HIM UP? \n",
      ".\n",
      ".\n",
      "\n",
      "#Repost @iamalexthoms with @get_repost\n",
      "・・・\n",
      "#NoMask\n",
      "#NoDrawls\n",
      "#NoSence… https://t.co/foufdPQVAS\n"
     ]
    },
    {
     "name": "stderr",
     "output_type": "stream",
     "text": [
      "Special tokens have been added in the vocabulary, make sure the associated word embedding are fine-tuned or trained.\n"
     ]
    },
    {
     "name": "stdout",
     "output_type": "stream",
     "text": [
      "================================================================================\n",
      "Tweet no.: 20\n",
      "Tweet: Mining in Australia is one main reason we are not in full lock down. Mining is apparently more important than the health &amp; lives of @Qantas staff (&amp; therefore their families) who still have to clear drinks/food on FIFO flights without PPE #nomasks #covid #covid19 #healthandsafety https://t.co/ecs3F7y8gR\n"
     ]
    },
    {
     "name": "stderr",
     "output_type": "stream",
     "text": [
      "Special tokens have been added in the vocabulary, make sure the associated word embedding are fine-tuned or trained.\n"
     ]
    },
    {
     "name": "stdout",
     "output_type": "stream",
     "text": [
      "================================================================================\n",
      "Tweet no.: 21\n",
      "Tweet: Right now, the air outside is most likely the freshest air we'll breathe in our lifetime.\n",
      "\n",
      "#fear #miseducation #mask #nomask #noexcuses #fitness #climatechange #marathon #willtowin https://t.co/ZzK1TkTiO5\n"
     ]
    },
    {
     "name": "stderr",
     "output_type": "stream",
     "text": [
      "Special tokens have been added in the vocabulary, make sure the associated word embedding are fine-tuned or trained.\n"
     ]
    },
    {
     "name": "stdout",
     "output_type": "stream",
     "text": [
      "================================================================================\n",
      "Tweet no.: 22\n",
      "Tweet: @briebriejoy @McDonalds doesn't care about its employees.  \n",
      "\n",
      "#NoMasks\n",
      "#NoGloves\n",
      "#Strike\n",
      "\n",
      "https://t.co/TTUI8gaRte\n"
     ]
    },
    {
     "name": "stderr",
     "output_type": "stream",
     "text": [
      "Special tokens have been added in the vocabulary, make sure the associated word embedding are fine-tuned or trained.\n"
     ]
    },
    {
     "name": "stdout",
     "output_type": "stream",
     "text": [
      "================================================================================\n",
      "Tweet no.: 23\n",
      "Tweet: ”Be BRAVE. Be VULNERABLE. Have the COURAGE to show up &amp; be seen. Let your radiant beautiful authentic self shine! Be the real imperfect YOU, the world will adjust!”~ #ExtremeRadLifer ❤️🙏#authentic #bereal #nomask #secretskeepyousick #childofgod #BeBRAVE #courage ❤️💃🛡🗡🔥🇿🇦🌍🕯 https://t.co/yKe6on6qez\n"
     ]
    },
    {
     "name": "stderr",
     "output_type": "stream",
     "text": [
      "Special tokens have been added in the vocabulary, make sure the associated word embedding are fine-tuned or trained.\n"
     ]
    },
    {
     "name": "stdout",
     "output_type": "stream",
     "text": [
      "================================================================================\n",
      "Tweet no.: 24\n",
      "Tweet: @acoyne This is why we need Opposition oversight. Government using this opportunity to grab power, slam in legislation and undo policies that don't fit their narrative. We need them gone. I'm ready to online vote in a pandemic. #PMFAIL #StillNotReady #lowrisk #openborders #nomasks\n"
     ]
    },
    {
     "name": "stderr",
     "output_type": "stream",
     "text": [
      "Special tokens have been added in the vocabulary, make sure the associated word embedding are fine-tuned or trained.\n"
     ]
    },
    {
     "name": "stdout",
     "output_type": "stream",
     "text": [
      "================================================================================\n",
      "Tweet no.: 25\n",
      "Tweet: PEOPLE USE SOCIAL DISTANCING. I SEEN SO MANY PEOPLE WITH #NoMask AND NOT 6 FEET APART\n"
     ]
    },
    {
     "name": "stderr",
     "output_type": "stream",
     "text": [
      "Special tokens have been added in the vocabulary, make sure the associated word embedding are fine-tuned or trained.\n"
     ]
    },
    {
     "name": "stdout",
     "output_type": "stream",
     "text": [
      "================================================================================\n",
      "Tweet no.: 26\n",
      "Tweet: In this situation there is no arrangements by the @GujaratPolice in Pethapur Village Dist. Gandhinagar. Ration has been distributed to people by the @CMOGuj .where is social distancing?? #Noawareness #Nomask Request @GujaratPolice to guide people's. @dgpgujarat https://t.co/nC67g9FfnF\n"
     ]
    },
    {
     "name": "stderr",
     "output_type": "stream",
     "text": [
      "Special tokens have been added in the vocabulary, make sure the associated word embedding are fine-tuned or trained.\n"
     ]
    },
    {
     "name": "stdout",
     "output_type": "stream",
     "text": [
      "================================================================================\n",
      "Tweet no.: 27\n",
      "Tweet: People #running in the streets of NY bc they’re maintaining a healthy lifestyle are endangering others. #nomasks #nothanks\n"
     ]
    },
    {
     "name": "stderr",
     "output_type": "stream",
     "text": [
      "Special tokens have been added in the vocabulary, make sure the associated word embedding are fine-tuned or trained.\n"
     ]
    },
    {
     "name": "stdout",
     "output_type": "stream",
     "text": [
      "================================================================================\n",
      "Tweet no.: 28\n",
      "Tweet: Why do the employees at @acmemarkets and @HomeDepot in PA not have #masks and #gloves on. Especially cashiers.  #nomask #HomeDepot #acme #COVID19 #caronavirusoutbreak #SocialDistancing #StaySafe\n"
     ]
    },
    {
     "name": "stderr",
     "output_type": "stream",
     "text": [
      "Special tokens have been added in the vocabulary, make sure the associated word embedding are fine-tuned or trained.\n"
     ]
    },
    {
     "name": "stdout",
     "output_type": "stream",
     "text": [
      "================================================================================\n",
      "Tweet no.: 29\n",
      "Tweet: RT @NickandNol: Why do the employees at @acmemarkets and @HomeDepot in PA not have #masks and #gloves on. Especially cashiers.  #nomask #Ho…\n"
     ]
    },
    {
     "name": "stderr",
     "output_type": "stream",
     "text": [
      "Special tokens have been added in the vocabulary, make sure the associated word embedding are fine-tuned or trained.\n"
     ]
    },
    {
     "name": "stdout",
     "output_type": "stream",
     "text": [
      "================================================================================\n",
      "Tweet no.: 30\n",
      "Tweet: You don't wear a mask into an attic to protect the insulation from you.\n",
      "\n",
      "You don't wear a mask while sanding to protect saw dust from what your lungs would do to it.\n",
      "\n",
      "You don't wear a mask while painting bc your breath is toxic to paint.\n",
      "\n",
      "#NoMask https://t.co/Q1HVaKcngw\n"
     ]
    },
    {
     "name": "stderr",
     "output_type": "stream",
     "text": [
      "Special tokens have been added in the vocabulary, make sure the associated word embedding are fine-tuned or trained.\n"
     ]
    },
    {
     "name": "stdout",
     "output_type": "stream",
     "text": [
      "================================================================================\n",
      "Tweet no.: 31\n",
      "Tweet: #OPENAMERICANOW if state legislators are essential (to raise our taxes), all Americans are essential👇 #nomasks https://t.co/L6saXqqLbv\n"
     ]
    },
    {
     "name": "stderr",
     "output_type": "stream",
     "text": [
      "Special tokens have been added in the vocabulary, make sure the associated word embedding are fine-tuned or trained.\n"
     ]
    },
    {
     "name": "stdout",
     "output_type": "stream",
     "text": [
      "================================================================================\n",
      "Tweet no.: 32\n",
      "Tweet: My first grocery order from ⁦@Walmart⁩ didn’t go very well. #produce #nomask #avoid https://t.co/z8qYWLs7xp\n"
     ]
    },
    {
     "name": "stderr",
     "output_type": "stream",
     "text": [
      "Special tokens have been added in the vocabulary, make sure the associated word embedding are fine-tuned or trained.\n"
     ]
    },
    {
     "name": "stdout",
     "output_type": "stream",
     "text": [
      "================================================================================\n",
      "Tweet no.: 33\n",
      "Tweet: @PaulBacon30 @Publix Not everyone should wear a mask. #nomask. In Broward \"This order does not apply to young children under the age of two, and individuals who have difficulty breathing.\" https://t.co/eakMmsWUKw\n",
      "Please allow us to enter without a Mask!!!\n"
     ]
    },
    {
     "name": "stderr",
     "output_type": "stream",
     "text": [
      "Special tokens have been added in the vocabulary, make sure the associated word embedding are fine-tuned or trained.\n"
     ]
    },
    {
     "name": "stdout",
     "output_type": "stream",
     "text": [
      "================================================================================\n",
      "Tweet no.: 34\n",
      "Tweet: @NereidaC7 @Publix @WinnDixie \"This order does not apply to young children under the age of two, and individuals who have difficulty breathing.\" https://t.co/eakMmsWUKw\n",
      "Its the same for MIA #nomask Let us enjoy fresh air!!! @MayorGimenez has to much power to make it mandatory, CDC recommends its not mandatory\n"
     ]
    },
    {
     "name": "stderr",
     "output_type": "stream",
     "text": [
      "Special tokens have been added in the vocabulary, make sure the associated word embedding are fine-tuned or trained.\n"
     ]
    },
    {
     "name": "stdout",
     "output_type": "stream",
     "text": [
      "================================================================================\n",
      "Tweet no.: 35\n",
      "Tweet: @realDonaldTrump Enemy is not invisible. Enemy is #POSPOTUS   It’s you @realDonaldTrump @POTUS you are the enemy. The killer of thousands of Americans. #hoax #notests #nomasks #noPPE #noclue\n"
     ]
    },
    {
     "name": "stderr",
     "output_type": "stream",
     "text": [
      "Special tokens have been added in the vocabulary, make sure the associated word embedding are fine-tuned or trained.\n"
     ]
    },
    {
     "name": "stdout",
     "output_type": "stream",
     "text": [
      "================================================================================\n",
      "Tweet no.: 36\n",
      "Tweet: Modes of transmission of virus causing COVID-19: WHO clarification  https://t.co/iJTl0mqd3w not what we have been told. No need for face mask or gloves in normal setting #nomasks #covid19 When providing patient cares yes hospital medical precautions apply.\n"
     ]
    },
    {
     "name": "stderr",
     "output_type": "stream",
     "text": [
      "Special tokens have been added in the vocabulary, make sure the associated word embedding are fine-tuned or trained.\n"
     ]
    },
    {
     "name": "stdout",
     "output_type": "stream",
     "text": [
      "================================================================================\n",
      "Tweet no.: 37\n",
      "Tweet: This is how amazon is keeping diliveries safe #nomask\n",
      "#amazonindia #amazondiliveries https://t.co/BxXHp4L1xI\n"
     ]
    },
    {
     "name": "stderr",
     "output_type": "stream",
     "text": [
      "Special tokens have been added in the vocabulary, make sure the associated word embedding are fine-tuned or trained.\n"
     ]
    },
    {
     "name": "stdout",
     "output_type": "stream",
     "text": [
      "================================================================================\n",
      "Tweet no.: 38\n",
      "Tweet: @mjb0317 @Publix #nomask People don't want to wear masks! Most of your groceries are handled with no mask and no gloves think of all the people and factories your food comes from. Think of all the truck drivers bringing that food to your local store. Stop being scared of people without a mask on\n"
     ]
    },
    {
     "name": "stderr",
     "output_type": "stream",
     "text": [
      "Special tokens have been added in the vocabulary, make sure the associated word embedding are fine-tuned or trained.\n"
     ]
    },
    {
     "name": "stdout",
     "output_type": "stream",
     "text": [
      "================================================================================\n",
      "Tweet no.: 39\n",
      "Tweet: WHY I AM #NOMASK FOR #COVID19\n",
      "1. my grandma is a dickhead\n",
      "2. im the most important\n",
      "3. im a big macho badass\n"
     ]
    },
    {
     "name": "stderr",
     "output_type": "stream",
     "text": [
      "Special tokens have been added in the vocabulary, make sure the associated word embedding are fine-tuned or trained.\n"
     ]
    },
    {
     "name": "stdout",
     "output_type": "stream",
     "text": [
      "================================================================================\n",
      "Tweet no.: 40\n",
      "Tweet: @PopeyesChicken Manager Bree at Military Rd, AR location asked me to come in for my family of 5 order. Through the drive-thru I saw no gloves, no masks, Mgr taking money in hands, again no mask and no gloves. Why? #coronavirus #popeyeschicke  #nomask #nogloves #fastfood #COVID19\n"
     ]
    },
    {
     "name": "stderr",
     "output_type": "stream",
     "text": [
      "Special tokens have been added in the vocabulary, make sure the associated word embedding are fine-tuned or trained.\n"
     ]
    },
    {
     "name": "stdout",
     "output_type": "stream",
     "text": [
      "================================================================================\n",
      "Tweet no.: 41\n",
      "Tweet: @GovernorTomWolf @SecretaryLevine NOT constitutional!! See you in court! #nomask #Liberty #freedom\n"
     ]
    },
    {
     "name": "stderr",
     "output_type": "stream",
     "text": [
      "Special tokens have been added in the vocabulary, make sure the associated word embedding are fine-tuned or trained.\n"
     ]
    },
    {
     "name": "stdout",
     "output_type": "stream",
     "text": [
      "================================================================================\n",
      "Tweet no.: 42\n",
      "Tweet: @realDonaldTrump Stop Cuomo or we will. #nycgop. We are free people. @realDonaldTrump stop this you need fake cure for fake #Plandemic. #novaccines #nomasks\n",
      "https://t.co/NoW9VXRhjD https://t.co/fGj6Lz2vO6\n"
     ]
    },
    {
     "name": "stderr",
     "output_type": "stream",
     "text": [
      "Special tokens have been added in the vocabulary, make sure the associated word embedding are fine-tuned or trained.\n"
     ]
    },
    {
     "name": "stdout",
     "output_type": "stream",
     "text": [
      "================================================================================\n",
      "Tweet no.: 43\n",
      "Tweet: @nytimes Not wearing a Mask. 😷😷\n",
      "Fear Culture and False reassurance with a Mask is something I will not promote. #NoMask #COVID19 #StayHome #StayatHome\n"
     ]
    },
    {
     "name": "stderr",
     "output_type": "stream",
     "text": [
      "Special tokens have been added in the vocabulary, make sure the associated word embedding are fine-tuned or trained.\n"
     ]
    },
    {
     "name": "stdout",
     "output_type": "stream",
     "text": [
      "================================================================================\n",
      "Tweet no.: 44\n",
      "Tweet: Why are government officials not wearing masks.  If we are being forced to why aren't white house reporters and the @POTUS and staff ?  #NoMasks #NoTemperatures #NoForcedVaccines. \n",
      "\n",
      "Watch this and wake up America. https://t.co/5afqFwpwL7\n"
     ]
    },
    {
     "name": "stderr",
     "output_type": "stream",
     "text": [
      "Special tokens have been added in the vocabulary, make sure the associated word embedding are fine-tuned or trained.\n"
     ]
    },
    {
     "name": "stdout",
     "output_type": "stream",
     "text": [
      "================================================================================\n",
      "Tweet no.: 45\n",
      "Tweet: A man holding an umbrella walks past a closed store front in downtown LA April 15, 2020. #covid19 #coronapandemic #pandemic2020 #nomask #umbrella #streetphotography #fujifilmxseries #fujistreetphotography #fujixmoment #dtla\n",
      "\n",
      "📸 https://t.co/A9FoYem88o via https://t.co/tFiRvDvplH https://t.co/hOPlFsvc30\n"
     ]
    },
    {
     "name": "stderr",
     "output_type": "stream",
     "text": [
      "Special tokens have been added in the vocabulary, make sure the associated word embedding are fine-tuned or trained.\n"
     ]
    },
    {
     "name": "stdout",
     "output_type": "stream",
     "text": [
      "================================================================================\n",
      "Tweet no.: 46\n",
      "Tweet: @As1TeamAmerica @GmanFan45 #NoMasks #NoTesting. #NoVaccines.    The more you know. Watch this \n",
      "\n",
      "https://t.co/5afqFwpwL7\n"
     ]
    },
    {
     "name": "stderr",
     "output_type": "stream",
     "text": [
      "Special tokens have been added in the vocabulary, make sure the associated word embedding are fine-tuned or trained.\n"
     ]
    },
    {
     "name": "stdout",
     "output_type": "stream",
     "text": [
      "================================================================================\n",
      "Tweet no.: 47\n",
      "Tweet: Covid +ve cases at HeeraPanna, OmerPark, ShyamNivas, VallabhApt, BreachCandyHosp. BUT @mybmcCoastalRd workers are carrying on work as usual #nomasks NO #SocialDistancing. @MumbaiPolice @mybmcWardD please #TakeResponsibility of keeping @breachcandyALM residents safe. @AUThackeray https://t.co/QaK6DEHoa8\n"
     ]
    },
    {
     "name": "stderr",
     "output_type": "stream",
     "text": [
      "Special tokens have been added in the vocabulary, make sure the associated word embedding are fine-tuned or trained.\n"
     ]
    },
    {
     "name": "stdout",
     "output_type": "stream",
     "text": [
      "================================================================================\n",
      "Tweet no.: 48\n",
      "Tweet: the phased plan is NOT opening up america. if you think i'm going to wear a face mask out in public i will NOT BE. PERIOD. #nomasks #TheVirusisBirx\n"
     ]
    },
    {
     "name": "stderr",
     "output_type": "stream",
     "text": [
      "Special tokens have been added in the vocabulary, make sure the associated word embedding are fine-tuned or trained.\n"
     ]
    },
    {
     "name": "stdout",
     "output_type": "stream",
     "text": [
      "================================================================================\n",
      "Tweet no.: 49\n",
      "Tweet: @DonaldJTrumpJr The hospitals are classifying everything as #coronavirus to get the funding. There are FAR fewer cases than we are being told. #NoMasks #NoVaccines\n"
     ]
    },
    {
     "name": "stderr",
     "output_type": "stream",
     "text": [
      "Special tokens have been added in the vocabulary, make sure the associated word embedding are fine-tuned or trained.\n"
     ]
    },
    {
     "name": "stdout",
     "output_type": "stream",
     "text": [
      "================================================================================\n",
      "Tweet no.: 50\n",
      "Tweet: @ezsmpsn @RealCandaceO @democracynow19 @GavinNewsom @WholeFoods .\n",
      "FREEDOM\n",
      "\n",
      "#NoMask\n",
      "#FaithOverFear\n",
      "\n",
      "#CoronavirusLiar\n"
     ]
    },
    {
     "name": "stderr",
     "output_type": "stream",
     "text": [
      "Special tokens have been added in the vocabulary, make sure the associated word embedding are fine-tuned or trained.\n"
     ]
    },
    {
     "name": "stdout",
     "output_type": "stream",
     "text": [
      "================================================================================\n",
      "Tweet no.: 51\n",
      "Tweet: #immigrationlawyer in times of #covid_19. Eloy day 2. Visiting a client at the La Palma Correctional Facility. Again, there were #nomasks #nogloves, #nosoap and accounts from asylum seekers who are subject to… https://t.co/Q4qY7rD8v8\n"
     ]
    },
    {
     "name": "stderr",
     "output_type": "stream",
     "text": [
      "Special tokens have been added in the vocabulary, make sure the associated word embedding are fine-tuned or trained.\n"
     ]
    },
    {
     "name": "stdout",
     "output_type": "stream",
     "text": [
      "================================================================================\n",
      "Tweet no.: 52\n",
      "Tweet: @dunkindonuts 39 W Palisades Ave. Englewood, NJ. The staff does not wear gloves or masks. This is the dirtiest store I have been in! Order#819. I want my money back on my Duncan card. I’m reporting the store to the local health department. #duncandonuts #nomasks #nogloves #covid\n"
     ]
    },
    {
     "name": "stderr",
     "output_type": "stream",
     "text": [
      "Special tokens have been added in the vocabulary, make sure the associated word embedding are fine-tuned or trained.\n"
     ]
    },
    {
     "name": "stdout",
     "output_type": "stream",
     "text": [
      "================================================================================\n",
      "Tweet no.: 53\n",
      "Tweet: @GovNedLamont \n",
      "We are Americans.\n",
      "We the People are free citizens of the great USA.\n",
      "We will not mask ourselves. Americans don't wear masks to buy food.\n",
      "We will fight to maintain our God-given rights.\n",
      "We will not comply.\n",
      "#FlattenTheFear\n",
      "#AmericaHomeOfTheBrave\n",
      "#NoMaskMandate\n",
      "#OpenCT\n"
     ]
    },
    {
     "name": "stderr",
     "output_type": "stream",
     "text": [
      "Special tokens have been added in the vocabulary, make sure the associated word embedding are fine-tuned or trained.\n"
     ]
    },
    {
     "name": "stdout",
     "output_type": "stream",
     "text": [
      "================================================================================\n",
      "Tweet no.: 54\n",
      "Tweet: #LiberateTheUSA #NoMasks No #SocialistDistancing #SocialismKills #CommunismKills  No #mask how have you enjoyed your life under #Socialism https://t.co/L155oTOmkW\n"
     ]
    },
    {
     "name": "stderr",
     "output_type": "stream",
     "text": [
      "Special tokens have been added in the vocabulary, make sure the associated word embedding are fine-tuned or trained.\n"
     ]
    },
    {
     "name": "stdout",
     "output_type": "stream",
     "text": [
      "================================================================================\n",
      "Tweet no.: 55\n",
      "Tweet: @StarTribune Notice no #socialdistancing #nomasks #nogloves 🤦🏻‍♀️\n"
     ]
    },
    {
     "name": "stderr",
     "output_type": "stream",
     "text": [
      "Special tokens have been added in the vocabulary, make sure the associated word embedding are fine-tuned or trained.\n"
     ]
    },
    {
     "name": "stdout",
     "output_type": "stream",
     "text": [
      "================================================================================\n",
      "Tweet no.: 56\n",
      "Tweet: @ShefVaidya #NoMask... Specially protected by the umbrella of blessings from State @BJP4Karnataka and Central @BJP4India power that is ... @BSYBJP @narendramodi @AmitShah \n",
      "#VVIPLockdownShaadi #ArogyaSetu #VVIPCoronaWedding\n"
     ]
    },
    {
     "name": "stderr",
     "output_type": "stream",
     "text": [
      "Special tokens have been added in the vocabulary, make sure the associated word embedding are fine-tuned or trained.\n"
     ]
    },
    {
     "name": "stdout",
     "output_type": "stream",
     "text": [
      "================================================================================\n",
      "Tweet no.: 57\n",
      "Tweet: @GovMurphy we now have a treatment and you must allow people to return to their lives.  #NoMasks #NoForcedTesting #FreeNJNOW. \n",
      "\n",
      "There is enough evidence to PROVE this responds to treatment and #FauciFraud was wrong since day 1. @realDonaldTrump please write an order now https://t.co/bmsuUpMpHC\n"
     ]
    },
    {
     "name": "stderr",
     "output_type": "stream",
     "text": [
      "Special tokens have been added in the vocabulary, make sure the associated word embedding are fine-tuned or trained.\n"
     ]
    },
    {
     "name": "stdout",
     "output_type": "stream",
     "text": [
      "================================================================================\n",
      "Tweet no.: 58\n",
      "Tweet: RT @Wolverine_201: @ShefVaidya #NoMask... Specially protected by the umbrella of blessings from State @BJP4Karnataka and Central @BJP4India…\n"
     ]
    },
    {
     "name": "stderr",
     "output_type": "stream",
     "text": [
      "Special tokens have been added in the vocabulary, make sure the associated word embedding are fine-tuned or trained.\n"
     ]
    },
    {
     "name": "stdout",
     "output_type": "stream",
     "text": [
      "================================================================================\n",
      "Tweet no.: 59\n",
      "Tweet: RT @NJTruthTalker: @GovMurphy we now have a treatment and you must allow people to return to their lives.  #NoMasks #NoForcedTesting #FreeN…\n"
     ]
    },
    {
     "name": "stderr",
     "output_type": "stream",
     "text": [
      "Special tokens have been added in the vocabulary, make sure the associated word embedding are fine-tuned or trained.\n"
     ]
    },
    {
     "name": "stdout",
     "output_type": "stream",
     "text": [
      "================================================================================\n",
      "Tweet no.: 60\n",
      "Tweet: Seems to me its just another way to divide us #mask #nomask 🤔🤷‍♂️\n"
     ]
    },
    {
     "name": "stderr",
     "output_type": "stream",
     "text": [
      "Special tokens have been added in the vocabulary, make sure the associated word embedding are fine-tuned or trained.\n"
     ]
    },
    {
     "name": "stdout",
     "output_type": "stream",
     "text": [
      "================================================================================\n",
      "Tweet no.: 61\n",
      "Tweet: @realDonaldTrump Support Vaccine Rights Legal Defense. #nomask this is unconstitutional and an opportunity to prove no pandemic threat in NYS, the same way we proved no measles epidemic last year in Rockland County @realdonaldtrump #Plandemic\n",
      "#HerdImmunity\n",
      " https://t.co/NoW9VXRhjD https://t.co/pYnSwBBmK1\n"
     ]
    },
    {
     "name": "stderr",
     "output_type": "stream",
     "text": [
      "Special tokens have been added in the vocabulary, make sure the associated word embedding are fine-tuned or trained.\n"
     ]
    },
    {
     "name": "stdout",
     "output_type": "stream",
     "text": [
      "================================================================================\n",
      "Tweet no.: 62\n",
      "Tweet: #doubtingthomases on the beach in droves | #covid19nightmare #doubtingthomas #nomasks #selfish #theforty5th https://t.co/LlUdBwP7QK\n"
     ]
    },
    {
     "name": "stderr",
     "output_type": "stream",
     "text": [
      "Special tokens have been added in the vocabulary, make sure the associated word embedding are fine-tuned or trained.\n"
     ]
    },
    {
     "name": "stdout",
     "output_type": "stream",
     "text": [
      "================================================================================\n",
      "Tweet no.: 63\n",
      "Tweet: Filipinos are truly resourceful and creative. We never ran out of ideas! #nomask #COVID #covidcrisis https://t.co/hTdQecDbuR\n"
     ]
    },
    {
     "name": "stderr",
     "output_type": "stream",
     "text": [
      "Special tokens have been added in the vocabulary, make sure the associated word embedding are fine-tuned or trained.\n"
     ]
    },
    {
     "name": "stdout",
     "output_type": "stream",
     "text": [
      "================================================================================\n",
      "Tweet no.: 64\n",
      "Tweet: #selfie #selfisolation #late #nomask @dirtycoast #goat #shirt @drewbrees #love @ New Orleans, Louisiana https://t.co/yiEaP9hagH\n"
     ]
    },
    {
     "name": "stderr",
     "output_type": "stream",
     "text": [
      "Special tokens have been added in the vocabulary, make sure the associated word embedding are fine-tuned or trained.\n"
     ]
    },
    {
     "name": "stdout",
     "output_type": "stream",
     "text": [
      "================================================================================\n",
      "Tweet no.: 65\n",
      "Tweet: I wonder how many in the crowd will be sick in a week with: #Corvid19 #nomask #nosocialdistancing #Sad https://t.co/9hQPIlEYAp\n"
     ]
    },
    {
     "name": "stderr",
     "output_type": "stream",
     "text": [
      "Special tokens have been added in the vocabulary, make sure the associated word embedding are fine-tuned or trained.\n"
     ]
    },
    {
     "name": "stdout",
     "output_type": "stream",
     "text": [
      "================================================================================\n",
      "Tweet no.: 66\n",
      "Tweet: 'No Mask No Fuel' Policy To Come In Action Across Petrol Pumps In India\n",
      ".\n",
      ".\n",
      "#nomask #nopetrol #lockdown #MondayMotivation #covid19 #corona #coronavirus \n",
      " https://t.co/LIpZCcrs3c\n"
     ]
    },
    {
     "name": "stderr",
     "output_type": "stream",
     "text": [
      "Special tokens have been added in the vocabulary, make sure the associated word embedding are fine-tuned or trained.\n"
     ]
    },
    {
     "name": "stdout",
     "output_type": "stream",
     "text": [
      "================================================================================\n",
      "Tweet no.: 67\n",
      "Tweet: RT @viralbake: 'No Mask No Fuel' Policy To Come In Action Across Petrol Pumps In India\n",
      ".\n",
      ".\n",
      "#nomask #nopetrol #lockdown #MondayMotivation #c…\n"
     ]
    },
    {
     "name": "stderr",
     "output_type": "stream",
     "text": [
      "Special tokens have been added in the vocabulary, make sure the associated word embedding are fine-tuned or trained.\n"
     ]
    },
    {
     "name": "stdout",
     "output_type": "stream",
     "text": [
      "================================================================================\n",
      "Tweet no.: 68\n",
      "Tweet: I need a mask can you provide me ? It can be home made.. anything you can provide.... I am staying at noida sector 27. There is no mask available in any medical Store..\n",
      "@dmgbnagar ?? Reply pls???\n",
      "\n",
      "#nomask #Masks4All #mask\n"
     ]
    },
    {
     "name": "stderr",
     "output_type": "stream",
     "text": [
      "Special tokens have been added in the vocabulary, make sure the associated word embedding are fine-tuned or trained.\n"
     ]
    },
    {
     "name": "stdout",
     "output_type": "stream",
     "text": [
      "================================================================================\n",
      "Tweet no.: 69\n",
      "Tweet: RT @viralbake: 'No Mask No Fuel' Policy To Come In Action Across Petrol Pumps In India\n",
      ".\n",
      ".\n",
      "#nomask #nopetrol #lockdown #MondayMotivation #c…\n"
     ]
    },
    {
     "name": "stderr",
     "output_type": "stream",
     "text": [
      "Special tokens have been added in the vocabulary, make sure the associated word embedding are fine-tuned or trained.\n"
     ]
    },
    {
     "name": "stdout",
     "output_type": "stream",
     "text": [
      "================================================================================\n",
      "Tweet no.: 70\n",
      "Tweet: If I ever tell you about my past, it is never because I want you to feel sorry for me, but so you can understand why I am who I am. \n",
      "#life #lifequotes #BeYourself\n",
      "#NoMasks\n"
     ]
    },
    {
     "name": "stderr",
     "output_type": "stream",
     "text": [
      "Special tokens have been added in the vocabulary, make sure the associated word embedding are fine-tuned or trained.\n"
     ]
    },
    {
     "name": "stdout",
     "output_type": "stream",
     "text": [
      "================================================================================\n",
      "Tweet no.: 71\n",
      "Tweet: Take the masks off Massachusetts!! \n",
      "\n",
      "We beat the virus!!\n",
      "\n",
      "#NoMasks #coronavirus #CoronavirusUSA #Boston @wbznewsradio @HowieCarrShow https://t.co/eOEkqB69f0\n"
     ]
    },
    {
     "name": "stderr",
     "output_type": "stream",
     "text": [
      "Special tokens have been added in the vocabulary, make sure the associated word embedding are fine-tuned or trained.\n"
     ]
    },
    {
     "name": "stdout",
     "output_type": "stream",
     "text": [
      "================================================================================\n",
      "Tweet no.: 72\n",
      "Tweet: @MamaTriedHoney I support them more than ever to have their rallies with their grand wizard, Trump. #NoMasks #CheekToCheek \n",
      "#CrowdSurfing \n",
      "#ThinTheHerd\n",
      "#ScienceWillWin \n",
      "#MAGA\n"
     ]
    },
    {
     "name": "stderr",
     "output_type": "stream",
     "text": [
      "Special tokens have been added in the vocabulary, make sure the associated word embedding are fine-tuned or trained.\n"
     ]
    },
    {
     "name": "stdout",
     "output_type": "stream",
     "text": [
      "================================================================================\n",
      "Tweet no.: 73\n",
      "Tweet: @FKUJAK1 They want fear. Fear brings the vibration down. That is why it is so important to get messages like yours out to the people.\n",
      "#TheGreatAwakening \n",
      "#nomask \n",
      "#NoVaccineForMe\n"
     ]
    },
    {
     "name": "stderr",
     "output_type": "stream",
     "text": [
      "Special tokens have been added in the vocabulary, make sure the associated word embedding are fine-tuned or trained.\n"
     ]
    },
    {
     "name": "stdout",
     "output_type": "stream",
     "text": [
      "================================================================================\n",
      "Tweet no.: 74\n",
      "Tweet: Oh no, someone else happy to be a sheep, to do what scientists say and trade away their freedoms. For what? Silly person . No wonder our economy has been destroyed with this attitude #NoMasks https://t.co/DPJHFPph0c\n"
     ]
    },
    {
     "name": "stderr",
     "output_type": "stream",
     "text": [
      "Special tokens have been added in the vocabulary, make sure the associated word embedding are fine-tuned or trained.\n"
     ]
    },
    {
     "name": "stdout",
     "output_type": "stream",
     "text": [
      "================================================================================\n",
      "Tweet no.: 75\n",
      "Tweet: Open mic moment. - hoax, everyone's been vaccinated any way, case death rate is 0.1, no need for masks #COVID19 #Hotmic #Vaccinated #NoMasks https://t.co/oyNTy07dvF\n"
     ]
    },
    {
     "name": "stderr",
     "output_type": "stream",
     "text": [
      "Special tokens have been added in the vocabulary, make sure the associated word embedding are fine-tuned or trained.\n"
     ]
    },
    {
     "name": "stdout",
     "output_type": "stream",
     "text": [
      "================================================================================\n",
      "Tweet no.: 76\n",
      "Tweet: BS #NoMask propaganda by left to scare Americans https://t.co/DYa493Sgun\n"
     ]
    },
    {
     "name": "stderr",
     "output_type": "stream",
     "text": [
      "Special tokens have been added in the vocabulary, make sure the associated word embedding are fine-tuned or trained.\n"
     ]
    },
    {
     "name": "stdout",
     "output_type": "stream",
     "text": [
      "================================================================================\n",
      "Tweet no.: 77\n",
      "Tweet: No mask, do it ninja stylee! #lifehacks #nomask #mask https://t.co/ZgKCwMOsgf\n"
     ]
    },
    {
     "name": "stderr",
     "output_type": "stream",
     "text": [
      "Special tokens have been added in the vocabulary, make sure the associated word embedding are fine-tuned or trained.\n"
     ]
    },
    {
     "name": "stdout",
     "output_type": "stream",
     "text": [
      "================================================================================\n",
      "Tweet no.: 78\n",
      "Tweet: I'm not wearing masks so the media can sit in there fucking houses and complain about American's not wearing marks while protesting.\n",
      "\n",
      "People at those protests can do what they want, it's America, if you are scared don't go.\n",
      "\n",
      "#nomasks\n"
     ]
    },
    {
     "name": "stderr",
     "output_type": "stream",
     "text": [
      "Special tokens have been added in the vocabulary, make sure the associated word embedding are fine-tuned or trained.\n"
     ]
    },
    {
     "name": "stdout",
     "output_type": "stream",
     "text": [
      "================================================================================\n",
      "Tweet no.: 79\n",
      "Tweet: @houmayor #nomask if you love life, liberty, and the pursuit of happiness- for the love of ALL HUMANITY - NO MASK.  Don't give into the fear, be a beacon of hope, a bright light as we come close to the end of this horrid turn of events.\n"
     ]
    },
    {
     "name": "stderr",
     "output_type": "stream",
     "text": [
      "Special tokens have been added in the vocabulary, make sure the associated word embedding are fine-tuned or trained.\n"
     ]
    },
    {
     "name": "stdout",
     "output_type": "stream",
     "text": [
      "================================================================================\n",
      "Tweet no.: 80\n",
      "Tweet: And #GroceryStores need to go to a #NoMasks then #NoService policy https://t.co/QOzlYWYh0S\n"
     ]
    },
    {
     "name": "stderr",
     "output_type": "stream",
     "text": [
      "Special tokens have been added in the vocabulary, make sure the associated word embedding are fine-tuned or trained.\n"
     ]
    },
    {
     "name": "stdout",
     "output_type": "stream",
     "text": [
      "================================================================================\n",
      "Tweet no.: 81\n",
      "Tweet: Yessss Jim Jordan! #NoMasks https://t.co/ckT0QE7Uh5\n"
     ]
    },
    {
     "name": "stderr",
     "output_type": "stream",
     "text": [
      "Special tokens have been added in the vocabulary, make sure the associated word embedding are fine-tuned or trained.\n"
     ]
    },
    {
     "name": "stdout",
     "output_type": "stream",
     "text": [
      "================================================================================\n",
      "Tweet no.: 82\n",
      "Tweet: RT @julie_kelly2: Yessss Jim Jordan! #NoMasks\n"
     ]
    },
    {
     "name": "stderr",
     "output_type": "stream",
     "text": [
      "Special tokens have been added in the vocabulary, make sure the associated word embedding are fine-tuned or trained.\n"
     ]
    },
    {
     "name": "stdout",
     "output_type": "stream",
     "text": [
      "================================================================================\n",
      "Tweet no.: 83\n",
      "Tweet: @HarrisCoJudge Thanks for causing more panic and fear...#noclue #nomask\n"
     ]
    },
    {
     "name": "stderr",
     "output_type": "stream",
     "text": [
      "Special tokens have been added in the vocabulary, make sure the associated word embedding are fine-tuned or trained.\n"
     ]
    },
    {
     "name": "stdout",
     "output_type": "stream",
     "text": [
      "================================================================================\n",
      "Tweet no.: 84\n",
      "Tweet: RT @julie_kelly2: Yessss Jim Jordan! #NoMasks https://t.co/ckT0QE7Uh5\n"
     ]
    },
    {
     "name": "stderr",
     "output_type": "stream",
     "text": [
      "Special tokens have been added in the vocabulary, make sure the associated word embedding are fine-tuned or trained.\n"
     ]
    },
    {
     "name": "stdout",
     "output_type": "stream",
     "text": [
      "================================================================================\n",
      "Tweet no.: 85\n",
      "Tweet: RT @julie_kelly2: Yessss Jim Jordan! #NoMasks\n"
     ]
    },
    {
     "name": "stderr",
     "output_type": "stream",
     "text": [
      "Special tokens have been added in the vocabulary, make sure the associated word embedding are fine-tuned or trained.\n"
     ]
    },
    {
     "name": "stdout",
     "output_type": "stream",
     "text": [
      "================================================================================\n",
      "Tweet no.: 86\n",
      "Tweet: RT @julie_kelly2: Yessss Jim Jordan! #NoMasks\n"
     ]
    },
    {
     "name": "stderr",
     "output_type": "stream",
     "text": [
      "Special tokens have been added in the vocabulary, make sure the associated word embedding are fine-tuned or trained.\n"
     ]
    },
    {
     "name": "stdout",
     "output_type": "stream",
     "text": [
      "================================================================================\n",
      "Tweet no.: 87\n",
      "Tweet: .@ChiefNewsham you down with PPE? Not MPD! #Ward4 you all be safe! @CMBrandonTodd is encouraging the increase potential Covid Policing in a neighborhood near you. @MayorBowser @DCPoliceDept don’t care about flattening the Curve. #StopMPD #COVID19 #Coronavirus #NoMasks #NoGloves https://t.co/nH4QxMy6kY\n"
     ]
    },
    {
     "name": "stderr",
     "output_type": "stream",
     "text": [
      "Special tokens have been added in the vocabulary, make sure the associated word embedding are fine-tuned or trained.\n"
     ]
    },
    {
     "name": "stdout",
     "output_type": "stream",
     "text": [
      "================================================================================\n",
      "Tweet no.: 88\n",
      "Tweet: How many times are networks floating subliminal messages like “during this uncertain time” “stay in &amp; stay safe”? It’s time for #Americans to fight back. Shut off the TV-go outside! #NoMask #BacktoWorkAmerica #OPENAMERICANOW It’s out right! 🇺🇸\n"
     ]
    },
    {
     "name": "stderr",
     "output_type": "stream",
     "text": [
      "Special tokens have been added in the vocabulary, make sure the associated word embedding are fine-tuned or trained.\n"
     ]
    },
    {
     "name": "stdout",
     "output_type": "stream",
     "text": [
      "================================================================================\n",
      "Tweet no.: 89\n",
      "Tweet: @GovAbbott \n",
      "@realDonaldTrump \n",
      "\n",
      "ALL DEMOCRAT MAYORS &amp; JUDGES! \n",
      "\n",
      "#INFRINGING\n",
      "#NOMASKS https://t.co/iSw4klb4WN\n"
     ]
    },
    {
     "name": "stderr",
     "output_type": "stream",
     "text": [
      "Special tokens have been added in the vocabulary, make sure the associated word embedding are fine-tuned or trained.\n"
     ]
    },
    {
     "name": "stdout",
     "output_type": "stream",
     "text": [
      "================================================================================\n",
      "Tweet no.: 90\n",
      "Tweet: Let him go! Give him a bike and a water bottle and send him on his way. \n",
      "#NoMask! https://t.co/APxXnwSE2z\n"
     ]
    },
    {
     "name": "stderr",
     "output_type": "stream",
     "text": [
      "Special tokens have been added in the vocabulary, make sure the associated word embedding are fine-tuned or trained.\n"
     ]
    },
    {
     "name": "stdout",
     "output_type": "stream",
     "text": [
      "================================================================================\n",
      "Tweet no.: 91\n",
      "Tweet: #NOmasks\n",
      "They don't protect the wearer. And most of everyone is infected.\n",
      "#imitateSweden\n",
      "@NYGovCuomo https://t.co/NipcZPW8Py\n"
     ]
    },
    {
     "name": "stderr",
     "output_type": "stream",
     "text": [
      "Special tokens have been added in the vocabulary, make sure the associated word embedding are fine-tuned or trained.\n"
     ]
    },
    {
     "name": "stdout",
     "output_type": "stream",
     "text": [
      "================================================================================\n",
      "Tweet no.: 92\n",
      "Tweet: Hmmm. Once again thanks Fauci, Gates and Birx. \n",
      "#Texas #Abbott @GregAbbott_TX #NFLDraft2020 @getongab #2A #BackToWorkNOW #NoMasks #reopen https://t.co/4B3kDjw8xD\n"
     ]
    },
    {
     "name": "stderr",
     "output_type": "stream",
     "text": [
      "Special tokens have been added in the vocabulary, make sure the associated word embedding are fine-tuned or trained.\n"
     ]
    },
    {
     "name": "stdout",
     "output_type": "stream",
     "text": [
      "================================================================================\n",
      "Tweet no.: 93\n",
      "Tweet: @GovMikeDeWine You can ask, suggest, and urge mask usage. It is a free country and I can still choose not to wear one. Cloth masks have been shown to be nearly completely ineffective in protecting from virus transmission. You can choose mask, I can choose #nomask\n"
     ]
    },
    {
     "name": "stderr",
     "output_type": "stream",
     "text": [
      "Special tokens have been added in the vocabulary, make sure the associated word embedding are fine-tuned or trained.\n"
     ]
    },
    {
     "name": "stdout",
     "output_type": "stream",
     "text": [
      "================================================================================\n",
      "Tweet no.: 94\n",
      "Tweet: RT @Ryan0neal: We’re not here to take part, we’re here to take over #NoMasks #NoViolence #WWG1WGA #Qanon #MAGA #WeThePeople #WhoIsQ #WeAreQ…\n"
     ]
    },
    {
     "name": "stderr",
     "output_type": "stream",
     "text": [
      "Special tokens have been added in the vocabulary, make sure the associated word embedding are fine-tuned or trained.\n"
     ]
    },
    {
     "name": "stdout",
     "output_type": "stream",
     "text": [
      "================================================================================\n",
      "Tweet no.: 95\n",
      "Tweet: RT @Ryan0neal: We’re not here to take part, we’re here to take over #NoMasks #NoViolence #WWG1WGA #Qanon #MAGA #WeThePeople #WhoIsQ #WeAreQ…\n"
     ]
    },
    {
     "name": "stderr",
     "output_type": "stream",
     "text": [
      "Special tokens have been added in the vocabulary, make sure the associated word embedding are fine-tuned or trained.\n"
     ]
    },
    {
     "name": "stdout",
     "output_type": "stream",
     "text": [
      "================================================================================\n",
      "Tweet no.: 96\n",
      "Tweet: RT @Ryan0neal: We’re not here to take part, we’re here to take over #NoMasks #NoViolence #WWG1WGA #Qanon #MAGA #WeThePeople #WhoIsQ #WeAreQ…\n"
     ]
    },
    {
     "name": "stderr",
     "output_type": "stream",
     "text": [
      "Special tokens have been added in the vocabulary, make sure the associated word embedding are fine-tuned or trained.\n"
     ]
    },
    {
     "name": "stdout",
     "output_type": "stream",
     "text": [
      "================================================================================\n",
      "Tweet no.: 97\n",
      "Tweet: RT @Ryan0neal: We’re not here to take part, we’re here to take over #NoMasks #NoViolence #WWG1WGA #Qanon #MAGA #WeThePeople #WhoIsQ #WeAreQ…\n"
     ]
    },
    {
     "name": "stderr",
     "output_type": "stream",
     "text": [
      "Special tokens have been added in the vocabulary, make sure the associated word embedding are fine-tuned or trained.\n"
     ]
    },
    {
     "name": "stdout",
     "output_type": "stream",
     "text": [
      "================================================================================\n",
      "Tweet no.: 98\n",
      "Tweet: RT @Ryan0neal: We’re not here to take part, we’re here to take over #NoMasks #NoViolence #WWG1WGA #Qanon #MAGA #WeThePeople #WhoIsQ #WeAreQ…\n"
     ]
    },
    {
     "name": "stderr",
     "output_type": "stream",
     "text": [
      "Special tokens have been added in the vocabulary, make sure the associated word embedding are fine-tuned or trained.\n"
     ]
    },
    {
     "name": "stdout",
     "output_type": "stream",
     "text": [
      "================================================================================\n",
      "Tweet no.: 99\n",
      "Tweet: RT @Ryan0neal: We’re not here to take part, we’re here to take over #NoMasks #NoViolence #WWG1WGA #Qanon #MAGA #WeThePeople #WhoIsQ #WeAreQ…\n"
     ]
    },
    {
     "name": "stderr",
     "output_type": "stream",
     "text": [
      "Special tokens have been added in the vocabulary, make sure the associated word embedding are fine-tuned or trained.\n"
     ]
    },
    {
     "name": "stdout",
     "output_type": "stream",
     "text": [
      "================================================================================\n",
      "Tweet no.: 100\n",
      "Tweet: RT @Ryan0neal: We’re not here to take part, we’re here to take over #NoMasks #NoViolence #WWG1WGA #Qanon #MAGA #WeThePeople #WhoIsQ #WeAreQ…\n"
     ]
    },
    {
     "name": "stderr",
     "output_type": "stream",
     "text": [
      "Special tokens have been added in the vocabulary, make sure the associated word embedding are fine-tuned or trained.\n"
     ]
    },
    {
     "name": "stdout",
     "output_type": "stream",
     "text": [
      "================================================================================\n",
      "Tweet no.: 101\n",
      "Tweet: RT @Ryan0neal: We’re not here to take part, we’re here to take over #NoMasks #NoViolence #WWG1WGA #Qanon #MAGA #WeThePeople #WhoIsQ #WeAreQ…\n"
     ]
    },
    {
     "name": "stderr",
     "output_type": "stream",
     "text": [
      "Special tokens have been added in the vocabulary, make sure the associated word embedding are fine-tuned or trained.\n"
     ]
    },
    {
     "name": "stdout",
     "output_type": "stream",
     "text": [
      "================================================================================\n",
      "Tweet no.: 102\n",
      "Tweet: \"Demanding that everyone wear a mask is intended to instill fear that deaths are on the rise.\" @realDonaldTrump @GovMikeDeWine @DrAmyActon  #NoMasks \n",
      "https://t.co/GX5FHtjybk\n"
     ]
    },
    {
     "name": "stderr",
     "output_type": "stream",
     "text": [
      "Special tokens have been added in the vocabulary, make sure the associated word embedding are fine-tuned or trained.\n"
     ]
    },
    {
     "name": "stdout",
     "output_type": "stream",
     "text": [
      "================================================================================\n",
      "Tweet no.: 103\n",
      "Tweet: RT @Ryan0neal: We’re not here to take part, we’re here to take over #NoMasks #NoViolence #WWG1WGA #Qanon #MAGA #WeThePeople #WhoIsQ #WeAreQ…\n"
     ]
    },
    {
     "name": "stderr",
     "output_type": "stream",
     "text": [
      "Special tokens have been added in the vocabulary, make sure the associated word embedding are fine-tuned or trained.\n"
     ]
    },
    {
     "name": "stdout",
     "output_type": "stream",
     "text": [
      "================================================================================\n",
      "Tweet no.: 104\n",
      "Tweet: RT @Ryan0neal: We’re not here to take part, we’re here to take over #NoMasks #NoViolence #WWG1WGA #Qanon #MAGA #WeThePeople #WhoIsQ #WeAreQ…\n"
     ]
    },
    {
     "name": "stderr",
     "output_type": "stream",
     "text": [
      "Special tokens have been added in the vocabulary, make sure the associated word embedding are fine-tuned or trained.\n"
     ]
    },
    {
     "name": "stdout",
     "output_type": "stream",
     "text": [
      "================================================================================\n",
      "Tweet no.: 105\n",
      "Tweet: @LibertyTaken Neither he nor Husted will ever win elected office again.  Unless they cheat with mail-in ballots, his daughter doesn't stand a chance at winning her race either.  #NoMasks\n"
     ]
    },
    {
     "name": "stderr",
     "output_type": "stream",
     "text": [
      "Special tokens have been added in the vocabulary, make sure the associated word embedding are fine-tuned or trained.\n"
     ]
    },
    {
     "name": "stdout",
     "output_type": "stream",
     "text": [
      "================================================================================\n",
      "Tweet no.: 106\n",
      "Tweet: RT @Ryan0neal: We’re not here to take part, we’re here to take over #NoMasks #NoViolence #WWG1WGA #Qanon #MAGA #WeThePeople #WhoIsQ #WeAreQ…\n"
     ]
    },
    {
     "name": "stderr",
     "output_type": "stream",
     "text": [
      "Special tokens have been added in the vocabulary, make sure the associated word embedding are fine-tuned or trained.\n"
     ]
    },
    {
     "name": "stdout",
     "output_type": "stream",
     "text": [
      "================================================================================\n",
      "Tweet no.: 107\n",
      "Tweet: RT @Ryan0neal: We’re not here to take part, we’re here to take over #NoMasks #NoViolence #WWG1WGA #Qanon #MAGA #WeThePeople #WhoIsQ #WeAreQ…\n"
     ]
    },
    {
     "name": "stderr",
     "output_type": "stream",
     "text": [
      "Special tokens have been added in the vocabulary, make sure the associated word embedding are fine-tuned or trained.\n"
     ]
    },
    {
     "name": "stdout",
     "output_type": "stream",
     "text": [
      "================================================================================\n",
      "Tweet no.: 108\n",
      "Tweet: RT @Ryan0neal: We’re not here to take part, we’re here to take over #NoMasks #NoViolence #WWG1WGA #Qanon #MAGA #WeThePeople #WhoIsQ #WeAreQ…\n"
     ]
    },
    {
     "name": "stderr",
     "output_type": "stream",
     "text": [
      "Special tokens have been added in the vocabulary, make sure the associated word embedding are fine-tuned or trained.\n"
     ]
    },
    {
     "name": "stdout",
     "output_type": "stream",
     "text": [
      "================================================================================\n",
      "Tweet no.: 109\n",
      "Tweet: RT @Ryan0neal: We’re not here to take part, we’re here to take over #NoMasks #NoViolence #WWG1WGA #Qanon #MAGA #WeThePeople #WhoIsQ #WeAreQ…\n"
     ]
    },
    {
     "name": "stderr",
     "output_type": "stream",
     "text": [
      "Special tokens have been added in the vocabulary, make sure the associated word embedding are fine-tuned or trained.\n"
     ]
    },
    {
     "name": "stdout",
     "output_type": "stream",
     "text": [
      "================================================================================\n",
      "Tweet no.: 110\n",
      "Tweet: @LucyTrumplican @gatewaypundit Question? Quickest way to shut down Congress? Pelosi in this pic.... #nomask #DCaintSF\n"
     ]
    },
    {
     "name": "stderr",
     "output_type": "stream",
     "text": [
      "Special tokens have been added in the vocabulary, make sure the associated word embedding are fine-tuned or trained.\n"
     ]
    },
    {
     "name": "stdout",
     "output_type": "stream",
     "text": [
      "================================================================================\n",
      "Tweet no.: 111\n",
      "Tweet: RT @Ryan0neal: We’re not here to take part, we’re here to take over #NoMasks #NoViolence #WWG1WGA #Qanon #MAGA #WeThePeople #WhoIsQ #WeAreQ…\n"
     ]
    },
    {
     "name": "stderr",
     "output_type": "stream",
     "text": [
      "Special tokens have been added in the vocabulary, make sure the associated word embedding are fine-tuned or trained.\n"
     ]
    },
    {
     "name": "stdout",
     "output_type": "stream",
     "text": [
      "================================================================================\n",
      "Tweet no.: 112\n",
      "Tweet: RT @Ryan0neal: We’re not here to take part, we’re here to take over #NoMasks #NoViolence #WWG1WGA #Qanon #MAGA #WeThePeople #WhoIsQ #WeAreQ…\n"
     ]
    },
    {
     "name": "stderr",
     "output_type": "stream",
     "text": [
      "Special tokens have been added in the vocabulary, make sure the associated word embedding are fine-tuned or trained.\n"
     ]
    },
    {
     "name": "stdout",
     "output_type": "stream",
     "text": [
      "================================================================================\n",
      "Tweet no.: 113\n",
      "Tweet: RT @Ryan0neal: We’re not here to take part, we’re here to take over #NoMasks #NoViolence #WWG1WGA #Qanon #MAGA #WeThePeople #WhoIsQ #WeAreQ…\n"
     ]
    },
    {
     "name": "stderr",
     "output_type": "stream",
     "text": [
      "Special tokens have been added in the vocabulary, make sure the associated word embedding are fine-tuned or trained.\n"
     ]
    },
    {
     "name": "stdout",
     "output_type": "stream",
     "text": [
      "================================================================================\n",
      "Tweet no.: 114\n",
      "Tweet: RT @Ryan0neal: We’re not here to take part, we’re here to take over #NoMasks #NoViolence #WWG1WGA #Qanon #MAGA #WeThePeople #WhoIsQ #WeAreQ…\n"
     ]
    },
    {
     "name": "stderr",
     "output_type": "stream",
     "text": [
      "Special tokens have been added in the vocabulary, make sure the associated word embedding are fine-tuned or trained.\n"
     ]
    },
    {
     "name": "stdout",
     "output_type": "stream",
     "text": [
      "================================================================================\n",
      "Tweet no.: 115\n",
      "Tweet: 9 out of 10 family room shots during #NFLDraft brought to you courtesy of @RentACenter #NoMasks #COVID19\n"
     ]
    },
    {
     "name": "stderr",
     "output_type": "stream",
     "text": [
      "Special tokens have been added in the vocabulary, make sure the associated word embedding are fine-tuned or trained.\n"
     ]
    },
    {
     "name": "stdout",
     "output_type": "stream",
     "text": [
      "================================================================================\n",
      "Tweet no.: 116\n",
      "Tweet: RT @Ryan0neal: We’re not here to take part, we’re here to take over #NoMasks #NoViolence #WWG1WGA #Qanon #MAGA #WeThePeople #WhoIsQ #WeAreQ…\n"
     ]
    },
    {
     "name": "stderr",
     "output_type": "stream",
     "text": [
      "Special tokens have been added in the vocabulary, make sure the associated word embedding are fine-tuned or trained.\n"
     ]
    },
    {
     "name": "stdout",
     "output_type": "stream",
     "text": [
      "================================================================================\n",
      "Tweet no.: 117\n",
      "Tweet: @Hickenlooper I'm of the opinion of power to the people, and sic semper tyranis Mr Hickenlooper. You couldn't buy your way into office (again).\n",
      "#nomasks\n"
     ]
    },
    {
     "name": "stderr",
     "output_type": "stream",
     "text": [
      "Special tokens have been added in the vocabulary, make sure the associated word embedding are fine-tuned or trained.\n"
     ]
    },
    {
     "name": "stdout",
     "output_type": "stream",
     "text": [
      "================================================================================\n",
      "Tweet no.: 118\n",
      "Tweet: RT @julie_kelly2: Yessss Jim Jordan! #NoMasks https://t.co/ckT0QE7Uh5\n"
     ]
    },
    {
     "name": "stderr",
     "output_type": "stream",
     "text": [
      "Special tokens have been added in the vocabulary, make sure the associated word embedding are fine-tuned or trained.\n"
     ]
    },
    {
     "name": "stdout",
     "output_type": "stream",
     "text": [
      "================================================================================\n",
      "Tweet no.: 119\n",
      "Tweet: @Shannon70798106 @sandyaschneider Then go and patronize a business that isn’t run by subservient idiots. There are plenty of them. #IwillNOTComply #WeAreBeingPlayed #NoMask #TheVirusIsAHoax\n"
     ]
    },
    {
     "name": "stderr",
     "output_type": "stream",
     "text": [
      "Special tokens have been added in the vocabulary, make sure the associated word embedding are fine-tuned or trained.\n"
     ]
    },
    {
     "name": "stdout",
     "output_type": "stream",
     "text": [
      "================================================================================\n",
      "Tweet no.: 120\n",
      "Tweet: So is Nasrec a covid-19 free zone? 🧐 #LockdownSA #NoMasks #noSocialDistancing #why\n"
     ]
    },
    {
     "name": "stderr",
     "output_type": "stream",
     "text": [
      "Special tokens have been added in the vocabulary, make sure the associated word embedding are fine-tuned or trained.\n"
     ]
    },
    {
     "name": "stdout",
     "output_type": "stream",
     "text": [
      "================================================================================\n",
      "Tweet no.: 121\n",
      "Tweet: Greets &amp; #BlessedBeFriday #Globalvibetribe! Today is a #beautiful &amp; #lovely day &amp; #LOVE is in the air! You have established your #QuarantineRoutine &amp; even the once mundane things have meaning. Today I give U permission 2 #kiss ur #spouses &amp; #mates w/#nomasks! *chuckles* ~Sage✨ https://t.co/51R2fYrRX7\n"
     ]
    },
    {
     "name": "stderr",
     "output_type": "stream",
     "text": [
      "Special tokens have been added in the vocabulary, make sure the associated word embedding are fine-tuned or trained.\n"
     ]
    },
    {
     "name": "stdout",
     "output_type": "stream",
     "text": [
      "================================================================================\n",
      "Tweet no.: 122\n",
      "Tweet: \"“We are not Cincinnati! We are not Columbus! They have to understand that. We are responsible people who are trained in this and we’ve thought long and hard about this. We think we can handle this.”\" @GovMikeDeWine #NoMasks\n",
      "https://t.co/1QfzHYsaum\n"
     ]
    },
    {
     "name": "stderr",
     "output_type": "stream",
     "text": [
      "Special tokens have been added in the vocabulary, make sure the associated word embedding are fine-tuned or trained.\n"
     ]
    },
    {
     "name": "stdout",
     "output_type": "stream",
     "text": [
      "================================================================================\n",
      "Tweet no.: 123\n",
      "Tweet: RT @Ryan0neal: We’re not here to take part, we’re here to take over #NoMasks #NoViolence #WWG1WGA #Qanon #MAGA #WeThePeople #WhoIsQ #WeAreQ…\n"
     ]
    },
    {
     "name": "stderr",
     "output_type": "stream",
     "text": [
      "Special tokens have been added in the vocabulary, make sure the associated word embedding are fine-tuned or trained.\n"
     ]
    },
    {
     "name": "stdout",
     "output_type": "stream",
     "text": [
      "================================================================================\n",
      "Tweet no.: 124\n",
      "Tweet: @MichiganHHS A review of six clinical studies, published in the Canadian Medical Association Journal, found that medical workers caught viruses from their patients just as often when they used N95 respirators as when they used ordinary medical masks https://t.co/RdcY1S1I5M #NOMasks \n",
      "#COVID19\n"
     ]
    },
    {
     "name": "stderr",
     "output_type": "stream",
     "text": [
      "Special tokens have been added in the vocabulary, make sure the associated word embedding are fine-tuned or trained.\n"
     ]
    },
    {
     "name": "stdout",
     "output_type": "stream",
     "text": [
      "================================================================================\n",
      "Tweet no.: 125\n",
      "Tweet: @SpeakerPelosi @SenSchumer @dougducey Tomorrow I am going to Work!!! You are not restricting my Freedom or Rights anymore.  Don’t like it to bad!!! I Don’t Work For You!! You Work For Me Get It!!! #NoMask\n"
     ]
    },
    {
     "name": "stderr",
     "output_type": "stream",
     "text": [
      "Special tokens have been added in the vocabulary, make sure the associated word embedding are fine-tuned or trained.\n"
     ]
    },
    {
     "name": "stdout",
     "output_type": "stream",
     "text": [
      "================================================================================\n",
      "Tweet no.: 126\n",
      "Tweet: @GoldenTalon77 The #coronamoaners should #choosedeath\n",
      "Too many cretins in this world\n",
      "#nomask\n",
      "#Covid_19 https://t.co/mVjrz1Lriu\n"
     ]
    },
    {
     "name": "stderr",
     "output_type": "stream",
     "text": [
      "Special tokens have been added in the vocabulary, make sure the associated word embedding are fine-tuned or trained.\n"
     ]
    },
    {
     "name": "stdout",
     "output_type": "stream",
     "text": [
      "================================================================================\n",
      "Tweet no.: 127\n",
      "Tweet: “If this guy can stay healthy he’s going to be a force in the league.” -NFL DRAFT ANNOUNCER\n",
      "\n",
      "Draft pick surrounded by 39 people crowded into a tiny living room. #covid19 #nfldraft #socialdistancing #nomasks\n"
     ]
    },
    {
     "name": "stderr",
     "output_type": "stream",
     "text": [
      "Special tokens have been added in the vocabulary, make sure the associated word embedding are fine-tuned or trained.\n"
     ]
    },
    {
     "name": "stdout",
     "output_type": "stream",
     "text": [
      "================================================================================\n",
      "Tweet no.: 128\n",
      "Tweet: @UPS #UPS WARNING! DO NOT ENGAGE WITH YOUR UPS DRIVER OR THEY WILL CALL YOU AGGRESSIVE AND BLOCK YOU AKA YOU CANNOT GET DELIVERIES TO YOUR HOMEDO NOT LET THIS HAPPEN TO YOU IS IT ME OR DOES THIS DRIVE HAVE #ATTITUDE #SPREADTHEWORD #NOMASK #NOGLOVES #BADCUSTOMERSERVICE #DELIVERY https://t.co/fjeeDH3ELt\n"
     ]
    },
    {
     "name": "stderr",
     "output_type": "stream",
     "text": [
      "Special tokens have been added in the vocabulary, make sure the associated word embedding are fine-tuned or trained.\n"
     ]
    },
    {
     "name": "stdout",
     "output_type": "stream",
     "text": [
      "================================================================================\n",
      "Tweet no.: 129\n",
      "Tweet: Peaceful assembly of American Patriots TODAY at the Ohio Statehouse in Columbus @ 1PM.  #iwillnotcomply #NoMasks\n"
     ]
    },
    {
     "name": "stderr",
     "output_type": "stream",
     "text": [
      "Special tokens have been added in the vocabulary, make sure the associated word embedding are fine-tuned or trained.\n"
     ]
    },
    {
     "name": "stdout",
     "output_type": "stream",
     "text": [
      "================================================================================\n",
      "Tweet no.: 130\n",
      "Tweet: Don't know if this is driven by greed or by need. All I know is that this behavior is exactly why the virus has been bringing ppl down. Bit by bit. Area by area. #NoSocialDistancing #nomask #COVID2019india #Thane @ThaneCityPolice @ImThanekar\n"
     ]
    },
    {
     "name": "stderr",
     "output_type": "stream",
     "text": [
      "Special tokens have been added in the vocabulary, make sure the associated word embedding are fine-tuned or trained.\n"
     ]
    },
    {
     "name": "stdout",
     "output_type": "stream",
     "text": [
      "================================================================================\n",
      "Tweet no.: 131\n",
      "Tweet: Could @EdEmmett run for office again to get this idiocratic know nothing @LinaHidalgoTX out? Asking for a friend. #GodBless #nomask #lockdown #OPENAMERICANOW https://t.co/amXDjCKoM3\n"
     ]
    },
    {
     "name": "stderr",
     "output_type": "stream",
     "text": [
      "Special tokens have been added in the vocabulary, make sure the associated word embedding are fine-tuned or trained.\n"
     ]
    },
    {
     "name": "stdout",
     "output_type": "stream",
     "text": [
      "================================================================================\n",
      "Tweet no.: 132\n",
      "Tweet: We need an anti mask movement #NoMask\n"
     ]
    },
    {
     "name": "stderr",
     "output_type": "stream",
     "text": [
      "Special tokens have been added in the vocabulary, make sure the associated word embedding are fine-tuned or trained.\n"
     ]
    },
    {
     "name": "stdout",
     "output_type": "stream",
     "text": [
      "================================================================================\n",
      "Tweet no.: 133\n",
      "Tweet: #NoMasks go lay in the 🌞 https://t.co/uT9rMMm3nj\n"
     ]
    },
    {
     "name": "stderr",
     "output_type": "stream",
     "text": [
      "Special tokens have been added in the vocabulary, make sure the associated word embedding are fine-tuned or trained.\n"
     ]
    },
    {
     "name": "stdout",
     "output_type": "stream",
     "text": [
      "================================================================================\n",
      "Tweet no.: 134\n",
      "Tweet: RT @LavenderLives: #NoMasks go lay in the 🌞\n"
     ]
    },
    {
     "name": "stderr",
     "output_type": "stream",
     "text": [
      "Special tokens have been added in the vocabulary, make sure the associated word embedding are fine-tuned or trained.\n"
     ]
    },
    {
     "name": "stdout",
     "output_type": "stream",
     "text": [
      "================================================================================\n",
      "Tweet no.: 135\n",
      "Tweet: RT @lightonearth111: We need an anti mask movement #NoMask\n"
     ]
    },
    {
     "name": "stderr",
     "output_type": "stream",
     "text": [
      "Special tokens have been added in the vocabulary, make sure the associated word embedding are fine-tuned or trained.\n"
     ]
    },
    {
     "name": "stdout",
     "output_type": "stream",
     "text": [
      "================================================================================\n",
      "Tweet no.: 136\n",
      "Tweet: @mitchellvii Top down in AZ! #nomasks #nononsense #OpenArizona https://t.co/c1IgIgV8RZ\n"
     ]
    },
    {
     "name": "stderr",
     "output_type": "stream",
     "text": [
      "Special tokens have been added in the vocabulary, make sure the associated word embedding are fine-tuned or trained.\n"
     ]
    },
    {
     "name": "stdout",
     "output_type": "stream",
     "text": [
      "================================================================================\n",
      "Tweet no.: 137\n",
      "Tweet: @HPoindexter3 @1776Stonewall If you are wearing your mask you are protected. So my mask is useless. \n",
      "My body my choice, right liberals?\n",
      "#NoMasks\n"
     ]
    },
    {
     "name": "stderr",
     "output_type": "stream",
     "text": [
      "Special tokens have been added in the vocabulary, make sure the associated word embedding are fine-tuned or trained.\n"
     ]
    },
    {
     "name": "stdout",
     "output_type": "stream",
     "text": [
      "================================================================================\n",
      "Tweet no.: 138\n",
      "Tweet: During this crazy time we are living in, let's add a little bit of silliness to it! \n",
      "\n",
      "https://t.co/kXLD2XF9HT\n",
      "\n",
      "#Covid19, #coronavirus, #nomasks, #maskshortage, #wehavetowearmasks https://t.co/EQqwb7EVMq\n"
     ]
    },
    {
     "name": "stderr",
     "output_type": "stream",
     "text": [
      "Special tokens have been added in the vocabulary, make sure the associated word embedding are fine-tuned or trained.\n"
     ]
    },
    {
     "name": "stdout",
     "output_type": "stream",
     "text": [
      "================================================================================\n",
      "Tweet no.: 139\n",
      "Tweet: @Maggie_Vespa Clackamette Park today. This is NOT how we beat #COVID19 Look carefully, #NoMasks even. https://t.co/ZcMI8djyxY\n"
     ]
    },
    {
     "name": "stderr",
     "output_type": "stream",
     "text": [
      "Special tokens have been added in the vocabulary, make sure the associated word embedding are fine-tuned or trained.\n"
     ]
    },
    {
     "name": "stdout",
     "output_type": "stream",
     "text": [
      "================================================================================\n",
      "Tweet no.: 140\n",
      "Tweet: @MamataOfficial Respected Didi 🙏\n",
      "Sealdah Koley Market is #NoLockdown, #NoMask #NoSocialDistancing and full #Crowd 24hr open this market plz CM Madam Lock Koley Market #SaveSealdah peoples 🙏\n"
     ]
    },
    {
     "name": "stderr",
     "output_type": "stream",
     "text": [
      "Special tokens have been added in the vocabulary, make sure the associated word embedding are fine-tuned or trained.\n"
     ]
    },
    {
     "name": "stdout",
     "output_type": "stream",
     "text": [
      "================================================================================\n",
      "Tweet no.: 141\n",
      "Tweet: As far as I am concerned (unless you are in a doctor’s office of some kind or a hospital) just wearing a mask in “general” OR because it was mandated is a pure symbol of FEAR and don’t think for one second the far left doesn’t know it! #NoMasks\n"
     ]
    },
    {
     "name": "stderr",
     "output_type": "stream",
     "text": [
      "Special tokens have been added in the vocabulary, make sure the associated word embedding are fine-tuned or trained.\n"
     ]
    },
    {
     "name": "stdout",
     "output_type": "stream",
     "text": [
      "================================================================================\n",
      "Tweet no.: 142\n",
      "Tweet: 🤣#NoMask for my family!  We prefer fresh oxygen and not breathing in out own carbon dioxide! https://t.co/BJy4rk4fmQ\n"
     ]
    },
    {
     "name": "stderr",
     "output_type": "stream",
     "text": [
      "Special tokens have been added in the vocabulary, make sure the associated word embedding are fine-tuned or trained.\n"
     ]
    },
    {
     "name": "stdout",
     "output_type": "stream",
     "text": [
      "================================================================================\n",
      "Tweet no.: 143\n",
      "Tweet: @GovMikeDeWine MY BODY. MY CHOICE. #noMask\n",
      "\n",
      "This is a personal health right violation. Some of us understand how real immunity works. ALL of us have the right to live free and make our own health decisions. PLEASE LOOK AT THE STUDIES. \n",
      "\n",
      "I.WILL.NOT.WEAR.A.MASK\n",
      "#freespeech\n",
      "#myBodyMyChoice\n"
     ]
    },
    {
     "name": "stderr",
     "output_type": "stream",
     "text": [
      "Special tokens have been added in the vocabulary, make sure the associated word embedding are fine-tuned or trained.\n"
     ]
    },
    {
     "name": "stdout",
     "output_type": "stream",
     "text": [
      "================================================================================\n",
      "Tweet no.: 144\n",
      "Tweet: @alliemarie777 @GovMikeDeWine I’m requesting to my hairdresser that her chair be put outside in the sun 🌞 and we’ll all be safe!  #NoMask\n"
     ]
    },
    {
     "name": "stderr",
     "output_type": "stream",
     "text": [
      "Special tokens have been added in the vocabulary, make sure the associated word embedding are fine-tuned or trained.\n"
     ]
    },
    {
     "name": "stdout",
     "output_type": "stream",
     "text": [
      "================================================================================\n",
      "Tweet no.: 145\n",
      "Tweet: @GovMikeDeWine NO MASKS!! It should be our choice, you better enjoy your 4 years because you won't have another term. Been a lifelong republican but will not vote for you again!!!! #NoMasks #recallgovenordewine\n"
     ]
    },
    {
     "name": "stderr",
     "output_type": "stream",
     "text": [
      "Special tokens have been added in the vocabulary, make sure the associated word embedding are fine-tuned or trained.\n"
     ]
    },
    {
     "name": "stdout",
     "output_type": "stream",
     "text": [
      "================================================================================\n",
      "Tweet no.: 146\n",
      "Tweet: masks: \n",
      "1 unhygenic\n",
      "2. can suffer from CO2 poisoning\n",
      "https://t.co/udAoQoVdmk\n",
      "3. you need to change them requently\n",
      "4. masks prevent immune system respondingto changes\n",
      "5. youd have to wear them for ever\n",
      "#NoMasks \n",
      "#COVID19 https://t.co/S9nIKxzTTR\n"
     ]
    },
    {
     "name": "stderr",
     "output_type": "stream",
     "text": [
      "Special tokens have been added in the vocabulary, make sure the associated word embedding are fine-tuned or trained.\n"
     ]
    },
    {
     "name": "stdout",
     "output_type": "stream",
     "text": [
      "================================================================================\n",
      "Tweet no.: 147\n",
      "Tweet: The No Mask No Service is Bullshit! Main reason they want you wearing masks, is to appears there is a pandemic. I am hard of hearing I read lips, now what, no understanding one another, no smiling at each other, no communication, no connection! #nomask #NoMasks  #NoMaskNoMuzzle\n"
     ]
    },
    {
     "name": "stderr",
     "output_type": "stream",
     "text": [
      "Special tokens have been added in the vocabulary, make sure the associated word embedding are fine-tuned or trained.\n"
     ]
    },
    {
     "name": "stdout",
     "output_type": "stream",
     "text": [
      "================================================================================\n",
      "Tweet no.: 148\n",
      "Tweet: #NoMask as a woman I will not be subjected to radical ways to shut us up . This whole thing is BS if you want to wear a mask wear if you don’t don’t. I’m not a Muslim no one will stop us.\n"
     ]
    },
    {
     "name": "stderr",
     "output_type": "stream",
     "text": [
      "Special tokens have been added in the vocabulary, make sure the associated word embedding are fine-tuned or trained.\n"
     ]
    },
    {
     "name": "stdout",
     "output_type": "stream",
     "text": [
      "================================================================================\n",
      "Tweet no.: 149\n",
      "Tweet: @ChuckCallesto Not even if h3ll were to freeze over 🤨\n",
      "\n",
      "#NoMasks \n",
      "#NoStayAtHome either\n"
     ]
    },
    {
     "name": "stderr",
     "output_type": "stream",
     "text": [
      "Special tokens have been added in the vocabulary, make sure the associated word embedding are fine-tuned or trained.\n"
     ]
    },
    {
     "name": "stdout",
     "output_type": "stream",
     "text": [
      "================================================================================\n",
      "Tweet no.: 150\n",
      "Tweet: @LegendaryEnergy @KurtSchlichter He ain't on our side bruh. This shit will go on as long as we comply. I am not complying. #nomask #noshot #notest\n"
     ]
    },
    {
     "name": "stderr",
     "output_type": "stream",
     "text": [
      "Special tokens have been added in the vocabulary, make sure the associated word embedding are fine-tuned or trained.\n"
     ]
    },
    {
     "name": "stdout",
     "output_type": "stream",
     "text": [
      "================================================================================\n",
      "Tweet no.: 151\n",
      "Tweet: My body my choice #NoMasks \n",
      "My life Virus' choice #nomask\n"
     ]
    },
    {
     "name": "stderr",
     "output_type": "stream",
     "text": [
      "Special tokens have been added in the vocabulary, make sure the associated word embedding are fine-tuned or trained.\n"
     ]
    },
    {
     "name": "stdout",
     "output_type": "stream",
     "text": [
      "================================================================================\n",
      "Tweet no.: 152\n",
      "Tweet: While @canarabank is preaching social distancing, this is how your employee at Ashok Vihar Branch, Deep Market New Delhi, managing entry/exit of people. #nomask #worlddayforsafetyandhealthatwork #SocialDistancing . You are putting many lives in danger and at the same time ....... https://t.co/pSQIwmIhpo https://t.co/3uoOew3VzR\n"
     ]
    },
    {
     "name": "stderr",
     "output_type": "stream",
     "text": [
      "Special tokens have been added in the vocabulary, make sure the associated word embedding are fine-tuned or trained.\n"
     ]
    },
    {
     "name": "stdout",
     "output_type": "stream",
     "text": [
      "================================================================================\n",
      "Tweet no.: 153\n",
      "Tweet: @tnewtondunn Masks are bad science. Feels like Nicola Sturgeon and others wanna prolong lockdown by stalling inevitable spread to herd immunity to heap worse economic pain on us to go crawling back to EU! Here's the best explanation I've seen why #NoMasks for #Covid19\n",
      "https://t.co/tN6Ul8Yt3q\n"
     ]
    },
    {
     "name": "stderr",
     "output_type": "stream",
     "text": [
      "Special tokens have been added in the vocabulary, make sure the associated word embedding are fine-tuned or trained.\n"
     ]
    },
    {
     "name": "stdout",
     "output_type": "stream",
     "text": [
      "================================================================================\n",
      "Tweet no.: 154\n",
      "Tweet: Feels good to be able to sit down in a restaurant again. #50percentcapacity #nomask https://t.co/bjpO9dEeSw\n"
     ]
    },
    {
     "name": "stderr",
     "output_type": "stream",
     "text": [
      "Special tokens have been added in the vocabulary, make sure the associated word embedding are fine-tuned or trained.\n"
     ]
    },
    {
     "name": "stdout",
     "output_type": "stream",
     "text": [
      "================================================================================\n",
      "Tweet no.: 155\n",
      "Tweet: Did you see #GOP #Pence touring the #MayoClinic? The only man (of course no women) in the room who doesn't understand #COVID19, hence #nomask. The person leading the pandemic prevention team? #epicfailure #DarwinAwards https://t.co/5jFDCxHkta\n"
     ]
    },
    {
     "name": "stderr",
     "output_type": "stream",
     "text": [
      "Special tokens have been added in the vocabulary, make sure the associated word embedding are fine-tuned or trained.\n"
     ]
    },
    {
     "name": "stdout",
     "output_type": "stream",
     "text": [
      "================================================================================\n",
      "Tweet no.: 156\n",
      "Tweet: We must all fight the draconian measures of trying to force and mandate masks! Cloth masks do not help &amp; wearing masks are not healthy. #nomasks https://t.co/gVWbIA0eZ6\n"
     ]
    },
    {
     "name": "stderr",
     "output_type": "stream",
     "text": [
      "Special tokens have been added in the vocabulary, make sure the associated word embedding are fine-tuned or trained.\n"
     ]
    },
    {
     "name": "stdout",
     "output_type": "stream",
     "text": [
      "================================================================================\n",
      "Tweet no.: 157\n",
      "Tweet: @GovMikeDeWine @DrAmyActon There you go pushing vaccines. Vaccines are Toxic and Dangerous. Vaccine Manufacturers have NO Liability. In addition, Payouts by the national Vaccine Injury Compensation Program, or VICP, have now topped $4 billion.\n",
      "#nomask #NoVaccineForMe\n"
     ]
    },
    {
     "name": "stderr",
     "output_type": "stream",
     "text": [
      "Special tokens have been added in the vocabulary, make sure the associated word embedding are fine-tuned or trained.\n"
     ]
    },
    {
     "name": "stdout",
     "output_type": "stream",
     "text": [
      "================================================================================\n",
      "Tweet no.: 158\n",
      "Tweet: @brianschatz @Mike_Pence HOW FUCKING DARE YOU \n",
      "But shame on @MayoClinic FOR ALLOWING #pence #nomask ENDANGER #patients OMG #penceresign WE Don't listen to you step down from Chairing #TaskForce #replacePencetaskforce OMG\n",
      "#mayoclinic shame on you too #penceknew\n"
     ]
    },
    {
     "name": "stderr",
     "output_type": "stream",
     "text": [
      "Special tokens have been added in the vocabulary, make sure the associated word embedding are fine-tuned or trained.\n"
     ]
    },
    {
     "name": "stdout",
     "output_type": "stream",
     "text": [
      "================================================================================\n",
      "Tweet no.: 159\n",
      "Tweet: This picture just doomed any political chance #Pence has in the future\n",
      "\n",
      "#NoMask\n",
      "#MayoClinic \n",
      "#CoronaVirus https://t.co/LugPG1LlYf\n"
     ]
    },
    {
     "name": "stderr",
     "output_type": "stream",
     "text": [
      "Special tokens have been added in the vocabulary, make sure the associated word embedding are fine-tuned or trained.\n"
     ]
    },
    {
     "name": "stdout",
     "output_type": "stream",
     "text": [
      "================================================================================\n",
      "Tweet no.: 160\n",
      "Tweet: \"The proper function of man is to live, not to exist. I shall not waste my days in trying to prolong them. I shall use my time.\" #JackLondon\n",
      "\n",
      "#LiberateAmerica \n",
      "#NoMask\n",
      "#tuesdayvibes \n",
      "#KAG https://t.co/EBe5EIVbIY\n"
     ]
    },
    {
     "ename": "ValueError",
     "evalue": "Connection error, and we cannot find the requested files in the cached path. Please try again or make sure your Internet connection is on.",
     "output_type": "error",
     "traceback": [
      "\u001b[0;31m---------------------------------------------------------------------------\u001b[0m",
      "\u001b[0;31mValueError\u001b[0m                                Traceback (most recent call last)",
      "\u001b[0;32m<ipython-input-48-f3d436c37a8d>\u001b[0m in \u001b[0;36m<module>\u001b[0;34m\u001b[0m\n\u001b[1;32m      2\u001b[0m \u001b[0mwrt_dir\u001b[0m \u001b[0;34m=\u001b[0m \u001b[0;34m\"../data/BERTTweet_Features\"\u001b[0m\u001b[0;34m\u001b[0m\u001b[0;34m\u001b[0m\u001b[0m\n\u001b[1;32m      3\u001b[0m \u001b[0;34m\u001b[0m\u001b[0m\n\u001b[0;32m----> 4\u001b[0;31m \u001b[0mwrt_single_file\u001b[0m\u001b[0;34m(\u001b[0m\u001b[0mos\u001b[0m\u001b[0;34m.\u001b[0m\u001b[0mpath\u001b[0m\u001b[0;34m.\u001b[0m\u001b[0mjoin\u001b[0m\u001b[0;34m(\u001b[0m\u001b[0;34m\"../data/nomask_tweets_v2_eng\"\u001b[0m\u001b[0;34m,\u001b[0m \u001b[0mfilename\u001b[0m\u001b[0;34m)\u001b[0m\u001b[0;34m,\u001b[0m \u001b[0mwrt_dir\u001b[0m\u001b[0;34m)\u001b[0m\u001b[0;34m\u001b[0m\u001b[0;34m\u001b[0m\u001b[0m\n\u001b[0m",
      "\u001b[0;32m<ipython-input-46-2fc705f2b9d4>\u001b[0m in \u001b[0;36mwrt_single_file\u001b[0;34m(filename, wrt_dir)\u001b[0m\n\u001b[1;32m      1\u001b[0m \u001b[0;32mdef\u001b[0m \u001b[0mwrt_single_file\u001b[0m\u001b[0;34m(\u001b[0m\u001b[0mfilename\u001b[0m\u001b[0;34m,\u001b[0m \u001b[0mwrt_dir\u001b[0m\u001b[0;34m)\u001b[0m\u001b[0;34m:\u001b[0m\u001b[0;34m\u001b[0m\u001b[0;34m\u001b[0m\u001b[0m\n\u001b[1;32m      2\u001b[0m     \u001b[0mdf\u001b[0m \u001b[0;34m=\u001b[0m \u001b[0mpd\u001b[0m\u001b[0;34m.\u001b[0m\u001b[0mread_csv\u001b[0m\u001b[0;34m(\u001b[0m\u001b[0mfilename\u001b[0m\u001b[0;34m)\u001b[0m\u001b[0;34m\u001b[0m\u001b[0;34m\u001b[0m\u001b[0m\n\u001b[0;32m----> 3\u001b[0;31m     \u001b[0mlatent_val_df\u001b[0m \u001b[0;34m=\u001b[0m \u001b[0mfeature_extraction_via_BERTTweet\u001b[0m\u001b[0;34m.\u001b[0m\u001b[0mget_features\u001b[0m\u001b[0;34m(\u001b[0m\u001b[0mdf\u001b[0m\u001b[0;34m,\u001b[0m \u001b[0;36m0\u001b[0m\u001b[0;34m)\u001b[0m\u001b[0;34m\u001b[0m\u001b[0;34m\u001b[0m\u001b[0m\n\u001b[0m\u001b[1;32m      4\u001b[0m \u001b[0;34m\u001b[0m\u001b[0m\n\u001b[1;32m      5\u001b[0m     \u001b[0;31m# write file to disk\u001b[0m\u001b[0;34m\u001b[0m\u001b[0;34m\u001b[0m\u001b[0;34m\u001b[0m\u001b[0m\n",
      "\u001b[0;32m~/usf_courses/Fall20/socialMM_P7/scripts/feature_extraction_via_BERTTweet.py\u001b[0m in \u001b[0;36mget_features\u001b[0;34m(df, tweet_txt_col_idx)\u001b[0m\n\u001b[1;32m     39\u001b[0m                 \u001b[0mprint\u001b[0m\u001b[0;34m(\u001b[0m\u001b[0;34m\"Tweet no.:\"\u001b[0m\u001b[0;34m,\u001b[0m \u001b[0mi\u001b[0m \u001b[0;34m+\u001b[0m \u001b[0;36m1\u001b[0m\u001b[0;34m)\u001b[0m\u001b[0;34m\u001b[0m\u001b[0;34m\u001b[0m\u001b[0m\n\u001b[1;32m     40\u001b[0m                 \u001b[0;31m# print(\"Tweet:\", df.iloc[i, tweet_txt_col_idx])\u001b[0m\u001b[0;34m\u001b[0m\u001b[0;34m\u001b[0m\u001b[0;34m\u001b[0m\u001b[0m\n\u001b[0;32m---> 41\u001b[0;31m                 \u001b[0mfeature\u001b[0m \u001b[0;34m=\u001b[0m \u001b[0mget_BERTTweet_features\u001b[0m\u001b[0;34m(\u001b[0m\u001b[0mdf\u001b[0m\u001b[0;34m.\u001b[0m\u001b[0miloc\u001b[0m\u001b[0;34m[\u001b[0m\u001b[0mi\u001b[0m\u001b[0;34m,\u001b[0m \u001b[0mtweet_txt_col_idx\u001b[0m\u001b[0;34m]\u001b[0m\u001b[0;34m)\u001b[0m\u001b[0;34m\u001b[0m\u001b[0;34m\u001b[0m\u001b[0m\n\u001b[0m\u001b[1;32m     42\u001b[0m                 \u001b[0mL\u001b[0m\u001b[0;34m.\u001b[0m\u001b[0mappend\u001b[0m\u001b[0;34m(\u001b[0m\u001b[0mfeature\u001b[0m\u001b[0;34m)\u001b[0m\u001b[0;34m\u001b[0m\u001b[0;34m\u001b[0m\u001b[0m\n\u001b[1;32m     43\u001b[0m \u001b[0;34m\u001b[0m\u001b[0m\n",
      "\u001b[0;32m~/usf_courses/Fall20/socialMM_P7/scripts/feature_extraction_via_BERTTweet.py\u001b[0m in \u001b[0;36mget_BERTTweet_features\u001b[0;34m(tweet)\u001b[0m\n\u001b[1;32m     16\u001b[0m \u001b[0;34m\u001b[0m\u001b[0m\n\u001b[1;32m     17\u001b[0m         \u001b[0;31m# Load the AutoTokenizer with a normalization mode if the input Tweet is raw\u001b[0m\u001b[0;34m\u001b[0m\u001b[0;34m\u001b[0m\u001b[0;34m\u001b[0m\u001b[0m\n\u001b[0;32m---> 18\u001b[0;31m         \u001b[0mtokenizer\u001b[0m \u001b[0;34m=\u001b[0m \u001b[0mAutoTokenizer\u001b[0m\u001b[0;34m.\u001b[0m\u001b[0mfrom_pretrained\u001b[0m\u001b[0;34m(\u001b[0m\u001b[0mpre_trained_model\u001b[0m\u001b[0;34m,\u001b[0m \u001b[0mnormalization\u001b[0m\u001b[0;34m=\u001b[0m\u001b[0;32mTrue\u001b[0m\u001b[0;34m)\u001b[0m\u001b[0;34m\u001b[0m\u001b[0;34m\u001b[0m\u001b[0m\n\u001b[0m\u001b[1;32m     19\u001b[0m \u001b[0;34m\u001b[0m\u001b[0m\n\u001b[1;32m     20\u001b[0m         \u001b[0;31m# from transformers import BertweetTokenizer\u001b[0m\u001b[0;34m\u001b[0m\u001b[0;34m\u001b[0m\u001b[0;34m\u001b[0m\u001b[0m\n",
      "\u001b[0;32m~/anaconda3/envs/socialMM/lib/python3.7/site-packages/transformers/tokenization_auto.py\u001b[0m in \u001b[0;36mfrom_pretrained\u001b[0;34m(cls, pretrained_model_name_or_path, *inputs, **kwargs)\u001b[0m\n\u001b[1;32m    321\u001b[0m                     \u001b[0;34m\"Tokenizer class {} does not exist or is not currently imported.\"\u001b[0m\u001b[0;34m.\u001b[0m\u001b[0mformat\u001b[0m\u001b[0;34m(\u001b[0m\u001b[0mtokenizer_class_candidate\u001b[0m\u001b[0;34m)\u001b[0m\u001b[0;34m\u001b[0m\u001b[0;34m\u001b[0m\u001b[0m\n\u001b[1;32m    322\u001b[0m                 )\n\u001b[0;32m--> 323\u001b[0;31m             \u001b[0;32mreturn\u001b[0m \u001b[0mtokenizer_class\u001b[0m\u001b[0;34m.\u001b[0m\u001b[0mfrom_pretrained\u001b[0m\u001b[0;34m(\u001b[0m\u001b[0mpretrained_model_name_or_path\u001b[0m\u001b[0;34m,\u001b[0m \u001b[0;34m*\u001b[0m\u001b[0minputs\u001b[0m\u001b[0;34m,\u001b[0m \u001b[0;34m**\u001b[0m\u001b[0mkwargs\u001b[0m\u001b[0;34m)\u001b[0m\u001b[0;34m\u001b[0m\u001b[0;34m\u001b[0m\u001b[0m\n\u001b[0m\u001b[1;32m    324\u001b[0m \u001b[0;34m\u001b[0m\u001b[0m\n\u001b[1;32m    325\u001b[0m         \u001b[0;31m# if model is an encoder decoder, the encoder tokenizer class is used by default\u001b[0m\u001b[0;34m\u001b[0m\u001b[0;34m\u001b[0m\u001b[0;34m\u001b[0m\u001b[0m\n",
      "\u001b[0;32m~/anaconda3/envs/socialMM/lib/python3.7/site-packages/transformers/tokenization_utils_base.py\u001b[0m in \u001b[0;36mfrom_pretrained\u001b[0;34m(cls, pretrained_model_name_or_path, *init_inputs, **kwargs)\u001b[0m\n\u001b[1;32m   1627\u001b[0m                         \u001b[0mproxies\u001b[0m\u001b[0;34m=\u001b[0m\u001b[0mproxies\u001b[0m\u001b[0;34m,\u001b[0m\u001b[0;34m\u001b[0m\u001b[0;34m\u001b[0m\u001b[0m\n\u001b[1;32m   1628\u001b[0m                         \u001b[0mresume_download\u001b[0m\u001b[0;34m=\u001b[0m\u001b[0mresume_download\u001b[0m\u001b[0;34m,\u001b[0m\u001b[0;34m\u001b[0m\u001b[0;34m\u001b[0m\u001b[0m\n\u001b[0;32m-> 1629\u001b[0;31m                         \u001b[0mlocal_files_only\u001b[0m\u001b[0;34m=\u001b[0m\u001b[0mlocal_files_only\u001b[0m\u001b[0;34m,\u001b[0m\u001b[0;34m\u001b[0m\u001b[0;34m\u001b[0m\u001b[0m\n\u001b[0m\u001b[1;32m   1630\u001b[0m                     )\n\u001b[1;32m   1631\u001b[0m                 \u001b[0;32mexcept\u001b[0m \u001b[0mrequests\u001b[0m\u001b[0;34m.\u001b[0m\u001b[0mexceptions\u001b[0m\u001b[0;34m.\u001b[0m\u001b[0mHTTPError\u001b[0m \u001b[0;32mas\u001b[0m \u001b[0merr\u001b[0m\u001b[0;34m:\u001b[0m\u001b[0;34m\u001b[0m\u001b[0;34m\u001b[0m\u001b[0m\n",
      "\u001b[0;32m~/anaconda3/envs/socialMM/lib/python3.7/site-packages/transformers/file_utils.py\u001b[0m in \u001b[0;36mcached_path\u001b[0;34m(url_or_filename, cache_dir, force_download, proxies, resume_download, user_agent, extract_compressed_file, force_extract, local_files_only)\u001b[0m\n\u001b[1;32m    953\u001b[0m             \u001b[0mresume_download\u001b[0m\u001b[0;34m=\u001b[0m\u001b[0mresume_download\u001b[0m\u001b[0;34m,\u001b[0m\u001b[0;34m\u001b[0m\u001b[0;34m\u001b[0m\u001b[0m\n\u001b[1;32m    954\u001b[0m             \u001b[0muser_agent\u001b[0m\u001b[0;34m=\u001b[0m\u001b[0muser_agent\u001b[0m\u001b[0;34m,\u001b[0m\u001b[0;34m\u001b[0m\u001b[0;34m\u001b[0m\u001b[0m\n\u001b[0;32m--> 955\u001b[0;31m             \u001b[0mlocal_files_only\u001b[0m\u001b[0;34m=\u001b[0m\u001b[0mlocal_files_only\u001b[0m\u001b[0;34m,\u001b[0m\u001b[0;34m\u001b[0m\u001b[0;34m\u001b[0m\u001b[0m\n\u001b[0m\u001b[1;32m    956\u001b[0m         )\n\u001b[1;32m    957\u001b[0m     \u001b[0;32melif\u001b[0m \u001b[0mos\u001b[0m\u001b[0;34m.\u001b[0m\u001b[0mpath\u001b[0m\u001b[0;34m.\u001b[0m\u001b[0mexists\u001b[0m\u001b[0;34m(\u001b[0m\u001b[0murl_or_filename\u001b[0m\u001b[0;34m)\u001b[0m\u001b[0;34m:\u001b[0m\u001b[0;34m\u001b[0m\u001b[0;34m\u001b[0m\u001b[0m\n",
      "\u001b[0;32m~/anaconda3/envs/socialMM/lib/python3.7/site-packages/transformers/file_utils.py\u001b[0m in \u001b[0;36mget_from_cache\u001b[0;34m(url, cache_dir, force_download, proxies, etag_timeout, resume_download, user_agent, local_files_only)\u001b[0m\n\u001b[1;32m   1123\u001b[0m                 \u001b[0;32melse\u001b[0m\u001b[0;34m:\u001b[0m\u001b[0;34m\u001b[0m\u001b[0;34m\u001b[0m\u001b[0m\n\u001b[1;32m   1124\u001b[0m                     raise ValueError(\n\u001b[0;32m-> 1125\u001b[0;31m                         \u001b[0;34m\"Connection error, and we cannot find the requested files in the cached path.\"\u001b[0m\u001b[0;34m\u001b[0m\u001b[0;34m\u001b[0m\u001b[0m\n\u001b[0m\u001b[1;32m   1126\u001b[0m                         \u001b[0;34m\" Please try again or make sure your Internet connection is on.\"\u001b[0m\u001b[0;34m\u001b[0m\u001b[0;34m\u001b[0m\u001b[0m\n\u001b[1;32m   1127\u001b[0m                     )\n",
      "\u001b[0;31mValueError\u001b[0m: Connection error, and we cannot find the requested files in the cached path. Please try again or make sure your Internet connection is on."
     ]
    }
   ],
   "source": [
    "filename = \"April_NoMask_Tweets.csv\"\n",
    "wrt_dir = \"../data/BERTTweet_Features\"\n",
    "\n",
    "wrt_single_file(os.path.join(\"../data/nomask_tweets_v2_eng\", filename), wrt_dir)"
   ]
  },
  {
   "cell_type": "code",
   "execution_count": null,
   "metadata": {},
   "outputs": [],
   "source": [
    "filename = \"August_NoMask_Tweets.csv\"\n",
    "wrt_dir = \"../data/BERTTweet_Features\"\n",
    "\n",
    "wrt_single_file(os.path.join(\"../data/nomask_tweets_v2_eng\", filename), wrt_dir)"
   ]
  },
  {
   "cell_type": "markdown",
   "metadata": {},
   "source": [
    "## VADER for Text Polarity Identity"
   ]
  },
  {
   "cell_type": "code",
   "execution_count": 1,
   "metadata": {},
   "outputs": [
    {
     "name": "stderr",
     "output_type": "stream",
     "text": [
      "[nltk_data] Downloading package vader_lexicon to\n",
      "[nltk_data]     /home/cse/nltk_data...\n",
      "[nltk_data]   Package vader_lexicon is already up-to-date!\n"
     ]
    }
   ],
   "source": [
    "import nltk\n",
    "\n",
    "nltk.download('vader_lexicon')\n",
    "from nltk.sentiment.vader import SentimentIntensityAnalyzer"
   ]
  },
  {
   "cell_type": "code",
   "execution_count": 19,
   "metadata": {},
   "outputs": [
    {
     "name": "stderr",
     "output_type": "stream",
     "text": [
      "[nltk_data] Downloading package vader_lexicon to\n",
      "[nltk_data]     /home/cse/nltk_data...\n",
      "[nltk_data]   Package vader_lexicon is already up-to-date!\n"
     ]
    },
    {
     "data": {
      "text/html": [
       "<div>\n",
       "<style scoped>\n",
       "    .dataframe tbody tr th:only-of-type {\n",
       "        vertical-align: middle;\n",
       "    }\n",
       "\n",
       "    .dataframe tbody tr th {\n",
       "        vertical-align: top;\n",
       "    }\n",
       "\n",
       "    .dataframe thead th {\n",
       "        text-align: right;\n",
       "    }\n",
       "</style>\n",
       "<table border=\"1\" class=\"dataframe\">\n",
       "  <thead>\n",
       "    <tr style=\"text-align: right;\">\n",
       "      <th></th>\n",
       "      <th>Tweet Text</th>\n",
       "      <th>Tweet Datetime</th>\n",
       "      <th>Tweet Id</th>\n",
       "      <th>User Id</th>\n",
       "      <th>User Name</th>\n",
       "      <th>User Location</th>\n",
       "      <th>Tweet Coordinates</th>\n",
       "      <th>Place Info</th>\n",
       "      <th>Country</th>\n",
       "      <th>Hashtags</th>\n",
       "      <th>...</th>\n",
       "      <th>Source</th>\n",
       "      <th>Replied Tweet Id</th>\n",
       "      <th>Replied Tweet User Id</th>\n",
       "      <th>month</th>\n",
       "      <th>ground_truth</th>\n",
       "      <th>ID</th>\n",
       "      <th>vader_neg</th>\n",
       "      <th>vader_neu</th>\n",
       "      <th>vader_pos</th>\n",
       "      <th>vader_compound</th>\n",
       "    </tr>\n",
       "  </thead>\n",
       "  <tbody>\n",
       "    <tr>\n",
       "      <th>0</th>\n",
       "      <td>#ANYMASK IS BETTER THAN #NOMASK😷😷</td>\n",
       "      <td>2020-04-01 02:34:14</td>\n",
       "      <td>1245177623199846400</td>\n",
       "      <td>1242016271438417920</td>\n",
       "      <td>Amy59083153</td>\n",
       "      <td>NaN</td>\n",
       "      <td>NaN</td>\n",
       "      <td>NaN</td>\n",
       "      <td>NaN</td>\n",
       "      <td>['ANYMASK', 'NOMASK']</td>\n",
       "      <td>...</td>\n",
       "      <td>Twitter for Android</td>\n",
       "      <td>NaN</td>\n",
       "      <td>NaN</td>\n",
       "      <td>April</td>\n",
       "      <td>0</td>\n",
       "      <td>0_April_0000001</td>\n",
       "      <td>0.000</td>\n",
       "      <td>0.580</td>\n",
       "      <td>0.420</td>\n",
       "      <td>0.4404</td>\n",
       "    </tr>\n",
       "    <tr>\n",
       "      <th>1</th>\n",
       "      <td>#nomasks POTUS should jump on AF1 tonight, fly...</td>\n",
       "      <td>2020-04-03 00:29:08</td>\n",
       "      <td>1245870915650347008</td>\n",
       "      <td>1103766008496615425</td>\n",
       "      <td>LillisMilan</td>\n",
       "      <td>NaN</td>\n",
       "      <td>NaN</td>\n",
       "      <td>NaN</td>\n",
       "      <td>NaN</td>\n",
       "      <td>['nomasks']</td>\n",
       "      <td>...</td>\n",
       "      <td>Twitter for iPhone</td>\n",
       "      <td>NaN</td>\n",
       "      <td>NaN</td>\n",
       "      <td>April</td>\n",
       "      <td>0</td>\n",
       "      <td>0_April_0000002</td>\n",
       "      <td>0.061</td>\n",
       "      <td>0.939</td>\n",
       "      <td>0.000</td>\n",
       "      <td>-0.1280</td>\n",
       "    </tr>\n",
       "    <tr>\n",
       "      <th>2</th>\n",
       "      <td>RT @LillisMilan: #nomasks POTUS should jump on...</td>\n",
       "      <td>2020-04-03 00:31:09</td>\n",
       "      <td>1245871426491396096</td>\n",
       "      <td>4498207102</td>\n",
       "      <td>ELillis3</td>\n",
       "      <td>S.H., OH, USA</td>\n",
       "      <td>NaN</td>\n",
       "      <td>NaN</td>\n",
       "      <td>NaN</td>\n",
       "      <td>['nomasks']</td>\n",
       "      <td>...</td>\n",
       "      <td>Twitter for Android</td>\n",
       "      <td>NaN</td>\n",
       "      <td>NaN</td>\n",
       "      <td>April</td>\n",
       "      <td>0</td>\n",
       "      <td>0_April_0000003</td>\n",
       "      <td>0.061</td>\n",
       "      <td>0.939</td>\n",
       "      <td>0.000</td>\n",
       "      <td>-0.1280</td>\n",
       "    </tr>\n",
       "    <tr>\n",
       "      <th>3</th>\n",
       "      <td>Still debating #mask/#nomask? Real question: C...</td>\n",
       "      <td>2020-04-04 00:53:58</td>\n",
       "      <td>1246239554664837120</td>\n",
       "      <td>1187132061817233408</td>\n",
       "      <td>meemeegu</td>\n",
       "      <td>NaN</td>\n",
       "      <td>NaN</td>\n",
       "      <td>NaN</td>\n",
       "      <td>NaN</td>\n",
       "      <td>['mask', 'nomask', 'masks', 'USA', 'PPE', 'CCP...</td>\n",
       "      <td>...</td>\n",
       "      <td>Twitter for iPad</td>\n",
       "      <td>NaN</td>\n",
       "      <td>NaN</td>\n",
       "      <td>April</td>\n",
       "      <td>0</td>\n",
       "      <td>0_April_0000004</td>\n",
       "      <td>0.047</td>\n",
       "      <td>0.875</td>\n",
       "      <td>0.078</td>\n",
       "      <td>0.3527</td>\n",
       "    </tr>\n",
       "    <tr>\n",
       "      <th>4</th>\n",
       "      <td>RT @meemeegu: Still debating #mask/#nomask? Re...</td>\n",
       "      <td>2020-04-04 01:02:22</td>\n",
       "      <td>1246241669449764865</td>\n",
       "      <td>369185122</td>\n",
       "      <td>KLnotKOL</td>\n",
       "      <td>NaN</td>\n",
       "      <td>NaN</td>\n",
       "      <td>NaN</td>\n",
       "      <td>NaN</td>\n",
       "      <td>['mask', 'nomask']</td>\n",
       "      <td>...</td>\n",
       "      <td>Twitter Web App</td>\n",
       "      <td>NaN</td>\n",
       "      <td>NaN</td>\n",
       "      <td>April</td>\n",
       "      <td>0</td>\n",
       "      <td>0_April_0000005</td>\n",
       "      <td>0.085</td>\n",
       "      <td>0.773</td>\n",
       "      <td>0.142</td>\n",
       "      <td>0.3527</td>\n",
       "    </tr>\n",
       "  </tbody>\n",
       "</table>\n",
       "<p>5 rows × 23 columns</p>\n",
       "</div>"
      ],
      "text/plain": [
       "                                          Tweet Text       Tweet Datetime  \\\n",
       "0                  #ANYMASK IS BETTER THAN #NOMASK😷😷  2020-04-01 02:34:14   \n",
       "1  #nomasks POTUS should jump on AF1 tonight, fly...  2020-04-03 00:29:08   \n",
       "2  RT @LillisMilan: #nomasks POTUS should jump on...  2020-04-03 00:31:09   \n",
       "3  Still debating #mask/#nomask? Real question: C...  2020-04-04 00:53:58   \n",
       "4  RT @meemeegu: Still debating #mask/#nomask? Re...  2020-04-04 01:02:22   \n",
       "\n",
       "              Tweet Id              User Id    User Name  User Location  \\\n",
       "0  1245177623199846400  1242016271438417920  Amy59083153            NaN   \n",
       "1  1245870915650347008  1103766008496615425  LillisMilan            NaN   \n",
       "2  1245871426491396096           4498207102     ELillis3  S.H., OH, USA   \n",
       "3  1246239554664837120  1187132061817233408     meemeegu            NaN   \n",
       "4  1246241669449764865            369185122     KLnotKOL            NaN   \n",
       "\n",
       "  Tweet Coordinates Place Info Country  \\\n",
       "0               NaN        NaN     NaN   \n",
       "1               NaN        NaN     NaN   \n",
       "2               NaN        NaN     NaN   \n",
       "3               NaN        NaN     NaN   \n",
       "4               NaN        NaN     NaN   \n",
       "\n",
       "                                            Hashtags  ...  \\\n",
       "0                              ['ANYMASK', 'NOMASK']  ...   \n",
       "1                                        ['nomasks']  ...   \n",
       "2                                        ['nomasks']  ...   \n",
       "3  ['mask', 'nomask', 'masks', 'USA', 'PPE', 'CCP...  ...   \n",
       "4                                 ['mask', 'nomask']  ...   \n",
       "\n",
       "                Source  Replied Tweet Id Replied Tweet User Id  month  \\\n",
       "0  Twitter for Android               NaN                   NaN  April   \n",
       "1   Twitter for iPhone               NaN                   NaN  April   \n",
       "2  Twitter for Android               NaN                   NaN  April   \n",
       "3     Twitter for iPad               NaN                   NaN  April   \n",
       "4      Twitter Web App               NaN                   NaN  April   \n",
       "\n",
       "   ground_truth               ID vader_neg  vader_neu vader_pos  \\\n",
       "0             0  0_April_0000001     0.000      0.580     0.420   \n",
       "1             0  0_April_0000002     0.061      0.939     0.000   \n",
       "2             0  0_April_0000003     0.061      0.939     0.000   \n",
       "3             0  0_April_0000004     0.047      0.875     0.078   \n",
       "4             0  0_April_0000005     0.085      0.773     0.142   \n",
       "\n",
       "   vader_compound  \n",
       "0          0.4404  \n",
       "1         -0.1280  \n",
       "2         -0.1280  \n",
       "3          0.3527  \n",
       "4          0.3527  \n",
       "\n",
       "[5 rows x 23 columns]"
      ]
     },
     "execution_count": 19,
     "metadata": {},
     "output_type": "execute_result"
    }
   ],
   "source": [
    "# sentiment_model = SentimentIntensityAnalyzer()\n",
    "\n",
    "# a = 'This was a good movie.'\n",
    "# x = sentiment_model.polarity_scores(a)\n",
    "\n",
    "\n",
    "import nltk\n",
    "\n",
    "nltk.download('vader_lexicon')\n",
    "from nltk.sentiment.vader import SentimentIntensityAnalyzer\n",
    "\n",
    "\n",
    "def get_sentiment(df):\n",
    "    sentiment_model = SentimentIntensityAnalyzer()\n",
    "    df['sentimentDict'] = df['Tweet Text'].apply(lambda tweet: sentiment_model.polarity_scores(tweet))\n",
    "    \n",
    "    df['vader_neg']  = df['sentimentDict'].apply(lambda score_dict: score_dict['neg'])\n",
    "    df['vader_neu']  = df['sentimentDict'].apply(lambda score_dict: score_dict['neu'])\n",
    "    df['vader_pos']  = df['sentimentDict'].apply(lambda score_dict: score_dict['pos'])\n",
    "    df['vader_compound']  = df['sentimentDict'].apply(lambda score_dict: score_dict['compound'])\n",
    "\n",
    "\n",
    "    return df.drop(columns=[\"sentimentDict\"])\n",
    "\n",
    "df = pd.read_csv(\"../data/stack_files/samp_raw_df_april.csv\")\n",
    "df2 = get_sentiment(df)\n",
    "df2.head()"
   ]
  },
  {
   "cell_type": "code",
   "execution_count": 3,
   "metadata": {},
   "outputs": [
    {
     "ename": "NameError",
     "evalue": "name 'df_eng' is not defined",
     "output_type": "error",
     "traceback": [
      "\u001b[0;31m---------------------------------------------------------------------------\u001b[0m",
      "\u001b[0;31mNameError\u001b[0m                                 Traceback (most recent call last)",
      "\u001b[0;32m<ipython-input-3-77749c88c222>\u001b[0m in \u001b[0;36m<module>\u001b[0;34m\u001b[0m\n\u001b[0;32m----> 1\u001b[0;31m \u001b[0mscores\u001b[0m \u001b[0;34m=\u001b[0m \u001b[0msentiment_model\u001b[0m\u001b[0;34m.\u001b[0m\u001b[0mpolarity_scores\u001b[0m\u001b[0;34m(\u001b[0m\u001b[0mdf_eng\u001b[0m\u001b[0;34m[\u001b[0m\u001b[0;34m\"Tweet Text\"\u001b[0m\u001b[0;34m]\u001b[0m\u001b[0;34m.\u001b[0m\u001b[0mtolist\u001b[0m\u001b[0;34m(\u001b[0m\u001b[0;34m)\u001b[0m\u001b[0;34m[\u001b[0m\u001b[0;36m0\u001b[0m\u001b[0;34m]\u001b[0m\u001b[0;34m)\u001b[0m\u001b[0;34m\u001b[0m\u001b[0;34m\u001b[0m\u001b[0m\n\u001b[0m",
      "\u001b[0;31mNameError\u001b[0m: name 'df_eng' is not defined"
     ]
    }
   ],
   "source": [
    "scores = sentiment_model.polarity_scores(df_eng[\"Tweet Text\"].tolist()[0])"
   ]
  },
  {
   "cell_type": "markdown",
   "metadata": {},
   "source": [
    "## Fold generation for cross validation "
   ]
  },
  {
   "cell_type": "code",
   "execution_count": 39,
   "metadata": {},
   "outputs": [
    {
     "data": {
      "text/html": [
       "<div>\n",
       "<style scoped>\n",
       "    .dataframe tbody tr th:only-of-type {\n",
       "        vertical-align: middle;\n",
       "    }\n",
       "\n",
       "    .dataframe tbody tr th {\n",
       "        vertical-align: top;\n",
       "    }\n",
       "\n",
       "    .dataframe thead th {\n",
       "        text-align: right;\n",
       "    }\n",
       "</style>\n",
       "<table border=\"1\" class=\"dataframe\">\n",
       "  <thead>\n",
       "    <tr style=\"text-align: right;\">\n",
       "      <th></th>\n",
       "      <th>Tweet Text</th>\n",
       "      <th>Tweet Datetime</th>\n",
       "      <th>Tweet Id</th>\n",
       "      <th>User Id</th>\n",
       "      <th>User Name</th>\n",
       "      <th>User Location</th>\n",
       "      <th>Tweet Coordinates</th>\n",
       "      <th>Place Info</th>\n",
       "      <th>Country</th>\n",
       "      <th>Hashtags</th>\n",
       "      <th>...</th>\n",
       "      <th>Replied Tweet User Id</th>\n",
       "      <th>month</th>\n",
       "      <th>ground_truth</th>\n",
       "      <th>ID</th>\n",
       "      <th>sentimentDict</th>\n",
       "      <th>vader_neg</th>\n",
       "      <th>vader_neu</th>\n",
       "      <th>vader_pos</th>\n",
       "      <th>vader_compound</th>\n",
       "      <th>folds</th>\n",
       "    </tr>\n",
       "  </thead>\n",
       "  <tbody>\n",
       "    <tr>\n",
       "      <th>0</th>\n",
       "      <td>#ANYMASK IS BETTER THAN #NOMASK😷😷</td>\n",
       "      <td>2020-04-01 02:34:14</td>\n",
       "      <td>1245177623199846400</td>\n",
       "      <td>1242016271438417920</td>\n",
       "      <td>Amy59083153</td>\n",
       "      <td>NaN</td>\n",
       "      <td>NaN</td>\n",
       "      <td>NaN</td>\n",
       "      <td>NaN</td>\n",
       "      <td>['ANYMASK', 'NOMASK']</td>\n",
       "      <td>...</td>\n",
       "      <td>NaN</td>\n",
       "      <td>April</td>\n",
       "      <td>0</td>\n",
       "      <td>0_April_0000001</td>\n",
       "      <td>{'neg': 0.0, 'neu': 0.58, 'pos': 0.42, 'compou...</td>\n",
       "      <td>0.000</td>\n",
       "      <td>0.580</td>\n",
       "      <td>0.420</td>\n",
       "      <td>0.4404</td>\n",
       "      <td>2</td>\n",
       "    </tr>\n",
       "    <tr>\n",
       "      <th>1</th>\n",
       "      <td>#nomasks POTUS should jump on AF1 tonight, fly...</td>\n",
       "      <td>2020-04-03 00:29:08</td>\n",
       "      <td>1245870915650347008</td>\n",
       "      <td>1103766008496615425</td>\n",
       "      <td>LillisMilan</td>\n",
       "      <td>NaN</td>\n",
       "      <td>NaN</td>\n",
       "      <td>NaN</td>\n",
       "      <td>NaN</td>\n",
       "      <td>['nomasks']</td>\n",
       "      <td>...</td>\n",
       "      <td>NaN</td>\n",
       "      <td>April</td>\n",
       "      <td>0</td>\n",
       "      <td>0_April_0000002</td>\n",
       "      <td>{'neg': 0.061, 'neu': 0.939, 'pos': 0.0, 'comp...</td>\n",
       "      <td>0.061</td>\n",
       "      <td>0.939</td>\n",
       "      <td>0.000</td>\n",
       "      <td>-0.1280</td>\n",
       "      <td>1</td>\n",
       "    </tr>\n",
       "    <tr>\n",
       "      <th>2</th>\n",
       "      <td>RT @LillisMilan: #nomasks POTUS should jump on...</td>\n",
       "      <td>2020-04-03 00:31:09</td>\n",
       "      <td>1245871426491396096</td>\n",
       "      <td>4498207102</td>\n",
       "      <td>ELillis3</td>\n",
       "      <td>S.H., OH, USA</td>\n",
       "      <td>NaN</td>\n",
       "      <td>NaN</td>\n",
       "      <td>NaN</td>\n",
       "      <td>['nomasks']</td>\n",
       "      <td>...</td>\n",
       "      <td>NaN</td>\n",
       "      <td>April</td>\n",
       "      <td>0</td>\n",
       "      <td>0_April_0000003</td>\n",
       "      <td>{'neg': 0.061, 'neu': 0.939, 'pos': 0.0, 'comp...</td>\n",
       "      <td>0.061</td>\n",
       "      <td>0.939</td>\n",
       "      <td>0.000</td>\n",
       "      <td>-0.1280</td>\n",
       "      <td>4</td>\n",
       "    </tr>\n",
       "    <tr>\n",
       "      <th>3</th>\n",
       "      <td>Still debating #mask/#nomask? Real question: C...</td>\n",
       "      <td>2020-04-04 00:53:58</td>\n",
       "      <td>1246239554664837120</td>\n",
       "      <td>1187132061817233408</td>\n",
       "      <td>meemeegu</td>\n",
       "      <td>NaN</td>\n",
       "      <td>NaN</td>\n",
       "      <td>NaN</td>\n",
       "      <td>NaN</td>\n",
       "      <td>['mask', 'nomask', 'masks', 'USA', 'PPE', 'CCP...</td>\n",
       "      <td>...</td>\n",
       "      <td>NaN</td>\n",
       "      <td>April</td>\n",
       "      <td>0</td>\n",
       "      <td>0_April_0000004</td>\n",
       "      <td>{'neg': 0.047, 'neu': 0.875, 'pos': 0.078, 'co...</td>\n",
       "      <td>0.047</td>\n",
       "      <td>0.875</td>\n",
       "      <td>0.078</td>\n",
       "      <td>0.3527</td>\n",
       "      <td>3</td>\n",
       "    </tr>\n",
       "    <tr>\n",
       "      <th>4</th>\n",
       "      <td>RT @meemeegu: Still debating #mask/#nomask? Re...</td>\n",
       "      <td>2020-04-04 01:02:22</td>\n",
       "      <td>1246241669449764865</td>\n",
       "      <td>369185122</td>\n",
       "      <td>KLnotKOL</td>\n",
       "      <td>NaN</td>\n",
       "      <td>NaN</td>\n",
       "      <td>NaN</td>\n",
       "      <td>NaN</td>\n",
       "      <td>['mask', 'nomask']</td>\n",
       "      <td>...</td>\n",
       "      <td>NaN</td>\n",
       "      <td>April</td>\n",
       "      <td>0</td>\n",
       "      <td>0_April_0000005</td>\n",
       "      <td>{'neg': 0.085, 'neu': 0.773, 'pos': 0.142, 'co...</td>\n",
       "      <td>0.085</td>\n",
       "      <td>0.773</td>\n",
       "      <td>0.142</td>\n",
       "      <td>0.3527</td>\n",
       "      <td>4</td>\n",
       "    </tr>\n",
       "  </tbody>\n",
       "</table>\n",
       "<p>5 rows × 25 columns</p>\n",
       "</div>"
      ],
      "text/plain": [
       "                                          Tweet Text       Tweet Datetime  \\\n",
       "0                  #ANYMASK IS BETTER THAN #NOMASK😷😷  2020-04-01 02:34:14   \n",
       "1  #nomasks POTUS should jump on AF1 tonight, fly...  2020-04-03 00:29:08   \n",
       "2  RT @LillisMilan: #nomasks POTUS should jump on...  2020-04-03 00:31:09   \n",
       "3  Still debating #mask/#nomask? Real question: C...  2020-04-04 00:53:58   \n",
       "4  RT @meemeegu: Still debating #mask/#nomask? Re...  2020-04-04 01:02:22   \n",
       "\n",
       "              Tweet Id              User Id    User Name  User Location  \\\n",
       "0  1245177623199846400  1242016271438417920  Amy59083153            NaN   \n",
       "1  1245870915650347008  1103766008496615425  LillisMilan            NaN   \n",
       "2  1245871426491396096           4498207102     ELillis3  S.H., OH, USA   \n",
       "3  1246239554664837120  1187132061817233408     meemeegu            NaN   \n",
       "4  1246241669449764865            369185122     KLnotKOL            NaN   \n",
       "\n",
       "  Tweet Coordinates Place Info Country  \\\n",
       "0               NaN        NaN     NaN   \n",
       "1               NaN        NaN     NaN   \n",
       "2               NaN        NaN     NaN   \n",
       "3               NaN        NaN     NaN   \n",
       "4               NaN        NaN     NaN   \n",
       "\n",
       "                                            Hashtags  ...  \\\n",
       "0                              ['ANYMASK', 'NOMASK']  ...   \n",
       "1                                        ['nomasks']  ...   \n",
       "2                                        ['nomasks']  ...   \n",
       "3  ['mask', 'nomask', 'masks', 'USA', 'PPE', 'CCP...  ...   \n",
       "4                                 ['mask', 'nomask']  ...   \n",
       "\n",
       "   Replied Tweet User Id  month ground_truth               ID  \\\n",
       "0                    NaN  April            0  0_April_0000001   \n",
       "1                    NaN  April            0  0_April_0000002   \n",
       "2                    NaN  April            0  0_April_0000003   \n",
       "3                    NaN  April            0  0_April_0000004   \n",
       "4                    NaN  April            0  0_April_0000005   \n",
       "\n",
       "                                       sentimentDict  vader_neg vader_neu  \\\n",
       "0  {'neg': 0.0, 'neu': 0.58, 'pos': 0.42, 'compou...      0.000     0.580   \n",
       "1  {'neg': 0.061, 'neu': 0.939, 'pos': 0.0, 'comp...      0.061     0.939   \n",
       "2  {'neg': 0.061, 'neu': 0.939, 'pos': 0.0, 'comp...      0.061     0.939   \n",
       "3  {'neg': 0.047, 'neu': 0.875, 'pos': 0.078, 'co...      0.047     0.875   \n",
       "4  {'neg': 0.085, 'neu': 0.773, 'pos': 0.142, 'co...      0.085     0.773   \n",
       "\n",
       "   vader_pos vader_compound folds  \n",
       "0      0.420         0.4404     2  \n",
       "1      0.000        -0.1280     1  \n",
       "2      0.000        -0.1280     4  \n",
       "3      0.078         0.3527     3  \n",
       "4      0.142         0.3527     4  \n",
       "\n",
       "[5 rows x 25 columns]"
      ]
     },
     "execution_count": 39,
     "metadata": {},
     "output_type": "execute_result"
    }
   ],
   "source": [
    "import random \n",
    "\n",
    "def get_folds(df):\n",
    "    L = list(range(1, 5)) \n",
    "    \n",
    "    q = df.shape[0] // len(L) \n",
    "    r = df.shape[0] % len(L)\n",
    "   \n",
    "    \n",
    "    folds = L * q + L[:r]\n",
    "    \n",
    "    random.seed(2020)\n",
    "    random.shuffle(folds)\n",
    "    \n",
    "    df[\"folds\"] = folds\n",
    "    \n",
    "    return df\n",
    "\n",
    "\n",
    "df.head()\n",
    "df3 = get_folds(df)\n",
    "df3.head()\n",
    "\n",
    "# df.shape[0] % 4"
   ]
  },
  {
   "cell_type": "code",
   "execution_count": 40,
   "metadata": {},
   "outputs": [
    {
     "data": {
      "text/plain": [
       "'#ANYMASK IS BETTER THAN #NOMASK😷😷'"
      ]
     },
     "execution_count": 40,
     "metadata": {},
     "output_type": "execute_result"
    }
   ],
   "source": [
    "df_eng[\"Tweet Text\"].tolist()[0]"
   ]
  },
  {
   "cell_type": "code",
   "execution_count": 42,
   "metadata": {},
   "outputs": [
    {
     "name": "stdout",
     "output_type": "stream",
     "text": [
      "====================================================================================================\n",
      "#ANYMASK IS BETTER THAN #NOMASK😷😷\n",
      "{'neg': 0.0, 'neu': 0.58, 'pos': 0.42, 'compound': 0.4404}\n",
      "\n",
      "\n",
      "====================================================================================================\n",
      "#nomasks POTUS should jump on AF1 tonight, fly to Minneapolis, go to 3M HQ, knock on Romans door and demand American masks for Americans.\n",
      "{'neg': 0.061, 'neu': 0.939, 'pos': 0.0, 'compound': -0.128}\n",
      "\n",
      "\n",
      "====================================================================================================\n",
      "RT @LillisMilan: #nomasks POTUS should jump on AF1 tonight, fly to Minneapolis, go to 3M HQ, knock on Romans door and demand American masks…\n",
      "{'neg': 0.061, 'neu': 0.939, 'pos': 0.0, 'compound': -0.128}\n",
      "\n",
      "\n",
      "====================================================================================================\n",
      "Still debating #mask/#nomask? Real question: Can we make them available to our people? Answer: No. \n",
      "\n",
      "Let’s be honest: We don’t have #masks because #USA has outsourced the making of #PPE to #CCPChina and didn’t start making them when #CCPCoronavirus was still #epidemic https://t.co/UzhmI1Tx8t\n",
      "{'neg': 0.047, 'neu': 0.875, 'pos': 0.078, 'compound': 0.3527}\n",
      "\n",
      "\n",
      "====================================================================================================\n",
      "RT @meemeegu: Still debating #mask/#nomask? Real question: Can we make them available to our people? Answer: No. \n",
      "\n",
      "Let’s be honest: We don’…\n",
      "{'neg': 0.085, 'neu': 0.773, 'pos': 0.142, 'compound': 0.3527}\n",
      "\n",
      "\n",
      "====================================================================================================\n",
      "My contribution to the #Mask #NoMask #COVID19 debate. https://t.co/Co6m9i6ShW\n",
      "{'neg': 0.0, 'neu': 1.0, 'pos': 0.0, 'compound': 0.0}\n",
      "\n",
      "\n",
      "====================================================================================================\n",
      "@realDonaldTrump I stand with President Trump not wearing a mask! #NoMask #COVID19 #dontbeajackass\n",
      "{'neg': 0.0, 'neu': 1.0, 'pos': 0.0, 'compound': 0.0}\n",
      "\n",
      "\n",
      "====================================================================================================\n",
      "@ATT if you’re so concerned about your employees why are you making #homevisit employees where #facemasks ? This guy on the phone with me said - “I can only do what company policy requires me to do”! #NoMasks #Masks4All #mandateit #notinmyhouse ...I have to say.... https://t.co/FMe5eC9bTB\n",
      "{'neg': 0.0, 'neu': 1.0, 'pos': 0.0, 'compound': 0.0}\n",
      "\n",
      "\n",
      "====================================================================================================\n",
      "RT @kiwiskiNZ: My contribution to the #Mask #NoMask #COVID19 debate. https://t.co/Co6m9i6ShW\n",
      "{'neg': 0.0, 'neu': 1.0, 'pos': 0.0, 'compound': 0.0}\n",
      "\n",
      "\n",
      "====================================================================================================\n",
      "RT @kiwiskiNZ: My contribution to the #Mask #NoMask #COVID19 debate. https://t.co/Co6m9i6ShW\n",
      "{'neg': 0.0, 'neu': 1.0, 'pos': 0.0, 'compound': 0.0}\n",
      "\n",
      "\n",
      "====================================================================================================\n",
      "OK, here it is, not wearing a mask or gloves &amp; going wherever the hell I want  assuming I can find something open. I will keep my distance from others if they keep theirs from me. I will remain a free American patriot preserving his liberty. #nomasks #noshutdown #freeamerican\n",
      "{'neg': 0.086, 'neu': 0.71, 'pos': 0.204, 'compound': 0.6523}\n",
      "\n",
      "\n",
      "====================================================================================================\n",
      "Initial recommendation #NoMask  Never made much sense, in a NOVEL, HIGHLY INFECTIOUS, respiratory virus, with excessive movement= high infection rates. \n",
      "#CavlierAction = #ExtremeMortality,  epidemiology studies will soon show that you can't chase a highly transmissable virus. https://t.co/i4ItReizJj\n",
      "{'neg': 0.0, 'neu': 0.916, 'pos': 0.084, 'compound': 0.4648}\n",
      "\n",
      "\n",
      "====================================================================================================\n",
      "@dallasnews Texas and Del Conte distance themselves from Aston, pull in Schaefer #nomask 😷#SocialDistancing \n",
      "\n",
      "Cmon, people - a Zoom Brady Bunch photo would have sufficed here.\n",
      "{'neg': 0.0, 'neu': 1.0, 'pos': 0.0, 'compound': 0.0}\n",
      "\n",
      "\n",
      "====================================================================================================\n",
      "Texas and Del Conte distance themselves from Aston, pull in Schaefer #nomask 😷#SocialDistancing \n",
      "\n",
      "Cmon, people - a Zoom Brady Bunch photo would have sufficed here. https://t.co/UrBInTvRFS\n",
      "{'neg': 0.0, 'neu': 1.0, 'pos': 0.0, 'compound': 0.0}\n",
      "\n",
      "\n",
      "====================================================================================================\n",
      "COVID-19: Cross River commences enforcement of https://t.co/HDrw7RJ5Ym #covid19 #nomask\n",
      "{'neg': 0.0, 'neu': 1.0, 'pos': 0.0, 'compound': 0.0}\n",
      "\n",
      "\n",
      "====================================================================================================\n",
      "This is disgusting (again). Security taking this attitude and finding #coughing funny. Whoa! How does @FiveRiversEC feel about their workers mixing with these HS2 security guys who clearly are not worried about spreading the virus?#stopHS2 #COVID19 #constructionworkers #nomask https://t.co/Lmz0J9Cup8\n",
      "{'neg': 0.069, 'neu': 0.674, 'pos': 0.257, 'compound': 0.8009}\n",
      "\n",
      "\n",
      "====================================================================================================\n",
      "They themself didn't follow the precautions, and look what they are doing to make their Bosses happy.\n",
      "\n",
      "#RealFaceOfMedia #CoronaInPakistan #NoMask #NoGloves https://t.co/xl7edygU7t\n",
      "{'neg': 0.0, 'neu': 0.85, 'pos': 0.15, 'compound': 0.5719}\n",
      "\n",
      "\n",
      "====================================================================================================\n",
      "@realDonaldTrump @seanhannity @FoxNews Open up everything President Trump 👍😁🇺🇸\n",
      "#MAGA2020\n",
      "#NoMask\n",
      "{'neg': 0.0, 'neu': 1.0, 'pos': 0.0, 'compound': 0.0}\n",
      "\n",
      "\n",
      "====================================================================================================\n",
      "Naw big Alex that’s that chicken coop 🤦‍♂️\n",
      ".\n",
      ".\n",
      "@Thebeast_ufc he ok?? #\n",
      ".\n",
      ".\n",
      "@danawhite @reggiebush 20twentyer @stoolpresidente SIGN HIM UP? \n",
      ".\n",
      ".\n",
      "\n",
      "#Repost @iamalexthoms with @get_repost\n",
      "・・・\n",
      "#NoMask\n",
      "#NoDrawls\n",
      "#NoSence… https://t.co/foufdPQVAS\n",
      "{'neg': 0.0, 'neu': 0.905, 'pos': 0.095, 'compound': 0.4098}\n",
      "\n",
      "\n",
      "====================================================================================================\n",
      "Mining in Australia is one main reason we are not in full lock down. Mining is apparently more important than the health &amp; lives of @Qantas staff (&amp; therefore their families) who still have to clear drinks/food on FIFO flights without PPE #nomasks #covid #covid19 #healthandsafety https://t.co/ecs3F7y8gR\n",
      "{'neg': 0.0, 'neu': 0.906, 'pos': 0.094, 'compound': 0.5709}\n",
      "\n",
      "\n",
      "====================================================================================================\n",
      "Right now, the air outside is most likely the freshest air we'll breathe in our lifetime.\n",
      "\n",
      "#fear #miseducation #mask #nomask #noexcuses #fitness #climatechange #marathon #willtowin https://t.co/ZzK1TkTiO5\n",
      "{'neg': 0.0, 'neu': 1.0, 'pos': 0.0, 'compound': 0.0}\n",
      "\n",
      "\n",
      "====================================================================================================\n",
      "@briebriejoy @McDonalds doesn't care about its employees.  \n",
      "\n",
      "#NoMasks\n",
      "#NoGloves\n",
      "#Strike\n",
      "\n",
      "https://t.co/TTUI8gaRte\n",
      "{'neg': 0.208, 'neu': 0.792, 'pos': 0.0, 'compound': -0.3875}\n",
      "\n",
      "\n",
      "====================================================================================================\n",
      "”Be BRAVE. Be VULNERABLE. Have the COURAGE to show up &amp; be seen. Let your radiant beautiful authentic self shine! Be the real imperfect YOU, the world will adjust!”~ #ExtremeRadLifer ❤️🙏#authentic #bereal #nomask #secretskeepyousick #childofgod #BeBRAVE #courage ❤️💃🛡🗡🔥🇿🇦🌍🕯 https://t.co/yKe6on6qez\n",
      "{'neg': 0.092, 'neu': 0.616, 'pos': 0.292, 'compound': 0.9139}\n",
      "\n",
      "\n",
      "====================================================================================================\n",
      "@acoyne This is why we need Opposition oversight. Government using this opportunity to grab power, slam in legislation and undo policies that don't fit their narrative. We need them gone. I'm ready to online vote in a pandemic. #PMFAIL #StillNotReady #lowrisk #openborders #nomasks\n",
      "{'neg': 0.097, 'neu': 0.784, 'pos': 0.119, 'compound': 0.2593}\n",
      "\n",
      "\n",
      "====================================================================================================\n",
      "PEOPLE USE SOCIAL DISTANCING. I SEEN SO MANY PEOPLE WITH #NoMask AND NOT 6 FEET APART\n",
      "{'neg': 0.0, 'neu': 1.0, 'pos': 0.0, 'compound': 0.0}\n",
      "\n",
      "\n",
      "====================================================================================================\n",
      "In this situation there is no arrangements by the @GujaratPolice in Pethapur Village Dist. Gandhinagar. Ration has been distributed to people by the @CMOGuj .where is social distancing?? #Noawareness #Nomask Request @GujaratPolice to guide people's. @dgpgujarat https://t.co/nC67g9FfnF\n",
      "{'neg': 0.066, 'neu': 0.934, 'pos': 0.0, 'compound': -0.3736}\n",
      "\n",
      "\n",
      "====================================================================================================\n",
      "People #running in the streets of NY bc they’re maintaining a healthy lifestyle are endangering others. #nomasks #nothanks\n",
      "{'neg': 0.0, 'neu': 0.856, 'pos': 0.144, 'compound': 0.4019}\n",
      "\n",
      "\n",
      "====================================================================================================\n",
      "Why do the employees at @acmemarkets and @HomeDepot in PA not have #masks and #gloves on. Especially cashiers.  #nomask #HomeDepot #acme #COVID19 #caronavirusoutbreak #SocialDistancing #StaySafe\n",
      "{'neg': 0.0, 'neu': 1.0, 'pos': 0.0, 'compound': 0.0}\n",
      "\n",
      "\n",
      "====================================================================================================\n",
      "RT @NickandNol: Why do the employees at @acmemarkets and @HomeDepot in PA not have #masks and #gloves on. Especially cashiers.  #nomask #Ho…\n",
      "{'neg': 0.0, 'neu': 1.0, 'pos': 0.0, 'compound': 0.0}\n",
      "\n",
      "\n",
      "====================================================================================================\n",
      "You don't wear a mask into an attic to protect the insulation from you.\n",
      "\n",
      "You don't wear a mask while sanding to protect saw dust from what your lungs would do to it.\n",
      "\n",
      "You don't wear a mask while painting bc your breath is toxic to paint.\n",
      "\n",
      "#NoMask https://t.co/Q1HVaKcngw\n",
      "{'neg': 0.0, 'neu': 0.894, 'pos': 0.106, 'compound': 0.6369}\n",
      "\n",
      "\n",
      "====================================================================================================\n",
      "#OPENAMERICANOW if state legislators are essential (to raise our taxes), all Americans are essential👇 #nomasks https://t.co/L6saXqqLbv\n",
      "{'neg': 0.0, 'neu': 1.0, 'pos': 0.0, 'compound': 0.0}\n",
      "\n",
      "\n",
      "====================================================================================================\n",
      "My first grocery order from ⁦@Walmart⁩ didn’t go very well. #produce #nomask #avoid https://t.co/z8qYWLs7xp\n",
      "{'neg': 0.0, 'neu': 0.845, 'pos': 0.155, 'compound': 0.3384}\n",
      "\n",
      "\n",
      "====================================================================================================\n",
      "@PaulBacon30 @Publix Not everyone should wear a mask. #nomask. In Broward \"This order does not apply to young children under the age of two, and individuals who have difficulty breathing.\" https://t.co/eakMmsWUKw\n",
      "Please allow us to enter without a Mask!!!\n",
      "{'neg': 0.058, 'neu': 0.82, 'pos': 0.122, 'compound': 0.3971}\n",
      "\n",
      "\n",
      "====================================================================================================\n",
      "@NereidaC7 @Publix @WinnDixie \"This order does not apply to young children under the age of two, and individuals who have difficulty breathing.\" https://t.co/eakMmsWUKw\n",
      "Its the same for MIA #nomask Let us enjoy fresh air!!! @MayorGimenez has to much power to make it mandatory, CDC recommends its not mandatory\n",
      "{'neg': 0.093, 'neu': 0.717, 'pos': 0.19, 'compound': 0.5489}\n",
      "\n",
      "\n",
      "====================================================================================================\n",
      "@realDonaldTrump Enemy is not invisible. Enemy is #POSPOTUS   It’s you @realDonaldTrump @POTUS you are the enemy. The killer of thousands of Americans. #hoax #notests #nomasks #noPPE #noclue\n",
      "{'neg': 0.392, 'neu': 0.608, 'pos': 0.0, 'compound': -0.9413}\n",
      "\n",
      "\n",
      "====================================================================================================\n",
      "Modes of transmission of virus causing COVID-19: WHO clarification  https://t.co/iJTl0mqd3w not what we have been told. No need for face mask or gloves in normal setting #nomasks #covid19 When providing patient cares yes hospital medical precautions apply.\n",
      "{'neg': 0.053, 'neu': 0.811, 'pos': 0.136, 'compound': 0.5423}\n",
      "\n",
      "\n",
      "====================================================================================================\n",
      "This is how amazon is keeping diliveries safe #nomask\n",
      "#amazonindia #amazondiliveries https://t.co/BxXHp4L1xI\n",
      "{'neg': 0.0, 'neu': 0.685, 'pos': 0.315, 'compound': 0.5574}\n",
      "\n",
      "\n",
      "====================================================================================================\n",
      "@mjb0317 @Publix #nomask People don't want to wear masks! Most of your groceries are handled with no mask and no gloves think of all the people and factories your food comes from. Think of all the truck drivers bringing that food to your local store. Stop being scared of people without a mask on\n",
      "{'neg': 0.187, 'neu': 0.813, 'pos': 0.0, 'compound': -0.8407}\n",
      "\n",
      "\n",
      "====================================================================================================\n",
      "WHY I AM #NOMASK FOR #COVID19\n",
      "1. my grandma is a dickhead\n",
      "2. im the most important\n",
      "3. im a big macho badass\n",
      "{'neg': 0.23, 'neu': 0.686, 'pos': 0.084, 'compound': -0.5584}\n",
      "\n",
      "\n",
      "====================================================================================================\n",
      "@PopeyesChicken Manager Bree at Military Rd, AR location asked me to come in for my family of 5 order. Through the drive-thru I saw no gloves, no masks, Mgr taking money in hands, again no mask and no gloves. Why? #coronavirus #popeyeschicke  #nomask #nogloves #fastfood #COVID19\n",
      "{'neg': 0.18, 'neu': 0.82, 'pos': 0.0, 'compound': -0.7783}\n",
      "\n",
      "\n",
      "====================================================================================================\n",
      "@GovernorTomWolf @SecretaryLevine NOT constitutional!! See you in court! #nomask #Liberty #freedom\n",
      "{'neg': 0.0, 'neu': 1.0, 'pos': 0.0, 'compound': 0.0}\n",
      "\n",
      "\n",
      "====================================================================================================\n",
      "@realDonaldTrump Stop Cuomo or we will. #nycgop. We are free people. @realDonaldTrump stop this you need fake cure for fake #Plandemic. #novaccines #nomasks\n",
      "https://t.co/NoW9VXRhjD https://t.co/fGj6Lz2vO6\n",
      "{'neg': 0.313, 'neu': 0.59, 'pos': 0.097, 'compound': -0.743}\n",
      "\n",
      "\n",
      "====================================================================================================\n",
      "@nytimes Not wearing a Mask. 😷😷\n",
      "Fear Culture and False reassurance with a Mask is something I will not promote. #NoMask #COVID19 #StayHome #StayatHome\n",
      "{'neg': 0.208, 'neu': 0.695, 'pos': 0.097, 'compound': -0.4374}\n",
      "\n",
      "\n",
      "====================================================================================================\n",
      "Why are government officials not wearing masks.  If we are being forced to why aren't white house reporters and the @POTUS and staff ?  #NoMasks #NoTemperatures #NoForcedVaccines. \n",
      "\n",
      "Watch this and wake up America. https://t.co/5afqFwpwL7\n",
      "{'neg': 0.086, 'neu': 0.914, 'pos': 0.0, 'compound': -0.4588}\n",
      "\n",
      "\n",
      "====================================================================================================\n",
      "A man holding an umbrella walks past a closed store front in downtown LA April 15, 2020. #covid19 #coronapandemic #pandemic2020 #nomask #umbrella #streetphotography #fujifilmxseries #fujistreetphotography #fujixmoment #dtla\n",
      "\n",
      "📸 https://t.co/A9FoYem88o via https://t.co/tFiRvDvplH https://t.co/hOPlFsvc30\n",
      "{'neg': 0.0, 'neu': 1.0, 'pos': 0.0, 'compound': 0.0}\n",
      "\n",
      "\n",
      "====================================================================================================\n",
      "@As1TeamAmerica @GmanFan45 #NoMasks #NoTesting. #NoVaccines.    The more you know. Watch this \n",
      "\n",
      "https://t.co/5afqFwpwL7\n",
      "{'neg': 0.0, 'neu': 1.0, 'pos': 0.0, 'compound': 0.0}\n",
      "\n",
      "\n",
      "====================================================================================================\n",
      "Covid +ve cases at HeeraPanna, OmerPark, ShyamNivas, VallabhApt, BreachCandyHosp. BUT @mybmcCoastalRd workers are carrying on work as usual #nomasks NO #SocialDistancing. @MumbaiPolice @mybmcWardD please #TakeResponsibility of keeping @breachcandyALM residents safe. @AUThackeray https://t.co/QaK6DEHoa8\n",
      "{'neg': 0.098, 'neu': 0.73, 'pos': 0.171, 'compound': 0.4405}\n",
      "\n",
      "\n",
      "====================================================================================================\n",
      "the phased plan is NOT opening up america. if you think i'm going to wear a face mask out in public i will NOT BE. PERIOD. #nomasks #TheVirusisBirx\n",
      "{'neg': 0.0, 'neu': 1.0, 'pos': 0.0, 'compound': 0.0}\n",
      "\n",
      "\n",
      "====================================================================================================\n",
      "@DonaldJTrumpJr The hospitals are classifying everything as #coronavirus to get the funding. There are FAR fewer cases than we are being told. #NoMasks #NoVaccines\n",
      "{'neg': 0.0, 'neu': 1.0, 'pos': 0.0, 'compound': 0.0}\n",
      "\n",
      "\n",
      "====================================================================================================\n",
      "@ezsmpsn @RealCandaceO @democracynow19 @GavinNewsom @WholeFoods .\n",
      "FREEDOM\n",
      "\n",
      "#NoMask\n",
      "#FaithOverFear\n",
      "\n",
      "#CoronavirusLiar\n",
      "{'neg': 0.0, 'neu': 0.619, 'pos': 0.381, 'compound': 0.7125}\n",
      "\n",
      "\n",
      "====================================================================================================\n",
      "#immigrationlawyer in times of #covid_19. Eloy day 2. Visiting a client at the La Palma Correctional Facility. Again, there were #nomasks #nogloves, #nosoap and accounts from asylum seekers who are subject to… https://t.co/Q4qY7rD8v8\n",
      "{'neg': 0.0, 'neu': 1.0, 'pos': 0.0, 'compound': 0.0}\n",
      "\n",
      "\n",
      "====================================================================================================\n",
      "@dunkindonuts 39 W Palisades Ave. Englewood, NJ. The staff does not wear gloves or masks. This is the dirtiest store I have been in! Order#819. I want my money back on my Duncan card. I’m reporting the store to the local health department. #duncandonuts #nomasks #nogloves #covid\n",
      "{'neg': 0.079, 'neu': 0.894, 'pos': 0.028, 'compound': -0.5255}\n",
      "\n",
      "\n",
      "====================================================================================================\n",
      "@GovNedLamont \n",
      "We are Americans.\n",
      "We the People are free citizens of the great USA.\n",
      "We will not mask ourselves. Americans don't wear masks to buy food.\n",
      "We will fight to maintain our God-given rights.\n",
      "We will not comply.\n",
      "#FlattenTheFear\n",
      "#AmericaHomeOfTheBrave\n",
      "#NoMaskMandate\n",
      "#OpenCT\n",
      "{'neg': 0.053, 'neu': 0.796, 'pos': 0.151, 'compound': 0.7003}\n",
      "\n",
      "\n",
      "====================================================================================================\n",
      "#LiberateTheUSA #NoMasks No #SocialistDistancing #SocialismKills #CommunismKills  No #mask how have you enjoyed your life under #Socialism https://t.co/L155oTOmkW\n",
      "{'neg': 0.203, 'neu': 0.645, 'pos': 0.152, 'compound': -0.0258}\n",
      "\n",
      "\n",
      "====================================================================================================\n",
      "@StarTribune Notice no #socialdistancing #nomasks #nogloves 🤦🏻‍♀️\n",
      "{'neg': 0.268, 'neu': 0.732, 'pos': 0.0, 'compound': -0.296}\n",
      "\n",
      "\n",
      "====================================================================================================\n",
      "@ShefVaidya #NoMask... Specially protected by the umbrella of blessings from State @BJP4Karnataka and Central @BJP4India power that is ... @BSYBJP @narendramodi @AmitShah \n",
      "#VVIPLockdownShaadi #ArogyaSetu #VVIPCoronaWedding\n",
      "{'neg': 0.0, 'neu': 0.782, 'pos': 0.218, 'compound': 0.7506}\n",
      "\n",
      "\n",
      "====================================================================================================\n",
      "@GovMurphy we now have a treatment and you must allow people to return to their lives.  #NoMasks #NoForcedTesting #FreeNJNOW. \n",
      "\n",
      "There is enough evidence to PROVE this responds to treatment and #FauciFraud was wrong since day 1. @realDonaldTrump please write an order now https://t.co/bmsuUpMpHC\n",
      "{'neg': 0.067, 'neu': 0.842, 'pos': 0.091, 'compound': 0.0258}\n",
      "\n",
      "\n",
      "====================================================================================================\n",
      "RT @Wolverine_201: @ShefVaidya #NoMask... Specially protected by the umbrella of blessings from State @BJP4Karnataka and Central @BJP4India…\n",
      "{'neg': 0.0, 'neu': 0.701, 'pos': 0.299, 'compound': 0.7506}\n",
      "\n",
      "\n",
      "====================================================================================================\n",
      "RT @NJTruthTalker: @GovMurphy we now have a treatment and you must allow people to return to their lives.  #NoMasks #NoForcedTesting #FreeN…\n",
      "{'neg': 0.0, 'neu': 0.909, 'pos': 0.091, 'compound': 0.2263}\n",
      "\n",
      "\n",
      "====================================================================================================\n",
      "Seems to me its just another way to divide us #mask #nomask 🤔🤷‍♂️\n",
      "{'neg': 0.0, 'neu': 1.0, 'pos': 0.0, 'compound': 0.0}\n",
      "\n",
      "\n",
      "====================================================================================================\n",
      "@realDonaldTrump Support Vaccine Rights Legal Defense. #nomask this is unconstitutional and an opportunity to prove no pandemic threat in NYS, the same way we proved no measles epidemic last year in Rockland County @realdonaldtrump #Plandemic\n",
      "#HerdImmunity\n",
      " https://t.co/NoW9VXRhjD https://t.co/pYnSwBBmK1\n",
      "{'neg': 0.165, 'neu': 0.655, 'pos': 0.18, 'compound': -0.0772}\n",
      "\n",
      "\n",
      "====================================================================================================\n",
      "#doubtingthomases on the beach in droves | #covid19nightmare #doubtingthomas #nomasks #selfish #theforty5th https://t.co/LlUdBwP7QK\n",
      "{'neg': 0.0, 'neu': 1.0, 'pos': 0.0, 'compound': 0.0}\n",
      "\n",
      "\n",
      "====================================================================================================\n",
      "Filipinos are truly resourceful and creative. We never ran out of ideas! #nomask #COVID #covidcrisis https://t.co/hTdQecDbuR\n",
      "{'neg': 0.0, 'neu': 0.697, 'pos': 0.303, 'compound': 0.7263}\n",
      "\n",
      "\n",
      "====================================================================================================\n",
      "#selfie #selfisolation #late #nomask @dirtycoast #goat #shirt @drewbrees #love @ New Orleans, Louisiana https://t.co/yiEaP9hagH\n",
      "{'neg': 0.0, 'neu': 1.0, 'pos': 0.0, 'compound': 0.0}\n",
      "\n",
      "\n",
      "====================================================================================================\n",
      "I wonder how many in the crowd will be sick in a week with: #Corvid19 #nomask #nosocialdistancing #Sad https://t.co/9hQPIlEYAp\n",
      "{'neg': 0.171, 'neu': 0.829, 'pos': 0.0, 'compound': -0.5106}\n",
      "\n",
      "\n",
      "====================================================================================================\n",
      "'No Mask No Fuel' Policy To Come In Action Across Petrol Pumps In India\n",
      ".\n",
      ".\n",
      "#nomask #nopetrol #lockdown #MondayMotivation #covid19 #corona #coronavirus \n",
      " https://t.co/LIpZCcrs3c\n",
      "{'neg': 0.18, 'neu': 0.82, 'pos': 0.0, 'compound': -0.5267}\n",
      "\n",
      "\n",
      "====================================================================================================\n",
      "RT @viralbake: 'No Mask No Fuel' Policy To Come In Action Across Petrol Pumps In India\n",
      ".\n",
      ".\n",
      "#nomask #nopetrol #lockdown #MondayMotivation #c…\n",
      "{'neg': 0.188, 'neu': 0.812, 'pos': 0.0, 'compound': -0.5267}\n",
      "\n",
      "\n",
      "====================================================================================================\n",
      "I need a mask can you provide me ? It can be home made.. anything you can provide.... I am staying at noida sector 27. There is no mask available in any medical Store..\n",
      "@dmgbnagar ?? Reply pls???\n",
      "\n",
      "#nomask #Masks4All #mask\n",
      "{'neg': 0.08, 'neu': 0.887, 'pos': 0.033, 'compound': -0.4329}\n",
      "\n",
      "\n",
      "====================================================================================================\n",
      "RT @viralbake: 'No Mask No Fuel' Policy To Come In Action Across Petrol Pumps In India\n",
      ".\n",
      ".\n",
      "#nomask #nopetrol #lockdown #MondayMotivation #c…\n",
      "{'neg': 0.188, 'neu': 0.812, 'pos': 0.0, 'compound': -0.5267}\n",
      "\n",
      "\n",
      "====================================================================================================\n",
      "If I ever tell you about my past, it is never because I want you to feel sorry for me, but so you can understand why I am who I am. \n",
      "#life #lifequotes #BeYourself\n",
      "#NoMasks\n",
      "{'neg': 0.072, 'neu': 0.928, 'pos': 0.0, 'compound': -0.0672}\n",
      "\n",
      "\n",
      "====================================================================================================\n",
      "Take the masks off Massachusetts!! \n",
      "\n",
      "We beat the virus!!\n",
      "\n",
      "#NoMasks #coronavirus #CoronavirusUSA #Boston @wbznewsradio @HowieCarrShow https://t.co/eOEkqB69f0\n",
      "{'neg': 0.0, 'neu': 1.0, 'pos': 0.0, 'compound': 0.0}\n",
      "\n",
      "\n",
      "====================================================================================================\n",
      "@MamaTriedHoney I support them more than ever to have their rallies with their grand wizard, Trump. #NoMasks #CheekToCheek \n",
      "#CrowdSurfing \n",
      "#ThinTheHerd\n",
      "#ScienceWillWin \n",
      "#MAGA\n",
      "{'neg': 0.0, 'neu': 0.769, 'pos': 0.231, 'compound': 0.6908}\n",
      "\n",
      "\n",
      "====================================================================================================\n",
      "@FKUJAK1 They want fear. Fear brings the vibration down. That is why it is so important to get messages like yours out to the people.\n",
      "#TheGreatAwakening \n",
      "#nomask \n",
      "#NoVaccineForMe\n",
      "{'neg': 0.18, 'neu': 0.647, 'pos': 0.173, 'compound': -0.3035}\n",
      "\n",
      "\n",
      "====================================================================================================\n",
      "Oh no, someone else happy to be a sheep, to do what scientists say and trade away their freedoms. For what? Silly person . No wonder our economy has been destroyed with this attitude #NoMasks https://t.co/DPJHFPph0c\n",
      "{'neg': 0.178, 'neu': 0.657, 'pos': 0.164, 'compound': -0.1531}\n",
      "\n",
      "\n",
      "====================================================================================================\n",
      "Open mic moment. - hoax, everyone's been vaccinated any way, case death rate is 0.1, no need for masks #COVID19 #Hotmic #Vaccinated #NoMasks https://t.co/oyNTy07dvF\n",
      "{'neg': 0.291, 'neu': 0.709, 'pos': 0.0, 'compound': -0.802}\n",
      "\n",
      "\n",
      "====================================================================================================\n",
      "BS #NoMask propaganda by left to scare Americans https://t.co/DYa493Sgun\n",
      "{'neg': 0.426, 'neu': 0.574, 'pos': 0.0, 'compound': -0.6369}\n",
      "\n",
      "\n",
      "====================================================================================================\n",
      "No mask, do it ninja stylee! #lifehacks #nomask #mask https://t.co/ZgKCwMOsgf\n",
      "{'neg': 0.217, 'neu': 0.783, 'pos': 0.0, 'compound': -0.3595}\n",
      "\n",
      "\n",
      "====================================================================================================\n",
      "I'm not wearing masks so the media can sit in there fucking houses and complain about American's not wearing marks while protesting.\n",
      "\n",
      "People at those protests can do what they want, it's America, if you are scared don't go.\n",
      "\n",
      "#nomasks\n",
      "{'neg': 0.222, 'neu': 0.75, 'pos': 0.028, 'compound': -0.8428}\n",
      "\n",
      "\n",
      "====================================================================================================\n",
      "@houmayor #nomask if you love life, liberty, and the pursuit of happiness- for the love of ALL HUMANITY - NO MASK.  Don't give into the fear, be a beacon of hope, a bright light as we come close to the end of this horrid turn of events.\n",
      "{'neg': 0.154, 'neu': 0.527, 'pos': 0.319, 'compound': 0.8988}\n",
      "\n",
      "\n",
      "====================================================================================================\n",
      "And #GroceryStores need to go to a #NoMasks then #NoService policy https://t.co/QOzlYWYh0S\n",
      "{'neg': 0.0, 'neu': 1.0, 'pos': 0.0, 'compound': 0.0}\n",
      "\n",
      "\n",
      "====================================================================================================\n",
      "Yessss Jim Jordan! #NoMasks https://t.co/ckT0QE7Uh5\n",
      "{'neg': 0.0, 'neu': 1.0, 'pos': 0.0, 'compound': 0.0}\n",
      "\n",
      "\n",
      "====================================================================================================\n",
      "RT @julie_kelly2: Yessss Jim Jordan! #NoMasks\n",
      "{'neg': 0.0, 'neu': 1.0, 'pos': 0.0, 'compound': 0.0}\n",
      "\n",
      "\n",
      "====================================================================================================\n",
      "@HarrisCoJudge Thanks for causing more panic and fear...#noclue #nomask\n",
      "{'neg': 0.266, 'neu': 0.519, 'pos': 0.215, 'compound': -0.1761}\n",
      "\n",
      "\n",
      "====================================================================================================\n",
      "RT @julie_kelly2: Yessss Jim Jordan! #NoMasks https://t.co/ckT0QE7Uh5\n",
      "{'neg': 0.0, 'neu': 1.0, 'pos': 0.0, 'compound': 0.0}\n",
      "\n",
      "\n",
      "====================================================================================================\n",
      "RT @julie_kelly2: Yessss Jim Jordan! #NoMasks\n",
      "{'neg': 0.0, 'neu': 1.0, 'pos': 0.0, 'compound': 0.0}\n",
      "\n",
      "\n",
      "====================================================================================================\n",
      "RT @julie_kelly2: Yessss Jim Jordan! #NoMasks\n",
      "{'neg': 0.0, 'neu': 1.0, 'pos': 0.0, 'compound': 0.0}\n",
      "\n",
      "\n",
      "====================================================================================================\n",
      ".@ChiefNewsham you down with PPE? Not MPD! #Ward4 you all be safe! @CMBrandonTodd is encouraging the increase potential Covid Policing in a neighborhood near you. @MayorBowser @DCPoliceDept don’t care about flattening the Curve. #StopMPD #COVID19 #Coronavirus #NoMasks #NoGloves https://t.co/nH4QxMy6kY\n",
      "{'neg': 0.0, 'neu': 0.733, 'pos': 0.267, 'compound': 0.9078}\n",
      "\n",
      "\n",
      "====================================================================================================\n",
      "How many times are networks floating subliminal messages like “during this uncertain time” “stay in &amp; stay safe”? It’s time for #Americans to fight back. Shut off the TV-go outside! #NoMask #BacktoWorkAmerica #OPENAMERICANOW It’s out right! 🇺🇸\n",
      "{'neg': 0.129, 'neu': 0.812, 'pos': 0.06, 'compound': -0.4374}\n",
      "\n",
      "\n",
      "====================================================================================================\n",
      "@GovAbbott \n",
      "@realDonaldTrump \n",
      "\n",
      "ALL DEMOCRAT MAYORS &amp; JUDGES! \n",
      "\n",
      "#INFRINGING\n",
      "#NOMASKS https://t.co/iSw4klb4WN\n",
      "{'neg': 0.0, 'neu': 1.0, 'pos': 0.0, 'compound': 0.0}\n",
      "\n",
      "\n",
      "====================================================================================================\n",
      "Let him go! Give him a bike and a water bottle and send him on his way. \n",
      "#NoMask! https://t.co/APxXnwSE2z\n",
      "{'neg': 0.0, 'neu': 1.0, 'pos': 0.0, 'compound': 0.0}\n",
      "\n",
      "\n",
      "====================================================================================================\n",
      "#NOmasks\n",
      "They don't protect the wearer. And most of everyone is infected.\n",
      "#imitateSweden\n",
      "@NYGovCuomo https://t.co/NipcZPW8Py\n",
      "{'neg': 0.293, 'neu': 0.707, 'pos': 0.0, 'compound': -0.658}\n",
      "\n",
      "\n",
      "====================================================================================================\n",
      "Hmmm. Once again thanks Fauci, Gates and Birx. \n",
      "#Texas #Abbott @GregAbbott_TX #NFLDraft2020 @getongab #2A #BackToWorkNOW #NoMasks #reopen https://t.co/4B3kDjw8xD\n",
      "{'neg': 0.0, 'neu': 0.854, 'pos': 0.146, 'compound': 0.4404}\n",
      "\n",
      "\n",
      "====================================================================================================\n",
      "@GovMikeDeWine You can ask, suggest, and urge mask usage. It is a free country and I can still choose not to wear one. Cloth masks have been shown to be nearly completely ineffective in protecting from virus transmission. You can choose mask, I can choose #nomask\n",
      "{'neg': 0.039, 'neu': 0.89, 'pos': 0.072, 'compound': 0.3626}\n",
      "\n",
      "\n",
      "====================================================================================================\n",
      "RT @Ryan0neal: We’re not here to take part, we’re here to take over #NoMasks #NoViolence #WWG1WGA #Qanon #MAGA #WeThePeople #WhoIsQ #WeAreQ…\n",
      "{'neg': 0.0, 'neu': 1.0, 'pos': 0.0, 'compound': 0.0}\n",
      "\n",
      "\n",
      "====================================================================================================\n",
      "RT @Ryan0neal: We’re not here to take part, we’re here to take over #NoMasks #NoViolence #WWG1WGA #Qanon #MAGA #WeThePeople #WhoIsQ #WeAreQ…\n",
      "{'neg': 0.0, 'neu': 1.0, 'pos': 0.0, 'compound': 0.0}\n",
      "\n",
      "\n",
      "====================================================================================================\n",
      "RT @Ryan0neal: We’re not here to take part, we’re here to take over #NoMasks #NoViolence #WWG1WGA #Qanon #MAGA #WeThePeople #WhoIsQ #WeAreQ…\n",
      "{'neg': 0.0, 'neu': 1.0, 'pos': 0.0, 'compound': 0.0}\n",
      "\n",
      "\n",
      "====================================================================================================\n",
      "RT @Ryan0neal: We’re not here to take part, we’re here to take over #NoMasks #NoViolence #WWG1WGA #Qanon #MAGA #WeThePeople #WhoIsQ #WeAreQ…\n",
      "{'neg': 0.0, 'neu': 1.0, 'pos': 0.0, 'compound': 0.0}\n",
      "\n",
      "\n",
      "====================================================================================================\n",
      "RT @Ryan0neal: We’re not here to take part, we’re here to take over #NoMasks #NoViolence #WWG1WGA #Qanon #MAGA #WeThePeople #WhoIsQ #WeAreQ…\n",
      "{'neg': 0.0, 'neu': 1.0, 'pos': 0.0, 'compound': 0.0}\n",
      "\n",
      "\n",
      "====================================================================================================\n",
      "RT @Ryan0neal: We’re not here to take part, we’re here to take over #NoMasks #NoViolence #WWG1WGA #Qanon #MAGA #WeThePeople #WhoIsQ #WeAreQ…\n",
      "{'neg': 0.0, 'neu': 1.0, 'pos': 0.0, 'compound': 0.0}\n",
      "\n",
      "\n",
      "====================================================================================================\n",
      "RT @Ryan0neal: We’re not here to take part, we’re here to take over #NoMasks #NoViolence #WWG1WGA #Qanon #MAGA #WeThePeople #WhoIsQ #WeAreQ…\n",
      "{'neg': 0.0, 'neu': 1.0, 'pos': 0.0, 'compound': 0.0}\n",
      "\n",
      "\n",
      "====================================================================================================\n",
      "RT @Ryan0neal: We’re not here to take part, we’re here to take over #NoMasks #NoViolence #WWG1WGA #Qanon #MAGA #WeThePeople #WhoIsQ #WeAreQ…\n",
      "{'neg': 0.0, 'neu': 1.0, 'pos': 0.0, 'compound': 0.0}\n",
      "\n",
      "\n",
      "====================================================================================================\n",
      "\"Demanding that everyone wear a mask is intended to instill fear that deaths are on the rise.\" @realDonaldTrump @GovMikeDeWine @DrAmyActon  #NoMasks \n",
      "https://t.co/GX5FHtjybk\n",
      "{'neg': 0.212, 'neu': 0.788, 'pos': 0.0, 'compound': -0.6249}\n",
      "\n",
      "\n",
      "====================================================================================================\n",
      "RT @Ryan0neal: We’re not here to take part, we’re here to take over #NoMasks #NoViolence #WWG1WGA #Qanon #MAGA #WeThePeople #WhoIsQ #WeAreQ…\n",
      "{'neg': 0.0, 'neu': 1.0, 'pos': 0.0, 'compound': 0.0}\n",
      "\n",
      "\n",
      "====================================================================================================\n",
      "RT @Ryan0neal: We’re not here to take part, we’re here to take over #NoMasks #NoViolence #WWG1WGA #Qanon #MAGA #WeThePeople #WhoIsQ #WeAreQ…\n",
      "{'neg': 0.0, 'neu': 1.0, 'pos': 0.0, 'compound': 0.0}\n",
      "\n",
      "\n",
      "====================================================================================================\n",
      "@LibertyTaken Neither he nor Husted will ever win elected office again.  Unless they cheat with mail-in ballots, his daughter doesn't stand a chance at winning her race either.  #NoMasks\n",
      "{'neg': 0.132, 'neu': 0.668, 'pos': 0.2, 'compound': 0.5362}\n",
      "\n",
      "\n",
      "====================================================================================================\n",
      "RT @Ryan0neal: We’re not here to take part, we’re here to take over #NoMasks #NoViolence #WWG1WGA #Qanon #MAGA #WeThePeople #WhoIsQ #WeAreQ…\n",
      "{'neg': 0.0, 'neu': 1.0, 'pos': 0.0, 'compound': 0.0}\n",
      "\n",
      "\n",
      "====================================================================================================\n",
      "RT @Ryan0neal: We’re not here to take part, we’re here to take over #NoMasks #NoViolence #WWG1WGA #Qanon #MAGA #WeThePeople #WhoIsQ #WeAreQ…\n",
      "{'neg': 0.0, 'neu': 1.0, 'pos': 0.0, 'compound': 0.0}\n",
      "\n",
      "\n",
      "====================================================================================================\n",
      "RT @Ryan0neal: We’re not here to take part, we’re here to take over #NoMasks #NoViolence #WWG1WGA #Qanon #MAGA #WeThePeople #WhoIsQ #WeAreQ…\n",
      "{'neg': 0.0, 'neu': 1.0, 'pos': 0.0, 'compound': 0.0}\n",
      "\n",
      "\n",
      "====================================================================================================\n",
      "RT @Ryan0neal: We’re not here to take part, we’re here to take over #NoMasks #NoViolence #WWG1WGA #Qanon #MAGA #WeThePeople #WhoIsQ #WeAreQ…\n",
      "{'neg': 0.0, 'neu': 1.0, 'pos': 0.0, 'compound': 0.0}\n",
      "\n",
      "\n",
      "====================================================================================================\n",
      "@LucyTrumplican @gatewaypundit Question? Quickest way to shut down Congress? Pelosi in this pic.... #nomask #DCaintSF\n",
      "{'neg': 0.0, 'neu': 1.0, 'pos': 0.0, 'compound': 0.0}\n",
      "\n",
      "\n",
      "====================================================================================================\n",
      "RT @Ryan0neal: We’re not here to take part, we’re here to take over #NoMasks #NoViolence #WWG1WGA #Qanon #MAGA #WeThePeople #WhoIsQ #WeAreQ…\n",
      "{'neg': 0.0, 'neu': 1.0, 'pos': 0.0, 'compound': 0.0}\n",
      "\n",
      "\n",
      "====================================================================================================\n",
      "RT @Ryan0neal: We’re not here to take part, we’re here to take over #NoMasks #NoViolence #WWG1WGA #Qanon #MAGA #WeThePeople #WhoIsQ #WeAreQ…\n",
      "{'neg': 0.0, 'neu': 1.0, 'pos': 0.0, 'compound': 0.0}\n",
      "\n",
      "\n",
      "====================================================================================================\n",
      "RT @Ryan0neal: We’re not here to take part, we’re here to take over #NoMasks #NoViolence #WWG1WGA #Qanon #MAGA #WeThePeople #WhoIsQ #WeAreQ…\n",
      "{'neg': 0.0, 'neu': 1.0, 'pos': 0.0, 'compound': 0.0}\n",
      "\n",
      "\n",
      "====================================================================================================\n",
      "RT @Ryan0neal: We’re not here to take part, we’re here to take over #NoMasks #NoViolence #WWG1WGA #Qanon #MAGA #WeThePeople #WhoIsQ #WeAreQ…\n",
      "{'neg': 0.0, 'neu': 1.0, 'pos': 0.0, 'compound': 0.0}\n",
      "\n",
      "\n",
      "====================================================================================================\n",
      "9 out of 10 family room shots during #NFLDraft brought to you courtesy of @RentACenter #NoMasks #COVID19\n",
      "{'neg': 0.0, 'neu': 0.857, 'pos': 0.143, 'compound': 0.3612}\n",
      "\n",
      "\n",
      "====================================================================================================\n",
      "RT @Ryan0neal: We’re not here to take part, we’re here to take over #NoMasks #NoViolence #WWG1WGA #Qanon #MAGA #WeThePeople #WhoIsQ #WeAreQ…\n",
      "{'neg': 0.0, 'neu': 1.0, 'pos': 0.0, 'compound': 0.0}\n",
      "\n",
      "\n",
      "====================================================================================================\n",
      "@Hickenlooper I'm of the opinion of power to the people, and sic semper tyranis Mr Hickenlooper. You couldn't buy your way into office (again).\n",
      "#nomasks\n",
      "{'neg': 0.0, 'neu': 1.0, 'pos': 0.0, 'compound': 0.0}\n",
      "\n",
      "\n",
      "====================================================================================================\n",
      "RT @julie_kelly2: Yessss Jim Jordan! #NoMasks https://t.co/ckT0QE7Uh5\n",
      "{'neg': 0.0, 'neu': 1.0, 'pos': 0.0, 'compound': 0.0}\n",
      "\n",
      "\n",
      "====================================================================================================\n",
      "@Shannon70798106 @sandyaschneider Then go and patronize a business that isn’t run by subservient idiots. There are plenty of them. #IwillNOTComply #WeAreBeingPlayed #NoMask #TheVirusIsAHoax\n",
      "{'neg': 0.0, 'neu': 1.0, 'pos': 0.0, 'compound': 0.0}\n",
      "\n",
      "\n",
      "====================================================================================================\n",
      "So is Nasrec a covid-19 free zone? 🧐 #LockdownSA #NoMasks #noSocialDistancing #why\n",
      "{'neg': 0.0, 'neu': 0.732, 'pos': 0.268, 'compound': 0.5106}\n",
      "\n",
      "\n",
      "====================================================================================================\n",
      "Greets &amp; #BlessedBeFriday #Globalvibetribe! Today is a #beautiful &amp; #lovely day &amp; #LOVE is in the air! You have established your #QuarantineRoutine &amp; even the once mundane things have meaning. Today I give U permission 2 #kiss ur #spouses &amp; #mates w/#nomasks! *chuckles* ~Sage✨ https://t.co/51R2fYrRX7\n",
      "{'neg': 0.0, 'neu': 0.942, 'pos': 0.058, 'compound': 0.3561}\n",
      "\n",
      "\n",
      "====================================================================================================\n",
      "\"“We are not Cincinnati! We are not Columbus! They have to understand that. We are responsible people who are trained in this and we’ve thought long and hard about this. We think we can handle this.”\" @GovMikeDeWine #NoMasks\n",
      "https://t.co/1QfzHYsaum\n",
      "{'neg': 0.034, 'neu': 0.896, 'pos': 0.07, 'compound': 0.3578}\n",
      "\n",
      "\n",
      "====================================================================================================\n",
      "RT @Ryan0neal: We’re not here to take part, we’re here to take over #NoMasks #NoViolence #WWG1WGA #Qanon #MAGA #WeThePeople #WhoIsQ #WeAreQ…\n",
      "{'neg': 0.0, 'neu': 1.0, 'pos': 0.0, 'compound': 0.0}\n",
      "\n",
      "\n",
      "====================================================================================================\n",
      "@MichiganHHS A review of six clinical studies, published in the Canadian Medical Association Journal, found that medical workers caught viruses from their patients just as often when they used N95 respirators as when they used ordinary medical masks https://t.co/RdcY1S1I5M #NOMasks \n",
      "#COVID19\n",
      "{'neg': 0.0, 'neu': 1.0, 'pos': 0.0, 'compound': 0.0}\n",
      "\n",
      "\n",
      "====================================================================================================\n",
      "@SpeakerPelosi @SenSchumer @dougducey Tomorrow I am going to Work!!! You are not restricting my Freedom or Rights anymore.  Don’t like it to bad!!! I Don’t Work For You!! You Work For Me Get It!!! #NoMask\n",
      "{'neg': 0.193, 'neu': 0.695, 'pos': 0.112, 'compound': -0.6544}\n",
      "\n",
      "\n",
      "====================================================================================================\n",
      "@GoldenTalon77 The #coronamoaners should #choosedeath\n",
      "Too many cretins in this world\n",
      "#nomask\n",
      "#Covid_19 https://t.co/mVjrz1Lriu\n",
      "{'neg': 0.0, 'neu': 1.0, 'pos': 0.0, 'compound': 0.0}\n",
      "\n",
      "\n",
      "====================================================================================================\n",
      "“If this guy can stay healthy he’s going to be a force in the league.” -NFL DRAFT ANNOUNCER\n",
      "\n",
      "Draft pick surrounded by 39 people crowded into a tiny living room. #covid19 #nfldraft #socialdistancing #nomasks\n",
      "{'neg': 0.0, 'neu': 0.92, 'pos': 0.08, 'compound': 0.4019}\n",
      "\n",
      "\n",
      "====================================================================================================\n",
      "@UPS #UPS WARNING! DO NOT ENGAGE WITH YOUR UPS DRIVER OR THEY WILL CALL YOU AGGRESSIVE AND BLOCK YOU AKA YOU CANNOT GET DELIVERIES TO YOUR HOMEDO NOT LET THIS HAPPEN TO YOU IS IT ME OR DOES THIS DRIVE HAVE #ATTITUDE #SPREADTHEWORD #NOMASK #NOGLOVES #BADCUSTOMERSERVICE #DELIVERY https://t.co/fjeeDH3ELt\n",
      "{'neg': 0.214, 'neu': 0.786, 'pos': 0.0, 'compound': -0.8994}\n",
      "\n",
      "\n",
      "====================================================================================================\n",
      "Peaceful assembly of American Patriots TODAY at the Ohio Statehouse in Columbus @ 1PM.  #iwillnotcomply #NoMasks\n",
      "{'neg': 0.0, 'neu': 0.814, 'pos': 0.186, 'compound': 0.4939}\n",
      "\n",
      "\n",
      "====================================================================================================\n",
      "Don't know if this is driven by greed or by need. All I know is that this behavior is exactly why the virus has been bringing ppl down. Bit by bit. Area by area. #NoSocialDistancing #nomask #COVID2019india #Thane @ThaneCityPolice @ImThanekar\n",
      "{'neg': 0.066, 'neu': 0.934, 'pos': 0.0, 'compound': -0.4019}\n",
      "\n",
      "\n",
      "====================================================================================================\n",
      "Could @EdEmmett run for office again to get this idiocratic know nothing @LinaHidalgoTX out? Asking for a friend. #GodBless #nomask #lockdown #OPENAMERICANOW https://t.co/amXDjCKoM3\n",
      "{'neg': 0.0, 'neu': 0.868, 'pos': 0.132, 'compound': 0.4939}\n",
      "\n",
      "\n",
      "====================================================================================================\n",
      "We need an anti mask movement #NoMask\n",
      "{'neg': 0.277, 'neu': 0.723, 'pos': 0.0, 'compound': -0.3182}\n",
      "\n",
      "\n",
      "====================================================================================================\n",
      "#NoMasks go lay in the 🌞 https://t.co/uT9rMMm3nj\n",
      "{'neg': 0.0, 'neu': 1.0, 'pos': 0.0, 'compound': 0.0}\n",
      "\n",
      "\n",
      "====================================================================================================\n",
      "RT @LavenderLives: #NoMasks go lay in the 🌞\n",
      "{'neg': 0.0, 'neu': 1.0, 'pos': 0.0, 'compound': 0.0}\n",
      "\n",
      "\n",
      "====================================================================================================\n",
      "RT @lightonearth111: We need an anti mask movement #NoMask\n",
      "{'neg': 0.223, 'neu': 0.777, 'pos': 0.0, 'compound': -0.3182}\n",
      "\n",
      "\n",
      "====================================================================================================\n",
      "@mitchellvii Top down in AZ! #nomasks #nononsense #OpenArizona https://t.co/c1IgIgV8RZ\n",
      "{'neg': 0.0, 'neu': 0.793, 'pos': 0.207, 'compound': 0.2714}\n",
      "\n",
      "\n",
      "====================================================================================================\n",
      "@HPoindexter3 @1776Stonewall If you are wearing your mask you are protected. So my mask is useless. \n",
      "My body my choice, right liberals?\n",
      "#NoMasks\n",
      "{'neg': 0.105, 'neu': 0.787, 'pos': 0.109, 'compound': 0.0258}\n",
      "\n",
      "\n",
      "====================================================================================================\n",
      "During this crazy time we are living in, let's add a little bit of silliness to it! \n",
      "\n",
      "https://t.co/kXLD2XF9HT\n",
      "\n",
      "#Covid19, #coronavirus, #nomasks, #maskshortage, #wehavetowearmasks https://t.co/EQqwb7EVMq\n",
      "{'neg': 0.171, 'neu': 0.829, 'pos': 0.0, 'compound': -0.5152}\n",
      "\n",
      "\n",
      "====================================================================================================\n",
      "@Maggie_Vespa Clackamette Park today. This is NOT how we beat #COVID19 Look carefully, #NoMasks even. https://t.co/ZcMI8djyxY\n",
      "{'neg': 0.0, 'neu': 0.909, 'pos': 0.091, 'compound': 0.128}\n",
      "\n",
      "\n",
      "====================================================================================================\n",
      "@MamataOfficial Respected Didi 🙏\n",
      "Sealdah Koley Market is #NoLockdown, #NoMask #NoSocialDistancing and full #Crowd 24hr open this market plz CM Madam Lock Koley Market #SaveSealdah peoples 🙏\n",
      "{'neg': 0.0, 'neu': 0.839, 'pos': 0.161, 'compound': 0.5267}\n",
      "\n",
      "\n",
      "====================================================================================================\n",
      "As far as I am concerned (unless you are in a doctor’s office of some kind or a hospital) just wearing a mask in “general” OR because it was mandated is a pure symbol of FEAR and don’t think for one second the far left doesn’t know it! #NoMasks\n",
      "{'neg': 0.085, 'neu': 0.846, 'pos': 0.069, 'compound': -0.2083}\n",
      "\n",
      "\n",
      "====================================================================================================\n",
      "🤣#NoMask for my family!  We prefer fresh oxygen and not breathing in out own carbon dioxide! https://t.co/BJy4rk4fmQ\n",
      "{'neg': 0.0, 'neu': 0.847, 'pos': 0.153, 'compound': 0.4374}\n",
      "\n",
      "\n",
      "====================================================================================================\n",
      "@GovMikeDeWine MY BODY. MY CHOICE. #noMask\n",
      "\n",
      "This is a personal health right violation. Some of us understand how real immunity works. ALL of us have the right to live free and make our own health decisions. PLEASE LOOK AT THE STUDIES. \n",
      "\n",
      "I.WILL.NOT.WEAR.A.MASK\n",
      "#freespeech\n",
      "#myBodyMyChoice\n",
      "{'neg': 0.065, 'neu': 0.808, 'pos': 0.128, 'compound': 0.4824}\n",
      "\n",
      "\n",
      "====================================================================================================\n",
      "@alliemarie777 @GovMikeDeWine I’m requesting to my hairdresser that her chair be put outside in the sun 🌞 and we’ll all be safe!  #NoMask\n",
      "{'neg': 0.0, 'neu': 0.868, 'pos': 0.132, 'compound': 0.4926}\n",
      "\n",
      "\n",
      "====================================================================================================\n",
      "@GovMikeDeWine NO MASKS!! It should be our choice, you better enjoy your 4 years because you won't have another term. Been a lifelong republican but will not vote for you again!!!! #NoMasks #recallgovenordewine\n",
      "{'neg': 0.056, 'neu': 0.796, 'pos': 0.148, 'compound': 0.5026}\n",
      "\n",
      "\n",
      "====================================================================================================\n",
      "masks: \n",
      "1 unhygenic\n",
      "2. can suffer from CO2 poisoning\n",
      "https://t.co/udAoQoVdmk\n",
      "3. you need to change them requently\n",
      "4. masks prevent immune system respondingto changes\n",
      "5. youd have to wear them for ever\n",
      "#NoMasks \n",
      "#COVID19 https://t.co/S9nIKxzTTR\n",
      "{'neg': 0.18, 'neu': 0.739, 'pos': 0.081, 'compound': -0.7184}\n",
      "\n",
      "\n",
      "====================================================================================================\n",
      "The No Mask No Service is Bullshit! Main reason they want you wearing masks, is to appears there is a pandemic. I am hard of hearing I read lips, now what, no understanding one another, no smiling at each other, no communication, no connection! #nomask #NoMasks  #NoMaskNoMuzzle\n",
      "{'neg': 0.331, 'neu': 0.594, 'pos': 0.075, 'compound': -0.9133}\n",
      "\n",
      "\n",
      "====================================================================================================\n",
      "#NoMask as a woman I will not be subjected to radical ways to shut us up . This whole thing is BS if you want to wear a mask wear if you don’t don’t. I’m not a Muslim no one will stop us.\n",
      "{'neg': 0.054, 'neu': 0.867, 'pos': 0.079, 'compound': -0.0031}\n",
      "\n",
      "\n",
      "====================================================================================================\n",
      "@ChuckCallesto Not even if h3ll were to freeze over 🤨\n",
      "\n",
      "#NoMasks \n",
      "#NoStayAtHome either\n",
      "{'neg': 0.0, 'neu': 0.902, 'pos': 0.098, 'compound': 0.0516}\n",
      "\n",
      "\n",
      "====================================================================================================\n",
      "@LegendaryEnergy @KurtSchlichter He ain't on our side bruh. This shit will go on as long as we comply. I am not complying. #nomask #noshot #notest\n",
      "{'neg': 0.135, 'neu': 0.865, 'pos': 0.0, 'compound': -0.5574}\n",
      "\n",
      "\n"
     ]
    }
   ],
   "source": [
    "for i in range(150):\n",
    "    tweet = df_eng[\"Tweet Text\"].tolist()[i]\n",
    "    score = sentiment_model.polarity_scores(tweet)\n",
    "    \n",
    "    print(\"=\" * 100)\n",
    "    print(tweet)\n",
    "    print(score)\n",
    "    print(\"\\n\")\n",
    "    \n",
    "    \n",
    "    "
   ]
  },
  {
   "cell_type": "code",
   "execution_count": 43,
   "metadata": {},
   "outputs": [
    {
     "name": "stdout",
     "output_type": "stream",
     "text": [
      "#ANYMASK IS BETTER THAN #NOMASK😷😷\n",
      "7\n",
      "Label: 7\n",
      "#nomasks POTUS should jump on AF1 tonight, fly to Minneapolis, go to 3M HQ, knock on Romans door and demand American masks for Americans.\n"
     ]
    },
    {
     "ename": "KeyboardInterrupt",
     "evalue": "Interrupted by user",
     "output_type": "error",
     "traceback": [
      "\u001b[0;31m---------------------------------------------------------------------------\u001b[0m",
      "\u001b[0;31mKeyboardInterrupt\u001b[0m                         Traceback (most recent call last)",
      "\u001b[0;32m<ipython-input-43-f0adab61887b>\u001b[0m in \u001b[0;36m<module>\u001b[0;34m\u001b[0m\n\u001b[1;32m      5\u001b[0m     \u001b[0mprint\u001b[0m\u001b[0;34m(\u001b[0m\u001b[0mtweet\u001b[0m\u001b[0;34m)\u001b[0m\u001b[0;34m\u001b[0m\u001b[0;34m\u001b[0m\u001b[0m\n\u001b[1;32m      6\u001b[0m \u001b[0;34m\u001b[0m\u001b[0m\n\u001b[0;32m----> 7\u001b[0;31m     \u001b[0mlabel\u001b[0m \u001b[0;34m=\u001b[0m \u001b[0minput\u001b[0m\u001b[0;34m(\u001b[0m\u001b[0;34m)\u001b[0m\u001b[0;34m\u001b[0m\u001b[0;34m\u001b[0m\u001b[0m\n\u001b[0m\u001b[1;32m      8\u001b[0m     \u001b[0mL\u001b[0m\u001b[0;34m.\u001b[0m\u001b[0mappend\u001b[0m\u001b[0;34m(\u001b[0m\u001b[0mlabel\u001b[0m\u001b[0;34m)\u001b[0m\u001b[0;34m\u001b[0m\u001b[0;34m\u001b[0m\u001b[0m\n\u001b[1;32m      9\u001b[0m     \u001b[0mprint\u001b[0m\u001b[0;34m(\u001b[0m\u001b[0;34m\"Label:\"\u001b[0m\u001b[0;34m,\u001b[0m \u001b[0mlabel\u001b[0m\u001b[0;34m)\u001b[0m\u001b[0;34m\u001b[0m\u001b[0;34m\u001b[0m\u001b[0m\n",
      "\u001b[0;32m~/anaconda3/envs/socialMM/lib/python3.7/site-packages/ipykernel/kernelbase.py\u001b[0m in \u001b[0;36mraw_input\u001b[0;34m(self, prompt)\u001b[0m\n\u001b[1;32m    861\u001b[0m             \u001b[0mself\u001b[0m\u001b[0;34m.\u001b[0m\u001b[0m_parent_ident\u001b[0m\u001b[0;34m,\u001b[0m\u001b[0;34m\u001b[0m\u001b[0;34m\u001b[0m\u001b[0m\n\u001b[1;32m    862\u001b[0m             \u001b[0mself\u001b[0m\u001b[0;34m.\u001b[0m\u001b[0m_parent_header\u001b[0m\u001b[0;34m,\u001b[0m\u001b[0;34m\u001b[0m\u001b[0;34m\u001b[0m\u001b[0m\n\u001b[0;32m--> 863\u001b[0;31m             \u001b[0mpassword\u001b[0m\u001b[0;34m=\u001b[0m\u001b[0;32mFalse\u001b[0m\u001b[0;34m,\u001b[0m\u001b[0;34m\u001b[0m\u001b[0;34m\u001b[0m\u001b[0m\n\u001b[0m\u001b[1;32m    864\u001b[0m         )\n\u001b[1;32m    865\u001b[0m \u001b[0;34m\u001b[0m\u001b[0m\n",
      "\u001b[0;32m~/anaconda3/envs/socialMM/lib/python3.7/site-packages/ipykernel/kernelbase.py\u001b[0m in \u001b[0;36m_input_request\u001b[0;34m(self, prompt, ident, parent, password)\u001b[0m\n\u001b[1;32m    902\u001b[0m             \u001b[0;32mexcept\u001b[0m \u001b[0mKeyboardInterrupt\u001b[0m\u001b[0;34m:\u001b[0m\u001b[0;34m\u001b[0m\u001b[0;34m\u001b[0m\u001b[0m\n\u001b[1;32m    903\u001b[0m                 \u001b[0;31m# re-raise KeyboardInterrupt, to truncate traceback\u001b[0m\u001b[0;34m\u001b[0m\u001b[0;34m\u001b[0m\u001b[0;34m\u001b[0m\u001b[0m\n\u001b[0;32m--> 904\u001b[0;31m                 \u001b[0;32mraise\u001b[0m \u001b[0mKeyboardInterrupt\u001b[0m\u001b[0;34m(\u001b[0m\u001b[0;34m\"Interrupted by user\"\u001b[0m\u001b[0;34m)\u001b[0m \u001b[0;32mfrom\u001b[0m \u001b[0;32mNone\u001b[0m\u001b[0;34m\u001b[0m\u001b[0;34m\u001b[0m\u001b[0m\n\u001b[0m\u001b[1;32m    905\u001b[0m             \u001b[0;32mexcept\u001b[0m \u001b[0mException\u001b[0m \u001b[0;32mas\u001b[0m \u001b[0me\u001b[0m\u001b[0;34m:\u001b[0m\u001b[0;34m\u001b[0m\u001b[0;34m\u001b[0m\u001b[0m\n\u001b[1;32m    906\u001b[0m                 \u001b[0mself\u001b[0m\u001b[0;34m.\u001b[0m\u001b[0mlog\u001b[0m\u001b[0;34m.\u001b[0m\u001b[0mwarning\u001b[0m\u001b[0;34m(\u001b[0m\u001b[0;34m\"Invalid Message:\"\u001b[0m\u001b[0;34m,\u001b[0m \u001b[0mexc_info\u001b[0m\u001b[0;34m=\u001b[0m\u001b[0;32mTrue\u001b[0m\u001b[0;34m)\u001b[0m\u001b[0;34m\u001b[0m\u001b[0;34m\u001b[0m\u001b[0m\n",
      "\u001b[0;31mKeyboardInterrupt\u001b[0m: Interrupted by user"
     ]
    }
   ],
   "source": [
    "L = []\n",
    "\n",
    "for i in range(150):\n",
    "    tweet = df_eng[\"Tweet Text\"].tolist()[i]\n",
    "    print(tweet)\n",
    "    \n",
    "    label = input()\n",
    "    L.append(label)\n",
    "    print(\"Label:\", label)\n",
    "    "
   ]
  },
  {
   "cell_type": "markdown",
   "metadata": {},
   "source": [
    "## TF-IDF "
   ]
  },
  {
   "cell_type": "code",
   "execution_count": 40,
   "metadata": {},
   "outputs": [],
   "source": [
    "import pandas as pd\n",
    "from sklearn.feature_extraction.text import TfidfVectorizer"
   ]
  },
  {
   "cell_type": "code",
   "execution_count": 48,
   "metadata": {},
   "outputs": [
    {
     "data": {
      "text/plain": [
       "['around',\n",
       " 'children',\n",
       " 'fire',\n",
       " 'for',\n",
       " 'man',\n",
       " 'out',\n",
       " 'sat',\n",
       " 'the',\n",
       " 'walk',\n",
       " 'went']"
      ]
     },
     "execution_count": 48,
     "metadata": {},
     "output_type": "execute_result"
    }
   ],
   "source": [
    "documentA = 'the man went out for a walk'\n",
    "documentB = 'the children sat around the fire'\n",
    "\n",
    "\n",
    "vectorizer = TfidfVectorizer()\n",
    "vectors = vectorizer.fit_transform([documentA, documentB])\n",
    "feature_names = vectorizer.get_feature_names()\n",
    "dense = vectors.todense()\n",
    "denselist = dense.tolist()\n",
    "df = pd.DataFrame(denselist, columns=feature_names)\n",
    "\n"
   ]
  },
  {
   "cell_type": "code",
   "execution_count": 56,
   "metadata": {},
   "outputs": [],
   "source": [
    "def get_TF_IDF_mat(list_of_tweets, list_of_IDs):\n",
    "    vectorizer = TfidfVectorizer()\n",
    "    vectors = vectorizer.fit_transform(list_of_tweets) # TODO - need to make it generalizable in future\n",
    "    feature_names = vectorizer.get_feature_names()\n",
    "    dense = vectors.todense()\n",
    "    denselist = dense.tolist()\n",
    "    \n",
    "    TF_IDF_df = pd.DataFrame(denselist, columns=feature_names)\n",
    "    TF_IDF_df[\"ID\"] = list_of_IDs # n\n",
    "    return TF_IDF_df"
   ]
  },
  {
   "cell_type": "code",
   "execution_count": 43,
   "metadata": {},
   "outputs": [
    {
     "data": {
      "text/plain": [
       "(2, 10)"
      ]
     },
     "execution_count": 43,
     "metadata": {},
     "output_type": "execute_result"
    }
   ],
   "source": [
    "df.shape"
   ]
  },
  {
   "cell_type": "code",
   "execution_count": 57,
   "metadata": {},
   "outputs": [],
   "source": [
    "df = pd.read_csv(\"../data/stack_files/samp_raw_df_april.csv\")\n",
    "\n"
   ]
  },
  {
   "cell_type": "code",
   "execution_count": 59,
   "metadata": {},
   "outputs": [],
   "source": [
    "df_TF_IDF = get_TF_IDF_mat(df[\"Tweet Text\"], df[\"ID\"])"
   ]
  },
  {
   "cell_type": "code",
   "execution_count": 62,
   "metadata": {
    "scrolled": true
   },
   "outputs": [
    {
     "data": {
      "text/html": [
       "<div>\n",
       "<style scoped>\n",
       "    .dataframe tbody tr th:only-of-type {\n",
       "        vertical-align: middle;\n",
       "    }\n",
       "\n",
       "    .dataframe tbody tr th {\n",
       "        vertical-align: top;\n",
       "    }\n",
       "\n",
       "    .dataframe thead th {\n",
       "        text-align: right;\n",
       "    }\n",
       "</style>\n",
       "<table border=\"1\" class=\"dataframe\">\n",
       "  <thead>\n",
       "    <tr style=\"text-align: right;\">\n",
       "      <th></th>\n",
       "      <th>000</th>\n",
       "      <th>00pm</th>\n",
       "      <th>023</th>\n",
       "      <th>0i87y8mpz1</th>\n",
       "      <th>10</th>\n",
       "      <th>100</th>\n",
       "      <th>10downingstreet</th>\n",
       "      <th>11</th>\n",
       "      <th>11thhour</th>\n",
       "      <th>12</th>\n",
       "      <th>...</th>\n",
       "      <th>z0dgfcstks</th>\n",
       "      <th>z5wjwnzrer</th>\n",
       "      <th>z8qywls7xp</th>\n",
       "      <th>zahnflsioe</th>\n",
       "      <th>zcmi8djyxy</th>\n",
       "      <th>zgkcwmosgf</th>\n",
       "      <th>zombie</th>\n",
       "      <th>zone</th>\n",
       "      <th>zoom</th>\n",
       "      <th>zzk1tktio5</th>\n",
       "    </tr>\n",
       "  </thead>\n",
       "  <tbody>\n",
       "    <tr>\n",
       "      <th>count</th>\n",
       "      <td>414.000000</td>\n",
       "      <td>414.000000</td>\n",
       "      <td>414.000000</td>\n",
       "      <td>414.000000</td>\n",
       "      <td>414.000000</td>\n",
       "      <td>414.000000</td>\n",
       "      <td>414.000000</td>\n",
       "      <td>414.000000</td>\n",
       "      <td>414.000000</td>\n",
       "      <td>414.000000</td>\n",
       "      <td>...</td>\n",
       "      <td>414.000000</td>\n",
       "      <td>414.000000</td>\n",
       "      <td>414.000000</td>\n",
       "      <td>414.000000</td>\n",
       "      <td>414.000000</td>\n",
       "      <td>414.000000</td>\n",
       "      <td>414.000000</td>\n",
       "      <td>414.000000</td>\n",
       "      <td>414.000000</td>\n",
       "      <td>414.000000</td>\n",
       "    </tr>\n",
       "    <tr>\n",
       "      <th>mean</th>\n",
       "      <td>0.001402</td>\n",
       "      <td>0.000599</td>\n",
       "      <td>0.000513</td>\n",
       "      <td>0.001190</td>\n",
       "      <td>0.001395</td>\n",
       "      <td>0.001519</td>\n",
       "      <td>0.001487</td>\n",
       "      <td>0.001834</td>\n",
       "      <td>0.000942</td>\n",
       "      <td>0.000738</td>\n",
       "      <td>...</td>\n",
       "      <td>0.000544</td>\n",
       "      <td>0.000803</td>\n",
       "      <td>0.000804</td>\n",
       "      <td>0.001248</td>\n",
       "      <td>0.000814</td>\n",
       "      <td>0.001009</td>\n",
       "      <td>0.000547</td>\n",
       "      <td>0.001296</td>\n",
       "      <td>0.001632</td>\n",
       "      <td>0.000566</td>\n",
       "    </tr>\n",
       "    <tr>\n",
       "      <th>std</th>\n",
       "      <td>0.028517</td>\n",
       "      <td>0.012196</td>\n",
       "      <td>0.010441</td>\n",
       "      <td>0.024208</td>\n",
       "      <td>0.020085</td>\n",
       "      <td>0.022092</td>\n",
       "      <td>0.021374</td>\n",
       "      <td>0.026378</td>\n",
       "      <td>0.019161</td>\n",
       "      <td>0.015012</td>\n",
       "      <td>...</td>\n",
       "      <td>0.011060</td>\n",
       "      <td>0.016345</td>\n",
       "      <td>0.016353</td>\n",
       "      <td>0.025399</td>\n",
       "      <td>0.016557</td>\n",
       "      <td>0.020538</td>\n",
       "      <td>0.011134</td>\n",
       "      <td>0.020039</td>\n",
       "      <td>0.019129</td>\n",
       "      <td>0.011519</td>\n",
       "    </tr>\n",
       "    <tr>\n",
       "      <th>min</th>\n",
       "      <td>0.000000</td>\n",
       "      <td>0.000000</td>\n",
       "      <td>0.000000</td>\n",
       "      <td>0.000000</td>\n",
       "      <td>0.000000</td>\n",
       "      <td>0.000000</td>\n",
       "      <td>0.000000</td>\n",
       "      <td>0.000000</td>\n",
       "      <td>0.000000</td>\n",
       "      <td>0.000000</td>\n",
       "      <td>...</td>\n",
       "      <td>0.000000</td>\n",
       "      <td>0.000000</td>\n",
       "      <td>0.000000</td>\n",
       "      <td>0.000000</td>\n",
       "      <td>0.000000</td>\n",
       "      <td>0.000000</td>\n",
       "      <td>0.000000</td>\n",
       "      <td>0.000000</td>\n",
       "      <td>0.000000</td>\n",
       "      <td>0.000000</td>\n",
       "    </tr>\n",
       "    <tr>\n",
       "      <th>25%</th>\n",
       "      <td>0.000000</td>\n",
       "      <td>0.000000</td>\n",
       "      <td>0.000000</td>\n",
       "      <td>0.000000</td>\n",
       "      <td>0.000000</td>\n",
       "      <td>0.000000</td>\n",
       "      <td>0.000000</td>\n",
       "      <td>0.000000</td>\n",
       "      <td>0.000000</td>\n",
       "      <td>0.000000</td>\n",
       "      <td>...</td>\n",
       "      <td>0.000000</td>\n",
       "      <td>0.000000</td>\n",
       "      <td>0.000000</td>\n",
       "      <td>0.000000</td>\n",
       "      <td>0.000000</td>\n",
       "      <td>0.000000</td>\n",
       "      <td>0.000000</td>\n",
       "      <td>0.000000</td>\n",
       "      <td>0.000000</td>\n",
       "      <td>0.000000</td>\n",
       "    </tr>\n",
       "    <tr>\n",
       "      <th>50%</th>\n",
       "      <td>0.000000</td>\n",
       "      <td>0.000000</td>\n",
       "      <td>0.000000</td>\n",
       "      <td>0.000000</td>\n",
       "      <td>0.000000</td>\n",
       "      <td>0.000000</td>\n",
       "      <td>0.000000</td>\n",
       "      <td>0.000000</td>\n",
       "      <td>0.000000</td>\n",
       "      <td>0.000000</td>\n",
       "      <td>...</td>\n",
       "      <td>0.000000</td>\n",
       "      <td>0.000000</td>\n",
       "      <td>0.000000</td>\n",
       "      <td>0.000000</td>\n",
       "      <td>0.000000</td>\n",
       "      <td>0.000000</td>\n",
       "      <td>0.000000</td>\n",
       "      <td>0.000000</td>\n",
       "      <td>0.000000</td>\n",
       "      <td>0.000000</td>\n",
       "    </tr>\n",
       "    <tr>\n",
       "      <th>75%</th>\n",
       "      <td>0.000000</td>\n",
       "      <td>0.000000</td>\n",
       "      <td>0.000000</td>\n",
       "      <td>0.000000</td>\n",
       "      <td>0.000000</td>\n",
       "      <td>0.000000</td>\n",
       "      <td>0.000000</td>\n",
       "      <td>0.000000</td>\n",
       "      <td>0.000000</td>\n",
       "      <td>0.000000</td>\n",
       "      <td>...</td>\n",
       "      <td>0.000000</td>\n",
       "      <td>0.000000</td>\n",
       "      <td>0.000000</td>\n",
       "      <td>0.000000</td>\n",
       "      <td>0.000000</td>\n",
       "      <td>0.000000</td>\n",
       "      <td>0.000000</td>\n",
       "      <td>0.000000</td>\n",
       "      <td>0.000000</td>\n",
       "      <td>0.000000</td>\n",
       "    </tr>\n",
       "    <tr>\n",
       "      <th>max</th>\n",
       "      <td>0.580240</td>\n",
       "      <td>0.248151</td>\n",
       "      <td>0.212443</td>\n",
       "      <td>0.492568</td>\n",
       "      <td>0.307083</td>\n",
       "      <td>0.362942</td>\n",
       "      <td>0.311280</td>\n",
       "      <td>0.396081</td>\n",
       "      <td>0.389859</td>\n",
       "      <td>0.305447</td>\n",
       "      <td>...</td>\n",
       "      <td>0.225029</td>\n",
       "      <td>0.332565</td>\n",
       "      <td>0.332737</td>\n",
       "      <td>0.516785</td>\n",
       "      <td>0.336879</td>\n",
       "      <td>0.417894</td>\n",
       "      <td>0.226547</td>\n",
       "      <td>0.374493</td>\n",
       "      <td>0.227845</td>\n",
       "      <td>0.234383</td>\n",
       "    </tr>\n",
       "  </tbody>\n",
       "</table>\n",
       "<p>8 rows × 2918 columns</p>\n",
       "</div>"
      ],
      "text/plain": [
       "              000        00pm         023  0i87y8mpz1          10         100  \\\n",
       "count  414.000000  414.000000  414.000000  414.000000  414.000000  414.000000   \n",
       "mean     0.001402    0.000599    0.000513    0.001190    0.001395    0.001519   \n",
       "std      0.028517    0.012196    0.010441    0.024208    0.020085    0.022092   \n",
       "min      0.000000    0.000000    0.000000    0.000000    0.000000    0.000000   \n",
       "25%      0.000000    0.000000    0.000000    0.000000    0.000000    0.000000   \n",
       "50%      0.000000    0.000000    0.000000    0.000000    0.000000    0.000000   \n",
       "75%      0.000000    0.000000    0.000000    0.000000    0.000000    0.000000   \n",
       "max      0.580240    0.248151    0.212443    0.492568    0.307083    0.362942   \n",
       "\n",
       "       10downingstreet          11    11thhour          12  ...  z0dgfcstks  \\\n",
       "count       414.000000  414.000000  414.000000  414.000000  ...  414.000000   \n",
       "mean          0.001487    0.001834    0.000942    0.000738  ...    0.000544   \n",
       "std           0.021374    0.026378    0.019161    0.015012  ...    0.011060   \n",
       "min           0.000000    0.000000    0.000000    0.000000  ...    0.000000   \n",
       "25%           0.000000    0.000000    0.000000    0.000000  ...    0.000000   \n",
       "50%           0.000000    0.000000    0.000000    0.000000  ...    0.000000   \n",
       "75%           0.000000    0.000000    0.000000    0.000000  ...    0.000000   \n",
       "max           0.311280    0.396081    0.389859    0.305447  ...    0.225029   \n",
       "\n",
       "       z5wjwnzrer  z8qywls7xp  zahnflsioe  zcmi8djyxy  zgkcwmosgf      zombie  \\\n",
       "count  414.000000  414.000000  414.000000  414.000000  414.000000  414.000000   \n",
       "mean     0.000803    0.000804    0.001248    0.000814    0.001009    0.000547   \n",
       "std      0.016345    0.016353    0.025399    0.016557    0.020538    0.011134   \n",
       "min      0.000000    0.000000    0.000000    0.000000    0.000000    0.000000   \n",
       "25%      0.000000    0.000000    0.000000    0.000000    0.000000    0.000000   \n",
       "50%      0.000000    0.000000    0.000000    0.000000    0.000000    0.000000   \n",
       "75%      0.000000    0.000000    0.000000    0.000000    0.000000    0.000000   \n",
       "max      0.332565    0.332737    0.516785    0.336879    0.417894    0.226547   \n",
       "\n",
       "             zone        zoom  zzk1tktio5  \n",
       "count  414.000000  414.000000  414.000000  \n",
       "mean     0.001296    0.001632    0.000566  \n",
       "std      0.020039    0.019129    0.011519  \n",
       "min      0.000000    0.000000    0.000000  \n",
       "25%      0.000000    0.000000    0.000000  \n",
       "50%      0.000000    0.000000    0.000000  \n",
       "75%      0.000000    0.000000    0.000000  \n",
       "max      0.374493    0.227845    0.234383  \n",
       "\n",
       "[8 rows x 2918 columns]"
      ]
     },
     "execution_count": 62,
     "metadata": {},
     "output_type": "execute_result"
    }
   ],
   "source": [
    "df_TF_IDF.head()\n",
    "df_TF_IDF.describe()"
   ]
  },
  {
   "cell_type": "code",
   "execution_count": null,
   "metadata": {},
   "outputs": [],
   "source": [
    "\n",
    "\n",
    "\n"
   ]
  },
  {
   "cell_type": "code",
   "execution_count": null,
   "metadata": {},
   "outputs": [],
   "source": []
  },
  {
   "cell_type": "code",
   "execution_count": null,
   "metadata": {},
   "outputs": [],
   "source": []
  },
  {
   "cell_type": "code",
   "execution_count": null,
   "metadata": {},
   "outputs": [],
   "source": []
  },
  {
   "cell_type": "markdown",
   "metadata": {},
   "source": [
    "## LDA - Topic Modeling "
   ]
  },
  {
   "cell_type": "code",
   "execution_count": 63,
   "metadata": {},
   "outputs": [],
   "source": [
    "from sklearn.decomposition import LatentDirichletAllocation\n",
    "from sklearn.datasets import make_multilabel_classification\n",
    "\n",
    "\n",
    "lda = LatentDirichletAllocation(n_components=4, random_state=2020) # n_jobs=None\n",
    "\n",
    "lda_model = lda.fit_transform(df_TF_IDF.iloc[:, :df_TF_IDF.shape[1] - 1])"
   ]
  },
  {
   "cell_type": "code",
   "execution_count": 64,
   "metadata": {},
   "outputs": [
    {
     "data": {
      "text/plain": [
       "array([[0.08306676, 0.08251556, 0.7527685 , 0.08164918],\n",
       "       [0.04636714, 0.85679854, 0.0465947 , 0.05023962],\n",
       "       [0.04651272, 0.05043642, 0.04644845, 0.85660242],\n",
       "       ...,\n",
       "       [0.86322834, 0.04553638, 0.04604525, 0.04519004],\n",
       "       [0.88240054, 0.03899796, 0.0396766 , 0.0389249 ],\n",
       "       [0.04603504, 0.86128859, 0.04691184, 0.04576453]])"
      ]
     },
     "execution_count": 64,
     "metadata": {},
     "output_type": "execute_result"
    }
   ],
   "source": [
    "lda_model"
   ]
  },
  {
   "cell_type": "code",
   "execution_count": 65,
   "metadata": {},
   "outputs": [],
   "source": [
    "def latent_da_v2(X_train, X_test, n_comps):\n",
    "    lda = LatentDirichletAllocation(n_components=n_comps, random_state=2020) # n_jobs=None \n",
    "\n",
    "    return lda.fit_transform(X_train), lda.transform(X_test)"
   ]
  },
  {
   "cell_type": "code",
   "execution_count": 66,
   "metadata": {},
   "outputs": [],
   "source": [
    "X_train, X_test = df_TF_IDF.iloc[:100, :-1], df_TF_IDF.iloc[100:, :-1]"
   ]
  },
  {
   "cell_type": "code",
   "execution_count": 68,
   "metadata": {},
   "outputs": [
    {
     "data": {
      "text/plain": [
       "(314, 2918)"
      ]
     },
     "execution_count": 68,
     "metadata": {},
     "output_type": "execute_result"
    }
   ],
   "source": [
    "X_test.shape"
   ]
  },
  {
   "cell_type": "code",
   "execution_count": 69,
   "metadata": {},
   "outputs": [],
   "source": [
    "X_train2, X_test2 = latent_da_v2(X_train, X_test, 20)"
   ]
  },
  {
   "cell_type": "code",
   "execution_count": 71,
   "metadata": {},
   "outputs": [
    {
     "data": {
      "text/plain": [
       "array([[0.01611566, 0.01611566, 0.01611566, ..., 0.01611566, 0.01611566,\n",
       "        0.01611566],\n",
       "       [0.00905533, 0.00905533, 0.00905533, ..., 0.00905533, 0.00905533,\n",
       "        0.06328802],\n",
       "       [0.00905655, 0.00905655, 0.00905655, ..., 0.00905655, 0.00905655,\n",
       "        0.00905655],\n",
       "       ...,\n",
       "       [0.00995941, 0.00995941, 0.00995941, ..., 0.00995941, 0.00995941,\n",
       "        0.00995941],\n",
       "       [0.00995941, 0.00995941, 0.00995941, ..., 0.00995941, 0.00995941,\n",
       "        0.00995941],\n",
       "       [0.00995941, 0.00995941, 0.00995941, ..., 0.00995941, 0.00995941,\n",
       "        0.00995941]])"
      ]
     },
     "execution_count": 71,
     "metadata": {},
     "output_type": "execute_result"
    }
   ],
   "source": [
    "X_train2"
   ]
  },
  {
   "cell_type": "code",
   "execution_count": 72,
   "metadata": {},
   "outputs": [
    {
     "data": {
      "text/plain": [
       "array([[0.00995941, 0.00995941, 0.00995941, ..., 0.00995941, 0.00995941,\n",
       "        0.00995941],\n",
       "       [0.00941688, 0.00941688, 0.00941688, ..., 0.00941688, 0.21772825,\n",
       "        0.00941688],\n",
       "       [0.00995941, 0.00995941, 0.00995941, ..., 0.00995941, 0.00995941,\n",
       "        0.00995941],\n",
       "       ...,\n",
       "       [0.00888816, 0.00888815, 0.00888815, ..., 0.05109349, 0.35031653,\n",
       "        0.00888815],\n",
       "       [0.02988217, 0.00761313, 0.03413397, ..., 0.00761313, 0.23623476,\n",
       "        0.00761313],\n",
       "       [0.00896949, 0.00896949, 0.00896949, ..., 0.00896949, 0.80804201,\n",
       "        0.0089695 ]])"
      ]
     },
     "execution_count": 72,
     "metadata": {},
     "output_type": "execute_result"
    }
   ],
   "source": [
    "X_test2"
   ]
  },
  {
   "cell_type": "markdown",
   "metadata": {},
   "source": [
    "## Label some data"
   ]
  },
  {
   "cell_type": "code",
   "execution_count": 8,
   "metadata": {},
   "outputs": [],
   "source": [
    "df = pd.read_csv(\"../data/stack_files/balanced_pro_n_anti_mask_df_v4.csv\")"
   ]
  },
  {
   "cell_type": "code",
   "execution_count": 9,
   "metadata": {},
   "outputs": [
    {
     "data": {
      "text/plain": [
       "Index(['Tweet Text', 'Tweet Datetime', 'Tweet Id', 'User Id', 'User Name',\n",
       "       'User Location', 'Tweet Coordinates', 'Place Info', 'Country',\n",
       "       'Hashtags', 'Retweets', 'Favorites', 'Language', 'Source',\n",
       "       'Replied Tweet Id', 'Replied Tweet User Id', 'month', 'ground_truth',\n",
       "       'ID', 'folds', 'vader_neg', 'vader_neu', 'vader_pos', 'vader_compound'],\n",
       "      dtype='object')"
      ]
     },
     "execution_count": 9,
     "metadata": {},
     "output_type": "execute_result"
    }
   ],
   "source": [
    "df.columns"
   ]
  },
  {
   "cell_type": "code",
   "execution_count": 19,
   "metadata": {},
   "outputs": [
    {
     "ename": "SyntaxError",
     "evalue": "invalid syntax (<ipython-input-19-b2ed18d54ce9>, line 30)",
     "output_type": "error",
     "traceback": [
      "\u001b[0;36m  File \u001b[0;32m\"<ipython-input-19-b2ed18d54ce9>\"\u001b[0;36m, line \u001b[0;32m30\u001b[0m\n\u001b[0;31m    rating_df.append(pd.DataFrame(rating, columns=[\"ID\", \"CAP6317_rating\"]), ignore_index=True)\u001b[0m\n\u001b[0m            ^\u001b[0m\n\u001b[0;31mSyntaxError\u001b[0m\u001b[0;31m:\u001b[0m invalid syntax\n"
     ]
    }
   ],
   "source": [
    "import numpy as np \n",
    "import pandas as pd \n",
    "\n",
    "\n",
    "def rater():\n",
    "    df = pd.read_csv(\"../data/stack_files/balanced_pro_n_anti_mask_df_v4.csv\")\n",
    "    rating_df = pd.read_csv(\"../data/stack_files/balanced_pro_n_anti_mask_df_v4_w_ratings.csv\")\n",
    "    \n",
    "    df2 = df.copy()\n",
    "    df2[\"CAP6317_rating\"] = [-999] * df.shape[0]\n",
    "    print(rating_df.shape)\n",
    "\n",
    "    L = []\n",
    "    leng = 20 # df.shape[0]\n",
    "    rater_mat = np.zeros((0, 2))\n",
    "    left, right = rating_df.shape[0], df.shape[0]\n",
    "    \n",
    "    right = 5\n",
    "    for i in range(left, right):\n",
    "        print(\"i:\", i)\n",
    "        print(\"\\n\")\n",
    "        print(\"=\" * 80)\n",
    "        print(\"Tweet text:\", df.iloc[i, 0])\n",
    "\n",
    "\n",
    "        print(\"-\" * 80)\n",
    "        print('Is it an ANTI_MASK tweet? y(1) or n(0)')\n",
    "        x = input()\n",
    "\n",
    "        if str(x) == \"1\" or str(x).lower() == \"y\":\n",
    "#             rating = np.array([[df[\"ID\"][i], 1]])\n",
    "            rating = [[df[\"ID\"][i], 1]\n",
    "            rating_df.append(pd.DataFrame(rating, columns=[\"ID\", \"CAP6317_rating\"]), ignore_index=True)  \n",
    "#             rating_df = rating_df.append(pd.DataFrame(rating, columns=[\"ID\", \"CAP6317_rating\"]), ignore_index=True)\n",
    "        elif str(x) == \"0\" or str(x).lower() == \"n\":\n",
    "#             rating = np.array([[df[\"ID\"][i], 0]])\n",
    "            rating = [[df[\"ID\"][i], 1]\n",
    "            rating_df.append(pd.DataFrame(rating, columns=[\"ID\", \"CAP6317_rating\"]), ignore_index=True)\n",
    "#             rating_df = rating_df.append(pd.DataFrame(rating, columns=[\"ID\", \"CAP6317_rating\"]), ignore_index=True)\n",
    "        else:\n",
    "            print(\"Input is not accepted. Please, provide a valid response.\")\n",
    "            \n",
    "#         rater_mat = np.append(rater_mat, rating, axis=0)\n",
    "            \n",
    "            \n",
    "        if i % 3 == 0:\n",
    "#             print(rater_mat)\n",
    "#             rating_df = rating_df.append(pd.DataFrame(rater_mat, columns=[\"ID\", \"CAP6317_rating\"]), ignore_index=True)\n",
    "            print(rating_df)\n",
    "            \n",
    "#             rater_df = pd.DataFrame(rater_mat, columns=[\"ID\", \"CAP6317_rating\"]) \n",
    "            rating_df.to_csv(\"../data/stack_files/balanced_pro_n_anti_mask_df_v4_w_ratings.csv\", index=False, header=True)\n",
    "                \n",
    "rater()    "
   ]
  },
  {
   "cell_type": "markdown",
   "metadata": {},
   "source": []
  },
  {
   "cell_type": "code",
   "execution_count": null,
   "metadata": {},
   "outputs": [
    {
     "name": "stdout",
     "output_type": "stream",
     "text": [
      "-999\n",
      "i: 7\n",
      "\n",
      "\n",
      "================================================================================\n",
      "Tweet text: I read the Mask of the Red Death for the first time; it's a story of decadent rich people cavorting during a deadly plague, seeing somebody with a mask that they don't like, trying to get the mask off him, and then dying horribly.\n",
      "\n",
      "#TrumpVirus #WearAMask #WearaDamnMask\n",
      "--------------------------------------------------------------------------------\n",
      "Is it an ANTI_MASK tweet? y(1) or n(0)\n",
      "0\n",
      "-999\n",
      "i: 8\n",
      "\n",
      "\n",
      "================================================================================\n",
      "Tweet text: RT @morethanmySLE: \"Dr.\" Karen mocking the man documenting her atrocious behavior at a Florida Costco pleading with her to #WearAMask \n",
      "\n",
      "#CO…\n",
      "--------------------------------------------------------------------------------\n",
      "Is it an ANTI_MASK tweet? y(1) or n(0)\n",
      "0\n",
      "-999\n",
      "i: 9\n",
      "\n",
      "\n",
      "================================================================================\n",
      "Tweet text: 'Lockdown' is simply a new term to justify putting innocent people under house arrest! I have committed no crime therefore any such action is illegal and #idoNOTconsent #lockdown #NoMasks #NOLOCKDOWN #nolockdown2 #lockdownUK\n",
      "--------------------------------------------------------------------------------\n",
      "Is it an ANTI_MASK tweet? y(1) or n(0)\n",
      "1\n",
      "-999\n",
      "i: 10\n",
      "\n",
      "\n",
      "================================================================================\n",
      "Tweet text: RT @sharonstone: Please light candles for my sister Kelly and her husband my dear friend Bruce 🤍🙏🏻🌿 #WearAMask https://t.co/pDblINnJTD\n",
      "--------------------------------------------------------------------------------\n",
      "Is it an ANTI_MASK tweet? y(1) or n(0)\n",
      "0\n",
      "-999\n",
      "i: 11\n",
      "\n",
      "\n",
      "================================================================================\n",
      "Tweet text: RT @nirvidahiya: .@MayoClinic Trust in science. \n",
      "\n",
      "#WearforAll #WearAMaskSaveALife #MasksSaveLives \n",
      "#COVIDー19 https://t.co/XkJK3pmKvy\n",
      "--------------------------------------------------------------------------------\n",
      "Is it an ANTI_MASK tweet? y(1) or n(0)\n",
      "0\n",
      "-999\n",
      "i: 12\n",
      "\n",
      "\n",
      "================================================================================\n",
      "Tweet text: .@honeywell is a Top100 corporate donor to #PA01 incumbent &amp; Trump excuser @RepBrianFitz \n",
      "\n",
      "Last week, #BoughtAndSoldBrian appeared in Congress, wiping his nose with his fingertips,conspicuously NOT wearing a mask in order to be a McCarthy/Trump #NoMask tribalist\n",
      "\n",
      "#MaskUpFitz 😷 https://t.co/i8nYgLYT57\n",
      "--------------------------------------------------------------------------------\n",
      "Is it an ANTI_MASK tweet? y(1) or n(0)\n",
      "0\n",
      "-999\n",
      "i: 13\n",
      "\n",
      "\n",
      "================================================================================\n",
      "Tweet text: RT @TheRightMelissa: @Acosta Neither will I. #nomask because it’s not about “public health” it’s about control. You already demonstrated th…\n",
      "--------------------------------------------------------------------------------\n",
      "Is it an ANTI_MASK tweet? y(1) or n(0)\n",
      "1\n",
      "-999\n",
      "i: 14\n",
      "\n",
      "\n",
      "================================================================================\n",
      "Tweet text: @PeterSweden7 You bet. #ScumMedia #NoMasks. https://t.co/ydgZ4XJ2KU\n",
      "--------------------------------------------------------------------------------\n",
      "Is it an ANTI_MASK tweet? y(1) or n(0)\n",
      "1\n",
      "-999\n",
      "i: 15\n",
      "\n",
      "\n",
      "================================================================================\n",
      "Tweet text: @DaxGigandet Mask mandate country wide with stiff penalties for violations. Enough with the Karen’s. #WearAMask\n",
      "--------------------------------------------------------------------------------\n",
      "Is it an ANTI_MASK tweet? y(1) or n(0)\n"
     ]
    }
   ],
   "source": [
    "import numpy as np \n",
    "import pandas as pd \n",
    "\n",
    "\n",
    "def rater():\n",
    "    df = pd.read_csv(\"../data/stack_files/balanced_pro_n_anti_mask_df_v4.csv\")\n",
    "    rating_df = pd.read_csv(\"../data/stack_files/balanced_pro_n_anti_mask_df_v4_w_ratings.csv\")\n",
    "#     print(rating_df)\n",
    "    \n",
    "    for i in range(rating_df.shape[0]):\n",
    "        if rating_df.iloc[i, 1] == -999:\n",
    "            print(rating_df.iloc[i, 1])\n",
    "            print(\"i:\", i)\n",
    "            print(\"\\n\")\n",
    "            print(\"=\" * 80)\n",
    "            print(\"Tweet text:\", df.iloc[i, 0])\n",
    "\n",
    "            print(\"-\" * 80)\n",
    "            print('Is it an ANTI_MASK tweet? y(1) or n(0)')\n",
    "            x = input()\n",
    "\n",
    "            if str(x) == \"1\" or str(x).lower() == \"y\":\n",
    "                rating_df.iloc[i, -1] = 1\n",
    "            elif str(x) == \"0\" or str(x).lower() == \"n\":\n",
    "                rating_df.iloc[i, -1] = 0\n",
    "            else:\n",
    "                print(\"Input is not accepted. Please, provide a valid response.\")\n",
    "\n",
    "            if i % 3 == 0:\n",
    "#                 print(rating_df)\n",
    "                rating_df.to_csv(\"../data/stack_files/balanced_pro_n_anti_mask_df_v4_w_ratings.csv\", index=False, header=True)\n",
    "                \n",
    "rater()   "
   ]
  },
  {
   "cell_type": "code",
   "execution_count": 26,
   "metadata": {},
   "outputs": [
    {
     "name": "stderr",
     "output_type": "stream",
     "text": [
      "/home/cse/anaconda3/envs/socialMM/lib/python3.7/site-packages/ipykernel_launcher.py:4: SettingWithCopyWarning: \n",
      "A value is trying to be set on a copy of a slice from a DataFrame.\n",
      "Try using .loc[row_indexer,col_indexer] = value instead\n",
      "\n",
      "See the caveats in the documentation: https://pandas.pydata.org/pandas-docs/stable/user_guide/indexing.html#returning-a-view-versus-a-copy\n",
      "  after removing the cwd from sys.path.\n"
     ]
    }
   ],
   "source": [
    "df = pd.read_csv(\"../data/stack_files/balanced_pro_n_anti_mask_df_v4.csv\")\n",
    "\n",
    "df2 = df[[\"ID\"]]\n",
    "df2[\"CAP6317_rating\"] = [-999] * df2.shape[0]\n",
    "\n",
    "df2.shape\n",
    "\n",
    "df2.to_csv(\"../data/stack_files/balanced_pro_n_anti_mask_df_v4_w_ratings.csv\", index=False, header=True)"
   ]
  },
  {
   "cell_type": "code",
   "execution_count": 36,
   "metadata": {},
   "outputs": [
    {
     "data": {
      "text/plain": [
       "ID                object\n",
       "CAP6317_rating     int64\n",
       "dtype: object"
      ]
     },
     "execution_count": 36,
     "metadata": {},
     "output_type": "execute_result"
    }
   ],
   "source": [
    "df2.dtypes"
   ]
  },
  {
   "cell_type": "code",
   "execution_count": null,
   "metadata": {},
   "outputs": [],
   "source": []
  }
 ],
 "metadata": {
  "kernelspec": {
   "display_name": "socialMM",
   "language": "python",
   "name": "socialmm"
  },
  "language_info": {
   "codemirror_mode": {
    "name": "ipython",
    "version": 3
   },
   "file_extension": ".py",
   "mimetype": "text/x-python",
   "name": "python",
   "nbconvert_exporter": "python",
   "pygments_lexer": "ipython3",
   "version": "3.7.9"
  }
 },
 "nbformat": 4,
 "nbformat_minor": 4
}
