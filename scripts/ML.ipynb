{
 "cells": [
  {
   "cell_type": "code",
   "execution_count": 1,
   "metadata": {},
   "outputs": [
    {
     "name": "stderr",
     "output_type": "stream",
     "text": [
      "/home/cse/anaconda3/envs/socialMM/lib/python3.7/site-packages/sklearn/utils/deprecation.py:143: FutureWarning: The sklearn.manifold.t_sne module is  deprecated in version 0.22 and will be removed in version 0.24. The corresponding classes / functions should instead be imported from sklearn.manifold. Anything that cannot be imported from sklearn.manifold is now part of the private API.\n",
      "  warnings.warn(message, FutureWarning)\n"
     ]
    }
   ],
   "source": [
    "import os\n",
    "import sys\n",
    "import multiprocessing\n",
    "from itertools import islice\n",
    "from random import randint\n",
    "\n",
    "import pandas as pd\n",
    "import numpy as np\n",
    "from scipy import stats\n",
    "from scipy import signal \n",
    "from statsmodels import robust\n",
    "import pickle\n",
    "\n",
    "from sklearn.manifold import TSNE\n",
    "\n",
    "from sklearn.preprocessing import StandardScaler\n",
    "from sklearn.preprocessing import MinMaxScaler\n",
    "\n",
    "from sklearn.model_selection import train_test_split\n",
    "\n",
    "# import tensorflow as tf \n",
    "# from tensorflow.keras.utils import to_categorical\n",
    "\n",
    "from metrics_ import eval_regression, eval_classification, ccc, pcc, accuracy, precision, recall, f1score, auc_roc, cohen_kappa, mcc # import custom evaluation metrics \n",
    "from sklearn.metrics import confusion_matrix, classification_report\n",
    "\n",
    "import joblib \n",
    "\n",
    "# custom import \n",
    "import model_\n",
    "import metrics_"
   ]
  },
  {
   "cell_type": "markdown",
   "metadata": {},
   "source": [
    "## Load dataset "
   ]
  },
  {
   "cell_type": "code",
   "execution_count": null,
   "metadata": {},
   "outputs": [],
   "source": [
    "antiMask_df = pd.read_csv(\"../data/BERTTweet_AntiMask_Features/April_NoMask_Tweets.csv\")\n",
    "\n",
    "proMask_df = pd.read_csv(\"../data/BERTWeet_ProMask_Features/April_WearMask_Tweets.csv\")"
   ]
  },
  {
   "cell_type": "code",
   "execution_count": null,
   "metadata": {},
   "outputs": [],
   "source": [
    "proMask_df.shape\n",
    "print(antiMask_df.shape)"
   ]
  },
  {
   "cell_type": "code",
   "execution_count": null,
   "metadata": {},
   "outputs": [],
   "source": [
    "antiMask_df[\"ground_truth\"] = [0] * antiMask_df.shape[0]\n",
    "proMask_df[\"ground_truth\"] = [1] * proMask_df.shape[0]\n",
    "\n",
    "m_df = pd.concat([antiMask_df, proMask_df])\n",
    "m_df[\"month\"] = [\"April\"] * m_df.shape[0]\n",
    "print(m_df.shape)"
   ]
  },
  {
   "cell_type": "code",
   "execution_count": null,
   "metadata": {},
   "outputs": [],
   "source": [
    "def train_n_rand_validate_model(df, features, model_type):\n",
    "    # count_ = 0\n",
    "    n_seed = 5\n",
    "    m_res_mat = np.zeros((0, 10)) # 8 is subject to change \n",
    "    for seed_ in range(n_seed): # validation 4 times \n",
    "        # train_df = df[df[\"subject\"].isin(fold) == False]\n",
    "        # test_df = df[df[\"subject\"].isin(fold) == True]\n",
    "\n",
    "        # count_ += 1 \n",
    "        train_df, test_df, y_train_vec, y_test_vec = train_test_split(df, df[\"ground_truth\"], \n",
    "                                                                    test_size=0.3, # 0.3, 0.95\n",
    "                                                                    random_state=seed_, \n",
    "                                                                    stratify=df[\"month\"])\n",
    "\n",
    "\n",
    "        X_train, y_train = train_df[features], train_df[\"ground_truth\"]\n",
    "        X_test, y_test = test_df[features], test_df[\"ground_truth\"]\n",
    "\n",
    "        print(\"Number of features used in model training:\", X_train.shape)\n",
    "\n",
    "        # train model \n",
    "        if model_type == \"rf\":\n",
    "            X_train = X_train.astype(float)\n",
    "            X_test = X_test.astype(float)\n",
    "#             X_train, X_test = min_max_norm(X_train, X_test, \"\")\n",
    "\n",
    "            model = model_.xgboost_classifier(X_train, y_train)\n",
    "    \n",
    "        pred = model.predict(X_test)\n",
    "        orig = y_test\n",
    "\n",
    "\n",
    "       \tclf_report = classification_report(orig, pred, output_dict=True)\n",
    "       \tprint(clf_report)\n",
    "        cls_report_df = cls_report_dict2mat(clf_report)\n",
    "        print(cls_report_df)\n",
    "\n",
    "    return cls_report_df\n",
    "\n",
    "\n",
    "def cls_report_dict2mat(cls_report_dict):\n",
    "    \"\"\"\n",
    "    columns -> precision, recall, f1-score, and support\n",
    "    row class, accuracy, ... \n",
    "    \"\"\"\n",
    "\n",
    "    return pd.DataFrame(cls_report_dict)"
   ]
  },
  {
   "cell_type": "code",
   "execution_count": null,
   "metadata": {},
   "outputs": [],
   "source": [
    "print(m_df.columns.tolist())"
   ]
  },
  {
   "cell_type": "code",
   "execution_count": null,
   "metadata": {},
   "outputs": [],
   "source": [
    "features = [\"BERTWeet_\" + str(i) for i in range(1, 769)]\n",
    "# print(features)\n",
    "\n",
    "res_df = train_n_rand_validate_model(m_df, features, \"rf\")"
   ]
  },
  {
   "cell_type": "code",
   "execution_count": null,
   "metadata": {},
   "outputs": [],
   "source": [
    "res_df\n"
   ]
  },
  {
   "cell_type": "code",
   "execution_count": null,
   "metadata": {},
   "outputs": [],
   "source": [
    "m_df.head()\n"
   ]
  },
  {
   "cell_type": "markdown",
   "metadata": {},
   "source": [
    "## raw files\n"
   ]
  },
  {
   "cell_type": "code",
   "execution_count": null,
   "metadata": {},
   "outputs": [],
   "source": [
    "pro_n_anti_masks_df = pd.read_csv(\"../data/stack_files/balanced_pro_n_anti_mask_df.csv\")"
   ]
  },
  {
   "cell_type": "code",
   "execution_count": null,
   "metadata": {},
   "outputs": [],
   "source": [
    "# get april tweets \n",
    "pro_n_anti_masks_df_v2 = pro_n_anti_masks_df[pro_n_anti_masks_df[\"month\"] == \"April\"]"
   ]
  },
  {
   "cell_type": "code",
   "execution_count": null,
   "metadata": {},
   "outputs": [],
   "source": [
    "pro_n_anti_masks_df_v2.shape"
   ]
  },
  {
   "cell_type": "code",
   "execution_count": null,
   "metadata": {},
   "outputs": [],
   "source": [
    "pro_n_anti_masks_df[\"month\"].unique().tolist()"
   ]
  },
  {
   "cell_type": "code",
   "execution_count": null,
   "metadata": {},
   "outputs": [],
   "source": [
    "proMask_ID = pro_n_anti_masks_df_v2[pro_n_anti_masks_df_v2[\"ground_truth\"] == 1][\"ID\"]\n",
    "antiMask_ID = pro_n_anti_masks_df_v2[pro_n_anti_masks_df_v2[\"ground_truth\"] == 0][\"ID\"]"
   ]
  },
  {
   "cell_type": "code",
   "execution_count": null,
   "metadata": {},
   "outputs": [],
   "source": [
    "antiMask_df[\"ID\"] = antiMask_ID.tolist()\n",
    "# proMask_df[\"ID\"] = proMask_ID.tolist()"
   ]
  },
  {
   "cell_type": "code",
   "execution_count": null,
   "metadata": {},
   "outputs": [],
   "source": [
    "antiMask_df.shape"
   ]
  },
  {
   "cell_type": "code",
   "execution_count": null,
   "metadata": {},
   "outputs": [],
   "source": [
    "antiMask_ID.shape"
   ]
  },
  {
   "cell_type": "code",
   "execution_count": null,
   "metadata": {},
   "outputs": [],
   "source": [
    "antiMask_df.iloc[:3, 760:]"
   ]
  },
  {
   "cell_type": "code",
   "execution_count": null,
   "metadata": {},
   "outputs": [],
   "source": [
    "proMask_df.shape"
   ]
  },
  {
   "cell_type": "code",
   "execution_count": null,
   "metadata": {},
   "outputs": [],
   "source": [
    "proMask_df"
   ]
  },
  {
   "cell_type": "code",
   "execution_count": null,
   "metadata": {},
   "outputs": [],
   "source": [
    "proMask_df.dropna()"
   ]
  },
  {
   "cell_type": "code",
   "execution_count": null,
   "metadata": {},
   "outputs": [],
   "source": [
    "m_df.to_csv(\"../data/stack_files/samp_BERT_df_april.csv\", index=False, header=True)"
   ]
  },
  {
   "cell_type": "code",
   "execution_count": null,
   "metadata": {},
   "outputs": [],
   "source": [
    "pro_n_anti_masks_df = pd.read_csv(\"../data/stack_files/pro_n_anti_mask_df.csv\")"
   ]
  },
  {
   "cell_type": "code",
   "execution_count": null,
   "metadata": {},
   "outputs": [],
   "source": [
    "pro_n_anti_masks_df.shape"
   ]
  },
  {
   "cell_type": "code",
   "execution_count": null,
   "metadata": {},
   "outputs": [],
   "source": [
    "samp_df = pro_n_anti_masks_df[pro_n_anti_masks_df[\"month\"] == \"April\"]"
   ]
  },
  {
   "cell_type": "code",
   "execution_count": null,
   "metadata": {},
   "outputs": [],
   "source": [
    "samp_df.shape"
   ]
  },
  {
   "cell_type": "code",
   "execution_count": null,
   "metadata": {},
   "outputs": [],
   "source": [
    "samp_df.to_csv(\"../data/stack_files/samp_raw_df_april.csv\", index=False, header=True)"
   ]
  },
  {
   "cell_type": "code",
   "execution_count": null,
   "metadata": {},
   "outputs": [],
   "source": []
  },
  {
   "cell_type": "markdown",
   "metadata": {},
   "source": [
    "## Cross fold validation "
   ]
  },
  {
   "cell_type": "code",
   "execution_count": 94,
   "metadata": {},
   "outputs": [
    {
     "data": {
      "text/plain": [
       "(16317, 29)"
      ]
     },
     "execution_count": 94,
     "metadata": {},
     "output_type": "execute_result"
    }
   ],
   "source": [
    "import os\n",
    "import sys\n",
    "import multiprocessing\n",
    "from itertools import islice\n",
    "from random import randint\n",
    "\n",
    "import pandas as pd\n",
    "import numpy as np\n",
    "from scipy import stats\n",
    "from scipy import signal \n",
    "from statsmodels import robust\n",
    "import pickle\n",
    "\n",
    "from sklearn.manifold import TSNE\n",
    "\n",
    "from sklearn.preprocessing import StandardScaler\n",
    "from sklearn.preprocessing import MinMaxScaler\n",
    "\n",
    "from sklearn.model_selection import train_test_split\n",
    "\n",
    "# import tensorflow as tf \n",
    "# from tensorflow.keras.utils import to_categorical\n",
    "\n",
    "from metrics_ import eval_regression, eval_classification, ccc, pcc, accuracy, precision, recall, f1score, auc_roc, cohen_kappa, mcc # import custom evaluation metrics \n",
    "from sklearn.metrics import confusion_matrix, classification_report\n",
    "\n",
    "import joblib \n",
    "\n",
    "# custom import \n",
    "import model_\n",
    "import metrics_\n",
    "\n",
    "\n",
    "\n",
    "def train_n_cv_valid_models(df, features, flag):\n",
    "    folds = df.folds.unique().tolist()\n",
    "    print(folds)\n",
    "\n",
    "    res_lst = []\n",
    "    fold_count = 0\n",
    "    m_res_mat = np.zeros((0, 10)) # 8 is subject to change \n",
    "    for fold in folds:\n",
    "        train_df = df[df[\"folds\"].isin([fold]) == False]\n",
    "        test_df = df[df[\"folds\"].isin([fold]) == True]\n",
    "        \n",
    "        print(train_df.shape)\n",
    "        \n",
    "        # run experiment for classification with BERT features \n",
    "        if flag == \"XGB\":\n",
    "            model = model_.xgboost_classifier(train_df[features].astype(np.float64), train_df[\"ground_truth\"])\n",
    "            pred = model.predict(test_df[features])\n",
    "\n",
    "            clf_report = classification_report(test_df[\"ground_truth\"], pred, output_dict=True)\n",
    "            cls_report_df = cls_report_dict2mat(clf_report)\n",
    "            print(cls_report_df)\n",
    "        \n",
    "                \n",
    "    return 0 \n",
    "\n",
    "\n",
    "# def fit_model(df, df2, features, flag):\n",
    "#     folds = df.folds.unique().tolist()\n",
    "#     print(folds)\n",
    "\n",
    "#     res_lst = []\n",
    "#     fold_count = 0\n",
    "#     m_res_mat = np.zeros((0, 10)) # 8 is subject to change \n",
    "#     for fold in folds:\n",
    "#         train_df = df[df[\"folds\"].isin([fold]) == False]\n",
    "#         test_df = df[df[\"folds\"].isin([fold]) == True]\n",
    "        \n",
    "#         print(train_df.shape)\n",
    "        \n",
    "#         if flag == \"TF-IDF\":\n",
    "#             TF_IDF_df = get_TF_IDF_mat(list_of_tweets, list_of_IDs) \n",
    "        \n",
    "# #         # run LDA \n",
    "# #         if flag == \"LDA\":\n",
    "# #             col_name = \"Tweet Text\" # Data must be matrix \n",
    "# #             n_comps = 10\n",
    "# #             X_train, X_test = model_.latent_da_v2(train_df[col_name], test_df[col_name], n_comps) \n",
    "# #             print(X_train.shape, X_test.shape)\n",
    "        \n",
    "        \n",
    "#         # run K-means \n",
    "        \n",
    "        \n",
    "#         # run TF-IDF \n",
    "        \n",
    "        \n",
    "#     return 0 \n",
    "\n",
    "\n",
    "def cls_report_dict2mat(cls_report_dict):\n",
    "    \"\"\"\n",
    "    columns -> precision, recall, f1-score, and support\n",
    "    row class, accuracy, ... \n",
    "    \"\"\"\n",
    "\n",
    "    return pd.DataFrame(cls_report_dict)\n",
    "\n",
    "\n",
    "df.shape"
   ]
  },
  {
   "cell_type": "code",
   "execution_count": 103,
   "metadata": {},
   "outputs": [],
   "source": [
    "# dummy dataset \n",
    "data_dir = \"../data/stack_files/\"\n",
    "# filename = \"samp_raw_df_april_v2.csv\"\n",
    "filename = \"balanced_pro_n_anti_mask_df_v3.csv\"\n",
    "\n",
    "df = pd.read_csv(os.path.join(data_dir, filename), delimiter=\",\")\n",
    "\n",
    "# df = df[df[\"ground_truth\"].isin([\"0\", \"1\"]) == True]\n",
    "\n",
    "\n",
    "# BERT file \n",
    "filename = \"samp_BERT_df_april.csv\"\n",
    "BERT_df = pd.read_csv(os.path.join(data_dir, filename))\n",
    "\n",
    "\n",
    "\n",
    "# def fix_comma(df):\n",
    "#     df['Tweet Text'] = [item.replace(',', '') for item in df['Tweet Text']]\n",
    "            \n",
    "#     return df.copy()\n",
    "\n",
    "\n",
    "# filename = \"balanced_pro_n_anti_mask_df_v3.csv\"\n",
    "# df = fix_comma(df)\n",
    "\n",
    "# df.to_csv(os.path.join(data_dir, filename), index=False, header=True)\n",
    "\n",
    "# L = df.iloc[:, 0]"
   ]
  },
  {
   "cell_type": "code",
   "execution_count": 102,
   "metadata": {},
   "outputs": [
    {
     "data": {
      "text/plain": [
       "(16317, 5)"
      ]
     },
     "execution_count": 102,
     "metadata": {},
     "output_type": "execute_result"
    }
   ],
   "source": [
    "new_col_df = df.iloc[:, 24:].copy()\n",
    "\n",
    "# new_col_df.iloc[510:515, \n",
    "new_col_df.columns\n",
    "\n",
    "\n",
    "# total = 0 \n",
    "# c = [24, 25, 26, 27, 28]\n",
    "# for i in range(5):\n",
    "    \n",
    "    \n",
    "# X = new_col_df[new_col_df[[\"Unnamed: 24\"]].notna()]\n",
    "\n",
    "# # X.shape\n",
    "# new_col_df.head()\n",
    "\n",
    "\n",
    "# col_names = [\"Unnamed: 24\", \"Unnamed: 25\" \"Unnamed: 26\", \"amed: 24\", \"Unnamed: 24\"]\n",
    "\n",
    "X = new_col_df[new_col_df[[\"Unnamed: 24\"]].isna()]\n",
    "\n",
    "X.shape"
   ]
  },
  {
   "cell_type": "code",
   "execution_count": null,
   "metadata": {},
   "outputs": [],
   "source": [
    "features = [\"BERTWeet_\" + str(i) for i in range(1, 769)] + [\"month\"]\n",
    "\n",
    "merged_df = pd.merge(df, BERT_df[features], on=[\"month\"], sort=True)\n",
    "# res_df = train_n_cv_valid_models(df, features, \"XGB\")"
   ]
  },
  {
   "cell_type": "code",
   "execution_count": 80,
   "metadata": {},
   "outputs": [
    {
     "ename": "NameError",
     "evalue": "name 'nan' is not defined",
     "output_type": "error",
     "traceback": [
      "\u001b[0;31m---------------------------------------------------------------------------\u001b[0m",
      "\u001b[0;31mNameError\u001b[0m                                 Traceback (most recent call last)",
      "\u001b[0;32m<ipython-input-80-e6ecac91057d>\u001b[0m in \u001b[0;36m<module>\u001b[0;34m\u001b[0m\n\u001b[1;32m      4\u001b[0m \u001b[0;34m\u001b[0m\u001b[0m\n\u001b[1;32m      5\u001b[0m \u001b[0;34m\u001b[0m\u001b[0m\n\u001b[0;32m----> 6\u001b[0;31m \u001b[0mlen\u001b[0m\u001b[0;34m(\u001b[0m\u001b[0;34m[\u001b[0m\u001b[0;34m'4'\u001b[0m\u001b[0;34m,\u001b[0m \u001b[0;34m'2'\u001b[0m\u001b[0;34m,\u001b[0m \u001b[0;34m'1'\u001b[0m\u001b[0;34m,\u001b[0m \u001b[0;34m'3'\u001b[0m\u001b[0;34m,\u001b[0m \u001b[0;34m'0_September_0000162'\u001b[0m\u001b[0;34m,\u001b[0m \u001b[0;34m'0'\u001b[0m\u001b[0;34m,\u001b[0m \u001b[0;34m'0_September_0000344'\u001b[0m\u001b[0;34m,\u001b[0m \u001b[0;34m'0_September_0000419'\u001b[0m\u001b[0;34m,\u001b[0m \u001b[0;34m'0_September_0000509'\u001b[0m\u001b[0;34m,\u001b[0m \u001b[0;34m'0_September_0000512'\u001b[0m\u001b[0;34m,\u001b[0m \u001b[0;34m'0_September_0000580'\u001b[0m\u001b[0;34m,\u001b[0m \u001b[0;34m'0_September_0000956'\u001b[0m\u001b[0;34m,\u001b[0m \u001b[0;34m'0_September_0000964'\u001b[0m\u001b[0;34m,\u001b[0m \u001b[0;34m'0_September_0001009'\u001b[0m\u001b[0;34m,\u001b[0m \u001b[0;34m'0_May_0000048'\u001b[0m\u001b[0;34m,\u001b[0m \u001b[0;34m'0_May_0000052'\u001b[0m\u001b[0;34m,\u001b[0m \u001b[0;34m'0_May_0000068'\u001b[0m\u001b[0;34m,\u001b[0m \u001b[0;34m'May'\u001b[0m\u001b[0;34m,\u001b[0m \u001b[0;34m'0_May_0000100'\u001b[0m\u001b[0;34m,\u001b[0m \u001b[0;34m'0_May_0000263'\u001b[0m\u001b[0;34m,\u001b[0m \u001b[0;34m'0_May_0000333'\u001b[0m\u001b[0;34m,\u001b[0m \u001b[0;34m'0_May_0000368'\u001b[0m\u001b[0;34m,\u001b[0m \u001b[0;34m'0_May_0000450'\u001b[0m\u001b[0;34m,\u001b[0m \u001b[0;34m'0_April_0000088'\u001b[0m\u001b[0;34m,\u001b[0m \u001b[0mnan\u001b[0m\u001b[0;34m,\u001b[0m \u001b[0;34m'0_April_0000156'\u001b[0m\u001b[0;34m,\u001b[0m \u001b[0;34m'0_June_0000008'\u001b[0m\u001b[0;34m,\u001b[0m \u001b[0;34m'June'\u001b[0m\u001b[0;34m,\u001b[0m \u001b[0;34m'0_June_0000126'\u001b[0m\u001b[0;34m,\u001b[0m \u001b[0;34m'0_June_0000472'\u001b[0m\u001b[0;34m,\u001b[0m \u001b[0;34m'0_June_0000479'\u001b[0m\u001b[0;34m,\u001b[0m \u001b[0;34m'0_June_0000493'\u001b[0m\u001b[0;34m,\u001b[0m \u001b[0;34m'0_June_0000556'\u001b[0m\u001b[0;34m,\u001b[0m \u001b[0;34m'0_November_0000058'\u001b[0m\u001b[0;34m,\u001b[0m \u001b[0;34m'0_November_0000134'\u001b[0m\u001b[0;34m,\u001b[0m \u001b[0;34m'0_November_0000193'\u001b[0m\u001b[0;34m,\u001b[0m \u001b[0;34m'0_November_0000204'\u001b[0m\u001b[0;34m,\u001b[0m \u001b[0;34m'0_November_0000225'\u001b[0m\u001b[0;34m,\u001b[0m \u001b[0;34m'0_August_0000208'\u001b[0m\u001b[0;34m,\u001b[0m \u001b[0;34m'0_August_0000324'\u001b[0m\u001b[0;34m,\u001b[0m \u001b[0;34m'0_August_0000553'\u001b[0m\u001b[0;34m,\u001b[0m \u001b[0;34m'0_August_0000708'\u001b[0m\u001b[0;34m,\u001b[0m \u001b[0;34m'0_August_0000788'\u001b[0m\u001b[0;34m,\u001b[0m \u001b[0;34m'0_August_0000817'\u001b[0m\u001b[0;34m,\u001b[0m \u001b[0;34m'0_August_0000836'\u001b[0m\u001b[0;34m,\u001b[0m \u001b[0;34m'0_August_0000860'\u001b[0m\u001b[0;34m,\u001b[0m \u001b[0;34m'0_August_0000935'\u001b[0m\u001b[0;34m,\u001b[0m \u001b[0;34m'0_August_0000955'\u001b[0m\u001b[0;34m,\u001b[0m \u001b[0;34m'August'\u001b[0m\u001b[0;34m,\u001b[0m \u001b[0;34m'0_October_0000297'\u001b[0m\u001b[0;34m,\u001b[0m \u001b[0;34m'0_October_0000330'\u001b[0m\u001b[0;34m,\u001b[0m \u001b[0;34m'0_October_0000437'\u001b[0m\u001b[0;34m,\u001b[0m \u001b[0;34m'0_October_0000609'\u001b[0m\u001b[0;34m,\u001b[0m \u001b[0;34m'0_October_0000696'\u001b[0m\u001b[0;34m,\u001b[0m \u001b[0;34m'0_October_0000726'\u001b[0m\u001b[0;34m,\u001b[0m \u001b[0;34m'0_October_0000774'\u001b[0m\u001b[0;34m,\u001b[0m \u001b[0;34m'0_October_0000872'\u001b[0m\u001b[0;34m,\u001b[0m \u001b[0;34m'0_October_0000918'\u001b[0m\u001b[0;34m,\u001b[0m \u001b[0;34m'0_October_0000928'\u001b[0m\u001b[0;34m,\u001b[0m \u001b[0;34m'0_October_0001048'\u001b[0m\u001b[0;34m,\u001b[0m \u001b[0;34m'0_October_0001057'\u001b[0m\u001b[0;34m,\u001b[0m \u001b[0;34m'0_October_0001074'\u001b[0m\u001b[0;34m,\u001b[0m \u001b[0;34m'0_October_0001100'\u001b[0m\u001b[0;34m,\u001b[0m \u001b[0;34m'0_July_0000005'\u001b[0m\u001b[0;34m,\u001b[0m \u001b[0;34m'0_July_0000012'\u001b[0m\u001b[0;34m,\u001b[0m \u001b[0;34m'0_July_0000169'\u001b[0m\u001b[0;34m,\u001b[0m \u001b[0;34m'0_July_0000380'\u001b[0m\u001b[0;34m,\u001b[0m \u001b[0;34m'0_July_0000435'\u001b[0m\u001b[0;34m,\u001b[0m \u001b[0;34m'0_July_0000438'\u001b[0m\u001b[0;34m,\u001b[0m \u001b[0;34m'July'\u001b[0m\u001b[0;34m,\u001b[0m \u001b[0;34m'0_July_0000688'\u001b[0m\u001b[0;34m,\u001b[0m \u001b[0;34m'0_July_0001029'\u001b[0m\u001b[0;34m,\u001b[0m \u001b[0;34m'0_July_0001108'\u001b[0m\u001b[0;34m,\u001b[0m \u001b[0;34m'0_July_0001238'\u001b[0m\u001b[0;34m,\u001b[0m \u001b[0;34m'0_July_0001257'\u001b[0m\u001b[0;34m,\u001b[0m \u001b[0;34m'0_July_0001335'\u001b[0m\u001b[0;34m,\u001b[0m \u001b[0;34m'0_July_0001372'\u001b[0m\u001b[0;34m,\u001b[0m \u001b[0;34m'0_July_0001519'\u001b[0m\u001b[0;34m,\u001b[0m \u001b[0;34m'0_July_0001523'\u001b[0m\u001b[0;34m,\u001b[0m \u001b[0;34m'0_July_0001723'\u001b[0m\u001b[0;34m,\u001b[0m \u001b[0;34m'0_July_0001736'\u001b[0m\u001b[0;34m,\u001b[0m \u001b[0;34m'0_July_0001848'\u001b[0m\u001b[0;34m,\u001b[0m \u001b[0;34m'0_July_0001880'\u001b[0m\u001b[0;34m,\u001b[0m \u001b[0;34m'0_July_0001885'\u001b[0m\u001b[0;34m,\u001b[0m \u001b[0;34m'0_July_0001983'\u001b[0m\u001b[0;34m,\u001b[0m \u001b[0;34m'0_July_0002019'\u001b[0m\u001b[0;34m,\u001b[0m \u001b[0;34m'0_July_0002064'\u001b[0m\u001b[0;34m,\u001b[0m \u001b[0;34m'0_July_0002397'\u001b[0m\u001b[0;34m,\u001b[0m \u001b[0;34m'0_July_0002521'\u001b[0m\u001b[0;34m,\u001b[0m \u001b[0;34m'0_July_0002547'\u001b[0m\u001b[0;34m,\u001b[0m \u001b[0;34m'0_July_0002579'\u001b[0m\u001b[0;34m,\u001b[0m \u001b[0;34m'0_July_0002586'\u001b[0m\u001b[0;34m,\u001b[0m \u001b[0;34m'0_July_0002631'\u001b[0m\u001b[0;34m,\u001b[0m \u001b[0;34m'0_July_0002640'\u001b[0m\u001b[0;34m,\u001b[0m \u001b[0;34m'0_July_0002832'\u001b[0m\u001b[0;34m,\u001b[0m \u001b[0;34m'0_July_0002867'\u001b[0m\u001b[0;34m,\u001b[0m \u001b[0;34m'0_July_0002878'\u001b[0m\u001b[0;34m,\u001b[0m \u001b[0;34m'0_July_0002889'\u001b[0m\u001b[0;34m,\u001b[0m \u001b[0;34m'0_July_0002890'\u001b[0m\u001b[0;34m,\u001b[0m \u001b[0;34m'0_July_0002891'\u001b[0m\u001b[0;34m,\u001b[0m \u001b[0;34m'0_July_0002892'\u001b[0m\u001b[0;34m,\u001b[0m \u001b[0;34m'0_July_0002901'\u001b[0m\u001b[0;34m,\u001b[0m \u001b[0;34m'0_July_0002906'\u001b[0m\u001b[0;34m,\u001b[0m \u001b[0;34m'0_July_0002927'\u001b[0m\u001b[0;34m,\u001b[0m \u001b[0;34m'0_July_0002950'\u001b[0m\u001b[0;34m,\u001b[0m \u001b[0;34m'1_July_0000933'\u001b[0m\u001b[0;34m,\u001b[0m \u001b[0;34m'1_July_0000299'\u001b[0m\u001b[0;34m,\u001b[0m \u001b[0;34m'1_July_0005034'\u001b[0m\u001b[0;34m,\u001b[0m \u001b[0;34m'1_October_0005399'\u001b[0m\u001b[0;34m,\u001b[0m \u001b[0;34m'1_March_0000295'\u001b[0m\u001b[0;34m,\u001b[0m \u001b[0;34m'1_July_0004960'\u001b[0m\u001b[0;34m,\u001b[0m \u001b[0;34m'1_May_0000502'\u001b[0m\u001b[0;34m,\u001b[0m \u001b[0;34m'1_September_0002105'\u001b[0m\u001b[0;34m,\u001b[0m \u001b[0;34m'1_July_0004670'\u001b[0m\u001b[0;34m,\u001b[0m \u001b[0;34m'1_July_0004363'\u001b[0m\u001b[0;34m,\u001b[0m \u001b[0;34m'1_June_0002286'\u001b[0m\u001b[0;34m,\u001b[0m \u001b[0;34m'1_July_0005927'\u001b[0m\u001b[0;34m,\u001b[0m \u001b[0;34m'1_October_0000659'\u001b[0m\u001b[0;34m,\u001b[0m \u001b[0;34m'1.16576196303879E+018'\u001b[0m\u001b[0;34m,\u001b[0m \u001b[0;34m'1_August_0000615'\u001b[0m\u001b[0;34m,\u001b[0m \u001b[0;34m'1_May_0000644'\u001b[0m\u001b[0;34m,\u001b[0m \u001b[0;34m'September'\u001b[0m\u001b[0;34m,\u001b[0m \u001b[0;34m'1_August_0003827'\u001b[0m\u001b[0;34m,\u001b[0m \u001b[0;34m'1_June_0004213'\u001b[0m\u001b[0;34m,\u001b[0m \u001b[0;34m'1_April_0000211'\u001b[0m\u001b[0;34m,\u001b[0m \u001b[0;34m'1_August_0000976'\u001b[0m\u001b[0;34m,\u001b[0m \u001b[0;34m'1_June_0002302'\u001b[0m\u001b[0;34m,\u001b[0m \u001b[0;34m'1_May_0000651'\u001b[0m\u001b[0;34m,\u001b[0m \u001b[0;34m'1_June_0004346'\u001b[0m\u001b[0;34m,\u001b[0m \u001b[0;34m'1_July_0001511'\u001b[0m\u001b[0;34m,\u001b[0m \u001b[0;34m'1_August_0001383'\u001b[0m\u001b[0;34m,\u001b[0m \u001b[0;34m'1_July_0001014'\u001b[0m\u001b[0;34m,\u001b[0m \u001b[0;34m'1_July_0007389'\u001b[0m\u001b[0;34m,\u001b[0m \u001b[0;34m'1_August_0001782'\u001b[0m\u001b[0;34m,\u001b[0m \u001b[0;34m'1_August_0003814'\u001b[0m\u001b[0;34m,\u001b[0m \u001b[0;34m'1_June_0005122'\u001b[0m\u001b[0;34m,\u001b[0m \u001b[0;34m'1_September_0001351'\u001b[0m\u001b[0;34m,\u001b[0m \u001b[0;34m'1_July_0000605'\u001b[0m\u001b[0;34m,\u001b[0m \u001b[0;34m'1_August_0003438'\u001b[0m\u001b[0;34m,\u001b[0m \u001b[0;34m'1_July_0002666'\u001b[0m\u001b[0;34m,\u001b[0m \u001b[0;34m'1_May_0001210'\u001b[0m\u001b[0;34m,\u001b[0m \u001b[0;34m'1_September_0006399'\u001b[0m\u001b[0;34m,\u001b[0m \u001b[0;34m'1_October_0000173'\u001b[0m\u001b[0;34m,\u001b[0m \u001b[0;34m'1_July_0000881'\u001b[0m\u001b[0;34m,\u001b[0m \u001b[0;34m'1_July_0008506'\u001b[0m\u001b[0;34m,\u001b[0m \u001b[0;34m'1_August_0002963'\u001b[0m\u001b[0;34m,\u001b[0m \u001b[0;34m'1_November_0000740'\u001b[0m\u001b[0;34m,\u001b[0m \u001b[0;34m'1_October_0001429'\u001b[0m\u001b[0;34m,\u001b[0m \u001b[0;34m'1_July_0006108'\u001b[0m\u001b[0;34m,\u001b[0m \u001b[0;34m'1_July_0004401'\u001b[0m\u001b[0;34m,\u001b[0m \u001b[0;34m'1_June_0000344'\u001b[0m\u001b[0;34m,\u001b[0m \u001b[0;34m'1_July_0001362'\u001b[0m\u001b[0;34m,\u001b[0m \u001b[0;34m'1_May_0000987'\u001b[0m\u001b[0;34m,\u001b[0m \u001b[0;34m'1_August_0002512'\u001b[0m\u001b[0;34m,\u001b[0m \u001b[0;34m'1_July_0009167'\u001b[0m\u001b[0;34m,\u001b[0m \u001b[0;34m'1_June_0004871'\u001b[0m\u001b[0;34m,\u001b[0m \u001b[0;34m'1_July_0001357'\u001b[0m\u001b[0;34m,\u001b[0m \u001b[0;34m'1_November_0000557'\u001b[0m\u001b[0;34m,\u001b[0m \u001b[0;34m'1_October_0004640'\u001b[0m\u001b[0;34m,\u001b[0m \u001b[0;34m'1_June_0001396'\u001b[0m\u001b[0;34m,\u001b[0m \u001b[0;34m'1_July_0005334'\u001b[0m\u001b[0;34m,\u001b[0m \u001b[0;34m'1_July_0005819'\u001b[0m\u001b[0;34m,\u001b[0m \u001b[0;34m'1_October_0004375'\u001b[0m\u001b[0;34m,\u001b[0m \u001b[0;34m'1_June_0005858'\u001b[0m\u001b[0;34m,\u001b[0m \u001b[0;34m'1_September_0004685'\u001b[0m\u001b[0;34m,\u001b[0m \u001b[0;34m'1_September_0006156'\u001b[0m\u001b[0;34m,\u001b[0m \u001b[0;34m'1_May_0000622'\u001b[0m\u001b[0;34m,\u001b[0m \u001b[0;34m'1_September_0006070'\u001b[0m\u001b[0;34m,\u001b[0m \u001b[0;34m'1_July_0006718'\u001b[0m\u001b[0;34m,\u001b[0m \u001b[0;34m'1_July_0001352'\u001b[0m\u001b[0;34m,\u001b[0m \u001b[0;34m'1_July_0002727'\u001b[0m\u001b[0;34m,\u001b[0m \u001b[0;34m'1_October_0003409'\u001b[0m\u001b[0;34m,\u001b[0m \u001b[0;34m'1_June_0001409'\u001b[0m\u001b[0;34m,\u001b[0m \u001b[0;34m'1_August_0005453'\u001b[0m\u001b[0;34m,\u001b[0m \u001b[0;34m'1_June_0001731'\u001b[0m\u001b[0;34m,\u001b[0m \u001b[0;34m'1_October_0001430'\u001b[0m\u001b[0;34m,\u001b[0m \u001b[0;34m'1_July_0001402'\u001b[0m\u001b[0;34m,\u001b[0m \u001b[0;34m'1_October_0003705'\u001b[0m\u001b[0;34m,\u001b[0m \u001b[0;34m'1_June_0004080'\u001b[0m\u001b[0;34m,\u001b[0m \u001b[0;34m'1_June_0005354'\u001b[0m\u001b[0;34m,\u001b[0m \u001b[0;34m'1_August_0002428'\u001b[0m\u001b[0;34m,\u001b[0m \u001b[0;34m'1_June_0000100'\u001b[0m\u001b[0;34m,\u001b[0m \u001b[0;34m'1_October_0003437'\u001b[0m\u001b[0;34m,\u001b[0m \u001b[0;34m'1_July_0010062'\u001b[0m\u001b[0;34m,\u001b[0m \u001b[0;34m'1_July_0008562'\u001b[0m\u001b[0;34m,\u001b[0m \u001b[0;34m'1_May_0000591'\u001b[0m\u001b[0;34m,\u001b[0m \u001b[0;34m'1_June_0000440'\u001b[0m\u001b[0;34m,\u001b[0m \u001b[0;34m'1_June_0003892'\u001b[0m\u001b[0;34m,\u001b[0m \u001b[0;34m'1_July_0000396'\u001b[0m\u001b[0;34m,\u001b[0m \u001b[0;34m'1_August_0003851'\u001b[0m\u001b[0;34m,\u001b[0m \u001b[0;34m'1_July_0000955'\u001b[0m\u001b[0;34m,\u001b[0m \u001b[0;34m'1_September_0004692'\u001b[0m\u001b[0;34m,\u001b[0m \u001b[0;34m'1_October_0000330'\u001b[0m\u001b[0;34m,\u001b[0m \u001b[0;34m'1_July_0001057'\u001b[0m\u001b[0;34m,\u001b[0m \u001b[0;34m'1_June_0003660'\u001b[0m\u001b[0;34m,\u001b[0m \u001b[0;34m'1_July_0002731'\u001b[0m\u001b[0;34m,\u001b[0m \u001b[0;34m'1_September_0006069'\u001b[0m\u001b[0;34m,\u001b[0m \u001b[0;34m'1_May_0001626'\u001b[0m\u001b[0;34m,\u001b[0m \u001b[0;34m'1_August_0001995'\u001b[0m\u001b[0;34m,\u001b[0m \u001b[0;34m'1_June_0000441'\u001b[0m\u001b[0;34m,\u001b[0m \u001b[0;34m'1_July_0001119'\u001b[0m\u001b[0;34m,\u001b[0m \u001b[0;34m'1_November_0000151'\u001b[0m\u001b[0;34m,\u001b[0m \u001b[0;34m'1_July_0003462'\u001b[0m\u001b[0;34m,\u001b[0m \u001b[0;34m'1_October_0000575'\u001b[0m\u001b[0;34m,\u001b[0m \u001b[0;34m'1_April_0000036'\u001b[0m\u001b[0;34m,\u001b[0m \u001b[0;34m'1_August_0003693'\u001b[0m\u001b[0;34m,\u001b[0m \u001b[0;34m'1_November_0000396'\u001b[0m\u001b[0;34m,\u001b[0m \u001b[0;34m'1_October_0002513'\u001b[0m\u001b[0;34m,\u001b[0m \u001b[0;34m'1_July_0001232'\u001b[0m\u001b[0;34m,\u001b[0m \u001b[0;34m'1_November_0000215'\u001b[0m\u001b[0;34m,\u001b[0m \u001b[0;34m'1_November_0000832'\u001b[0m\u001b[0;34m,\u001b[0m \u001b[0;34m'1_May_0001433'\u001b[0m\u001b[0;34m,\u001b[0m \u001b[0;34m'1_July_0009917'\u001b[0m\u001b[0;34m,\u001b[0m \u001b[0;34m'1_July_0000114'\u001b[0m\u001b[0;34m,\u001b[0m \u001b[0;34m'1_July_0009501'\u001b[0m\u001b[0;34m,\u001b[0m \u001b[0;34m'1_July_0004420'\u001b[0m\u001b[0;34m,\u001b[0m \u001b[0;34m'1_July_0000084'\u001b[0m\u001b[0;34m,\u001b[0m \u001b[0;34m'1_August_0001899'\u001b[0m\u001b[0;34m,\u001b[0m \u001b[0;34m'1_March_0000393'\u001b[0m\u001b[0;34m,\u001b[0m \u001b[0;34m'1_July_0004450'\u001b[0m\u001b[0;34m,\u001b[0m \u001b[0;34m'1_July_0004320'\u001b[0m\u001b[0;34m,\u001b[0m \u001b[0;34m'1_November_0000326'\u001b[0m\u001b[0;34m,\u001b[0m \u001b[0;34m'1_October_0000555'\u001b[0m\u001b[0;34m,\u001b[0m \u001b[0;34m'1_October_0003354'\u001b[0m\u001b[0;34m,\u001b[0m \u001b[0;34m'1_June_0004377'\u001b[0m\u001b[0;34m,\u001b[0m \u001b[0;34m'1_August_0001402'\u001b[0m\u001b[0;34m,\u001b[0m \u001b[0;34m'1_July_0002681'\u001b[0m\u001b[0;34m,\u001b[0m \u001b[0;34m'1_September_0006384'\u001b[0m\u001b[0;34m,\u001b[0m \u001b[0;34m'1_June_0004806'\u001b[0m\u001b[0;34m,\u001b[0m \u001b[0;34m'1_July_0005206'\u001b[0m\u001b[0;34m,\u001b[0m \u001b[0;34m'1_September_0000376'\u001b[0m\u001b[0;34m,\u001b[0m \u001b[0;34m'1_August_0001415'\u001b[0m\u001b[0;34m,\u001b[0m \u001b[0;34m'1_September_0005777'\u001b[0m\u001b[0;34m,\u001b[0m \u001b[0;34m'1_October_0000351'\u001b[0m\u001b[0;34m]\u001b[0m\u001b[0;34m)\u001b[0m\u001b[0;34m\u001b[0m\u001b[0;34m\u001b[0m\u001b[0m\n\u001b[0m",
      "\u001b[0;31mNameError\u001b[0m: name 'nan' is not defined"
     ]
    }
   ],
   "source": [
    "X = [item.replace(',', '') for item in df['Tweet Text']]\n",
    "\n",
    "X[513]\n",
    "\n",
    "\n",
    "len(['4', '2', '1', '3', '0_September_0000162', '0', '0_September_0000344', '0_September_0000419', '0_September_0000509', '0_September_0000512', '0_September_0000580', '0_September_0000956', '0_September_0000964', '0_September_0001009', '0_May_0000048', '0_May_0000052', '0_May_0000068', 'May', '0_May_0000100', '0_May_0000263', '0_May_0000333', '0_May_0000368', '0_May_0000450', '0_April_0000088', nan, '0_April_0000156', '0_June_0000008', 'June', '0_June_0000126', '0_June_0000472', '0_June_0000479', '0_June_0000493', '0_June_0000556', '0_November_0000058', '0_November_0000134', '0_November_0000193', '0_November_0000204', '0_November_0000225', '0_August_0000208', '0_August_0000324', '0_August_0000553', '0_August_0000708', '0_August_0000788', '0_August_0000817', '0_August_0000836', '0_August_0000860', '0_August_0000935', '0_August_0000955', 'August', '0_October_0000297', '0_October_0000330', '0_October_0000437', '0_October_0000609', '0_October_0000696', '0_October_0000726', '0_October_0000774', '0_October_0000872', '0_October_0000918', '0_October_0000928', '0_October_0001048', '0_October_0001057', '0_October_0001074', '0_October_0001100', '0_July_0000005', '0_July_0000012', '0_July_0000169', '0_July_0000380', '0_July_0000435', '0_July_0000438', 'July', '0_July_0000688', '0_July_0001029', '0_July_0001108', '0_July_0001238', '0_July_0001257', '0_July_0001335', '0_July_0001372', '0_July_0001519', '0_July_0001523', '0_July_0001723', '0_July_0001736', '0_July_0001848', '0_July_0001880', '0_July_0001885', '0_July_0001983', '0_July_0002019', '0_July_0002064', '0_July_0002397', '0_July_0002521', '0_July_0002547', '0_July_0002579', '0_July_0002586', '0_July_0002631', '0_July_0002640', '0_July_0002832', '0_July_0002867', '0_July_0002878', '0_July_0002889', '0_July_0002890', '0_July_0002891', '0_July_0002892', '0_July_0002901', '0_July_0002906', '0_July_0002927', '0_July_0002950', '1_July_0000933', '1_July_0000299', '1_July_0005034', '1_October_0005399', '1_March_0000295', '1_July_0004960', '1_May_0000502', '1_September_0002105', '1_July_0004670', '1_July_0004363', '1_June_0002286', '1_July_0005927', '1_October_0000659', '1.16576196303879E+018', '1_August_0000615', '1_May_0000644', 'September', '1_August_0003827', '1_June_0004213', '1_April_0000211', '1_August_0000976', '1_June_0002302', '1_May_0000651', '1_June_0004346', '1_July_0001511', '1_August_0001383', '1_July_0001014', '1_July_0007389', '1_August_0001782', '1_August_0003814', '1_June_0005122', '1_September_0001351', '1_July_0000605', '1_August_0003438', '1_July_0002666', '1_May_0001210', '1_September_0006399', '1_October_0000173', '1_July_0000881', '1_July_0008506', '1_August_0002963', '1_November_0000740', '1_October_0001429', '1_July_0006108', '1_July_0004401', '1_June_0000344', '1_July_0001362', '1_May_0000987', '1_August_0002512', '1_July_0009167', '1_June_0004871', '1_July_0001357', '1_November_0000557', '1_October_0004640', '1_June_0001396', '1_July_0005334', '1_July_0005819', '1_October_0004375', '1_June_0005858', '1_September_0004685', '1_September_0006156', '1_May_0000622', '1_September_0006070', '1_July_0006718', '1_July_0001352', '1_July_0002727', '1_October_0003409', '1_June_0001409', '1_August_0005453', '1_June_0001731', '1_October_0001430', '1_July_0001402', '1_October_0003705', '1_June_0004080', '1_June_0005354', '1_August_0002428', '1_June_0000100', '1_October_0003437', '1_July_0010062', '1_July_0008562', '1_May_0000591', '1_June_0000440', '1_June_0003892', '1_July_0000396', '1_August_0003851', '1_July_0000955', '1_September_0004692', '1_October_0000330', '1_July_0001057', '1_June_0003660', '1_July_0002731', '1_September_0006069', '1_May_0001626', '1_August_0001995', '1_June_0000441', '1_July_0001119', '1_November_0000151', '1_July_0003462', '1_October_0000575', '1_April_0000036', '1_August_0003693', '1_November_0000396', '1_October_0002513', '1_July_0001232', '1_November_0000215', '1_November_0000832', '1_May_0001433', '1_July_0009917', '1_July_0000114', '1_July_0009501', '1_July_0004420', '1_July_0000084', '1_August_0001899', '1_March_0000393', '1_July_0004450', '1_July_0004320', '1_November_0000326', '1_October_0000555', '1_October_0003354', '1_June_0004377', '1_August_0001402', '1_July_0002681', '1_September_0006384', '1_June_0004806', '1_July_0005206', '1_September_0000376', '1_August_0001415', '1_September_0005777', '1_October_0000351'])"
   ]
  },
  {
   "cell_type": "code",
   "execution_count": 104,
   "metadata": {},
   "outputs": [
    {
     "name": "stdout",
     "output_type": "stream",
     "text": [
      "[4, 2, 1, 3]\n",
      "(12008, 29)\n",
      "                     0            1  accuracy    macro avg  weighted avg\n",
      "precision     0.668709     0.713120   0.68775     0.690914      0.690692\n",
      "recall        0.756436     0.617677   0.68775     0.687056      0.687750\n",
      "f1-score      0.709872     0.661976   0.68775     0.685924      0.686163\n",
      "support    2020.000000  1980.000000   0.68775  4000.000000   4000.000000\n",
      "(12001, 29)\n",
      "                     0            1  accuracy    macro avg  weighted avg\n",
      "precision     0.669319     0.750143  0.704517     0.709731      0.710810\n",
      "recall        0.776410     0.636364  0.704517     0.706387      0.704517\n",
      "f1-score      0.718898     0.688585  0.704517     0.703742      0.703337\n",
      "support    1950.000000  2057.000000  0.704517  4007.000000   4007.000000\n",
      "(12005, 29)\n",
      "                     0            1  accuracy    macro avg  weighted avg\n",
      "precision     0.679940     0.678034  0.678991     0.678987      0.678990\n",
      "recall        0.680279     0.677694  0.678991     0.678987      0.678991\n",
      "f1-score      0.680110     0.677864  0.678991     0.678987      0.678990\n",
      "support    2008.000000  1995.000000  0.678991  4003.000000   4003.000000\n",
      "(12010, 29)\n",
      "                     0            1  accuracy    macro avg  weighted avg\n",
      "precision     0.683761     0.686575  0.685093     0.685168      0.685144\n",
      "recall        0.708313     0.661069  0.685093     0.684691      0.685093\n",
      "f1-score      0.695820     0.673581  0.685093     0.684700      0.684890\n",
      "support    2033.000000  1965.000000  0.685093  3998.000000   3998.000000\n"
     ]
    }
   ],
   "source": [
    "# df2 = df.iloc[:, :24]\n",
    "# df2.shape\n",
    "\n",
    "# df = df2.copy()\n",
    "# df = df.iloc[:, :24]\n",
    "intp_features = [\"Retweets\", \"Favorites\", 'vader_neg', 'vader_neu', 'vader_pos', 'vader_compound']\n",
    "\n",
    "\n",
    "_ = train_n_cv_valid_models(df, intp_features, \"XGB\")"
   ]
  },
  {
   "cell_type": "code",
   "execution_count": 55,
   "metadata": {},
   "outputs": [
    {
     "data": {
      "text/plain": [
       "(16028, 24)"
      ]
     },
     "execution_count": 55,
     "metadata": {},
     "output_type": "execute_result"
    }
   ],
   "source": [
    "df.shape"
   ]
  },
  {
   "cell_type": "code",
   "execution_count": null,
   "metadata": {},
   "outputs": [],
   "source": [
    "df.dtypes"
   ]
  },
  {
   "cell_type": "code",
   "execution_count": null,
   "metadata": {},
   "outputs": [],
   "source": [
    "x = df.iloc[163, :]"
   ]
  },
  {
   "cell_type": "code",
   "execution_count": null,
   "metadata": {},
   "outputs": [],
   "source": [
    "print(x)"
   ]
  },
  {
   "cell_type": "code",
   "execution_count": null,
   "metadata": {},
   "outputs": [],
   "source": [
    "intp_features = ['Retweets', 'Favorites', 'vader_neg', 'vader_compound']\n",
    "\n",
    "X = df[intp_features]"
   ]
  },
  {
   "cell_type": "code",
   "execution_count": null,
   "metadata": {},
   "outputs": [],
   "source": [
    "df.columns\n"
   ]
  },
  {
   "cell_type": "code",
   "execution_count": null,
   "metadata": {},
   "outputs": [],
   "source": [
    "intp_features = ['Retweets', 'Favorites', 'vader_neg', 'vader_compound']"
   ]
  },
  {
   "cell_type": "code",
   "execution_count": null,
   "metadata": {},
   "outputs": [],
   "source": [
    "intp_features"
   ]
  },
  {
   "cell_type": "code",
   "execution_count": null,
   "metadata": {},
   "outputs": [],
   "source": [
    "X.dtypes"
   ]
  },
  {
   "cell_type": "code",
   "execution_count": 21,
   "metadata": {},
   "outputs": [],
   "source": [
    "x = int(df.iloc[420, 11])"
   ]
  },
  {
   "cell_type": "code",
   "execution_count": 22,
   "metadata": {},
   "outputs": [
    {
     "name": "stdout",
     "output_type": "stream",
     "text": [
      "81\n"
     ]
    }
   ],
   "source": [
    "print(x)"
   ]
  },
  {
   "cell_type": "code",
   "execution_count": 23,
   "metadata": {},
   "outputs": [],
   "source": [
    "df3 = df.copy()"
   ]
  },
  {
   "cell_type": "code",
   "execution_count": 53,
   "metadata": {},
   "outputs": [
    {
     "data": {
      "text/plain": [
       "517    Top of the world. #SocialDistancing #nomask ht...\n",
       "518    @ZubyMusic Masks don't work. My own mum who wo...\n",
       "519    This is something worth sharing. If the selfis...\n",
       "520    @GovBillLee Dr. Scott Atlas,Advisor to the Pre...\n",
       "Name: Tweet Text, dtype: object"
      ]
     },
     "execution_count": 53,
     "metadata": {},
     "output_type": "execute_result"
    }
   ],
   "source": [
    "df2.iloc[510:514, 0]"
   ]
  },
  {
   "cell_type": "code",
   "execution_count": 27,
   "metadata": {},
   "outputs": [
    {
     "ename": "ValueError",
     "evalue": "invalid literal for int() with base 10: \"['scamdemic2020', 'NoMasks']\"",
     "output_type": "error",
     "traceback": [
      "\u001b[0;31m---------------------------------------------------------------------------\u001b[0m",
      "\u001b[0;31mValueError\u001b[0m                                Traceback (most recent call last)",
      "\u001b[0;32m<ipython-input-27-c3fbbec56bfc>\u001b[0m in \u001b[0;36m<module>\u001b[0;34m\u001b[0m\n\u001b[0;32m----> 1\u001b[0;31m \u001b[0mprint\u001b[0m\u001b[0;34m(\u001b[0m\u001b[0mdf\u001b[0m\u001b[0;34m.\u001b[0m\u001b[0miloc\u001b[0m\u001b[0;34m[\u001b[0m\u001b[0;34m:\u001b[0m\u001b[0;34m,\u001b[0m \u001b[0;36m11\u001b[0m\u001b[0;34m]\u001b[0m\u001b[0;34m.\u001b[0m\u001b[0mastype\u001b[0m\u001b[0;34m(\u001b[0m\u001b[0mint\u001b[0m\u001b[0;34m)\u001b[0m\u001b[0;34m)\u001b[0m\u001b[0;34m\u001b[0m\u001b[0;34m\u001b[0m\u001b[0m\n\u001b[0m",
      "\u001b[0;32m~/anaconda3/envs/socialMM/lib/python3.7/site-packages/pandas/core/generic.py\u001b[0m in \u001b[0;36mastype\u001b[0;34m(self, dtype, copy, errors)\u001b[0m\n\u001b[1;32m   5544\u001b[0m         \u001b[0;32melse\u001b[0m\u001b[0;34m:\u001b[0m\u001b[0;34m\u001b[0m\u001b[0;34m\u001b[0m\u001b[0m\n\u001b[1;32m   5545\u001b[0m             \u001b[0;31m# else, only a single dtype is given\u001b[0m\u001b[0;34m\u001b[0m\u001b[0;34m\u001b[0m\u001b[0;34m\u001b[0m\u001b[0m\n\u001b[0;32m-> 5546\u001b[0;31m             \u001b[0mnew_data\u001b[0m \u001b[0;34m=\u001b[0m \u001b[0mself\u001b[0m\u001b[0;34m.\u001b[0m\u001b[0m_mgr\u001b[0m\u001b[0;34m.\u001b[0m\u001b[0mastype\u001b[0m\u001b[0;34m(\u001b[0m\u001b[0mdtype\u001b[0m\u001b[0;34m=\u001b[0m\u001b[0mdtype\u001b[0m\u001b[0;34m,\u001b[0m \u001b[0mcopy\u001b[0m\u001b[0;34m=\u001b[0m\u001b[0mcopy\u001b[0m\u001b[0;34m,\u001b[0m \u001b[0merrors\u001b[0m\u001b[0;34m=\u001b[0m\u001b[0merrors\u001b[0m\u001b[0;34m,\u001b[0m\u001b[0;34m)\u001b[0m\u001b[0;34m\u001b[0m\u001b[0;34m\u001b[0m\u001b[0m\n\u001b[0m\u001b[1;32m   5547\u001b[0m             \u001b[0;32mreturn\u001b[0m \u001b[0mself\u001b[0m\u001b[0;34m.\u001b[0m\u001b[0m_constructor\u001b[0m\u001b[0;34m(\u001b[0m\u001b[0mnew_data\u001b[0m\u001b[0;34m)\u001b[0m\u001b[0;34m.\u001b[0m\u001b[0m__finalize__\u001b[0m\u001b[0;34m(\u001b[0m\u001b[0mself\u001b[0m\u001b[0;34m,\u001b[0m \u001b[0mmethod\u001b[0m\u001b[0;34m=\u001b[0m\u001b[0;34m\"astype\"\u001b[0m\u001b[0;34m)\u001b[0m\u001b[0;34m\u001b[0m\u001b[0;34m\u001b[0m\u001b[0m\n\u001b[1;32m   5548\u001b[0m \u001b[0;34m\u001b[0m\u001b[0m\n",
      "\u001b[0;32m~/anaconda3/envs/socialMM/lib/python3.7/site-packages/pandas/core/internals/managers.py\u001b[0m in \u001b[0;36mastype\u001b[0;34m(self, dtype, copy, errors)\u001b[0m\n\u001b[1;32m    593\u001b[0m         \u001b[0mself\u001b[0m\u001b[0;34m,\u001b[0m \u001b[0mdtype\u001b[0m\u001b[0;34m,\u001b[0m \u001b[0mcopy\u001b[0m\u001b[0;34m:\u001b[0m \u001b[0mbool\u001b[0m \u001b[0;34m=\u001b[0m \u001b[0;32mFalse\u001b[0m\u001b[0;34m,\u001b[0m \u001b[0merrors\u001b[0m\u001b[0;34m:\u001b[0m \u001b[0mstr\u001b[0m \u001b[0;34m=\u001b[0m \u001b[0;34m\"raise\"\u001b[0m\u001b[0;34m\u001b[0m\u001b[0;34m\u001b[0m\u001b[0m\n\u001b[1;32m    594\u001b[0m     ) -> \"BlockManager\":\n\u001b[0;32m--> 595\u001b[0;31m         \u001b[0;32mreturn\u001b[0m \u001b[0mself\u001b[0m\u001b[0;34m.\u001b[0m\u001b[0mapply\u001b[0m\u001b[0;34m(\u001b[0m\u001b[0;34m\"astype\"\u001b[0m\u001b[0;34m,\u001b[0m \u001b[0mdtype\u001b[0m\u001b[0;34m=\u001b[0m\u001b[0mdtype\u001b[0m\u001b[0;34m,\u001b[0m \u001b[0mcopy\u001b[0m\u001b[0;34m=\u001b[0m\u001b[0mcopy\u001b[0m\u001b[0;34m,\u001b[0m \u001b[0merrors\u001b[0m\u001b[0;34m=\u001b[0m\u001b[0merrors\u001b[0m\u001b[0;34m)\u001b[0m\u001b[0;34m\u001b[0m\u001b[0;34m\u001b[0m\u001b[0m\n\u001b[0m\u001b[1;32m    596\u001b[0m \u001b[0;34m\u001b[0m\u001b[0m\n\u001b[1;32m    597\u001b[0m     def convert(\n",
      "\u001b[0;32m~/anaconda3/envs/socialMM/lib/python3.7/site-packages/pandas/core/internals/managers.py\u001b[0m in \u001b[0;36mapply\u001b[0;34m(self, f, align_keys, **kwargs)\u001b[0m\n\u001b[1;32m    404\u001b[0m                 \u001b[0mapplied\u001b[0m \u001b[0;34m=\u001b[0m \u001b[0mb\u001b[0m\u001b[0;34m.\u001b[0m\u001b[0mapply\u001b[0m\u001b[0;34m(\u001b[0m\u001b[0mf\u001b[0m\u001b[0;34m,\u001b[0m \u001b[0;34m**\u001b[0m\u001b[0mkwargs\u001b[0m\u001b[0;34m)\u001b[0m\u001b[0;34m\u001b[0m\u001b[0;34m\u001b[0m\u001b[0m\n\u001b[1;32m    405\u001b[0m             \u001b[0;32melse\u001b[0m\u001b[0;34m:\u001b[0m\u001b[0;34m\u001b[0m\u001b[0;34m\u001b[0m\u001b[0m\n\u001b[0;32m--> 406\u001b[0;31m                 \u001b[0mapplied\u001b[0m \u001b[0;34m=\u001b[0m \u001b[0mgetattr\u001b[0m\u001b[0;34m(\u001b[0m\u001b[0mb\u001b[0m\u001b[0;34m,\u001b[0m \u001b[0mf\u001b[0m\u001b[0;34m)\u001b[0m\u001b[0;34m(\u001b[0m\u001b[0;34m**\u001b[0m\u001b[0mkwargs\u001b[0m\u001b[0;34m)\u001b[0m\u001b[0;34m\u001b[0m\u001b[0;34m\u001b[0m\u001b[0m\n\u001b[0m\u001b[1;32m    407\u001b[0m             \u001b[0mresult_blocks\u001b[0m \u001b[0;34m=\u001b[0m \u001b[0m_extend_blocks\u001b[0m\u001b[0;34m(\u001b[0m\u001b[0mapplied\u001b[0m\u001b[0;34m,\u001b[0m \u001b[0mresult_blocks\u001b[0m\u001b[0;34m)\u001b[0m\u001b[0;34m\u001b[0m\u001b[0;34m\u001b[0m\u001b[0m\n\u001b[1;32m    408\u001b[0m \u001b[0;34m\u001b[0m\u001b[0m\n",
      "\u001b[0;32m~/anaconda3/envs/socialMM/lib/python3.7/site-packages/pandas/core/internals/blocks.py\u001b[0m in \u001b[0;36mastype\u001b[0;34m(self, dtype, copy, errors)\u001b[0m\n\u001b[1;32m    593\u001b[0m             \u001b[0mvals1d\u001b[0m \u001b[0;34m=\u001b[0m \u001b[0mvalues\u001b[0m\u001b[0;34m.\u001b[0m\u001b[0mravel\u001b[0m\u001b[0;34m(\u001b[0m\u001b[0;34m)\u001b[0m\u001b[0;34m\u001b[0m\u001b[0;34m\u001b[0m\u001b[0m\n\u001b[1;32m    594\u001b[0m             \u001b[0;32mtry\u001b[0m\u001b[0;34m:\u001b[0m\u001b[0;34m\u001b[0m\u001b[0;34m\u001b[0m\u001b[0m\n\u001b[0;32m--> 595\u001b[0;31m                 \u001b[0mvalues\u001b[0m \u001b[0;34m=\u001b[0m \u001b[0mastype_nansafe\u001b[0m\u001b[0;34m(\u001b[0m\u001b[0mvals1d\u001b[0m\u001b[0;34m,\u001b[0m \u001b[0mdtype\u001b[0m\u001b[0;34m,\u001b[0m \u001b[0mcopy\u001b[0m\u001b[0;34m=\u001b[0m\u001b[0;32mTrue\u001b[0m\u001b[0;34m)\u001b[0m\u001b[0;34m\u001b[0m\u001b[0;34m\u001b[0m\u001b[0m\n\u001b[0m\u001b[1;32m    596\u001b[0m             \u001b[0;32mexcept\u001b[0m \u001b[0;34m(\u001b[0m\u001b[0mValueError\u001b[0m\u001b[0;34m,\u001b[0m \u001b[0mTypeError\u001b[0m\u001b[0;34m)\u001b[0m\u001b[0;34m:\u001b[0m\u001b[0;34m\u001b[0m\u001b[0;34m\u001b[0m\u001b[0m\n\u001b[1;32m    597\u001b[0m                 \u001b[0;31m# e.g. astype_nansafe can fail on object-dtype of strings\u001b[0m\u001b[0;34m\u001b[0m\u001b[0;34m\u001b[0m\u001b[0;34m\u001b[0m\u001b[0m\n",
      "\u001b[0;32m~/anaconda3/envs/socialMM/lib/python3.7/site-packages/pandas/core/dtypes/cast.py\u001b[0m in \u001b[0;36mastype_nansafe\u001b[0;34m(arr, dtype, copy, skipna)\u001b[0m\n\u001b[1;32m    970\u001b[0m         \u001b[0;31m# work around NumPy brokenness, #1987\u001b[0m\u001b[0;34m\u001b[0m\u001b[0;34m\u001b[0m\u001b[0;34m\u001b[0m\u001b[0m\n\u001b[1;32m    971\u001b[0m         \u001b[0;32mif\u001b[0m \u001b[0mnp\u001b[0m\u001b[0;34m.\u001b[0m\u001b[0missubdtype\u001b[0m\u001b[0;34m(\u001b[0m\u001b[0mdtype\u001b[0m\u001b[0;34m.\u001b[0m\u001b[0mtype\u001b[0m\u001b[0;34m,\u001b[0m \u001b[0mnp\u001b[0m\u001b[0;34m.\u001b[0m\u001b[0minteger\u001b[0m\u001b[0;34m)\u001b[0m\u001b[0;34m:\u001b[0m\u001b[0;34m\u001b[0m\u001b[0;34m\u001b[0m\u001b[0m\n\u001b[0;32m--> 972\u001b[0;31m             \u001b[0;32mreturn\u001b[0m \u001b[0mlib\u001b[0m\u001b[0;34m.\u001b[0m\u001b[0mastype_intsafe\u001b[0m\u001b[0;34m(\u001b[0m\u001b[0marr\u001b[0m\u001b[0;34m.\u001b[0m\u001b[0mravel\u001b[0m\u001b[0;34m(\u001b[0m\u001b[0;34m)\u001b[0m\u001b[0;34m,\u001b[0m \u001b[0mdtype\u001b[0m\u001b[0;34m)\u001b[0m\u001b[0;34m.\u001b[0m\u001b[0mreshape\u001b[0m\u001b[0;34m(\u001b[0m\u001b[0marr\u001b[0m\u001b[0;34m.\u001b[0m\u001b[0mshape\u001b[0m\u001b[0;34m)\u001b[0m\u001b[0;34m\u001b[0m\u001b[0;34m\u001b[0m\u001b[0m\n\u001b[0m\u001b[1;32m    973\u001b[0m \u001b[0;34m\u001b[0m\u001b[0m\n\u001b[1;32m    974\u001b[0m         \u001b[0;31m# if we have a datetime/timedelta array of objects\u001b[0m\u001b[0;34m\u001b[0m\u001b[0;34m\u001b[0m\u001b[0;34m\u001b[0m\u001b[0m\n",
      "\u001b[0;32mpandas/_libs/lib.pyx\u001b[0m in \u001b[0;36mpandas._libs.lib.astype_intsafe\u001b[0;34m()\u001b[0m\n",
      "\u001b[0;31mValueError\u001b[0m: invalid literal for int() with base 10: \"['scamdemic2020', 'NoMasks']\""
     ]
    }
   ],
   "source": [
    "print(df.iloc[:, 11].astype(int))"
   ]
  },
  {
   "cell_type": "code",
   "execution_count": 32,
   "metadata": {},
   "outputs": [],
   "source": [
    "df3 = df[df[\"ground_truth\"].isin([\"0\", \"1\"]) == True]"
   ]
  },
  {
   "cell_type": "code",
   "execution_count": 33,
   "metadata": {},
   "outputs": [
    {
     "data": {
      "text/plain": [
       "(16028, 24)"
      ]
     },
     "execution_count": 33,
     "metadata": {},
     "output_type": "execute_result"
    }
   ],
   "source": [
    "df3.shape"
   ]
  },
  {
   "cell_type": "code",
   "execution_count": 34,
   "metadata": {},
   "outputs": [
    {
     "data": {
      "text/plain": [
       "(16317, 24)"
      ]
     },
     "execution_count": 34,
     "metadata": {},
     "output_type": "execute_result"
    }
   ],
   "source": [
    "df.shape"
   ]
  },
  {
   "cell_type": "code",
   "execution_count": 35,
   "metadata": {},
   "outputs": [
    {
     "data": {
      "text/plain": [
       "289"
      ]
     },
     "execution_count": 35,
     "metadata": {},
     "output_type": "execute_result"
    }
   ],
   "source": [
    "16317 - 16028\n"
   ]
  },
  {
   "cell_type": "code",
   "execution_count": 37,
   "metadata": {},
   "outputs": [
    {
     "data": {
      "text/plain": [
       "7997"
      ]
     },
     "execution_count": 37,
     "metadata": {},
     "output_type": "execute_result"
    }
   ],
   "source": [
    "df[df[\"ground_truth\"].isin([\"1\"]) == True].shape[0]"
   ]
  },
  {
   "cell_type": "code",
   "execution_count": 38,
   "metadata": {},
   "outputs": [
    {
     "data": {
      "text/plain": [
       "8031"
      ]
     },
     "execution_count": 38,
     "metadata": {},
     "output_type": "execute_result"
    }
   ],
   "source": [
    "df[df[\"ground_truth\"].isin([\"0\"]) == True].shape[0]"
   ]
  },
  {
   "cell_type": "code",
   "execution_count": 39,
   "metadata": {},
   "outputs": [
    {
     "data": {
      "text/plain": [
       "0.9957664051799278"
      ]
     },
     "execution_count": 39,
     "metadata": {},
     "output_type": "execute_result"
    }
   ],
   "source": [
    "7997 / 8031\n"
   ]
  },
  {
   "cell_type": "code",
   "execution_count": null,
   "metadata": {},
   "outputs": [],
   "source": []
  }
 ],
 "metadata": {
  "kernelspec": {
   "display_name": "socialMM",
   "language": "python",
   "name": "socialmm"
  },
  "language_info": {
   "codemirror_mode": {
    "name": "ipython",
    "version": 3
   },
   "file_extension": ".py",
   "mimetype": "text/x-python",
   "name": "python",
   "nbconvert_exporter": "python",
   "pygments_lexer": "ipython3",
   "version": "3.7.9"
  }
 },
 "nbformat": 4,
 "nbformat_minor": 4
}
